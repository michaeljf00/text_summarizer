{
  "cells": [
    {
      "cell_type": "markdown",
      "metadata": {
        "id": "view-in-github",
        "colab_type": "text"
      },
      "source": [
        "<a href=\"https://colab.research.google.com/github/michaeljf00/text_summarizer/blob/roham/BBCDemo.ipynb\" target=\"_parent\"><img src=\"https://colab.research.google.com/assets/colab-badge.svg\" alt=\"Open In Colab\"/></a>"
      ]
    },
    {
      "cell_type": "code",
      "source": [
        "# !unzip data.zip"
      ],
      "metadata": {
        "id": "pfLDIkaGhojG"
      },
      "id": "pfLDIkaGhojG",
      "execution_count": 2,
      "outputs": []
    },
    {
      "cell_type": "code",
      "execution_count": 18,
      "id": "98d9b836-1ae5-4e73-bd8f-ce5ce1fccf1f",
      "metadata": {
        "id": "98d9b836-1ae5-4e73-bd8f-ce5ce1fccf1f",
        "colab": {
          "base_uri": "https://localhost:8080/"
        },
        "outputId": "032c0050-58e3-4bc9-9231-85c40d99d862"
      },
      "outputs": [
        {
          "output_type": "stream",
          "name": "stdout",
          "text": [
            "\u001b[K     |████████████████████████████████| 97 kB 7.1 MB/s \n",
            "\u001b[K     |████████████████████████████████| 10.1 MB 61.4 MB/s \n",
            "\u001b[?25h  Installing build dependencies ... \u001b[?25l\u001b[?25hdone\n",
            "  Getting requirements to build wheel ... \u001b[?25l\u001b[?25hdone\n",
            "    Preparing wheel metadata ... \u001b[?25l\u001b[?25hdone\n",
            "  Building wheel for breadability (setup.py) ... \u001b[?25l\u001b[?25hdone\n",
            "  Building wheel for docopt (setup.py) ... \u001b[?25l\u001b[?25hdone\n",
            "  Building wheel for pycountry (PEP 517) ... \u001b[?25l\u001b[?25hdone\n"
          ]
        }
      ],
      "source": [
        "pip -q install sumy numpy seaborn pandas nltk tensorflow-gpu torch matplotlib transformers Iprogress sentencepiece"
      ]
    },
    {
      "cell_type": "code",
      "execution_count": 4,
      "id": "ed79a4f6-4932-4e6e-881c-f4eb19bb99c7",
      "metadata": {
        "id": "ed79a4f6-4932-4e6e-881c-f4eb19bb99c7"
      },
      "outputs": [],
      "source": [
        "import matplotlib.pyplot as plt\n",
        "import numpy as np\n",
        "import pandas as pd\n",
        "import tensorflow as tf\n",
        "import os\n",
        "import random"
      ]
    },
    {
      "cell_type": "markdown",
      "id": "8c9c850f-4f46-40bb-80d7-4721c87f1ef8",
      "metadata": {
        "id": "8c9c850f-4f46-40bb-80d7-4721c87f1ef8"
      },
      "source": [
        "## BBC News Summary EDA\n",
        "TODO: add general description here\n",
        "\n",
        "### Data preperation\n",
        "To get started please paste the BBC news dataset into a folder titled data in the local directory. Then delete 199.txt in the articles and summaries directory respectively due to corruption with these files."
      ]
    },
    {
      "cell_type": "code",
      "execution_count": 5,
      "id": "1214aa85-66fa-4644-a97b-bdc7b17db24a",
      "metadata": {
        "colab": {
          "base_uri": "https://localhost:8080/",
          "height": 313
        },
        "id": "1214aa85-66fa-4644-a97b-bdc7b17db24a",
        "outputId": "9e1726f3-43af-4449-acbf-6e97064df5d8"
      },
      "outputs": [
        {
          "output_type": "stream",
          "name": "stdout",
          "text": [
            "file .DS_Store in data/BBC News Summary/News Articles/sport is not readable\n",
            "<class 'UnicodeDecodeError'>\n",
            "Total Items loaded: 2224\n",
            "file .DS_Store in data/BBC News Summary/Summaries/sport is not readable\n",
            "<class 'UnicodeDecodeError'>\n",
            "Total Items loaded: 2224\n"
          ]
        },
        {
          "output_type": "execute_result",
          "data": {
            "text/plain": [
              "      label                                               text\n",
              "0  business  Worldcom director ends evidence\\n\\nThe former ...\n",
              "1  business  Asian banks halt dollar's slide\\n\\nThe dollar ...\n",
              "2  business  Ryanair in $4bn Boeing plane deal\\n\\nBudget ai...\n",
              "3  business  Giant waves damage S Asia economy\\n\\nGovernmen...\n",
              "4  business  Mystery surrounds new Yukos owner\\n\\nThe fate ..."
            ],
            "text/html": [
              "\n",
              "  <div id=\"df-18be46f1-0108-40d6-af88-20bc23572145\">\n",
              "    <div class=\"colab-df-container\">\n",
              "      <div>\n",
              "<style scoped>\n",
              "    .dataframe tbody tr th:only-of-type {\n",
              "        vertical-align: middle;\n",
              "    }\n",
              "\n",
              "    .dataframe tbody tr th {\n",
              "        vertical-align: top;\n",
              "    }\n",
              "\n",
              "    .dataframe thead th {\n",
              "        text-align: right;\n",
              "    }\n",
              "</style>\n",
              "<table border=\"1\" class=\"dataframe\">\n",
              "  <thead>\n",
              "    <tr style=\"text-align: right;\">\n",
              "      <th></th>\n",
              "      <th>label</th>\n",
              "      <th>text</th>\n",
              "    </tr>\n",
              "  </thead>\n",
              "  <tbody>\n",
              "    <tr>\n",
              "      <th>0</th>\n",
              "      <td>business</td>\n",
              "      <td>Worldcom director ends evidence\\n\\nThe former ...</td>\n",
              "    </tr>\n",
              "    <tr>\n",
              "      <th>1</th>\n",
              "      <td>business</td>\n",
              "      <td>Asian banks halt dollar's slide\\n\\nThe dollar ...</td>\n",
              "    </tr>\n",
              "    <tr>\n",
              "      <th>2</th>\n",
              "      <td>business</td>\n",
              "      <td>Ryanair in $4bn Boeing plane deal\\n\\nBudget ai...</td>\n",
              "    </tr>\n",
              "    <tr>\n",
              "      <th>3</th>\n",
              "      <td>business</td>\n",
              "      <td>Giant waves damage S Asia economy\\n\\nGovernmen...</td>\n",
              "    </tr>\n",
              "    <tr>\n",
              "      <th>4</th>\n",
              "      <td>business</td>\n",
              "      <td>Mystery surrounds new Yukos owner\\n\\nThe fate ...</td>\n",
              "    </tr>\n",
              "  </tbody>\n",
              "</table>\n",
              "</div>\n",
              "      <button class=\"colab-df-convert\" onclick=\"convertToInteractive('df-18be46f1-0108-40d6-af88-20bc23572145')\"\n",
              "              title=\"Convert this dataframe to an interactive table.\"\n",
              "              style=\"display:none;\">\n",
              "        \n",
              "  <svg xmlns=\"http://www.w3.org/2000/svg\" height=\"24px\"viewBox=\"0 0 24 24\"\n",
              "       width=\"24px\">\n",
              "    <path d=\"M0 0h24v24H0V0z\" fill=\"none\"/>\n",
              "    <path d=\"M18.56 5.44l.94 2.06.94-2.06 2.06-.94-2.06-.94-.94-2.06-.94 2.06-2.06.94zm-11 1L8.5 8.5l.94-2.06 2.06-.94-2.06-.94L8.5 2.5l-.94 2.06-2.06.94zm10 10l.94 2.06.94-2.06 2.06-.94-2.06-.94-.94-2.06-.94 2.06-2.06.94z\"/><path d=\"M17.41 7.96l-1.37-1.37c-.4-.4-.92-.59-1.43-.59-.52 0-1.04.2-1.43.59L10.3 9.45l-7.72 7.72c-.78.78-.78 2.05 0 2.83L4 21.41c.39.39.9.59 1.41.59.51 0 1.02-.2 1.41-.59l7.78-7.78 2.81-2.81c.8-.78.8-2.07 0-2.86zM5.41 20L4 18.59l7.72-7.72 1.47 1.35L5.41 20z\"/>\n",
              "  </svg>\n",
              "      </button>\n",
              "      \n",
              "  <style>\n",
              "    .colab-df-container {\n",
              "      display:flex;\n",
              "      flex-wrap:wrap;\n",
              "      gap: 12px;\n",
              "    }\n",
              "\n",
              "    .colab-df-convert {\n",
              "      background-color: #E8F0FE;\n",
              "      border: none;\n",
              "      border-radius: 50%;\n",
              "      cursor: pointer;\n",
              "      display: none;\n",
              "      fill: #1967D2;\n",
              "      height: 32px;\n",
              "      padding: 0 0 0 0;\n",
              "      width: 32px;\n",
              "    }\n",
              "\n",
              "    .colab-df-convert:hover {\n",
              "      background-color: #E2EBFA;\n",
              "      box-shadow: 0px 1px 2px rgba(60, 64, 67, 0.3), 0px 1px 3px 1px rgba(60, 64, 67, 0.15);\n",
              "      fill: #174EA6;\n",
              "    }\n",
              "\n",
              "    [theme=dark] .colab-df-convert {\n",
              "      background-color: #3B4455;\n",
              "      fill: #D2E3FC;\n",
              "    }\n",
              "\n",
              "    [theme=dark] .colab-df-convert:hover {\n",
              "      background-color: #434B5C;\n",
              "      box-shadow: 0px 1px 3px 1px rgba(0, 0, 0, 0.15);\n",
              "      filter: drop-shadow(0px 1px 2px rgba(0, 0, 0, 0.3));\n",
              "      fill: #FFFFFF;\n",
              "    }\n",
              "  </style>\n",
              "\n",
              "      <script>\n",
              "        const buttonEl =\n",
              "          document.querySelector('#df-18be46f1-0108-40d6-af88-20bc23572145 button.colab-df-convert');\n",
              "        buttonEl.style.display =\n",
              "          google.colab.kernel.accessAllowed ? 'block' : 'none';\n",
              "\n",
              "        async function convertToInteractive(key) {\n",
              "          const element = document.querySelector('#df-18be46f1-0108-40d6-af88-20bc23572145');\n",
              "          const dataTable =\n",
              "            await google.colab.kernel.invokeFunction('convertToInteractive',\n",
              "                                                     [key], {});\n",
              "          if (!dataTable) return;\n",
              "\n",
              "          const docLinkHtml = 'Like what you see? Visit the ' +\n",
              "            '<a target=\"_blank\" href=https://colab.research.google.com/notebooks/data_table.ipynb>data table notebook</a>'\n",
              "            + ' to learn more about interactive tables.';\n",
              "          element.innerHTML = '';\n",
              "          dataTable['output_type'] = 'display_data';\n",
              "          await google.colab.output.renderOutput(dataTable, element);\n",
              "          const docLink = document.createElement('div');\n",
              "          docLink.innerHTML = docLinkHtml;\n",
              "          element.appendChild(docLink);\n",
              "        }\n",
              "      </script>\n",
              "    </div>\n",
              "  </div>\n",
              "  "
            ]
          },
          "metadata": {},
          "execution_count": 5
        }
      ],
      "source": [
        "def get_text_by_topic(directory_path):\n",
        "    data = []\n",
        "    count = 0\n",
        "    for topic in os.listdir(directory_path):\n",
        "        topic_path = os.path.join(directory_path, topic)\n",
        "        if not os.path.isdir(topic_path):\n",
        "          continue\n",
        "        for file_path in os.listdir(topic_path):\n",
        "            try:\n",
        "                with open(f'{topic_path}/{file_path}', 'r', encoding=\"utf-8\") as f:\n",
        "                    data.append(( topic_path.split('/')[-1],f.read()))\n",
        "                count+=1\n",
        "            except UnicodeDecodeError:\n",
        "                print(f'file {file_path} in {topic_path} is not readable')\n",
        "                print(UnicodeDecodeError)\n",
        "    df = pd.DataFrame(data, columns=['label','text'])\n",
        "    print(f\"Total Items loaded: {count}\")\n",
        "    return df\n",
        "                      \n",
        "articles_path = r\"data/BBC News Summary/News Articles\"\n",
        "summaries_path = r\"data/BBC News Summary/Summaries\"\n",
        "\n",
        "articles_df = get_text_by_topic(articles_path)\n",
        "summaries_df = get_text_by_topic(summaries_path)\n",
        "articles_df.head()"
      ]
    },
    {
      "cell_type": "markdown",
      "id": "b0bf6beb-d02d-412c-b582-1f6dabbd1490",
      "metadata": {
        "id": "b0bf6beb-d02d-412c-b582-1f6dabbd1490"
      },
      "source": [
        "### Lets see an example from the dataset"
      ]
    },
    {
      "cell_type": "code",
      "execution_count": 6,
      "id": "5eab6275-fdab-40aa-a9ae-37a2563cc044",
      "metadata": {
        "colab": {
          "base_uri": "https://localhost:8080/"
        },
        "id": "5eab6275-fdab-40aa-a9ae-37a2563cc044",
        "outputId": "4afbfc2f-5d35-45f5-ec71-c3becb00150a"
      },
      "outputs": [
        {
          "output_type": "stream",
          "name": "stdout",
          "text": [
            "Articles Shape:  (2224, 2)\n",
            "Summaries Shape:  (2224, 2)\n",
            "\n",
            "Random Example Article in entertainment:\n",
            "De Niro film leads US box office\n",
            "\n",
            "Film star Robert De Niro has returned to the top of the North American box office with his film Hide and Seek.\n",
            "\n",
            "The thriller shot straight to the number one spot after taking $22m (£11.7m) at the box office. De Niro recently spent three weeks at the top with comedy Meet The Fockers, which was at number five this week. Oscar hopefuls The Aviator, Million Dollar Baby and Sideways all cashed in on their multiple nominations with stronger ticket sales.\n",
            "\n",
            "In Hide and Seek, De Niro plays a widower whose daughter has a creepy imaginary friend. Despite lukewarm reviews from critics, the film took more than the expected $18m (£9.5m). \"The element of a real actor in a psychological thriller certainly elevated it,\" said Bruce Snyder, president of domestic distribution at 20th Century Fox. Clint Eastwood's Million Dollar Baby led the Oscar hopefuls with $11.8m (£6.3m), coming in at number three during its first weekend of wide release. The Aviator, a film biography of Howard Hughes that leads the Oscar field with 11 nominations, was at number six for the weekend with $7.5m (£4m). Oscar best-picture nominee Sideways entered the top ten for the first time in its 15th week of release. It came in seventh $6.3 (£3.35m). Last week's top film, Ice Cube's road-trip comedy Are We There Yet?, slipped to second place with $17m (£9m), while Coach Carter fell two places to number four, taking $8m (£4.25m) in its third week. Rounding out the top ten were In Good Company - starring Dennis Quaid and Scarlett Johansson - Racing Stripes and Assault on Precinct 13.\n",
            "\n",
            "Random Example Summary in entertainment:\n",
            "Film star Robert De Niro has returned to the top of the North American box office with his film Hide and Seek.De Niro recently spent three weeks at the top with comedy Meet The Fockers, which was at number five this week.Oscar best-picture nominee Sideways entered the top ten for the first time in its 15th week of release.Clint Eastwood's Million Dollar Baby led the Oscar hopefuls with $11.8m (£6.3m), coming in at number three during its first weekend of wide release.The Aviator, a film biography of Howard Hughes that leads the Oscar field with 11 nominations, was at number six for the weekend with $7.5m (£4m).Last week's top film, Ice Cube's road-trip comedy Are We There Yet?, slipped to second place with $17m (£9m), while Coach Carter fell two places to number four, taking $8m (£4.25m) in its third week.\n"
          ]
        }
      ],
      "source": [
        "print(\"Articles Shape: \",articles_df.shape)\n",
        "print(\"Summaries Shape: \",summaries_df.shape)\n",
        "# If this fails the wrong number of aricles or summaries was loaded\n",
        "assert(articles_df.shape == summaries_df.shape)\n",
        "\n",
        "ex_idx = int(random.random()*articles_df.shape[0])\n",
        "ex_topic = articles_df[\"label\"][ex_idx]\n",
        "print(f\"\\nRandom Example Article in {ex_topic}:\")\n",
        "print(articles_df[\"text\"][ex_idx])\n",
        "print(f\"Random Example Summary in {ex_topic}:\")\n",
        "print(summaries_df[\"text\"][ex_idx])"
      ]
    },
    {
      "cell_type": "markdown",
      "id": "575fa654-a5c9-423a-a47a-1093a5122e5f",
      "metadata": {
        "id": "575fa654-a5c9-423a-a47a-1093a5122e5f"
      },
      "source": [
        "From this example we can see the dataset consists of BBC articles and co-responding summaries that are constructed in an extractive manner, that is, each summary is constructed by selecting a subset of the sentances in the original article."
      ]
    },
    {
      "cell_type": "code",
      "execution_count": 7,
      "id": "f54d1b00-34da-421c-bc2f-0fb5c553ad24",
      "metadata": {
        "colab": {
          "base_uri": "https://localhost:8080/"
        },
        "id": "f54d1b00-34da-421c-bc2f-0fb5c553ad24",
        "outputId": "972d67ee-becc-4250-dbbe-61d28f87f4b6"
      },
      "outputs": [
        {
          "output_type": "execute_result",
          "data": {
            "text/plain": [
              "label    0\n",
              "text     0\n",
              "dtype: int64"
            ]
          },
          "metadata": {},
          "execution_count": 7
        }
      ],
      "source": [
        "# Null Checks\n",
        "articles_df.isna().sum()\n",
        "summaries_df.isna().sum()"
      ]
    },
    {
      "cell_type": "markdown",
      "id": "768ee0be-8316-45c4-bec5-77c5d6bfbed8",
      "metadata": {
        "id": "768ee0be-8316-45c4-bec5-77c5d6bfbed8"
      },
      "source": [
        "Next looking into the balance of each topic in the dataset"
      ]
    },
    {
      "cell_type": "code",
      "execution_count": 8,
      "id": "d6991cf3-9104-4289-b3b1-2e979c53ce23",
      "metadata": {
        "colab": {
          "base_uri": "https://localhost:8080/",
          "height": 264
        },
        "id": "d6991cf3-9104-4289-b3b1-2e979c53ce23",
        "outputId": "76ea4b8e-7963-4529-b5d4-ef18b61a52d4"
      },
      "outputs": [
        {
          "output_type": "display_data",
          "data": {
            "text/plain": [
              "<Figure size 432x288 with 1 Axes>"
            ],
            "image/png": "[encoded data removed]"
          },
          "metadata": {}
        }
      ],
      "source": [
        "# Percent articles in each topic\n",
        "label_vals = articles_df[\"label\"].value_counts()\n",
        "\n",
        "labels = list(label_vals.keys())\n",
        "sizes = list(label_vals)\n",
        "explode = [0]*len(sizes) \n",
        "explode[0] =0.1\n",
        "explode[1] =0.1\n",
        "fig1, ax1 = plt.subplots()\n",
        "ax1.pie(label_vals, explode=explode, labels=labels, autopct='%1.1f%%',shadow=True, startangle=90)\n",
        "ax1.axis('equal')  # Equal aspect ratio ensures that pie is drawn as a circle.\n",
        "plt.title(f\"Out of {articles_df.shape[0]} Articles\")\n",
        "plt.show()\n"
      ]
    },
    {
      "cell_type": "markdown",
      "id": "25b33d5d-137d-4078-af43-8e3ccdc6451b",
      "metadata": {
        "id": "25b33d5d-137d-4078-af43-8e3ccdc6451b"
      },
      "source": [
        "The classes appear to be well balance so model performance should be equivelent across topics"
      ]
    },
    {
      "cell_type": "code",
      "execution_count": 9,
      "id": "e0a5961f-d8f9-4908-b622-d9d76245fd5e",
      "metadata": {
        "colab": {
          "base_uri": "https://localhost:8080/",
          "height": 676
        },
        "id": "e0a5961f-d8f9-4908-b622-d9d76245fd5e",
        "outputId": "e2d9c233-e30d-4e2b-bb99-bd2b321201f3"
      },
      "outputs": [
        {
          "output_type": "stream",
          "name": "stdout",
          "text": [
            "99th percentile in sentance count:  63.0\n"
          ]
        },
        {
          "output_type": "stream",
          "name": "stderr",
          "text": [
            "/usr/local/lib/python3.8/dist-packages/matplotlib/cbook/__init__.py:1376: VisibleDeprecationWarning: Creating an ndarray from ragged nested sequences (which is a list-or-tuple of lists-or-tuples-or ndarrays with different lengths or shapes) is deprecated. If you meant to do this, you must specify 'dtype=object' when creating the ndarray.\n",
            "  X = np.atleast_1d(X.T if isinstance(X, np.ndarray) else np.asarray(X))\n"
          ]
        },
        {
          "output_type": "display_data",
          "data": {
            "text/plain": [
              "<Figure size 432x288 with 1 Axes>"
            ],
            "image/png": "[encoded data removed]"
          },
          "metadata": {
            "needs_background": "light"
          }
        },
        {
          "output_type": "execute_result",
          "data": {
            "text/plain": [
              "         business    politics  entertainment       sport        tech\n",
              "count  510.000000  417.000000     386.000000  510.000000  401.000000\n",
              "mean    19.680392   22.227818      17.945596   18.280392   25.842893\n",
              "std      7.409560   15.467658      14.270836    9.876736   12.904370\n",
              "min      7.000000    5.000000       8.000000    7.000000    7.000000\n",
              "25%     14.000000   16.000000      12.000000   12.000000   18.000000\n",
              "50%     18.000000   21.000000      14.000000   16.000000   22.000000\n",
              "75%     23.000000   25.000000      20.000000   23.000000   31.000000\n",
              "max     53.000000  246.000000     205.000000   82.000000  161.000000"
            ],
            "text/html": [
              "\n",
              "  <div id=\"df-d2cbe01d-a656-423b-8d9e-0a66de4638e9\">\n",
              "    <div class=\"colab-df-container\">\n",
              "      <div>\n",
              "<style scoped>\n",
              "    .dataframe tbody tr th:only-of-type {\n",
              "        vertical-align: middle;\n",
              "    }\n",
              "\n",
              "    .dataframe tbody tr th {\n",
              "        vertical-align: top;\n",
              "    }\n",
              "\n",
              "    .dataframe thead th {\n",
              "        text-align: right;\n",
              "    }\n",
              "</style>\n",
              "<table border=\"1\" class=\"dataframe\">\n",
              "  <thead>\n",
              "    <tr style=\"text-align: right;\">\n",
              "      <th></th>\n",
              "      <th>business</th>\n",
              "      <th>politics</th>\n",
              "      <th>entertainment</th>\n",
              "      <th>sport</th>\n",
              "      <th>tech</th>\n",
              "    </tr>\n",
              "  </thead>\n",
              "  <tbody>\n",
              "    <tr>\n",
              "      <th>count</th>\n",
              "      <td>510.000000</td>\n",
              "      <td>417.000000</td>\n",
              "      <td>386.000000</td>\n",
              "      <td>510.000000</td>\n",
              "      <td>401.000000</td>\n",
              "    </tr>\n",
              "    <tr>\n",
              "      <th>mean</th>\n",
              "      <td>19.680392</td>\n",
              "      <td>22.227818</td>\n",
              "      <td>17.945596</td>\n",
              "      <td>18.280392</td>\n",
              "      <td>25.842893</td>\n",
              "    </tr>\n",
              "    <tr>\n",
              "      <th>std</th>\n",
              "      <td>7.409560</td>\n",
              "      <td>15.467658</td>\n",
              "      <td>14.270836</td>\n",
              "      <td>9.876736</td>\n",
              "      <td>12.904370</td>\n",
              "    </tr>\n",
              "    <tr>\n",
              "      <th>min</th>\n",
              "      <td>7.000000</td>\n",
              "      <td>5.000000</td>\n",
              "      <td>8.000000</td>\n",
              "      <td>7.000000</td>\n",
              "      <td>7.000000</td>\n",
              "    </tr>\n",
              "    <tr>\n",
              "      <th>25%</th>\n",
              "      <td>14.000000</td>\n",
              "      <td>16.000000</td>\n",
              "      <td>12.000000</td>\n",
              "      <td>12.000000</td>\n",
              "      <td>18.000000</td>\n",
              "    </tr>\n",
              "    <tr>\n",
              "      <th>50%</th>\n",
              "      <td>18.000000</td>\n",
              "      <td>21.000000</td>\n",
              "      <td>14.000000</td>\n",
              "      <td>16.000000</td>\n",
              "      <td>22.000000</td>\n",
              "    </tr>\n",
              "    <tr>\n",
              "      <th>75%</th>\n",
              "      <td>23.000000</td>\n",
              "      <td>25.000000</td>\n",
              "      <td>20.000000</td>\n",
              "      <td>23.000000</td>\n",
              "      <td>31.000000</td>\n",
              "    </tr>\n",
              "    <tr>\n",
              "      <th>max</th>\n",
              "      <td>53.000000</td>\n",
              "      <td>246.000000</td>\n",
              "      <td>205.000000</td>\n",
              "      <td>82.000000</td>\n",
              "      <td>161.000000</td>\n",
              "    </tr>\n",
              "  </tbody>\n",
              "</table>\n",
              "</div>\n",
              "      <button class=\"colab-df-convert\" onclick=\"convertToInteractive('df-d2cbe01d-a656-423b-8d9e-0a66de4638e9')\"\n",
              "              title=\"Convert this dataframe to an interactive table.\"\n",
              "              style=\"display:none;\">\n",
              "        \n",
              "  <svg xmlns=\"http://www.w3.org/2000/svg\" height=\"24px\"viewBox=\"0 0 24 24\"\n",
              "       width=\"24px\">\n",
              "    <path d=\"M0 0h24v24H0V0z\" fill=\"none\"/>\n",
              "    <path d=\"M18.56 5.44l.94 2.06.94-2.06 2.06-.94-2.06-.94-.94-2.06-.94 2.06-2.06.94zm-11 1L8.5 8.5l.94-2.06 2.06-.94-2.06-.94L8.5 2.5l-.94 2.06-2.06.94zm10 10l.94 2.06.94-2.06 2.06-.94-2.06-.94-.94-2.06-.94 2.06-2.06.94z\"/><path d=\"M17.41 7.96l-1.37-1.37c-.4-.4-.92-.59-1.43-.59-.52 0-1.04.2-1.43.59L10.3 9.45l-7.72 7.72c-.78.78-.78 2.05 0 2.83L4 21.41c.39.39.9.59 1.41.59.51 0 1.02-.2 1.41-.59l7.78-7.78 2.81-2.81c.8-.78.8-2.07 0-2.86zM5.41 20L4 18.59l7.72-7.72 1.47 1.35L5.41 20z\"/>\n",
              "  </svg>\n",
              "      </button>\n",
              "      \n",
              "  <style>\n",
              "    .colab-df-container {\n",
              "      display:flex;\n",
              "      flex-wrap:wrap;\n",
              "      gap: 12px;\n",
              "    }\n",
              "\n",
              "    .colab-df-convert {\n",
              "      background-color: #E8F0FE;\n",
              "      border: none;\n",
              "      border-radius: 50%;\n",
              "      cursor: pointer;\n",
              "      display: none;\n",
              "      fill: #1967D2;\n",
              "      height: 32px;\n",
              "      padding: 0 0 0 0;\n",
              "      width: 32px;\n",
              "    }\n",
              "\n",
              "    .colab-df-convert:hover {\n",
              "      background-color: #E2EBFA;\n",
              "      box-shadow: 0px 1px 2px rgba(60, 64, 67, 0.3), 0px 1px 3px 1px rgba(60, 64, 67, 0.15);\n",
              "      fill: #174EA6;\n",
              "    }\n",
              "\n",
              "    [theme=dark] .colab-df-convert {\n",
              "      background-color: #3B4455;\n",
              "      fill: #D2E3FC;\n",
              "    }\n",
              "\n",
              "    [theme=dark] .colab-df-convert:hover {\n",
              "      background-color: #434B5C;\n",
              "      box-shadow: 0px 1px 3px 1px rgba(0, 0, 0, 0.15);\n",
              "      filter: drop-shadow(0px 1px 2px rgba(0, 0, 0, 0.3));\n",
              "      fill: #FFFFFF;\n",
              "    }\n",
              "  </style>\n",
              "\n",
              "      <script>\n",
              "        const buttonEl =\n",
              "          document.querySelector('#df-d2cbe01d-a656-423b-8d9e-0a66de4638e9 button.colab-df-convert');\n",
              "        buttonEl.style.display =\n",
              "          google.colab.kernel.accessAllowed ? 'block' : 'none';\n",
              "\n",
              "        async function convertToInteractive(key) {\n",
              "          const element = document.querySelector('#df-d2cbe01d-a656-423b-8d9e-0a66de4638e9');\n",
              "          const dataTable =\n",
              "            await google.colab.kernel.invokeFunction('convertToInteractive',\n",
              "                                                     [key], {});\n",
              "          if (!dataTable) return;\n",
              "\n",
              "          const docLinkHtml = 'Like what you see? Visit the ' +\n",
              "            '<a target=\"_blank\" href=https://colab.research.google.com/notebooks/data_table.ipynb>data table notebook</a>'\n",
              "            + ' to learn more about interactive tables.';\n",
              "          element.innerHTML = '';\n",
              "          dataTable['output_type'] = 'display_data';\n",
              "          await google.colab.output.renderOutput(dataTable, element);\n",
              "          const docLink = document.createElement('div');\n",
              "          docLink.innerHTML = docLinkHtml;\n",
              "          element.appendChild(docLink);\n",
              "        }\n",
              "      </script>\n",
              "    </div>\n",
              "  </div>\n",
              "  "
            ]
          },
          "metadata": {},
          "execution_count": 9
        }
      ],
      "source": [
        "# Number of Sentances in articles per topic\n",
        "def get_text_length(daf, split):\n",
        "    text_lens = [[len(t.split(split)) for t in daf[\"text\"][daf['label'] == label]] for label in daf['label'].unique()]\n",
        "    return text_lens\n",
        "\n",
        "# Splitting on . for each sentance\n",
        "text_lens = get_text_length(articles_df, \".\")\n",
        "\n",
        "t_lengths = pd.DataFrame(text_lens).transpose()\n",
        "t_lengths.columns = articles_df['label'].unique()\n",
        "\n",
        "# Outliars\n",
        "print(\"99th percentile in sentance count: \",np.max(t_lengths.quantile(0.99)))\n",
        "\n",
        "plt.boxplot(text_lens)\n",
        "plt.title('Number of Sentances in each Article per topic')\n",
        "plt.ylim(np.min(t_lengths.quantile(0)), np.max(t_lengths.quantile(0.99)))\n",
        "plt.xticks([1,2,3,4,5],articles_df['label'].unique(),\n",
        "                    rotation=45, fontsize=8)\n",
        "plt.show()\n",
        "t_lengths.describe()"
      ]
    },
    {
      "cell_type": "markdown",
      "id": "3fe62179-5377-4e06-bd27-3723ab924a51",
      "metadata": {
        "id": "3fe62179-5377-4e06-bd27-3723ab924a51"
      },
      "source": [
        "It appears that tech articles have the longest articles in terms of sentances however the categories seem to be balanced here aswell. Noteably there are some drastic outliars for article length with 200+ sentances that may have to be removed."
      ]
    },
    {
      "cell_type": "code",
      "execution_count": 10,
      "id": "f368e99e-6e8d-4edc-98fc-58da0235eb83",
      "metadata": {
        "colab": {
          "base_uri": "https://localhost:8080/",
          "height": 676
        },
        "id": "f368e99e-6e8d-4edc-98fc-58da0235eb83",
        "outputId": "f5c809ee-d64f-4df2-a1e8-3ce7dd0c083f"
      },
      "outputs": [
        {
          "output_type": "stream",
          "name": "stdout",
          "text": [
            "99th percentile in Word count:  475.0\n"
          ]
        },
        {
          "output_type": "stream",
          "name": "stderr",
          "text": [
            "/usr/local/lib/python3.8/dist-packages/matplotlib/cbook/__init__.py:1376: VisibleDeprecationWarning: Creating an ndarray from ragged nested sequences (which is a list-or-tuple of lists-or-tuples-or ndarrays with different lengths or shapes) is deprecated. If you meant to do this, you must specify 'dtype=object' when creating the ndarray.\n",
            "  X = np.atleast_1d(X.T if isinstance(X, np.ndarray) else np.asarray(X))\n"
          ]
        },
        {
          "output_type": "display_data",
          "data": {
            "text/plain": [
              "<Figure size 432x288 with 1 Axes>"
            ],
            "image/png": "[encoded data removed]"
          },
          "metadata": {
            "needs_background": "light"
          }
        },
        {
          "output_type": "execute_result",
          "data": {
            "text/plain": [
              "        business     politics  entertainment       sport         tech\n",
              "count  510.00000   417.000000      386.00000  510.000000   401.000000\n",
              "mean   139.94902   195.738609      144.07772  143.194118   213.880299\n",
              "std     59.48480   139.855957      124.31821   80.966871   111.675336\n",
              "min     40.00000    38.000000       54.00000   42.000000    65.000000\n",
              "25%     99.00000   132.000000       93.25000   87.000000   144.000000\n",
              "50%    127.00000   186.000000      117.00000  122.000000   189.000000\n",
              "75%    164.75000   230.000000      154.75000  178.500000   264.000000\n",
              "max    403.00000  2074.000000     1708.00000  659.000000  1433.000000"
            ],
            "text/html": [
              "\n",
              "  <div id=\"df-c5040279-fb7a-4950-b728-153483de5169\">\n",
              "    <div class=\"colab-df-container\">\n",
              "      <div>\n",
              "<style scoped>\n",
              "    .dataframe tbody tr th:only-of-type {\n",
              "        vertical-align: middle;\n",
              "    }\n",
              "\n",
              "    .dataframe tbody tr th {\n",
              "        vertical-align: top;\n",
              "    }\n",
              "\n",
              "    .dataframe thead th {\n",
              "        text-align: right;\n",
              "    }\n",
              "</style>\n",
              "<table border=\"1\" class=\"dataframe\">\n",
              "  <thead>\n",
              "    <tr style=\"text-align: right;\">\n",
              "      <th></th>\n",
              "      <th>business</th>\n",
              "      <th>politics</th>\n",
              "      <th>entertainment</th>\n",
              "      <th>sport</th>\n",
              "      <th>tech</th>\n",
              "    </tr>\n",
              "  </thead>\n",
              "  <tbody>\n",
              "    <tr>\n",
              "      <th>count</th>\n",
              "      <td>510.00000</td>\n",
              "      <td>417.000000</td>\n",
              "      <td>386.00000</td>\n",
              "      <td>510.000000</td>\n",
              "      <td>401.000000</td>\n",
              "    </tr>\n",
              "    <tr>\n",
              "      <th>mean</th>\n",
              "      <td>139.94902</td>\n",
              "      <td>195.738609</td>\n",
              "      <td>144.07772</td>\n",
              "      <td>143.194118</td>\n",
              "      <td>213.880299</td>\n",
              "    </tr>\n",
              "    <tr>\n",
              "      <th>std</th>\n",
              "      <td>59.48480</td>\n",
              "      <td>139.855957</td>\n",
              "      <td>124.31821</td>\n",
              "      <td>80.966871</td>\n",
              "      <td>111.675336</td>\n",
              "    </tr>\n",
              "    <tr>\n",
              "      <th>min</th>\n",
              "      <td>40.00000</td>\n",
              "      <td>38.000000</td>\n",
              "      <td>54.00000</td>\n",
              "      <td>42.000000</td>\n",
              "      <td>65.000000</td>\n",
              "    </tr>\n",
              "    <tr>\n",
              "      <th>25%</th>\n",
              "      <td>99.00000</td>\n",
              "      <td>132.000000</td>\n",
              "      <td>93.25000</td>\n",
              "      <td>87.000000</td>\n",
              "      <td>144.000000</td>\n",
              "    </tr>\n",
              "    <tr>\n",
              "      <th>50%</th>\n",
              "      <td>127.00000</td>\n",
              "      <td>186.000000</td>\n",
              "      <td>117.00000</td>\n",
              "      <td>122.000000</td>\n",
              "      <td>189.000000</td>\n",
              "    </tr>\n",
              "    <tr>\n",
              "      <th>75%</th>\n",
              "      <td>164.75000</td>\n",
              "      <td>230.000000</td>\n",
              "      <td>154.75000</td>\n",
              "      <td>178.500000</td>\n",
              "      <td>264.000000</td>\n",
              "    </tr>\n",
              "    <tr>\n",
              "      <th>max</th>\n",
              "      <td>403.00000</td>\n",
              "      <td>2074.000000</td>\n",
              "      <td>1708.00000</td>\n",
              "      <td>659.000000</td>\n",
              "      <td>1433.000000</td>\n",
              "    </tr>\n",
              "  </tbody>\n",
              "</table>\n",
              "</div>\n",
              "      <button class=\"colab-df-convert\" onclick=\"convertToInteractive('df-c5040279-fb7a-4950-b728-153483de5169')\"\n",
              "              title=\"Convert this dataframe to an interactive table.\"\n",
              "              style=\"display:none;\">\n",
              "        \n",
              "  <svg xmlns=\"http://www.w3.org/2000/svg\" height=\"24px\"viewBox=\"0 0 24 24\"\n",
              "       width=\"24px\">\n",
              "    <path d=\"M0 0h24v24H0V0z\" fill=\"none\"/>\n",
              "    <path d=\"M18.56 5.44l.94 2.06.94-2.06 2.06-.94-2.06-.94-.94-2.06-.94 2.06-2.06.94zm-11 1L8.5 8.5l.94-2.06 2.06-.94-2.06-.94L8.5 2.5l-.94 2.06-2.06.94zm10 10l.94 2.06.94-2.06 2.06-.94-2.06-.94-.94-2.06-.94 2.06-2.06.94z\"/><path d=\"M17.41 7.96l-1.37-1.37c-.4-.4-.92-.59-1.43-.59-.52 0-1.04.2-1.43.59L10.3 9.45l-7.72 7.72c-.78.78-.78 2.05 0 2.83L4 21.41c.39.39.9.59 1.41.59.51 0 1.02-.2 1.41-.59l7.78-7.78 2.81-2.81c.8-.78.8-2.07 0-2.86zM5.41 20L4 18.59l7.72-7.72 1.47 1.35L5.41 20z\"/>\n",
              "  </svg>\n",
              "      </button>\n",
              "      \n",
              "  <style>\n",
              "    .colab-df-container {\n",
              "      display:flex;\n",
              "      flex-wrap:wrap;\n",
              "      gap: 12px;\n",
              "    }\n",
              "\n",
              "    .colab-df-convert {\n",
              "      background-color: #E8F0FE;\n",
              "      border: none;\n",
              "      border-radius: 50%;\n",
              "      cursor: pointer;\n",
              "      display: none;\n",
              "      fill: #1967D2;\n",
              "      height: 32px;\n",
              "      padding: 0 0 0 0;\n",
              "      width: 32px;\n",
              "    }\n",
              "\n",
              "    .colab-df-convert:hover {\n",
              "      background-color: #E2EBFA;\n",
              "      box-shadow: 0px 1px 2px rgba(60, 64, 67, 0.3), 0px 1px 3px 1px rgba(60, 64, 67, 0.15);\n",
              "      fill: #174EA6;\n",
              "    }\n",
              "\n",
              "    [theme=dark] .colab-df-convert {\n",
              "      background-color: #3B4455;\n",
              "      fill: #D2E3FC;\n",
              "    }\n",
              "\n",
              "    [theme=dark] .colab-df-convert:hover {\n",
              "      background-color: #434B5C;\n",
              "      box-shadow: 0px 1px 3px 1px rgba(0, 0, 0, 0.15);\n",
              "      filter: drop-shadow(0px 1px 2px rgba(0, 0, 0, 0.3));\n",
              "      fill: #FFFFFF;\n",
              "    }\n",
              "  </style>\n",
              "\n",
              "      <script>\n",
              "        const buttonEl =\n",
              "          document.querySelector('#df-c5040279-fb7a-4950-b728-153483de5169 button.colab-df-convert');\n",
              "        buttonEl.style.display =\n",
              "          google.colab.kernel.accessAllowed ? 'block' : 'none';\n",
              "\n",
              "        async function convertToInteractive(key) {\n",
              "          const element = document.querySelector('#df-c5040279-fb7a-4950-b728-153483de5169');\n",
              "          const dataTable =\n",
              "            await google.colab.kernel.invokeFunction('convertToInteractive',\n",
              "                                                     [key], {});\n",
              "          if (!dataTable) return;\n",
              "\n",
              "          const docLinkHtml = 'Like what you see? Visit the ' +\n",
              "            '<a target=\"_blank\" href=https://colab.research.google.com/notebooks/data_table.ipynb>data table notebook</a>'\n",
              "            + ' to learn more about interactive tables.';\n",
              "          element.innerHTML = '';\n",
              "          dataTable['output_type'] = 'display_data';\n",
              "          await google.colab.output.renderOutput(dataTable, element);\n",
              "          const docLink = document.createElement('div');\n",
              "          docLink.innerHTML = docLinkHtml;\n",
              "          element.appendChild(docLink);\n",
              "        }\n",
              "      </script>\n",
              "    </div>\n",
              "  </div>\n",
              "  "
            ]
          },
          "metadata": {},
          "execution_count": 10
        }
      ],
      "source": [
        "# Number of Words in articles per topic (splitting on \" \")\n",
        "text_lens = get_text_length(summaries_df, \" \")\n",
        "\n",
        "t_lengths = pd.DataFrame(text_lens).transpose()\n",
        "t_lengths.columns = articles_df['label'].unique()\n",
        "\n",
        "# Outliars\n",
        "print(\"99th percentile in Word count: \",np.max(t_lengths.quantile(0.99)))\n",
        "\n",
        "plt.boxplot(text_lens)\n",
        "plt.title('Number of Words in each Article per topic')\n",
        "plt.ylim(np.min(t_lengths.quantile(0)), np.max(t_lengths.quantile(0.99)))\n",
        "plt.xticks([1,2,3,4,5],articles_df['label'].unique(),\n",
        "                    rotation=45, fontsize=8)\n",
        "plt.show()\n",
        "t_lengths.describe()"
      ]
    },
    {
      "cell_type": "markdown",
      "id": "8ff8ce98-5fd0-4205-8ac5-68ef2303d74a",
      "metadata": {
        "id": "8ff8ce98-5fd0-4205-8ac5-68ef2303d74a"
      },
      "source": [
        "Comparing the word counts to the sentance counts we can see the same outliar issue exists as well as sports having less words despite having more sentances implying that sentance length will vary based on the topic."
      ]
    },
    {
      "cell_type": "markdown",
      "id": "1b193bc2-8c71-46a4-abba-734ac1b1e6e9",
      "metadata": {
        "id": "1b193bc2-8c71-46a4-abba-734ac1b1e6e9"
      },
      "source": [
        "### Next looking at the ground truth reduction in word count"
      ]
    },
    {
      "cell_type": "code",
      "execution_count": 11,
      "id": "a8eae84c-aa92-4f3d-a614-58cd08701438",
      "metadata": {
        "colab": {
          "base_uri": "https://localhost:8080/"
        },
        "id": "a8eae84c-aa92-4f3d-a614-58cd08701438",
        "outputId": "4716169c-ac80-4105-8c74-f3ffc86e2742"
      },
      "outputs": [
        {
          "output_type": "stream",
          "name": "stdout",
          "text": [
            "Average percent reduction in words for ...\n",
            "business summaries: 56.8027%\n",
            "politics summaries: 56.5632%\n",
            "entertainment summaries: 56.0781%\n",
            "sport summaries: 55.5133%\n",
            "tech summaries: 57.2868%\n"
          ]
        }
      ],
      "source": [
        "# Summary length reduction per topic by word count\n",
        "articles_len = get_text_length(articles_df, \" \")\n",
        "summaries_len = get_text_length(summaries_df, \" \")\n",
        "\n",
        "\n",
        "# For each Topic\n",
        "print(\"Average percent reduction in words for ...\")\n",
        "for i,topic in enumerate(articles_df['label'].unique()):\n",
        "    # 1  - ratio of summary to article length\n",
        "    avg_percent_reduction = np.mean(1-np.asarray(summaries_len[i])/np.asarray(articles_len[i]))\n",
        "    print(f\"{topic} summaries: {100*avg_percent_reduction:0.4f}%\")"
      ]
    },
    {
      "cell_type": "markdown",
      "id": "479bf668-3842-45d3-a9fb-3f1c39633b9e",
      "metadata": {
        "id": "479bf668-3842-45d3-a9fb-3f1c39633b9e"
      },
      "source": [
        "From this we see across the board roughly half of the words are dropped in the ground truth summaries implying our model should have a similar dropout rate. This also may indicate classification may be a valid approach to determining whether a sentance should remain in the summary. Running this code over with sentance count reveals a similar trend implying no relationship between sentance length and likelyhood to be in the summmary."
      ]
    },
    {
      "cell_type": "markdown",
      "id": "f4cd6170-cba7-427c-a383-af33c7700032",
      "metadata": {
        "id": "f4cd6170-cba7-427c-a383-af33c7700032"
      },
      "source": [
        "### EDA with common heuristics in NLP"
      ]
    },
    {
      "cell_type": "markdown",
      "id": "f9be1a73-d7b9-4950-b6d8-39d26ae42a83",
      "metadata": {
        "id": "f9be1a73-d7b9-4950-b6d8-39d26ae42a83"
      },
      "source": [
        "In extractive text summarization a common baseline model is to simply take the first few sentances (typically 3) of a peice of text as the summary as writers often introduce their main points in the beggining of articles. We will analyze the effectiveness of this heuristic for the BBC model for possible consideration for a baseline model"
      ]
    },
    {
      "cell_type": "code",
      "execution_count": 12,
      "id": "2c012abe-ab51-4fbd-8c1f-c6e6e13214c5",
      "metadata": {
        "colab": {
          "base_uri": "https://localhost:8080/"
        },
        "id": "2c012abe-ab51-4fbd-8c1f-c6e6e13214c5",
        "outputId": "0b904e40-5562-43d5-830e-04e7fa4a0e36"
      },
      "outputs": [
        {
          "output_type": "stream",
          "name": "stderr",
          "text": [
            "[nltk_data] Downloading package punkt to /root/nltk_data...\n",
            "[nltk_data]   Unzipping tokenizers/punkt.zip.\n"
          ]
        },
        {
          "output_type": "stream",
          "name": "stdout",
          "text": [
            "69.83% Article summaries include the first sentance of the article\n",
            "36.29% Article summaries include the first and second\n",
            "17.81% Article summaries include the first, second, and third\n",
            "7.33% Article summaries include the first, second, third and fourth\n"
          ]
        }
      ],
      "source": [
        "# For regular expression\n",
        "import re\n",
        "# for sentance parsing\n",
        "import nltk\n",
        "nltk.download('punkt')\n",
        "from nltk.tokenize import sent_tokenize\n",
        "\n",
        "# turn each article into a list of sentances\n",
        "def get_sentances(texts_list):\n",
        "    documents = []\n",
        "    for text in texts_list:\n",
        "        documents.append(sent_tokenize(text.replace(\"\\n\\n\",\". \").replace(\".. \",\". \").replace(\".\",\". \").replace(\".  \",\". \")))\n",
        "    return documents\n",
        "    #return [[a.strip() for a in t.replace(\"\\n\\n\",\".\").split(\".\") if a!=''] for t in texts_list]\n",
        "\n",
        "# First sentance inclusion in summary\n",
        "article_sentances = get_sentances(articles_df[\"text\"])\n",
        "summary_sentances = get_sentances(summaries_df[\"text\"])\n",
        "\n",
        "# Check how many sentances (up to the fourth) of the article are in the summary\n",
        "counts = [0]*4\n",
        "for a,s in zip(article_sentances,summary_sentances):\n",
        "    for i in range(len(counts)):\n",
        "        if a[i+1] in s:\n",
        "            counts[i]+=1\n",
        "        else:\n",
        "            break\n",
        "print(f\"{100*counts[0]/len(article_sentances):0.2f}% Article summaries include the first sentance of the article\")\n",
        "print(f\"{100*counts[1]/len(article_sentances):0.2f}% Article summaries include the first and second\")\n",
        "print(f\"{100*counts[2]/len(article_sentances):0.2f}% Article summaries include the first, second, and third\")\n",
        "print(f\"{100*counts[3]/len(article_sentances):0.2f}% Article summaries include the first, second, third and fourth\")"
      ]
    },
    {
      "cell_type": "markdown",
      "id": "37d622d7-f6c3-4ada-bce7-e10c34857f28",
      "metadata": {
        "id": "37d622d7-f6c3-4ada-bce7-e10c34857f28"
      },
      "source": [
        "From this a good baseline model to compare text summarization would simply be to use the first few sentances of each article as the summary. The performance of this method is best with including one to two sentances"
      ]
    },
    {
      "cell_type": "code",
      "execution_count": 13,
      "id": "7c38957b-6429-493a-b31f-1ea048f0cba0",
      "metadata": {
        "id": "7c38957b-6429-493a-b31f-1ea048f0cba0"
      },
      "outputs": [],
      "source": [
        "# Rarity of words used"
      ]
    },
    {
      "cell_type": "code",
      "execution_count": 14,
      "id": "27d90977-ef21-475c-b14d-61ba3fc71d7c",
      "metadata": {
        "colab": {
          "base_uri": "https://localhost:8080/"
        },
        "id": "27d90977-ef21-475c-b14d-61ba3fc71d7c",
        "outputId": "c2de4e17-f658-43db-93c8-0f4f87019378"
      },
      "outputs": [
        {
          "output_type": "stream",
          "name": "stderr",
          "text": [
            "[nltk_data] Downloading package stopwords to /root/nltk_data...\n",
            "[nltk_data]   Unzipping corpora/stopwords.zip.\n"
          ]
        }
      ],
      "source": [
        "# Overall use of stop words\n",
        "import nltk\n",
        "nltk.download('stopwords')\n",
        "from nltk.corpus import stopwords\n",
        "\n",
        "# Most common words after stop words"
      ]
    },
    {
      "cell_type": "code",
      "execution_count": 15,
      "id": "4c3aaa44-c47b-4893-9c5d-4dbd34e22ba6",
      "metadata": {
        "id": "4c3aaa44-c47b-4893-9c5d-4dbd34e22ba6"
      },
      "outputs": [],
      "source": [
        "# Additional NLP statistics"
      ]
    },
    {
      "cell_type": "markdown",
      "source": [
        "## Metrics\n"
      ],
      "metadata": {
        "id": "i0gO8_POffnt"
      },
      "id": "i0gO8_POffnt"
    },
    {
      "cell_type": "code",
      "source": [
        "#ROUGE METRICS\n",
        "import numpy as np\n",
        "import os\n",
        "from textblob import TextBlob\n",
        "from sumy.parsers.plaintext import PlaintextParser\n",
        "from sumy.nlp.tokenizers import Tokenizer\n",
        "from sumy.summarizers.lex_rank import LexRankSummarizer\n",
        "from sumy.summarizers.text_rank import TextRankSummarizer\n",
        "from sumy.models.dom import Sentence\n",
        "from sumy.evaluation.rouge import rouge_1,rouge_2\n",
        "\n",
        "# #iterating over different number of sentence counts\n",
        "# article_path = r\"data/BBC News Summary/News Articles\"\n",
        "# summary_path = r\"data/BBC News Summary/Summaries\"\n",
        "\n",
        "# for sc in [10,15,20,25]:\n",
        "#     r1=[]\n",
        "#     r2=[]\n",
        "#     for i in os.listdir(article_path):\n",
        "#         #getting the file path\n",
        "#         file = article_path+i \n",
        "#         #parsing the artile file\n",
        "#         parser = PlaintextParser.from_file(file, Tokenizer(\"english\"))\n",
        "#         #initialising the summarizer\n",
        "#         summarizer = TextRankSummarizer()\n",
        "#         #summarizing the article\n",
        "#         summary = summarizer(parser.document, sc) \n",
        "        \n",
        "#         #acquiring the actual summary\n",
        "#         f=open(summary_path+i,'r')\n",
        "#         act=f.read()\n",
        "#         act_sum=act.split('.')\n",
        "#         final=[]\n",
        "#         #typecasting into sentences using Sentence model\n",
        "#         for i in act_sum:\n",
        "#             final.append(Sentence(i,Tokenizer('english')))\n",
        "        \n",
        "#         #calculating the rouge scores for the summary obtained\n",
        "#         r1.append(rouge_1(summary,final))\n",
        "#         r2.append(rouge_2(summary,final))\n",
        "        \n",
        "#     #averaging the rouge scores for a sentence count\n",
        "#     print('For sentence count:',sc)\n",
        "#     print('Average Rouge 1 score:',sum(r1)/len(r1))\n",
        "#     print('Average Rouge 2 score:',sum(r2)/len(r2),'\\n\\n')\n",
        "\n",
        "# #source: https://github.com/R11Raj/Text-summarization-of-BBC-Business-Articles/blob/master/Text%20summarization.ipynb"
      ],
      "metadata": {
        "id": "32ddh-2TrNil"
      },
      "execution_count": 25,
      "outputs": [],
      "id": "32ddh-2TrNil"
    },
    {
      "cell_type": "code",
      "source": [
        "#BLEU METRICS EXAMPLE\n",
        "from nltk.translate.bleu_score import sentence_bleu\n",
        "reference = [['this', 'is', 'a', 'test'], ['this', 'is' 'test']]\n",
        "candidate = ['this', 'is', 'a', 'test']\n",
        "score = sentence_bleu(reference, candidate)\n",
        "print(score)"
      ],
      "metadata": {
        "colab": {
          "base_uri": "https://localhost:8080/"
        },
        "id": "bKG9SCVpjQ8x",
        "outputId": "5149ddfa-305a-4165-98d8-d3bfecbb9104"
      },
      "execution_count": 26,
      "outputs": [
        {
          "output_type": "stream",
          "name": "stdout",
          "text": [
            "1.0\n"
          ]
        }
      ],
      "id": "bKG9SCVpjQ8x"
    },
    {
      "cell_type": "markdown",
      "id": "8014b038-9c79-4ad8-bbcb-b2316a42b480",
      "metadata": {
        "id": "8014b038-9c79-4ad8-bbcb-b2316a42b480"
      },
      "source": [
        "## Base Line Model\n",
        "From the EDA we found that an effective baseline model would be taking the first two sentances of the article as the predicted summary"
      ]
    },
    {
      "cell_type": "code",
      "execution_count": 27,
      "id": "40f90877-6abc-4684-bfa9-ab66e7ae809f",
      "metadata": {
        "colab": {
          "base_uri": "https://localhost:8080/"
        },
        "id": "40f90877-6abc-4684-bfa9-ab66e7ae809f",
        "outputId": "233c1c81-8cdd-4b4f-bccd-d0fecdf90540"
      },
      "outputs": [
        {
          "output_type": "stream",
          "name": "stdout",
          "text": [
            "Example baseline: ['The former chief financial officer at US telecoms firm WorldCom has finished giving evidence at the trial of his ex-boss Bernie Ebbers.', 'Scott Sullivan admitted to jurors he was willing to commit fraud to meet Wall Street earnings projections.']\n",
            "\n",
            "Example summary: [\"Mr Sullivan, 42, has already pleaded guilty to fraud and will be sentenced following Mr Ebbers' trial, where he is appearing as a prosecution witness.\", 'Mr Sullivan has spent two days being cross-examined by lawyers for former Worldcom chief executive Mr Ebbers.', \"Mr Ebbers is on trial for fraud and conspiracy in relation to WorldCom's collapse in 2002.\", \"Mr Ebbers, 63, has always insisted that he was unaware of any hidden shortfalls in WorldCom's finances.\", \"Attorney Reid Weingarten has attempted to portray Mr Sullivan as a liar and on Thursday quizzed him about his decision to commit fraud to meet analysts' profit estimates.\", 'The former finance officer said Mr Ebbers knew about the improper accounting entries that were made between 2000 and 2002 to conceal soaring expenses and inflate revenue.']\n"
          ]
        }
      ],
      "source": [
        "# Each base line prediction is the first two sentaces of the article\n",
        "def base_line_predict(articles_df):\n",
        "    predictions = []\n",
        "    article_sentances = get_sentances(articles_df[\"text\"])\n",
        "    for a in article_sentances:\n",
        "        predictions.append(a[1:3])\n",
        "    return predictions\n",
        "\n",
        "pred = base_line_predict(articles_df)\n",
        "print(f\"Example baseline: {pred[0]}\\n\")\n",
        "print(f\"Example summary: {summary_sentances[0]}\")"
      ]
    },
    {
      "cell_type": "markdown",
      "id": "f5308ace-90a9-4c4e-ad2d-964361b7752f",
      "metadata": {
        "id": "f5308ace-90a9-4c4e-ad2d-964361b7752f"
      },
      "source": [
        "## Preprocessing For Extractive Text Summarization"
      ]
    },
    {
      "cell_type": "code",
      "execution_count": null,
      "id": "656b44e7-d5b6-4520-966d-48d9726cefc8",
      "metadata": {
        "colab": {
          "base_uri": "https://localhost:8080/"
        },
        "id": "656b44e7-d5b6-4520-966d-48d9726cefc8",
        "outputId": "b45d9605-4b06-40f2-9aaa-1116d4b2baa7"
      },
      "outputs": [
        {
          "output_type": "stream",
          "name": "stdout",
          "text": []
        }
      ],
      "source": [
        "from nltk.tokenize import word_tokenize\n",
        "def compare_sentances(sentance_a, sentance_b):\n",
        "    tok_a = word_tokenize(sentance_a)\n",
        "    tok_b = word_tokenize(sentance_b)\n",
        "    matches = 0\n",
        "    for tok in tok_a:\n",
        "        if tok in tok_b:\n",
        "            matches+=1\n",
        "    return float(matches)/len(tok_a)\n",
        "    \n",
        "# Generate Label\n",
        "def generate_labels(articles_df, summaries_df):\n",
        "    article_sentances = get_sentances(articles_df[\"text\"])\n",
        "    summary_sentances = get_sentances(summaries_df[\"text\"])\n",
        "    labels = []\n",
        "    count=0\n",
        "    total_sentances = 0\n",
        "    same = 0\n",
        "    for article,summary in zip(article_sentances,summary_sentances):\n",
        "        sentance_inclusion = []\n",
        "        for sentance_a in article:\n",
        "            if len(sentance_a)<3:\n",
        "                continue\n",
        "            in_summary = False\n",
        "            for sentance_b in summary:\n",
        "                if len(sentance_b)<3:\n",
        "                    continue\n",
        "                percent_match = compare_sentances(sentance_a, sentance_b)\n",
        "                if percent_match > 0.95:\n",
        "                    in_summary=True\n",
        "                    break\n",
        "            total_sentances+=1\n",
        "            if in_summary:\n",
        "                sentance_inclusion.append(1)\n",
        "            else:\n",
        "                sentance_inclusion.append(0)\n",
        "        #print(np.sum(sentance_inclusion), len(summary))\n",
        "        same+=np.sum(sentance_inclusion) == len(summary)\n",
        "        count+=1\n",
        "        print(f\"Percent Complete: {100*count/len(article_sentances):0.2f}%\",end=\"\\r\")\n",
        "        #assert(np.sum(sentance_inclusion) == len(summary))\n",
        "        #print(sentance_inclusion)\n",
        "        labels.append(sentance_inclusion)\n",
        "        #print(article)\n",
        "        #print(summary)\n",
        "        #assert(np.sum(sentance_inclusion) == len(summary))\n",
        "        \n",
        "    #print(total_sentances)\n",
        "    print()\n",
        "    print(\"Matching  labels \",same)\n",
        "    print(\"Total \",len(article_sentances))\n",
        "    print(f\"Total Sentances processed {total_sentances}\")\n",
        "    return labels\n",
        "\n",
        "#print(articles_df[\"text\"][1])\n",
        "y_labels = generate_labels(articles_df, summaries_df) \n",
        "print(np.sum(np.sum(y_labels)))\n",
        "\n",
        "# Expand contractions\n",
        "# lowercase\n",
        "# Remove digits and words containing digits\n",
        "# Remove punctuations\n",
        "# Remove stop words\n",
        "\n",
        "# Remove Contractions and other anomolies\n",
        "\n",
        "# Vectorize sentance"
      ]
    },
    {
      "cell_type": "markdown",
      "id": "3893ece5-30c6-40c6-835c-64c607138cdb",
      "metadata": {
        "id": "3893ece5-30c6-40c6-835c-64c607138cdb"
      },
      "source": [
        "## Preprocessing For Abstractive Text Summarization"
      ]
    },
    {
      "cell_type": "code",
      "execution_count": null,
      "id": "f6ebf1cc-21a3-41d7-908c-4e064df638f2",
      "metadata": {
        "id": "f6ebf1cc-21a3-41d7-908c-4e064df638f2"
      },
      "outputs": [],
      "source": [
        "# Import tokenizer from pretrained model\n",
        "from transformers import AutoTokenizer, TFAutoModelWithLMHead, AutoModelForSeq2SeqLM\n",
        "\n",
        "model_name = \"t5-small\"\n",
        "\n",
        "model = TFAutoModelWithLMHead.from_pretrained(model_name)\n",
        "tokenizer = AutoTokenizer.from_pretrained(model_name)"
      ]
    },
    {
      "cell_type": "code",
      "execution_count": null,
      "id": "9f99486a-c171-4e14-aa47-bb5d132b9b83",
      "metadata": {
        "id": "9f99486a-c171-4e14-aa47-bb5d132b9b83"
      },
      "outputs": [],
      "source": [
        "# MAX_INPUT_LENGTH = 512\n",
        "# MAX_TARGET_LENGTH = 30\n",
        "\n",
        "# def preprocess_function(article, summary):\n",
        "#     model_inputs = tokenizer(\n",
        "#         article,\n",
        "#         max_length=MAX_INPUT_LENGTH,\n",
        "#         truncation=True\n",
        "#     )\n",
        "#     labels = tokenizer(\n",
        "#         summary,\n",
        "#         max_length=MAX_TARGET_LENGTH,\n",
        "#         truncation=True\n",
        "#     )\n",
        "#     #model_inputs[\"labels\"] = articles[\"labels\"]\n",
        "#     return model_inputs\n",
        "\n",
        "# for i in range(articles_df.shape[0]):\n",
        "#     result = preprocess_function(articles_df[\"text\"][0], summaries_df[\"text\"][0])"
      ]
    },
    {
      "cell_type": "code",
      "source": [
        "def abstract_tokenize(tokenizer, input_data):\n",
        "  inputs = []\n",
        "\n",
        "  for i in range(input_data.shape[0]):\n",
        "    inputs.append(tokenizer.encode(\"summarize: \" + input_data[\"text\"][i], # required prefix\n",
        "                              return_tensors = \"tf\",\n",
        "                              max_length = 512, # required max_length\n",
        "                              truncation = True))\n",
        "\n",
        "  # readout\n",
        "  print(\"Tokenized\", len(inputs), \"entries\")\n",
        "  print()\n",
        "  print(\"Sample tokenized input:\")\n",
        "  print(inputs[0])\n",
        "\n",
        "  return inputs"
      ],
      "metadata": {
        "id": "DTG-NbrBnL1l"
      },
      "id": "DTG-NbrBnL1l",
      "execution_count": null,
      "outputs": []
    },
    {
      "cell_type": "code",
      "source": [
        "tokenized_array = abstract_tokenize(tokenizer, articles_df)"
      ],
      "metadata": {
        "id": "Z0W-3t3kuS4_"
      },
      "id": "Z0W-3t3kuS4_",
      "execution_count": null,
      "outputs": []
    },
    {
      "cell_type": "markdown",
      "source": [
        "## Abstractive Text Summarization (with T5-Small)"
      ],
      "metadata": {
        "id": "TA3ERLAirdtR"
      },
      "id": "TA3ERLAirdtR"
    },
    {
      "cell_type": "code",
      "source": [
        "def abstract_summarize(model, tokenized_input):\n",
        "  outputs = []\n",
        "\n",
        "  for i in range(len(tokenized_input)):\n",
        "    outputs.append(model.generate(tokenized_input[i],\n",
        "                            max_length=200,\n",
        "                            min_length=30,\n",
        "                            length_penalty=2.0,\n",
        "                            num_beams=2,\n",
        "                            early_stopping=True,\n",
        "                            no_repeat_ngram_size=3))\n",
        "\n",
        "  # readout\n",
        "  print(\"Summarized\", len(outputs), \"entries\")\n",
        "\n",
        "  return outputs"
      ],
      "metadata": {
        "id": "r6_1SqzGrUDF"
      },
      "id": "r6_1SqzGrUDF",
      "execution_count": null,
      "outputs": []
    },
    {
      "cell_type": "code",
      "source": [
        "def abstract_prediction(tokenizer, summarized_input):\n",
        "  prediction = []\n",
        "\n",
        "  for i in range(len(summarized_input)):\n",
        "    prediction.append([tokenizer.decode(token,\n",
        "                                  skip_special_tokens=True,\n",
        "                                  clean_up_tokenization_spaces=True)\n",
        "                                  for token in summarized_input[i]])\n",
        "\n",
        "  # readout\n",
        "  print(\"Decoded\", len(prediction), \"predicted summaries\")\n",
        "\n",
        "  print()\n",
        "  print(\"Sample article:\")\n",
        "  print(summaries_df[\"text\"][0])\n",
        "\n",
        "  print()\n",
        "  print(\"Sample prediction:\")\n",
        "  print(prediction[0][0])\n",
        "\n",
        "  return prediction"
      ],
      "metadata": {
        "id": "MiSZ48i7rTrc"
      },
      "id": "MiSZ48i7rTrc",
      "execution_count": null,
      "outputs": []
    },
    {
      "cell_type": "code",
      "source": [
        "summarized_array = abstract_summarize(model, tokenized_array[:5])"
      ],
      "metadata": {
        "id": "fjxbBT7DsenN"
      },
      "id": "fjxbBT7DsenN",
      "execution_count": null,
      "outputs": []
    },
    {
      "cell_type": "code",
      "source": [
        "prediction_array = abstract_prediction(tokenizer, summarized_array)"
      ],
      "metadata": {
        "id": "MAaHrnhP2TJ8"
      },
      "id": "MAaHrnhP2TJ8",
      "execution_count": null,
      "outputs": []
    }
  ],
  "metadata": {
    "kernelspec": {
      "display_name": "Python 3 (ipykernel)",
      "language": "python",
      "name": "python3"
    },
    "language_info": {
      "codemirror_mode": {
        "name": "ipython",
        "version": 3
      },
      "file_extension": ".py",
      "mimetype": "text/x-python",
      "name": "python",
      "nbconvert_exporter": "python",
      "pygments_lexer": "ipython3",
      "version": "3.8.13"
    },
    "colab": {
      "provenance": [],
      "include_colab_link": true
    },
    "gpuClass": "standard"
  },
  "nbformat": 4,
  "nbformat_minor": 5
}