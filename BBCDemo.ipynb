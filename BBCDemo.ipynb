{
  "cells": [
    {
      "cell_type": "markdown",
      "metadata": {
        "id": "view-in-github",
        "colab_type": "text"
      },
      "source": [
        "<a href=\"https://colab.research.google.com/github/michaeljf00/text_summarizer/blob/roham/BBCDemo.ipynb\" target=\"_parent\"><img src=\"https://colab.research.google.com/assets/colab-badge.svg\" alt=\"Open In Colab\"/></a>"
      ]
    },
    {
      "cell_type": "code",
      "source": [
        "!unzip data.zip"
      ],
      "metadata": {
        "id": "pfLDIkaGhojG"
      },
      "id": "pfLDIkaGhojG",
      "execution_count": 3,
      "outputs": []
    },
    {
      "cell_type": "code",
      "execution_count": 4,
      "id": "98d9b836-1ae5-4e73-bd8f-ce5ce1fccf1f",
      "metadata": {
        "id": "98d9b836-1ae5-4e73-bd8f-ce5ce1fccf1f",
        "colab": {
          "base_uri": "https://localhost:8080/"
        },
        "outputId": "54ea9b6a-6e9b-4c3b-bb41-c92a36c35590"
      },
      "outputs": [
        {
          "output_type": "stream",
          "name": "stdout",
          "text": [
            "\u001b[K     |████████████████████████████████| 588.3 MB 23 kB/s \n",
            "\u001b[K     |████████████████████████████████| 5.8 MB 46.7 MB/s \n",
            "\u001b[K     |████████████████████████████████| 1.3 MB 68.7 MB/s \n",
            "\u001b[K     |████████████████████████████████| 6.0 MB 63.9 MB/s \n",
            "\u001b[K     |████████████████████████████████| 439 kB 72.3 MB/s \n",
            "\u001b[K     |████████████████████████████████| 1.7 MB 61.1 MB/s \n",
            "\u001b[K     |████████████████████████████████| 182 kB 76.5 MB/s \n",
            "\u001b[K     |████████████████████████████████| 7.6 MB 67.6 MB/s \n",
            "\u001b[31mERROR: pip's dependency resolver does not currently take into account all the packages that are installed. This behaviour is the source of the following dependency conflicts.\n",
            "tensorflow 2.9.2 requires flatbuffers<2,>=1.12, but you have flatbuffers 22.12.6 which is incompatible.\n",
            "tensorflow 2.9.2 requires keras<2.10.0,>=2.9.0rc0, but you have keras 2.11.0 which is incompatible.\n",
            "tensorflow 2.9.2 requires tensorboard<2.10,>=2.9, but you have tensorboard 2.11.0 which is incompatible.\n",
            "tensorflow 2.9.2 requires tensorflow-estimator<2.10.0,>=2.9.0rc0, but you have tensorflow-estimator 2.11.0 which is incompatible.\u001b[0m\n",
            "\u001b[?25h"
          ]
        }
      ],
      "source": [
        "pip -q install numpy seaborn pandas nltk tensorflow-gpu torch matplotlib transformers Iprogress sentencepiece"
      ]
    },
    {
      "cell_type": "code",
      "execution_count": 5,
      "id": "ed79a4f6-4932-4e6e-881c-f4eb19bb99c7",
      "metadata": {
        "id": "ed79a4f6-4932-4e6e-881c-f4eb19bb99c7"
      },
      "outputs": [],
      "source": [
        "import matplotlib.pyplot as plt\n",
        "import numpy as np\n",
        "import pandas as pd\n",
        "import tensorflow as tf\n",
        "import os\n",
        "import random"
      ]
    },
    {
      "cell_type": "markdown",
      "id": "8c9c850f-4f46-40bb-80d7-4721c87f1ef8",
      "metadata": {
        "id": "8c9c850f-4f46-40bb-80d7-4721c87f1ef8"
      },
      "source": [
        "## BBC News Summary EDA\n",
        "TODO: add general description here\n",
        "\n",
        "### Data preperation\n",
        "To get started please paste the BBC news dataset into a folder titled data in the local directory. Then delete 199.txt in the articles and summaries directory respectively due to corruption with these files."
      ]
    },
    {
      "cell_type": "code",
      "execution_count": 6,
      "id": "1214aa85-66fa-4644-a97b-bdc7b17db24a",
      "metadata": {
        "colab": {
          "base_uri": "https://localhost:8080/",
          "height": 313
        },
        "id": "1214aa85-66fa-4644-a97b-bdc7b17db24a",
        "outputId": "0362d915-24df-4b40-dbe7-5d5c70a10aa4"
      },
      "outputs": [
        {
          "output_type": "stream",
          "name": "stdout",
          "text": [
            "file .DS_Store in data/BBC News Summary/News Articles/sport is not readable\n",
            "<class 'UnicodeDecodeError'>\n",
            "Total Items loaded: 2224\n",
            "file .DS_Store in data/BBC News Summary/Summaries/sport is not readable\n",
            "<class 'UnicodeDecodeError'>\n",
            "Total Items loaded: 2224\n"
          ]
        },
        {
          "output_type": "execute_result",
          "data": {
            "text/plain": [
              "      label                                               text\n",
              "0  business  JP Morgan admits US slavery links\\n\\nThousands...\n",
              "1  business  Barclays profits hit record level\\n\\nBarclays,...\n",
              "2  business  Japanese banking battle at an end\\n\\nJapan's S...\n",
              "3  business  German business confidence slides\\n\\nGerman bu...\n",
              "4  business  MG Rover China tie-up 'delayed'\\n\\nMG Rover's ..."
            ],
            "text/html": [
              "\n",
              "  <div id=\"df-5fb1587e-9a29-40f3-935c-a909c866cf0f\">\n",
              "    <div class=\"colab-df-container\">\n",
              "      <div>\n",
              "<style scoped>\n",
              "    .dataframe tbody tr th:only-of-type {\n",
              "        vertical-align: middle;\n",
              "    }\n",
              "\n",
              "    .dataframe tbody tr th {\n",
              "        vertical-align: top;\n",
              "    }\n",
              "\n",
              "    .dataframe thead th {\n",
              "        text-align: right;\n",
              "    }\n",
              "</style>\n",
              "<table border=\"1\" class=\"dataframe\">\n",
              "  <thead>\n",
              "    <tr style=\"text-align: right;\">\n",
              "      <th></th>\n",
              "      <th>label</th>\n",
              "      <th>text</th>\n",
              "    </tr>\n",
              "  </thead>\n",
              "  <tbody>\n",
              "    <tr>\n",
              "      <th>0</th>\n",
              "      <td>business</td>\n",
              "      <td>JP Morgan admits US slavery links\\n\\nThousands...</td>\n",
              "    </tr>\n",
              "    <tr>\n",
              "      <th>1</th>\n",
              "      <td>business</td>\n",
              "      <td>Barclays profits hit record level\\n\\nBarclays,...</td>\n",
              "    </tr>\n",
              "    <tr>\n",
              "      <th>2</th>\n",
              "      <td>business</td>\n",
              "      <td>Japanese banking battle at an end\\n\\nJapan's S...</td>\n",
              "    </tr>\n",
              "    <tr>\n",
              "      <th>3</th>\n",
              "      <td>business</td>\n",
              "      <td>German business confidence slides\\n\\nGerman bu...</td>\n",
              "    </tr>\n",
              "    <tr>\n",
              "      <th>4</th>\n",
              "      <td>business</td>\n",
              "      <td>MG Rover China tie-up 'delayed'\\n\\nMG Rover's ...</td>\n",
              "    </tr>\n",
              "  </tbody>\n",
              "</table>\n",
              "</div>\n",
              "      <button class=\"colab-df-convert\" onclick=\"convertToInteractive('df-5fb1587e-9a29-40f3-935c-a909c866cf0f')\"\n",
              "              title=\"Convert this dataframe to an interactive table.\"\n",
              "              style=\"display:none;\">\n",
              "        \n",
              "  <svg xmlns=\"http://www.w3.org/2000/svg\" height=\"24px\"viewBox=\"0 0 24 24\"\n",
              "       width=\"24px\">\n",
              "    <path d=\"M0 0h24v24H0V0z\" fill=\"none\"/>\n",
              "    <path d=\"M18.56 5.44l.94 2.06.94-2.06 2.06-.94-2.06-.94-.94-2.06-.94 2.06-2.06.94zm-11 1L8.5 8.5l.94-2.06 2.06-.94-2.06-.94L8.5 2.5l-.94 2.06-2.06.94zm10 10l.94 2.06.94-2.06 2.06-.94-2.06-.94-.94-2.06-.94 2.06-2.06.94z\"/><path d=\"M17.41 7.96l-1.37-1.37c-.4-.4-.92-.59-1.43-.59-.52 0-1.04.2-1.43.59L10.3 9.45l-7.72 7.72c-.78.78-.78 2.05 0 2.83L4 21.41c.39.39.9.59 1.41.59.51 0 1.02-.2 1.41-.59l7.78-7.78 2.81-2.81c.8-.78.8-2.07 0-2.86zM5.41 20L4 18.59l7.72-7.72 1.47 1.35L5.41 20z\"/>\n",
              "  </svg>\n",
              "      </button>\n",
              "      \n",
              "  <style>\n",
              "    .colab-df-container {\n",
              "      display:flex;\n",
              "      flex-wrap:wrap;\n",
              "      gap: 12px;\n",
              "    }\n",
              "\n",
              "    .colab-df-convert {\n",
              "      background-color: #E8F0FE;\n",
              "      border: none;\n",
              "      border-radius: 50%;\n",
              "      cursor: pointer;\n",
              "      display: none;\n",
              "      fill: #1967D2;\n",
              "      height: 32px;\n",
              "      padding: 0 0 0 0;\n",
              "      width: 32px;\n",
              "    }\n",
              "\n",
              "    .colab-df-convert:hover {\n",
              "      background-color: #E2EBFA;\n",
              "      box-shadow: 0px 1px 2px rgba(60, 64, 67, 0.3), 0px 1px 3px 1px rgba(60, 64, 67, 0.15);\n",
              "      fill: #174EA6;\n",
              "    }\n",
              "\n",
              "    [theme=dark] .colab-df-convert {\n",
              "      background-color: #3B4455;\n",
              "      fill: #D2E3FC;\n",
              "    }\n",
              "\n",
              "    [theme=dark] .colab-df-convert:hover {\n",
              "      background-color: #434B5C;\n",
              "      box-shadow: 0px 1px 3px 1px rgba(0, 0, 0, 0.15);\n",
              "      filter: drop-shadow(0px 1px 2px rgba(0, 0, 0, 0.3));\n",
              "      fill: #FFFFFF;\n",
              "    }\n",
              "  </style>\n",
              "\n",
              "      <script>\n",
              "        const buttonEl =\n",
              "          document.querySelector('#df-5fb1587e-9a29-40f3-935c-a909c866cf0f button.colab-df-convert');\n",
              "        buttonEl.style.display =\n",
              "          google.colab.kernel.accessAllowed ? 'block' : 'none';\n",
              "\n",
              "        async function convertToInteractive(key) {\n",
              "          const element = document.querySelector('#df-5fb1587e-9a29-40f3-935c-a909c866cf0f');\n",
              "          const dataTable =\n",
              "            await google.colab.kernel.invokeFunction('convertToInteractive',\n",
              "                                                     [key], {});\n",
              "          if (!dataTable) return;\n",
              "\n",
              "          const docLinkHtml = 'Like what you see? Visit the ' +\n",
              "            '<a target=\"_blank\" href=https://colab.research.google.com/notebooks/data_table.ipynb>data table notebook</a>'\n",
              "            + ' to learn more about interactive tables.';\n",
              "          element.innerHTML = '';\n",
              "          dataTable['output_type'] = 'display_data';\n",
              "          await google.colab.output.renderOutput(dataTable, element);\n",
              "          const docLink = document.createElement('div');\n",
              "          docLink.innerHTML = docLinkHtml;\n",
              "          element.appendChild(docLink);\n",
              "        }\n",
              "      </script>\n",
              "    </div>\n",
              "  </div>\n",
              "  "
            ]
          },
          "metadata": {},
          "execution_count": 6
        }
      ],
      "source": [
        "def get_text_by_topic(directory_path):\n",
        "    data = []\n",
        "    count = 0\n",
        "    for topic in os.listdir(directory_path):\n",
        "        topic_path = os.path.join(directory_path, topic)\n",
        "        if not os.path.isdir(topic_path):\n",
        "          continue\n",
        "        for file_path in os.listdir(topic_path):\n",
        "            try:\n",
        "                with open(f'{topic_path}/{file_path}', 'r', encoding=\"utf-8\") as f:\n",
        "                    data.append(( topic_path.split('/')[-1],f.read()))\n",
        "                count+=1\n",
        "            except UnicodeDecodeError:\n",
        "                print(f'file {file_path} in {topic_path} is not readable')\n",
        "                print(UnicodeDecodeError)\n",
        "    df = pd.DataFrame(data, columns=['label','text'])\n",
        "    print(f\"Total Items loaded: {count}\")\n",
        "    return df\n",
        "                      \n",
        "articles_path = r\"data/BBC News Summary/News Articles\"\n",
        "summaries_path = r\"data/BBC News Summary/Summaries\"\n",
        "\n",
        "articles_df = get_text_by_topic(articles_path)\n",
        "summaries_df = get_text_by_topic(summaries_path)\n",
        "articles_df.head()"
      ]
    },
    {
      "cell_type": "markdown",
      "id": "b0bf6beb-d02d-412c-b582-1f6dabbd1490",
      "metadata": {
        "id": "b0bf6beb-d02d-412c-b582-1f6dabbd1490"
      },
      "source": [
        "### Lets see an example from the dataset"
      ]
    },
    {
      "cell_type": "code",
      "execution_count": 7,
      "id": "5eab6275-fdab-40aa-a9ae-37a2563cc044",
      "metadata": {
        "colab": {
          "base_uri": "https://localhost:8080/"
        },
        "id": "5eab6275-fdab-40aa-a9ae-37a2563cc044",
        "outputId": "5d89ef6b-1167-40b7-9a7a-f2ec21440e17"
      },
      "outputs": [
        {
          "output_type": "stream",
          "name": "stdout",
          "text": [
            "Articles Shape:  (2224, 2)\n",
            "Summaries Shape:  (2224, 2)\n",
            "\n",
            "Random Example Article in business:\n",
            "Fed chief warning on US deficit\n",
            "\n",
            "Federal Reserve chairman Alan Greenspan has warned that allowing huge US budget deficits to continue could have \"severe\" consequences.\n",
            "\n",
            "Speaking to the House Budget Committee he urged Congress to take action to cut the deficit, such as increasing taxes. While the US economy is growing at a \"reasonably good pace\" he warned that budget concerns were clouding the economic outlook for the US. Pension and healthcare costs posed the greatest risks to the economy, he said.\n",
            "\n",
            "The government program faces severe financial strains in coming decades as the massive baby-boom generation retires. \"I fear that we may have already committed more physical resources to the baby-boom generation in its retirement years than our economy has the capacity to deliver. If existing promises need to be changed, those changes should be made sooner rather than later,\" Mr Greenspan said. He also warned that unless the nation sees unprecedented rises in productivity \"retirement and health programmes would need \"significant\" changes. He called on Congress to cut promised benefits for retirees, as the promised benefits for the soon-to-retire baby boom generation were much larger than the government could afford.\n",
            "\n",
            "Meanwhile any move to narrow the deficit gap by raising taxes could pose a significant risk to the economy by dampening growth and spending, he added. He also urged Congress to reinstate lapsed rules that require tax cuts and spending to be offset elsewhere in the budget in an effort to prevent the US heading further into the red. Despite the dire warnings, Mr Greenspan did offer some good news for the short term. As US growth gathers steam and incomes rise that should lead to a narrowing of the deficit. Recent increases in defence and homeland security spending were also not expected to continue indefinitely, which should cut some costs. Since President George W Bush came to office the federal budget has swung from a record surplus to a record deficit of $412bn last year.\n",
            "\n",
            "Random Example Summary in business:\n",
            "Federal Reserve chairman Alan Greenspan has warned that allowing huge US budget deficits to continue could have \"severe\" consequences.He also urged Congress to reinstate lapsed rules that require tax cuts and spending to be offset elsewhere in the budget in an effort to prevent the US heading further into the red.While the US economy is growing at a \"reasonably good pace\" he warned that budget concerns were clouding the economic outlook for the US.Meanwhile any move to narrow the deficit gap by raising taxes could pose a significant risk to the economy by dampening growth and spending, he added.Speaking to the House Budget Committee he urged Congress to take action to cut the deficit, such as increasing taxes.As US growth gathers steam and incomes rise that should lead to a narrowing of the deficit.\n"
          ]
        }
      ],
      "source": [
        "print(\"Articles Shape: \",articles_df.shape)\n",
        "print(\"Summaries Shape: \",summaries_df.shape)\n",
        "# If this fails the wrong number of aricles or summaries was loaded\n",
        "assert(articles_df.shape == summaries_df.shape)\n",
        "\n",
        "ex_idx = int(random.random()*articles_df.shape[0])\n",
        "ex_topic = articles_df[\"label\"][ex_idx]\n",
        "print(f\"\\nRandom Example Article in {ex_topic}:\")\n",
        "print(articles_df[\"text\"][ex_idx])\n",
        "print(f\"Random Example Summary in {ex_topic}:\")\n",
        "print(summaries_df[\"text\"][ex_idx])"
      ]
    },
    {
      "cell_type": "markdown",
      "id": "575fa654-a5c9-423a-a47a-1093a5122e5f",
      "metadata": {
        "id": "575fa654-a5c9-423a-a47a-1093a5122e5f"
      },
      "source": [
        "From this example we can see the dataset consists of BBC articles and co-responding summaries that are constructed in an extractive manner, that is, each summary is constructed by selecting a subset of the sentances in the original article."
      ]
    },
    {
      "cell_type": "code",
      "execution_count": 8,
      "id": "f54d1b00-34da-421c-bc2f-0fb5c553ad24",
      "metadata": {
        "colab": {
          "base_uri": "https://localhost:8080/"
        },
        "id": "f54d1b00-34da-421c-bc2f-0fb5c553ad24",
        "outputId": "d7c3466b-c4f9-4a13-f43d-9bbdf0eef021"
      },
      "outputs": [
        {
          "output_type": "execute_result",
          "data": {
            "text/plain": [
              "label    0\n",
              "text     0\n",
              "dtype: int64"
            ]
          },
          "metadata": {},
          "execution_count": 8
        }
      ],
      "source": [
        "# Null Checks\n",
        "articles_df.isna().sum()\n",
        "summaries_df.isna().sum()"
      ]
    },
    {
      "cell_type": "markdown",
      "id": "768ee0be-8316-45c4-bec5-77c5d6bfbed8",
      "metadata": {
        "id": "768ee0be-8316-45c4-bec5-77c5d6bfbed8"
      },
      "source": [
        "Next looking into the balance of each topic in the dataset"
      ]
    },
    {
      "cell_type": "code",
      "execution_count": 9,
      "id": "d6991cf3-9104-4289-b3b1-2e979c53ce23",
      "metadata": {
        "colab": {
          "base_uri": "https://localhost:8080/",
          "height": 264
        },
        "id": "d6991cf3-9104-4289-b3b1-2e979c53ce23",
        "outputId": "d157c377-4b2d-4e78-c9bb-e3ea35a9102a"
      },
      "outputs": [
        {
          "output_type": "display_data",
          "data": {
            "text/plain": [
              "<Figure size 432x288 with 1 Axes>"
            ],
            "image/png": "[encoded data removed]"
          },
          "metadata": {}
        }
      ],
      "source": [
        "# Percent articles in each topic\n",
        "label_vals = articles_df[\"label\"].value_counts()\n",
        "\n",
        "labels = list(label_vals.keys())\n",
        "sizes = list(label_vals)\n",
        "explode = [0]*len(sizes) \n",
        "explode[0] =0.1\n",
        "explode[1] =0.1\n",
        "fig1, ax1 = plt.subplots()\n",
        "ax1.pie(label_vals, explode=explode, labels=labels, autopct='%1.1f%%',shadow=True, startangle=90)\n",
        "ax1.axis('equal')  # Equal aspect ratio ensures that pie is drawn as a circle.\n",
        "plt.title(f\"Out of {articles_df.shape[0]} Articles\")\n",
        "plt.show()\n"
      ]
    },
    {
      "cell_type": "markdown",
      "id": "25b33d5d-137d-4078-af43-8e3ccdc6451b",
      "metadata": {
        "id": "25b33d5d-137d-4078-af43-8e3ccdc6451b"
      },
      "source": [
        "The classes appear to be well balance so model performance should be equivelent across topics"
      ]
    },
    {
      "cell_type": "code",
      "execution_count": 10,
      "id": "e0a5961f-d8f9-4908-b622-d9d76245fd5e",
      "metadata": {
        "colab": {
          "base_uri": "https://localhost:8080/",
          "height": 676
        },
        "id": "e0a5961f-d8f9-4908-b622-d9d76245fd5e",
        "outputId": "e9a5c7c2-c729-4e45-a6e6-a3816d5e8863"
      },
      "outputs": [
        {
          "output_type": "stream",
          "name": "stdout",
          "text": [
            "99th percentile in sentance count:  63.0\n"
          ]
        },
        {
          "output_type": "stream",
          "name": "stderr",
          "text": [
            "/usr/local/lib/python3.8/dist-packages/matplotlib/cbook/__init__.py:1376: VisibleDeprecationWarning: Creating an ndarray from ragged nested sequences (which is a list-or-tuple of lists-or-tuples-or ndarrays with different lengths or shapes) is deprecated. If you meant to do this, you must specify 'dtype=object' when creating the ndarray.\n",
            "  X = np.atleast_1d(X.T if isinstance(X, np.ndarray) else np.asarray(X))\n"
          ]
        },
        {
          "output_type": "display_data",
          "data": {
            "text/plain": [
              "<Figure size 432x288 with 1 Axes>"
            ],
            "image/png": "[encoded data removed]"
          },
          "metadata": {
            "needs_background": "light"
          }
        },
        {
          "output_type": "execute_result",
          "data": {
            "text/plain": [
              "         business    politics  entertainment       sport        tech\n",
              "count  510.000000  417.000000     386.000000  510.000000  401.000000\n",
              "mean    19.680392   22.227818      17.945596   18.280392   25.842893\n",
              "std      7.409560   15.467658      14.270836    9.876736   12.904370\n",
              "min      7.000000    5.000000       8.000000    7.000000    7.000000\n",
              "25%     14.000000   16.000000      12.000000   12.000000   18.000000\n",
              "50%     18.000000   21.000000      14.000000   16.000000   22.000000\n",
              "75%     23.000000   25.000000      20.000000   23.000000   31.000000\n",
              "max     53.000000  246.000000     205.000000   82.000000  161.000000"
            ],
            "text/html": [
              "\n",
              "  <div id=\"df-058aa379-b9a7-43cd-80fa-35c26bc19220\">\n",
              "    <div class=\"colab-df-container\">\n",
              "      <div>\n",
              "<style scoped>\n",
              "    .dataframe tbody tr th:only-of-type {\n",
              "        vertical-align: middle;\n",
              "    }\n",
              "\n",
              "    .dataframe tbody tr th {\n",
              "        vertical-align: top;\n",
              "    }\n",
              "\n",
              "    .dataframe thead th {\n",
              "        text-align: right;\n",
              "    }\n",
              "</style>\n",
              "<table border=\"1\" class=\"dataframe\">\n",
              "  <thead>\n",
              "    <tr style=\"text-align: right;\">\n",
              "      <th></th>\n",
              "      <th>business</th>\n",
              "      <th>politics</th>\n",
              "      <th>entertainment</th>\n",
              "      <th>sport</th>\n",
              "      <th>tech</th>\n",
              "    </tr>\n",
              "  </thead>\n",
              "  <tbody>\n",
              "    <tr>\n",
              "      <th>count</th>\n",
              "      <td>510.000000</td>\n",
              "      <td>417.000000</td>\n",
              "      <td>386.000000</td>\n",
              "      <td>510.000000</td>\n",
              "      <td>401.000000</td>\n",
              "    </tr>\n",
              "    <tr>\n",
              "      <th>mean</th>\n",
              "      <td>19.680392</td>\n",
              "      <td>22.227818</td>\n",
              "      <td>17.945596</td>\n",
              "      <td>18.280392</td>\n",
              "      <td>25.842893</td>\n",
              "    </tr>\n",
              "    <tr>\n",
              "      <th>std</th>\n",
              "      <td>7.409560</td>\n",
              "      <td>15.467658</td>\n",
              "      <td>14.270836</td>\n",
              "      <td>9.876736</td>\n",
              "      <td>12.904370</td>\n",
              "    </tr>\n",
              "    <tr>\n",
              "      <th>min</th>\n",
              "      <td>7.000000</td>\n",
              "      <td>5.000000</td>\n",
              "      <td>8.000000</td>\n",
              "      <td>7.000000</td>\n",
              "      <td>7.000000</td>\n",
              "    </tr>\n",
              "    <tr>\n",
              "      <th>25%</th>\n",
              "      <td>14.000000</td>\n",
              "      <td>16.000000</td>\n",
              "      <td>12.000000</td>\n",
              "      <td>12.000000</td>\n",
              "      <td>18.000000</td>\n",
              "    </tr>\n",
              "    <tr>\n",
              "      <th>50%</th>\n",
              "      <td>18.000000</td>\n",
              "      <td>21.000000</td>\n",
              "      <td>14.000000</td>\n",
              "      <td>16.000000</td>\n",
              "      <td>22.000000</td>\n",
              "    </tr>\n",
              "    <tr>\n",
              "      <th>75%</th>\n",
              "      <td>23.000000</td>\n",
              "      <td>25.000000</td>\n",
              "      <td>20.000000</td>\n",
              "      <td>23.000000</td>\n",
              "      <td>31.000000</td>\n",
              "    </tr>\n",
              "    <tr>\n",
              "      <th>max</th>\n",
              "      <td>53.000000</td>\n",
              "      <td>246.000000</td>\n",
              "      <td>205.000000</td>\n",
              "      <td>82.000000</td>\n",
              "      <td>161.000000</td>\n",
              "    </tr>\n",
              "  </tbody>\n",
              "</table>\n",
              "</div>\n",
              "      <button class=\"colab-df-convert\" onclick=\"convertToInteractive('df-058aa379-b9a7-43cd-80fa-35c26bc19220')\"\n",
              "              title=\"Convert this dataframe to an interactive table.\"\n",
              "              style=\"display:none;\">\n",
              "        \n",
              "  <svg xmlns=\"http://www.w3.org/2000/svg\" height=\"24px\"viewBox=\"0 0 24 24\"\n",
              "       width=\"24px\">\n",
              "    <path d=\"M0 0h24v24H0V0z\" fill=\"none\"/>\n",
              "    <path d=\"M18.56 5.44l.94 2.06.94-2.06 2.06-.94-2.06-.94-.94-2.06-.94 2.06-2.06.94zm-11 1L8.5 8.5l.94-2.06 2.06-.94-2.06-.94L8.5 2.5l-.94 2.06-2.06.94zm10 10l.94 2.06.94-2.06 2.06-.94-2.06-.94-.94-2.06-.94 2.06-2.06.94z\"/><path d=\"M17.41 7.96l-1.37-1.37c-.4-.4-.92-.59-1.43-.59-.52 0-1.04.2-1.43.59L10.3 9.45l-7.72 7.72c-.78.78-.78 2.05 0 2.83L4 21.41c.39.39.9.59 1.41.59.51 0 1.02-.2 1.41-.59l7.78-7.78 2.81-2.81c.8-.78.8-2.07 0-2.86zM5.41 20L4 18.59l7.72-7.72 1.47 1.35L5.41 20z\"/>\n",
              "  </svg>\n",
              "      </button>\n",
              "      \n",
              "  <style>\n",
              "    .colab-df-container {\n",
              "      display:flex;\n",
              "      flex-wrap:wrap;\n",
              "      gap: 12px;\n",
              "    }\n",
              "\n",
              "    .colab-df-convert {\n",
              "      background-color: #E8F0FE;\n",
              "      border: none;\n",
              "      border-radius: 50%;\n",
              "      cursor: pointer;\n",
              "      display: none;\n",
              "      fill: #1967D2;\n",
              "      height: 32px;\n",
              "      padding: 0 0 0 0;\n",
              "      width: 32px;\n",
              "    }\n",
              "\n",
              "    .colab-df-convert:hover {\n",
              "      background-color: #E2EBFA;\n",
              "      box-shadow: 0px 1px 2px rgba(60, 64, 67, 0.3), 0px 1px 3px 1px rgba(60, 64, 67, 0.15);\n",
              "      fill: #174EA6;\n",
              "    }\n",
              "\n",
              "    [theme=dark] .colab-df-convert {\n",
              "      background-color: #3B4455;\n",
              "      fill: #D2E3FC;\n",
              "    }\n",
              "\n",
              "    [theme=dark] .colab-df-convert:hover {\n",
              "      background-color: #434B5C;\n",
              "      box-shadow: 0px 1px 3px 1px rgba(0, 0, 0, 0.15);\n",
              "      filter: drop-shadow(0px 1px 2px rgba(0, 0, 0, 0.3));\n",
              "      fill: #FFFFFF;\n",
              "    }\n",
              "  </style>\n",
              "\n",
              "      <script>\n",
              "        const buttonEl =\n",
              "          document.querySelector('#df-058aa379-b9a7-43cd-80fa-35c26bc19220 button.colab-df-convert');\n",
              "        buttonEl.style.display =\n",
              "          google.colab.kernel.accessAllowed ? 'block' : 'none';\n",
              "\n",
              "        async function convertToInteractive(key) {\n",
              "          const element = document.querySelector('#df-058aa379-b9a7-43cd-80fa-35c26bc19220');\n",
              "          const dataTable =\n",
              "            await google.colab.kernel.invokeFunction('convertToInteractive',\n",
              "                                                     [key], {});\n",
              "          if (!dataTable) return;\n",
              "\n",
              "          const docLinkHtml = 'Like what you see? Visit the ' +\n",
              "            '<a target=\"_blank\" href=https://colab.research.google.com/notebooks/data_table.ipynb>data table notebook</a>'\n",
              "            + ' to learn more about interactive tables.';\n",
              "          element.innerHTML = '';\n",
              "          dataTable['output_type'] = 'display_data';\n",
              "          await google.colab.output.renderOutput(dataTable, element);\n",
              "          const docLink = document.createElement('div');\n",
              "          docLink.innerHTML = docLinkHtml;\n",
              "          element.appendChild(docLink);\n",
              "        }\n",
              "      </script>\n",
              "    </div>\n",
              "  </div>\n",
              "  "
            ]
          },
          "metadata": {},
          "execution_count": 10
        }
      ],
      "source": [
        "# Number of Sentances in articles per topic\n",
        "def get_text_length(daf, split):\n",
        "    text_lens = [[len(t.split(split)) for t in daf[\"text\"][daf['label'] == label]] for label in daf['label'].unique()]\n",
        "    return text_lens\n",
        "\n",
        "# Splitting on . for each sentance\n",
        "text_lens = get_text_length(articles_df, \".\")\n",
        "\n",
        "t_lengths = pd.DataFrame(text_lens).transpose()\n",
        "t_lengths.columns = articles_df['label'].unique()\n",
        "\n",
        "# Outliars\n",
        "print(\"99th percentile in sentance count: \",np.max(t_lengths.quantile(0.99)))\n",
        "\n",
        "plt.boxplot(text_lens)\n",
        "plt.title('Number of Sentances in each Article per topic')\n",
        "plt.ylim(np.min(t_lengths.quantile(0)), np.max(t_lengths.quantile(0.99)))\n",
        "plt.xticks([1,2,3,4,5],articles_df['label'].unique(),\n",
        "                    rotation=45, fontsize=8)\n",
        "plt.show()\n",
        "t_lengths.describe()"
      ]
    },
    {
      "cell_type": "markdown",
      "id": "3fe62179-5377-4e06-bd27-3723ab924a51",
      "metadata": {
        "id": "3fe62179-5377-4e06-bd27-3723ab924a51"
      },
      "source": [
        "It appears that tech articles have the longest articles in terms of sentances however the categories seem to be balanced here aswell. Noteably there are some drastic outliars for article length with 200+ sentances that may have to be removed."
      ]
    },
    {
      "cell_type": "code",
      "execution_count": 11,
      "id": "f368e99e-6e8d-4edc-98fc-58da0235eb83",
      "metadata": {
        "colab": {
          "base_uri": "https://localhost:8080/",
          "height": 676
        },
        "id": "f368e99e-6e8d-4edc-98fc-58da0235eb83",
        "outputId": "e706e8b8-d141-4837-a4d2-73538ca8c00d"
      },
      "outputs": [
        {
          "output_type": "stream",
          "name": "stdout",
          "text": [
            "99th percentile in Word count:  475.0\n"
          ]
        },
        {
          "output_type": "stream",
          "name": "stderr",
          "text": [
            "/usr/local/lib/python3.8/dist-packages/matplotlib/cbook/__init__.py:1376: VisibleDeprecationWarning: Creating an ndarray from ragged nested sequences (which is a list-or-tuple of lists-or-tuples-or ndarrays with different lengths or shapes) is deprecated. If you meant to do this, you must specify 'dtype=object' when creating the ndarray.\n",
            "  X = np.atleast_1d(X.T if isinstance(X, np.ndarray) else np.asarray(X))\n"
          ]
        },
        {
          "output_type": "display_data",
          "data": {
            "text/plain": [
              "<Figure size 432x288 with 1 Axes>"
            ],
            "image/png": "[encoded data removed]"
          },
          "metadata": {
            "needs_background": "light"
          }
        },
        {
          "output_type": "execute_result",
          "data": {
            "text/plain": [
              "        business     politics  entertainment       sport         tech\n",
              "count  510.00000   417.000000      386.00000  510.000000   401.000000\n",
              "mean   139.94902   195.738609      144.07772  143.194118   213.880299\n",
              "std     59.48480   139.855957      124.31821   80.966871   111.675336\n",
              "min     40.00000    38.000000       54.00000   42.000000    65.000000\n",
              "25%     99.00000   132.000000       93.25000   87.000000   144.000000\n",
              "50%    127.00000   186.000000      117.00000  122.000000   189.000000\n",
              "75%    164.75000   230.000000      154.75000  178.500000   264.000000\n",
              "max    403.00000  2074.000000     1708.00000  659.000000  1433.000000"
            ],
            "text/html": [
              "\n",
              "  <div id=\"df-517158e3-03fa-46b5-98ba-4f96106eebc2\">\n",
              "    <div class=\"colab-df-container\">\n",
              "      <div>\n",
              "<style scoped>\n",
              "    .dataframe tbody tr th:only-of-type {\n",
              "        vertical-align: middle;\n",
              "    }\n",
              "\n",
              "    .dataframe tbody tr th {\n",
              "        vertical-align: top;\n",
              "    }\n",
              "\n",
              "    .dataframe thead th {\n",
              "        text-align: right;\n",
              "    }\n",
              "</style>\n",
              "<table border=\"1\" class=\"dataframe\">\n",
              "  <thead>\n",
              "    <tr style=\"text-align: right;\">\n",
              "      <th></th>\n",
              "      <th>business</th>\n",
              "      <th>politics</th>\n",
              "      <th>entertainment</th>\n",
              "      <th>sport</th>\n",
              "      <th>tech</th>\n",
              "    </tr>\n",
              "  </thead>\n",
              "  <tbody>\n",
              "    <tr>\n",
              "      <th>count</th>\n",
              "      <td>510.00000</td>\n",
              "      <td>417.000000</td>\n",
              "      <td>386.00000</td>\n",
              "      <td>510.000000</td>\n",
              "      <td>401.000000</td>\n",
              "    </tr>\n",
              "    <tr>\n",
              "      <th>mean</th>\n",
              "      <td>139.94902</td>\n",
              "      <td>195.738609</td>\n",
              "      <td>144.07772</td>\n",
              "      <td>143.194118</td>\n",
              "      <td>213.880299</td>\n",
              "    </tr>\n",
              "    <tr>\n",
              "      <th>std</th>\n",
              "      <td>59.48480</td>\n",
              "      <td>139.855957</td>\n",
              "      <td>124.31821</td>\n",
              "      <td>80.966871</td>\n",
              "      <td>111.675336</td>\n",
              "    </tr>\n",
              "    <tr>\n",
              "      <th>min</th>\n",
              "      <td>40.00000</td>\n",
              "      <td>38.000000</td>\n",
              "      <td>54.00000</td>\n",
              "      <td>42.000000</td>\n",
              "      <td>65.000000</td>\n",
              "    </tr>\n",
              "    <tr>\n",
              "      <th>25%</th>\n",
              "      <td>99.00000</td>\n",
              "      <td>132.000000</td>\n",
              "      <td>93.25000</td>\n",
              "      <td>87.000000</td>\n",
              "      <td>144.000000</td>\n",
              "    </tr>\n",
              "    <tr>\n",
              "      <th>50%</th>\n",
              "      <td>127.00000</td>\n",
              "      <td>186.000000</td>\n",
              "      <td>117.00000</td>\n",
              "      <td>122.000000</td>\n",
              "      <td>189.000000</td>\n",
              "    </tr>\n",
              "    <tr>\n",
              "      <th>75%</th>\n",
              "      <td>164.75000</td>\n",
              "      <td>230.000000</td>\n",
              "      <td>154.75000</td>\n",
              "      <td>178.500000</td>\n",
              "      <td>264.000000</td>\n",
              "    </tr>\n",
              "    <tr>\n",
              "      <th>max</th>\n",
              "      <td>403.00000</td>\n",
              "      <td>2074.000000</td>\n",
              "      <td>1708.00000</td>\n",
              "      <td>659.000000</td>\n",
              "      <td>1433.000000</td>\n",
              "    </tr>\n",
              "  </tbody>\n",
              "</table>\n",
              "</div>\n",
              "      <button class=\"colab-df-convert\" onclick=\"convertToInteractive('df-517158e3-03fa-46b5-98ba-4f96106eebc2')\"\n",
              "              title=\"Convert this dataframe to an interactive table.\"\n",
              "              style=\"display:none;\">\n",
              "        \n",
              "  <svg xmlns=\"http://www.w3.org/2000/svg\" height=\"24px\"viewBox=\"0 0 24 24\"\n",
              "       width=\"24px\">\n",
              "    <path d=\"M0 0h24v24H0V0z\" fill=\"none\"/>\n",
              "    <path d=\"M18.56 5.44l.94 2.06.94-2.06 2.06-.94-2.06-.94-.94-2.06-.94 2.06-2.06.94zm-11 1L8.5 8.5l.94-2.06 2.06-.94-2.06-.94L8.5 2.5l-.94 2.06-2.06.94zm10 10l.94 2.06.94-2.06 2.06-.94-2.06-.94-.94-2.06-.94 2.06-2.06.94z\"/><path d=\"M17.41 7.96l-1.37-1.37c-.4-.4-.92-.59-1.43-.59-.52 0-1.04.2-1.43.59L10.3 9.45l-7.72 7.72c-.78.78-.78 2.05 0 2.83L4 21.41c.39.39.9.59 1.41.59.51 0 1.02-.2 1.41-.59l7.78-7.78 2.81-2.81c.8-.78.8-2.07 0-2.86zM5.41 20L4 18.59l7.72-7.72 1.47 1.35L5.41 20z\"/>\n",
              "  </svg>\n",
              "      </button>\n",
              "      \n",
              "  <style>\n",
              "    .colab-df-container {\n",
              "      display:flex;\n",
              "      flex-wrap:wrap;\n",
              "      gap: 12px;\n",
              "    }\n",
              "\n",
              "    .colab-df-convert {\n",
              "      background-color: #E8F0FE;\n",
              "      border: none;\n",
              "      border-radius: 50%;\n",
              "      cursor: pointer;\n",
              "      display: none;\n",
              "      fill: #1967D2;\n",
              "      height: 32px;\n",
              "      padding: 0 0 0 0;\n",
              "      width: 32px;\n",
              "    }\n",
              "\n",
              "    .colab-df-convert:hover {\n",
              "      background-color: #E2EBFA;\n",
              "      box-shadow: 0px 1px 2px rgba(60, 64, 67, 0.3), 0px 1px 3px 1px rgba(60, 64, 67, 0.15);\n",
              "      fill: #174EA6;\n",
              "    }\n",
              "\n",
              "    [theme=dark] .colab-df-convert {\n",
              "      background-color: #3B4455;\n",
              "      fill: #D2E3FC;\n",
              "    }\n",
              "\n",
              "    [theme=dark] .colab-df-convert:hover {\n",
              "      background-color: #434B5C;\n",
              "      box-shadow: 0px 1px 3px 1px rgba(0, 0, 0, 0.15);\n",
              "      filter: drop-shadow(0px 1px 2px rgba(0, 0, 0, 0.3));\n",
              "      fill: #FFFFFF;\n",
              "    }\n",
              "  </style>\n",
              "\n",
              "      <script>\n",
              "        const buttonEl =\n",
              "          document.querySelector('#df-517158e3-03fa-46b5-98ba-4f96106eebc2 button.colab-df-convert');\n",
              "        buttonEl.style.display =\n",
              "          google.colab.kernel.accessAllowed ? 'block' : 'none';\n",
              "\n",
              "        async function convertToInteractive(key) {\n",
              "          const element = document.querySelector('#df-517158e3-03fa-46b5-98ba-4f96106eebc2');\n",
              "          const dataTable =\n",
              "            await google.colab.kernel.invokeFunction('convertToInteractive',\n",
              "                                                     [key], {});\n",
              "          if (!dataTable) return;\n",
              "\n",
              "          const docLinkHtml = 'Like what you see? Visit the ' +\n",
              "            '<a target=\"_blank\" href=https://colab.research.google.com/notebooks/data_table.ipynb>data table notebook</a>'\n",
              "            + ' to learn more about interactive tables.';\n",
              "          element.innerHTML = '';\n",
              "          dataTable['output_type'] = 'display_data';\n",
              "          await google.colab.output.renderOutput(dataTable, element);\n",
              "          const docLink = document.createElement('div');\n",
              "          docLink.innerHTML = docLinkHtml;\n",
              "          element.appendChild(docLink);\n",
              "        }\n",
              "      </script>\n",
              "    </div>\n",
              "  </div>\n",
              "  "
            ]
          },
          "metadata": {},
          "execution_count": 11
        }
      ],
      "source": [
        "# Number of Words in articles per topic (splitting on \" \")\n",
        "text_lens = get_text_length(summaries_df, \" \")\n",
        "\n",
        "t_lengths = pd.DataFrame(text_lens).transpose()\n",
        "t_lengths.columns = articles_df['label'].unique()\n",
        "\n",
        "# Outliars\n",
        "print(\"99th percentile in Word count: \",np.max(t_lengths.quantile(0.99)))\n",
        "\n",
        "plt.boxplot(text_lens)\n",
        "plt.title('Number of Words in each Article per topic')\n",
        "plt.ylim(np.min(t_lengths.quantile(0)), np.max(t_lengths.quantile(0.99)))\n",
        "plt.xticks([1,2,3,4,5],articles_df['label'].unique(),\n",
        "                    rotation=45, fontsize=8)\n",
        "plt.show()\n",
        "t_lengths.describe()"
      ]
    },
    {
      "cell_type": "markdown",
      "id": "8ff8ce98-5fd0-4205-8ac5-68ef2303d74a",
      "metadata": {
        "id": "8ff8ce98-5fd0-4205-8ac5-68ef2303d74a"
      },
      "source": [
        "Comparing the word counts to the sentance counts we can see the same outliar issue exists as well as sports having less words despite having more sentances implying that sentance length will vary based on the topic."
      ]
    },
    {
      "cell_type": "markdown",
      "id": "1b193bc2-8c71-46a4-abba-734ac1b1e6e9",
      "metadata": {
        "id": "1b193bc2-8c71-46a4-abba-734ac1b1e6e9"
      },
      "source": [
        "### Next looking at the ground truth reduction in word count"
      ]
    },
    {
      "cell_type": "code",
      "execution_count": 12,
      "id": "a8eae84c-aa92-4f3d-a614-58cd08701438",
      "metadata": {
        "colab": {
          "base_uri": "https://localhost:8080/"
        },
        "id": "a8eae84c-aa92-4f3d-a614-58cd08701438",
        "outputId": "6617eeb4-b8af-4eb3-8560-38258ec2d456"
      },
      "outputs": [
        {
          "output_type": "stream",
          "name": "stdout",
          "text": [
            "Average percent reduction in words for ...\n",
            "business summaries: 56.8027%\n",
            "politics summaries: 56.5632%\n",
            "entertainment summaries: 56.0781%\n",
            "sport summaries: 55.5133%\n",
            "tech summaries: 57.2868%\n"
          ]
        }
      ],
      "source": [
        "# Summary length reduction per topic by word count\n",
        "articles_len = get_text_length(articles_df, \" \")\n",
        "summaries_len = get_text_length(summaries_df, \" \")\n",
        "\n",
        "\n",
        "# For each Topic\n",
        "print(\"Average percent reduction in words for ...\")\n",
        "for i,topic in enumerate(articles_df['label'].unique()):\n",
        "    # 1  - ratio of summary to article length\n",
        "    avg_percent_reduction = np.mean(1-np.asarray(summaries_len[i])/np.asarray(articles_len[i]))\n",
        "    print(f\"{topic} summaries: {100*avg_percent_reduction:0.4f}%\")"
      ]
    },
    {
      "cell_type": "markdown",
      "id": "479bf668-3842-45d3-a9fb-3f1c39633b9e",
      "metadata": {
        "id": "479bf668-3842-45d3-a9fb-3f1c39633b9e"
      },
      "source": [
        "From this we see across the board roughly half of the words are dropped in the ground truth summaries implying our model should have a similar dropout rate. This also may indicate classification may be a valid approach to determining whether a sentance should remain in the summary. Running this code over with sentance count reveals a similar trend implying no relationship between sentance length and likelyhood to be in the summmary."
      ]
    },
    {
      "cell_type": "markdown",
      "id": "f4cd6170-cba7-427c-a383-af33c7700032",
      "metadata": {
        "id": "f4cd6170-cba7-427c-a383-af33c7700032"
      },
      "source": [
        "### EDA with common heuristics in NLP"
      ]
    },
    {
      "cell_type": "markdown",
      "id": "f9be1a73-d7b9-4950-b6d8-39d26ae42a83",
      "metadata": {
        "id": "f9be1a73-d7b9-4950-b6d8-39d26ae42a83"
      },
      "source": [
        "In extractive text summarization a common baseline model is to simply take the first few sentances (typically 3) of a peice of text as the summary as writers often introduce their main points in the beggining of articles. We will analyze the effectiveness of this heuristic for the BBC model for possible consideration for a baseline model"
      ]
    },
    {
      "cell_type": "code",
      "execution_count": 13,
      "id": "2c012abe-ab51-4fbd-8c1f-c6e6e13214c5",
      "metadata": {
        "colab": {
          "base_uri": "https://localhost:8080/"
        },
        "id": "2c012abe-ab51-4fbd-8c1f-c6e6e13214c5",
        "outputId": "36550b84-cb82-4204-b427-016af07b5c6a"
      },
      "outputs": [
        {
          "output_type": "stream",
          "name": "stderr",
          "text": [
            "[nltk_data] Downloading package punkt to /root/nltk_data...\n",
            "[nltk_data]   Unzipping tokenizers/punkt.zip.\n"
          ]
        },
        {
          "output_type": "stream",
          "name": "stdout",
          "text": [
            "69.83% Article summaries include the first sentance of the article\n",
            "36.29% Article summaries include the first and second\n",
            "17.81% Article summaries include the first, second, and third\n",
            "7.33% Article summaries include the first, second, third and fourth\n"
          ]
        }
      ],
      "source": [
        "# For regular expression\n",
        "import re\n",
        "# for sentance parsing\n",
        "import nltk\n",
        "nltk.download('punkt')\n",
        "from nltk.tokenize import sent_tokenize\n",
        "\n",
        "# turn each article into a list of sentances\n",
        "def get_sentances(texts_list):\n",
        "    documents = []\n",
        "    for text in texts_list:\n",
        "        documents.append(sent_tokenize(text.replace(\"\\n\\n\",\". \").replace(\".. \",\". \").replace(\".\",\". \").replace(\".  \",\". \")))\n",
        "    return documents\n",
        "    #return [[a.strip() for a in t.replace(\"\\n\\n\",\".\").split(\".\") if a!=''] for t in texts_list]\n",
        "\n",
        "# First sentance inclusion in summary\n",
        "article_sentances = get_sentances(articles_df[\"text\"])\n",
        "summary_sentances = get_sentances(summaries_df[\"text\"])\n",
        "\n",
        "# Check how many sentances (up to the fourth) of the article are in the summary\n",
        "counts = [0]*4\n",
        "for a,s in zip(article_sentances,summary_sentances):\n",
        "    for i in range(len(counts)):\n",
        "        if a[i+1] in s:\n",
        "            counts[i]+=1\n",
        "        else:\n",
        "            break\n",
        "print(f\"{100*counts[0]/len(article_sentances):0.2f}% Article summaries include the first sentance of the article\")\n",
        "print(f\"{100*counts[1]/len(article_sentances):0.2f}% Article summaries include the first and second\")\n",
        "print(f\"{100*counts[2]/len(article_sentances):0.2f}% Article summaries include the first, second, and third\")\n",
        "print(f\"{100*counts[3]/len(article_sentances):0.2f}% Article summaries include the first, second, third and fourth\")"
      ]
    },
    {
      "cell_type": "markdown",
      "id": "37d622d7-f6c3-4ada-bce7-e10c34857f28",
      "metadata": {
        "id": "37d622d7-f6c3-4ada-bce7-e10c34857f28"
      },
      "source": [
        "From this a good baseline model to compare text summarization would simply be to use the first few sentances of each article as the summary. The performance of this method is best with including one to two sentances"
      ]
    },
    {
      "cell_type": "code",
      "execution_count": 14,
      "id": "7c38957b-6429-493a-b31f-1ea048f0cba0",
      "metadata": {
        "id": "7c38957b-6429-493a-b31f-1ea048f0cba0"
      },
      "outputs": [],
      "source": [
        "# Rarity of words used"
      ]
    },
    {
      "cell_type": "code",
      "execution_count": 15,
      "id": "27d90977-ef21-475c-b14d-61ba3fc71d7c",
      "metadata": {
        "colab": {
          "base_uri": "https://localhost:8080/"
        },
        "id": "27d90977-ef21-475c-b14d-61ba3fc71d7c",
        "outputId": "c86e2a65-84d6-437e-8b30-399410fc7ec4"
      },
      "outputs": [
        {
          "output_type": "stream",
          "name": "stderr",
          "text": [
            "[nltk_data] Downloading package stopwords to /root/nltk_data...\n",
            "[nltk_data]   Unzipping corpora/stopwords.zip.\n"
          ]
        }
      ],
      "source": [
        "# Overall use of stop words\n",
        "import nltk\n",
        "nltk.download('stopwords')\n",
        "from nltk.corpus import stopwords\n",
        "\n",
        "# Most common words after stop words"
      ]
    },
    {
      "cell_type": "code",
      "execution_count": 16,
      "id": "4c3aaa44-c47b-4893-9c5d-4dbd34e22ba6",
      "metadata": {
        "id": "4c3aaa44-c47b-4893-9c5d-4dbd34e22ba6"
      },
      "outputs": [],
      "source": [
        "# Additional NLP statistics"
      ]
    },
    {
      "cell_type": "markdown",
      "id": "8014b038-9c79-4ad8-bbcb-b2316a42b480",
      "metadata": {
        "id": "8014b038-9c79-4ad8-bbcb-b2316a42b480"
      },
      "source": [
        "## Base Line Model\n",
        "From the EDA we found that an effective baseline model would be taking the first two sentances of the article as the predicted summary"
      ]
    },
    {
      "cell_type": "code",
      "execution_count": 17,
      "id": "40f90877-6abc-4684-bfa9-ab66e7ae809f",
      "metadata": {
        "colab": {
          "base_uri": "https://localhost:8080/"
        },
        "id": "40f90877-6abc-4684-bfa9-ab66e7ae809f",
        "outputId": "701d62e7-dd13-40f1-8df3-93c912f4037b"
      },
      "outputs": [
        {
          "output_type": "stream",
          "name": "stdout",
          "text": [
            "Example baseline: ['Thousands of slaves were accepted as collateral for loans by two banks that later became part of JP Morgan Chase.', 'The admission is part of an apology sent to JP Morgan staff after the bank researched its links to slavery in order to meet legislation in Chicago.']\n",
            "\n",
            "Example summary: ['Thousands of slaves were accepted as collateral for loans by two banks that later became part of JP Morgan Chase.', 'Citizens Bank and Canal Bank are the two lenders that were identified.', 'The bank said that it is a \"very different company than the Citizens and Canal Banks of the 1800s\".', '\"We apologise to the African-American community, particularly those who are descendants of slaves, and to the rest of the American public for the role that Citizens Bank and Canal Bank played.', '\"The admission is part of an apology sent to JP Morgan staff after the bank researched its links to slavery in order to meet legislation in Chicago.']\n"
          ]
        }
      ],
      "source": [
        "# Each base line prediction is the first two sentaces of the article\n",
        "def base_line_predict(articles_df):\n",
        "    predictions = []\n",
        "    article_sentances = get_sentances(articles_df[\"text\"])\n",
        "    for a in article_sentances:\n",
        "        predictions.append(a[1:3])\n",
        "    return predictions\n",
        "\n",
        "pred = base_line_predict(articles_df)\n",
        "print(f\"Example baseline: {pred[0]}\\n\")\n",
        "print(f\"Example summary: {summary_sentances[0]}\")"
      ]
    },
    {
      "cell_type": "markdown",
      "id": "f5308ace-90a9-4c4e-ad2d-964361b7752f",
      "metadata": {
        "id": "f5308ace-90a9-4c4e-ad2d-964361b7752f"
      },
      "source": [
        "## Preprocessing For Extractive Text Summarization"
      ]
    },
    {
      "cell_type": "code",
      "execution_count": 18,
      "id": "656b44e7-d5b6-4520-966d-48d9726cefc8",
      "metadata": {
        "colab": {
          "base_uri": "https://localhost:8080/"
        },
        "id": "656b44e7-d5b6-4520-966d-48d9726cefc8",
        "outputId": "114aa070-87c2-4697-fb7e-a016677eeb68"
      },
      "outputs": [
        {
          "output_type": "stream",
          "name": "stdout",
          "text": [
            "Percent Complete: 100.00%\n",
            "Matching  labels  1904\n",
            "Total  2224\n",
            "Total Sentances processed 46319\n",
            "18601\n"
          ]
        },
        {
          "output_type": "stream",
          "name": "stderr",
          "text": [
            "/usr/local/lib/python3.8/dist-packages/numpy/core/fromnumeric.py:86: VisibleDeprecationWarning: Creating an ndarray from ragged nested sequences (which is a list-or-tuple of lists-or-tuples-or ndarrays with different lengths or shapes) is deprecated. If you meant to do this, you must specify 'dtype=object' when creating the ndarray.\n",
            "  return ufunc.reduce(obj, axis, dtype, out, **passkwargs)\n"
          ]
        }
      ],
      "source": [
        "from nltk.tokenize import word_tokenize\n",
        "def compare_sentances(sentance_a, sentance_b):\n",
        "    tok_a = word_tokenize(sentance_a)\n",
        "    tok_b = word_tokenize(sentance_b)\n",
        "    matches = 0\n",
        "    for tok in tok_a:\n",
        "        if tok in tok_b:\n",
        "            matches+=1\n",
        "    return float(matches)/len(tok_a)\n",
        "    \n",
        "# Generate Label\n",
        "def generate_labels(articles_df, summaries_df):\n",
        "    article_sentances = get_sentances(articles_df[\"text\"])\n",
        "    summary_sentances = get_sentances(summaries_df[\"text\"])\n",
        "    labels = []\n",
        "    count=0\n",
        "    total_sentances = 0\n",
        "    same = 0\n",
        "    for article,summary in zip(article_sentances,summary_sentances):\n",
        "        sentance_inclusion = []\n",
        "        for sentance_a in article:\n",
        "            if len(sentance_a)<3:\n",
        "                continue\n",
        "            in_summary = False\n",
        "            for sentance_b in summary:\n",
        "                if len(sentance_b)<3:\n",
        "                    continue\n",
        "                percent_match = compare_sentances(sentance_a, sentance_b)\n",
        "                if percent_match > 0.95:\n",
        "                    in_summary=True\n",
        "                    break\n",
        "            total_sentances+=1\n",
        "            if in_summary:\n",
        "                sentance_inclusion.append(1)\n",
        "            else:\n",
        "                sentance_inclusion.append(0)\n",
        "        #print(np.sum(sentance_inclusion), len(summary))\n",
        "        same+=np.sum(sentance_inclusion) == len(summary)\n",
        "        count+=1\n",
        "        print(f\"Percent Complete: {100*count/len(article_sentances):0.2f}%\",end=\"\\r\")\n",
        "        #assert(np.sum(sentance_inclusion) == len(summary))\n",
        "        #print(sentance_inclusion)\n",
        "        labels.append(sentance_inclusion)\n",
        "        #print(article)\n",
        "        #print(summary)\n",
        "        #assert(np.sum(sentance_inclusion) == len(summary))\n",
        "        \n",
        "    #print(total_sentances)\n",
        "    print()\n",
        "    print(\"Matching  labels \",same)\n",
        "    print(\"Total \",len(article_sentances))\n",
        "    print(f\"Total Sentances processed {total_sentances}\")\n",
        "    return labels\n",
        "\n",
        "#print(articles_df[\"text\"][1])\n",
        "y_labels = generate_labels(articles_df, summaries_df) \n",
        "print(np.sum(np.sum(y_labels)))\n",
        "\n",
        "# Expand contractions\n",
        "# lowercase\n",
        "# Remove digits and words containing digits\n",
        "# Remove punctuations\n",
        "# Remove stop words\n",
        "\n",
        "# Remove Contractions and other anomolies\n",
        "\n",
        "# Vectorize sentance"
      ]
    },
    {
      "cell_type": "markdown",
      "id": "3893ece5-30c6-40c6-835c-64c607138cdb",
      "metadata": {
        "id": "3893ece5-30c6-40c6-835c-64c607138cdb"
      },
      "source": [
        "## Preprocessing For Abstractive Text Summarization"
      ]
    },
    {
      "cell_type": "code",
      "execution_count": 36,
      "id": "f6ebf1cc-21a3-41d7-908c-4e064df638f2",
      "metadata": {
        "colab": {
          "base_uri": "https://localhost:8080/",
          "height": 283,
          "referenced_widgets": [
            "6e82fab4666248818c8271dc2997727b",
            "b1c5d2dfeacb4101be24b6332fb26b5c",
            "c8d766e917fe44c9aafe0b2f78114325",
            "8d2fe923be7f4dc6a6a7e47ce0194930",
            "1644357a947a4dc782152b8420cdf10a",
            "da5d7f74b5884b2fada61cdd5aa2fcfc",
            "5db518147f6d4c2cae4c0830a211eca0",
            "ee68ed8390fc46d3bdcdc6b4e50cbeda",
            "90c4228c93584310b22a5e8805708c53",
            "e1362c3daec54ddea55acb4d9a3547d4",
            "68122261929a467fa5244e387c0acf8a"
          ]
        },
        "id": "f6ebf1cc-21a3-41d7-908c-4e064df638f2",
        "outputId": "62c73dac-a34e-4c4d-9b4e-87bd7b8ef36d"
      },
      "outputs": [
        {
          "output_type": "stream",
          "name": "stderr",
          "text": [
            "/usr/local/lib/python3.8/dist-packages/transformers/models/auto/modeling_tf_auto.py:608: FutureWarning: The class `TFAutoModelWithLMHead` is deprecated and will be removed in a future version. Please use `TFAutoModelForCausalLM` for causal language models, `TFAutoModelForMaskedLM` for masked language models and `TFAutoModelForSeq2SeqLM` for encoder-decoder models.\n",
            "  warnings.warn(\n"
          ]
        },
        {
          "output_type": "display_data",
          "data": {
            "text/plain": [
              "Downloading:   0%|          | 0.00/242M [00:00<?, ?B/s]"
            ],
            "application/vnd.jupyter.widget-view+json": {
              "version_major": 2,
              "version_minor": 0,
              "model_id": "6e82fab4666248818c8271dc2997727b"
            }
          },
          "metadata": {}
        },
        {
          "output_type": "stream",
          "name": "stderr",
          "text": [
            "All model checkpoint layers were used when initializing TFT5ForConditionalGeneration.\n",
            "\n",
            "All the layers of TFT5ForConditionalGeneration were initialized from the model checkpoint at t5-small.\n",
            "If your task is similar to the task the model of the checkpoint was trained on, you can already use TFT5ForConditionalGeneration for predictions without further training.\n",
            "/usr/local/lib/python3.8/dist-packages/transformers/models/t5/tokenization_t5_fast.py:155: FutureWarning: This tokenizer was incorrectly instantiated with a model max length of 512 which will be corrected in Transformers v5.\n",
            "For now, this behavior is kept to avoid breaking backwards compatibility when padding/encoding with `truncation is True`.\n",
            "- Be aware that you SHOULD NOT rely on t5-small automatically truncating your input to 512 when padding/encoding.\n",
            "- If you want to encode/pad to sequences longer than 512 you can either instantiate this tokenizer with `model_max_length` or pass `max_length` when encoding/padding.\n",
            "- To avoid this warning, please instantiate this tokenizer with `model_max_length` set to your preferred value.\n",
            "  warnings.warn(\n"
          ]
        }
      ],
      "source": [
        "# Import tokenizer from pretrained model\n",
        "from transformers import AutoTokenizer, TFAutoModelWithLMHead, AutoModelForSeq2SeqLM\n",
        "\n",
        "model_name = \"t5-small\"\n",
        "\n",
        "model = TFAutoModelWithLMHead.from_pretrained(model_name)\n",
        "tokenizer = AutoTokenizer.from_pretrained(model_name)"
      ]
    },
    {
      "cell_type": "code",
      "execution_count": 20,
      "id": "9f99486a-c171-4e14-aa47-bb5d132b9b83",
      "metadata": {
        "id": "9f99486a-c171-4e14-aa47-bb5d132b9b83"
      },
      "outputs": [],
      "source": [
        "# MAX_INPUT_LENGTH = 512\n",
        "# MAX_TARGET_LENGTH = 30\n",
        "\n",
        "# def preprocess_function(article, summary):\n",
        "#     model_inputs = tokenizer(\n",
        "#         article,\n",
        "#         max_length=MAX_INPUT_LENGTH,\n",
        "#         truncation=True\n",
        "#     )\n",
        "#     labels = tokenizer(\n",
        "#         summary,\n",
        "#         max_length=MAX_TARGET_LENGTH,\n",
        "#         truncation=True\n",
        "#     )\n",
        "#     #model_inputs[\"labels\"] = articles[\"labels\"]\n",
        "#     return model_inputs\n",
        "\n",
        "# for i in range(articles_df.shape[0]):\n",
        "#     result = preprocess_function(articles_df[\"text\"][0], summaries_df[\"text\"][0])"
      ]
    },
    {
      "cell_type": "code",
      "source": [
        "def abstract_tokenize(tokenizer, input_data):\n",
        "  inputs = []\n",
        "\n",
        "  for i in range(input_data.shape[0]):\n",
        "    inputs.append(tokenizer.encode(\"summarize: \" + input_data[\"text\"][i], # required prefix\n",
        "                              return_tensors = \"tf\",\n",
        "                              max_length = 512, # required max_length\n",
        "                              truncation = True))\n",
        "\n",
        "  # readout\n",
        "  print(\"Tokenized\", len(inputs), \"entries\")\n",
        "  print()\n",
        "  print(\"Sample tokenized input:\")\n",
        "  print(inputs[0])\n",
        "\n",
        "  return inputs"
      ],
      "metadata": {
        "id": "DTG-NbrBnL1l"
      },
      "id": "DTG-NbrBnL1l",
      "execution_count": 114,
      "outputs": []
    },
    {
      "cell_type": "code",
      "source": [
        "tokenized_array = abstract_tokenize(tokenizer, articles_df)"
      ],
      "metadata": {
        "colab": {
          "base_uri": "https://localhost:8080/"
        },
        "id": "Z0W-3t3kuS4_",
        "outputId": "2f956499-fb74-47ba-9417-a1b12b38daf1"
      },
      "id": "Z0W-3t3kuS4_",
      "execution_count": 115,
      "outputs": [
        {
          "output_type": "stream",
          "name": "stdout",
          "text": [
            "Tokenized 2224 entries\n",
            "\n",
            "Sample tokenized input:\n",
            "tf.Tensor(\n",
            "[[21603    10   446   345 11147  6264     7   837 25686  2416     3 29541\n",
            "     13 15484     7   130  4307    38 25028    21  4724    57   192  5028\n",
            "     24   865  1632   294    13   446   345 11147 17096     5    37  7209\n",
            "     19   294    13    46 30430  1622    12   446   345 11147   871   227\n",
            "      8  2137 24172   165  2416    12 25686    16   455    12   942  6704\n",
            "     16  3715     5 22540  1925    11 18565  1925    33     8   192 14813\n",
            "     24   130  4313     5   328    33   230  3168     6    68   130  5229\n",
            "     12  1925   555     6    84   446   345 11147  2944   336   215     5\n",
            "   4504   209 11212 15484     7   130   261    38  2289 25028   344   507\n",
            "   3341    11   507  4122     5  2070    13  4647     7    57  1475   257\n",
            "   2713     6 22540    11 18565  3492    95   293    53    81  1914 11434\n",
            "  15484     7     5    96  1326    66   214 25686 16415    16    69   684\n",
            "      6    68    34    19   882   315    12   217   149    69   892    11\n",
            "      8  6568    13 25686   130  1413    17  3757    15    26   976   446\n",
            "    345 11147  5752  4297  4599 20429    11  5752  2699  5502  2549 18150\n",
            "    106   243    16     8  2068     5    96   134   521  8461    47 17414\n",
            "   1427     3    53 10761    16   797  2710     6    68    24    19   150\n",
            "  10553   535    96  1326     3     9   102 11697     7    15    12     8\n",
            "   3850    18  8778   573     6  1989   273   113    33 28962    13 15484\n",
            "      7     6    11    12     8   880    13     8   797   452    21     8\n",
            "   1075    24 22540  1925    11 18565  1925  1944   535    96   634 25686\n",
            "      3  1498    47     3     9 17414    97    16   837   892    11    16\n",
            "     69   349    31     7   892   535   446   345 11147   243    24    34\n",
            "     47  1898    95     3     9  6422    51 10946  2486    21   481   840\n",
            "     16 15625     6     8   538   213     8   984   808   286     5    37\n",
            "   2137   243    24    34    19     3     9    96  8461   315   349   145\n",
            "      8 22540    11 18565  1925     7    13     8 17737     7  1280     1]], shape=(1, 324), dtype=int32)\n"
          ]
        }
      ]
    },
    {
      "cell_type": "markdown",
      "source": [
        "## Abstractive Text Summarization (with T5-Small)"
      ],
      "metadata": {
        "id": "TA3ERLAirdtR"
      },
      "id": "TA3ERLAirdtR"
    },
    {
      "cell_type": "code",
      "source": [
        "def abstract_summarize(model, tokenized_input):\n",
        "  outputs = []\n",
        "\n",
        "  for i in range(len(tokenized_input)):\n",
        "    outputs.append(model.generate(tokenized_input[i],\n",
        "                            max_length=200,\n",
        "                            min_length=30,\n",
        "                            length_penalty=2.0,\n",
        "                            num_beams=2,\n",
        "                            early_stopping=True,\n",
        "                            no_repeat_ngram_size=3))\n",
        "\n",
        "  # readout\n",
        "  print(\"Summarized\", len(outputs), \"entries\")\n",
        "\n",
        "  return outputs"
      ],
      "metadata": {
        "id": "r6_1SqzGrUDF"
      },
      "id": "r6_1SqzGrUDF",
      "execution_count": 140,
      "outputs": []
    },
    {
      "cell_type": "code",
      "source": [
        "def abstract_prediction(tokenizer, summarized_input):\n",
        "  prediction = []\n",
        "\n",
        "  for i in range(len(summarized_input)):\n",
        "    prediction.append([tokenizer.decode(token,\n",
        "                                  skip_special_tokens=True,\n",
        "                                  clean_up_tokenization_spaces=True)\n",
        "                                  for token in summarized_input[i]])\n",
        "\n",
        "  # readout\n",
        "  print(\"Decoded\", len(prediction), \"predicted summaries\")\n",
        "\n",
        "  print()\n",
        "  print(\"Sample article:\")\n",
        "  print(summaries_df[\"text\"][0])\n",
        "\n",
        "  print()\n",
        "  print(\"Sample prediction:\")\n",
        "  print(prediction[0][0])\n",
        "\n",
        "  return prediction"
      ],
      "metadata": {
        "id": "MiSZ48i7rTrc"
      },
      "id": "MiSZ48i7rTrc",
      "execution_count": 147,
      "outputs": []
    },
    {
      "cell_type": "code",
      "source": [
        "summarized_array = abstract_summarize(model, tokenized_array[:5])"
      ],
      "metadata": {
        "colab": {
          "base_uri": "https://localhost:8080/"
        },
        "id": "fjxbBT7DsenN",
        "outputId": "659a17d1-bb4d-4ae8-a736-3ea335ff393b"
      },
      "id": "fjxbBT7DsenN",
      "execution_count": 141,
      "outputs": [
        {
          "output_type": "stream",
          "name": "stdout",
          "text": [
            "Summarized 5 entries\n"
          ]
        }
      ]
    },
    {
      "cell_type": "code",
      "source": [
        "prediction_array = abstract_prediction(tokenizer, summarized_array)"
      ],
      "metadata": {
        "colab": {
          "base_uri": "https://localhost:8080/"
        },
        "id": "MAaHrnhP2TJ8",
        "outputId": "1e99caa0-c242-4530-f34f-b2ae122cef48"
      },
      "id": "MAaHrnhP2TJ8",
      "execution_count": 148,
      "outputs": [
        {
          "output_type": "stream",
          "name": "stdout",
          "text": [
            "Decoded 5 predicted summaries\n",
            "\n",
            "Sample article:\n",
            "Thousands of slaves were accepted as collateral for loans by two banks that later became part of JP Morgan Chase.Citizens Bank and Canal Bank are the two lenders that were identified.The bank said that it is a \"very different company than the Citizens and Canal Banks of the 1800s\".\"We apologise to the African-American community, particularly those who are descendants of slaves, and to the rest of the American public for the role that Citizens Bank and Canal Bank played.\"The admission is part of an apology sent to JP Morgan staff after the bank researched its links to slavery in order to meet legislation in Chicago.\n",
            "\n",
            "Sample prediction:\n",
            "the admission is part of an apology sent to staff after the bank researched its links to slavery. about 13,000 slaves were used as loan collateral between 1831 and 1865. the bank said it is a \"very different company than the Citizens and Canal Banks of the 1800s\"\n"
          ]
        }
      ]
    }
  ],
  "metadata": {
    "kernelspec": {
      "display_name": "Python 3 (ipykernel)",
      "language": "python",
      "name": "python3"
    },
    "language_info": {
      "codemirror_mode": {
        "name": "ipython",
        "version": 3
      },
      "file_extension": ".py",
      "mimetype": "text/x-python",
      "name": "python",
      "nbconvert_exporter": "python",
      "pygments_lexer": "ipython3",
      "version": "3.8.13"
    },
    "colab": {
      "provenance": [],
      "include_colab_link": true
    },
    "accelerator": "GPU",
    "gpuClass": "standard",
    "widgets": {
      "application/vnd.jupyter.widget-state+json": {
        "6e82fab4666248818c8271dc2997727b": {
          "model_module": "@jupyter-widgets/controls",
          "model_name": "HBoxModel",
          "model_module_version": "1.5.0",
          "state": {
            "_dom_classes": [],
            "_model_module": "@jupyter-widgets/controls",
            "_model_module_version": "1.5.0",
            "_model_name": "HBoxModel",
            "_view_count": null,
            "_view_module": "@jupyter-widgets/controls",
            "_view_module_version": "1.5.0",
            "_view_name": "HBoxView",
            "box_style": "",
            "children": [
              "IPY_MODEL_b1c5d2dfeacb4101be24b6332fb26b5c",
              "IPY_MODEL_c8d766e917fe44c9aafe0b2f78114325",
              "IPY_MODEL_8d2fe923be7f4dc6a6a7e47ce0194930"
            ],
            "layout": "IPY_MODEL_1644357a947a4dc782152b8420cdf10a"
          }
        },
        "b1c5d2dfeacb4101be24b6332fb26b5c": {
          "model_module": "@jupyter-widgets/controls",
          "model_name": "HTMLModel",
          "model_module_version": "1.5.0",
          "state": {
            "_dom_classes": [],
            "_model_module": "@jupyter-widgets/controls",
            "_model_module_version": "1.5.0",
            "_model_name": "HTMLModel",
            "_view_count": null,
            "_view_module": "@jupyter-widgets/controls",
            "_view_module_version": "1.5.0",
            "_view_name": "HTMLView",
            "description": "",
            "description_tooltip": null,
            "layout": "IPY_MODEL_da5d7f74b5884b2fada61cdd5aa2fcfc",
            "placeholder": "​",
            "style": "IPY_MODEL_5db518147f6d4c2cae4c0830a211eca0",
            "value": "Downloading: 100%"
          }
        },
        "c8d766e917fe44c9aafe0b2f78114325": {
          "model_module": "@jupyter-widgets/controls",
          "model_name": "FloatProgressModel",
          "model_module_version": "1.5.0",
          "state": {
            "_dom_classes": [],
            "_model_module": "@jupyter-widgets/controls",
            "_model_module_version": "1.5.0",
            "_model_name": "FloatProgressModel",
            "_view_count": null,
            "_view_module": "@jupyter-widgets/controls",
            "_view_module_version": "1.5.0",
            "_view_name": "ProgressView",
            "bar_style": "success",
            "description": "",
            "description_tooltip": null,
            "layout": "IPY_MODEL_ee68ed8390fc46d3bdcdc6b4e50cbeda",
            "max": 242303832,
            "min": 0,
            "orientation": "horizontal",
            "style": "IPY_MODEL_90c4228c93584310b22a5e8805708c53",
            "value": 242303832
          }
        },
        "8d2fe923be7f4dc6a6a7e47ce0194930": {
          "model_module": "@jupyter-widgets/controls",
          "model_name": "HTMLModel",
          "model_module_version": "1.5.0",
          "state": {
            "_dom_classes": [],
            "_model_module": "@jupyter-widgets/controls",
            "_model_module_version": "1.5.0",
            "_model_name": "HTMLModel",
            "_view_count": null,
            "_view_module": "@jupyter-widgets/controls",
            "_view_module_version": "1.5.0",
            "_view_name": "HTMLView",
            "description": "",
            "description_tooltip": null,
            "layout": "IPY_MODEL_e1362c3daec54ddea55acb4d9a3547d4",
            "placeholder": "​",
            "style": "IPY_MODEL_68122261929a467fa5244e387c0acf8a",
            "value": " 242M/242M [00:03&lt;00:00, 74.4MB/s]"
          }
        },
        "1644357a947a4dc782152b8420cdf10a": {
          "model_module": "@jupyter-widgets/base",
          "model_name": "LayoutModel",
          "model_module_version": "1.2.0",
          "state": {
            "_model_module": "@jupyter-widgets/base",
            "_model_module_version": "1.2.0",
            "_model_name": "LayoutModel",
            "_view_count": null,
            "_view_module": "@jupyter-widgets/base",
            "_view_module_version": "1.2.0",
            "_view_name": "LayoutView",
            "align_content": null,
            "align_items": null,
            "align_self": null,
            "border": null,
            "bottom": null,
            "display": null,
            "flex": null,
            "flex_flow": null,
            "grid_area": null,
            "grid_auto_columns": null,
            "grid_auto_flow": null,
            "grid_auto_rows": null,
            "grid_column": null,
            "grid_gap": null,
            "grid_row": null,
            "grid_template_areas": null,
            "grid_template_columns": null,
            "grid_template_rows": null,
            "height": null,
            "justify_content": null,
            "justify_items": null,
            "left": null,
            "margin": null,
            "max_height": null,
            "max_width": null,
            "min_height": null,
            "min_width": null,
            "object_fit": null,
            "object_position": null,
            "order": null,
            "overflow": null,
            "overflow_x": null,
            "overflow_y": null,
            "padding": null,
            "right": null,
            "top": null,
            "visibility": null,
            "width": null
          }
        },
        "da5d7f74b5884b2fada61cdd5aa2fcfc": {
          "model_module": "@jupyter-widgets/base",
          "model_name": "LayoutModel",
          "model_module_version": "1.2.0",
          "state": {
            "_model_module": "@jupyter-widgets/base",
            "_model_module_version": "1.2.0",
            "_model_name": "LayoutModel",
            "_view_count": null,
            "_view_module": "@jupyter-widgets/base",
            "_view_module_version": "1.2.0",
            "_view_name": "LayoutView",
            "align_content": null,
            "align_items": null,
            "align_self": null,
            "border": null,
            "bottom": null,
            "display": null,
            "flex": null,
            "flex_flow": null,
            "grid_area": null,
            "grid_auto_columns": null,
            "grid_auto_flow": null,
            "grid_auto_rows": null,
            "grid_column": null,
            "grid_gap": null,
            "grid_row": null,
            "grid_template_areas": null,
            "grid_template_columns": null,
            "grid_template_rows": null,
            "height": null,
            "justify_content": null,
            "justify_items": null,
            "left": null,
            "margin": null,
            "max_height": null,
            "max_width": null,
            "min_height": null,
            "min_width": null,
            "object_fit": null,
            "object_position": null,
            "order": null,
            "overflow": null,
            "overflow_x": null,
            "overflow_y": null,
            "padding": null,
            "right": null,
            "top": null,
            "visibility": null,
            "width": null
          }
        },
        "5db518147f6d4c2cae4c0830a211eca0": {
          "model_module": "@jupyter-widgets/controls",
          "model_name": "DescriptionStyleModel",
          "model_module_version": "1.5.0",
          "state": {
            "_model_module": "@jupyter-widgets/controls",
            "_model_module_version": "1.5.0",
            "_model_name": "DescriptionStyleModel",
            "_view_count": null,
            "_view_module": "@jupyter-widgets/base",
            "_view_module_version": "1.2.0",
            "_view_name": "StyleView",
            "description_width": ""
          }
        },
        "ee68ed8390fc46d3bdcdc6b4e50cbeda": {
          "model_module": "@jupyter-widgets/base",
          "model_name": "LayoutModel",
          "model_module_version": "1.2.0",
          "state": {
            "_model_module": "@jupyter-widgets/base",
            "_model_module_version": "1.2.0",
            "_model_name": "LayoutModel",
            "_view_count": null,
            "_view_module": "@jupyter-widgets/base",
            "_view_module_version": "1.2.0",
            "_view_name": "LayoutView",
            "align_content": null,
            "align_items": null,
            "align_self": null,
            "border": null,
            "bottom": null,
            "display": null,
            "flex": null,
            "flex_flow": null,
            "grid_area": null,
            "grid_auto_columns": null,
            "grid_auto_flow": null,
            "grid_auto_rows": null,
            "grid_column": null,
            "grid_gap": null,
            "grid_row": null,
            "grid_template_areas": null,
            "grid_template_columns": null,
            "grid_template_rows": null,
            "height": null,
            "justify_content": null,
            "justify_items": null,
            "left": null,
            "margin": null,
            "max_height": null,
            "max_width": null,
            "min_height": null,
            "min_width": null,
            "object_fit": null,
            "object_position": null,
            "order": null,
            "overflow": null,
            "overflow_x": null,
            "overflow_y": null,
            "padding": null,
            "right": null,
            "top": null,
            "visibility": null,
            "width": null
          }
        },
        "90c4228c93584310b22a5e8805708c53": {
          "model_module": "@jupyter-widgets/controls",
          "model_name": "ProgressStyleModel",
          "model_module_version": "1.5.0",
          "state": {
            "_model_module": "@jupyter-widgets/controls",
            "_model_module_version": "1.5.0",
            "_model_name": "ProgressStyleModel",
            "_view_count": null,
            "_view_module": "@jupyter-widgets/base",
            "_view_module_version": "1.2.0",
            "_view_name": "StyleView",
            "bar_color": null,
            "description_width": ""
          }
        },
        "e1362c3daec54ddea55acb4d9a3547d4": {
          "model_module": "@jupyter-widgets/base",
          "model_name": "LayoutModel",
          "model_module_version": "1.2.0",
          "state": {
            "_model_module": "@jupyter-widgets/base",
            "_model_module_version": "1.2.0",
            "_model_name": "LayoutModel",
            "_view_count": null,
            "_view_module": "@jupyter-widgets/base",
            "_view_module_version": "1.2.0",
            "_view_name": "LayoutView",
            "align_content": null,
            "align_items": null,
            "align_self": null,
            "border": null,
            "bottom": null,
            "display": null,
            "flex": null,
            "flex_flow": null,
            "grid_area": null,
            "grid_auto_columns": null,
            "grid_auto_flow": null,
            "grid_auto_rows": null,
            "grid_column": null,
            "grid_gap": null,
            "grid_row": null,
            "grid_template_areas": null,
            "grid_template_columns": null,
            "grid_template_rows": null,
            "height": null,
            "justify_content": null,
            "justify_items": null,
            "left": null,
            "margin": null,
            "max_height": null,
            "max_width": null,
            "min_height": null,
            "min_width": null,
            "object_fit": null,
            "object_position": null,
            "order": null,
            "overflow": null,
            "overflow_x": null,
            "overflow_y": null,
            "padding": null,
            "right": null,
            "top": null,
            "visibility": null,
            "width": null
          }
        },
        "68122261929a467fa5244e387c0acf8a": {
          "model_module": "@jupyter-widgets/controls",
          "model_name": "DescriptionStyleModel",
          "model_module_version": "1.5.0",
          "state": {
            "_model_module": "@jupyter-widgets/controls",
            "_model_module_version": "1.5.0",
            "_model_name": "DescriptionStyleModel",
            "_view_count": null,
            "_view_module": "@jupyter-widgets/base",
            "_view_module_version": "1.2.0",
            "_view_name": "StyleView",
            "description_width": ""
          }
        }
      }
    }
  },
  "nbformat": 4,
  "nbformat_minor": 5
}