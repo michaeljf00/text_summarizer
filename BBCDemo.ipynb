{
 "cells": [
  {
   "cell_type": "code",
   "execution_count": 1,
   "id": "98d9b836-1ae5-4e73-bd8f-ce5ce1fccf1f",
   "metadata": {},
   "outputs": [
    {
     "name": "stdout",
     "output_type": "stream",
     "text": [
      "Requirement already satisfied: numpy in /home/nelly/.local/share/virtualenvs/Fall-U4moqXgd/lib/python3.8/site-packages (1.23.4)\n",
      "Requirement already satisfied: pandas in /home/nelly/.local/share/virtualenvs/Fall-U4moqXgd/lib/python3.8/site-packages (1.5.2)\n",
      "Requirement already satisfied: nltk in /home/nelly/.local/share/virtualenvs/Fall-U4moqXgd/lib/python3.8/site-packages (3.7)\n",
      "Collecting tensorflow-cpu\n",
      "  Downloading tensorflow_cpu-2.11.0-cp38-cp38-manylinux_2_17_x86_64.manylinux2014_x86_64.whl (221.4 MB)\n",
      "\u001b[K     |████████████████████████████████| 221.4 MB 232 kB/s  eta 0:00:01   |████████▏                       | 56.1 MB 6.8 MB/s eta 0:00:25\n",
      "\u001b[?25hRequirement already satisfied: matplotlib in /home/nelly/.local/share/virtualenvs/Fall-U4moqXgd/lib/python3.8/site-packages (3.6.2)\n",
      "Requirement already satisfied: pytz>=2020.1 in /home/nelly/.local/share/virtualenvs/Fall-U4moqXgd/lib/python3.8/site-packages (from pandas) (2022.6)\n",
      "Requirement already satisfied: python-dateutil>=2.8.1 in /home/nelly/.local/share/virtualenvs/Fall-U4moqXgd/lib/python3.8/site-packages (from pandas) (2.8.2)\n",
      "Requirement already satisfied: tqdm in /home/nelly/.local/share/virtualenvs/Fall-U4moqXgd/lib/python3.8/site-packages (from nltk) (4.64.1)\n",
      "Requirement already satisfied: joblib in /home/nelly/.local/share/virtualenvs/Fall-U4moqXgd/lib/python3.8/site-packages (from nltk) (1.2.0)\n",
      "Requirement already satisfied: regex>=2021.8.3 in /home/nelly/.local/share/virtualenvs/Fall-U4moqXgd/lib/python3.8/site-packages (from nltk) (2022.10.31)\n",
      "Requirement already satisfied: click in /home/nelly/.local/share/virtualenvs/Fall-U4moqXgd/lib/python3.8/site-packages (from nltk) (8.1.3)\n",
      "Requirement already satisfied: termcolor>=1.1.0 in /home/nelly/.local/share/virtualenvs/Fall-U4moqXgd/lib/python3.8/site-packages (from tensorflow-cpu) (2.1.1)\n",
      "Requirement already satisfied: setuptools in /home/nelly/.local/share/virtualenvs/Fall-U4moqXgd/lib/python3.8/site-packages (from tensorflow-cpu) (44.0.0)\n",
      "Requirement already satisfied: h5py>=2.9.0 in /home/nelly/.local/share/virtualenvs/Fall-U4moqXgd/lib/python3.8/site-packages (from tensorflow-cpu) (3.7.0)\n",
      "Requirement already satisfied: libclang>=13.0.0 in /home/nelly/.local/share/virtualenvs/Fall-U4moqXgd/lib/python3.8/site-packages (from tensorflow-cpu) (14.0.6)\n",
      "Requirement already satisfied: opt-einsum>=2.3.2 in /home/nelly/.local/share/virtualenvs/Fall-U4moqXgd/lib/python3.8/site-packages (from tensorflow-cpu) (3.3.0)\n",
      "Requirement already satisfied: tensorboard<2.12,>=2.11 in /home/nelly/.local/share/virtualenvs/Fall-U4moqXgd/lib/python3.8/site-packages (from tensorflow-cpu) (2.11.0)\n",
      "Requirement already satisfied: tensorflow-estimator<2.12,>=2.11.0 in /home/nelly/.local/share/virtualenvs/Fall-U4moqXgd/lib/python3.8/site-packages (from tensorflow-cpu) (2.11.0)\n",
      "Requirement already satisfied: tensorflow-io-gcs-filesystem>=0.23.1; platform_machine != \"arm64\" or platform_system != \"Darwin\" in /home/nelly/.local/share/virtualenvs/Fall-U4moqXgd/lib/python3.8/site-packages (from tensorflow-cpu) (0.28.0)\n",
      "Requirement already satisfied: wrapt>=1.11.0 in /home/nelly/.local/share/virtualenvs/Fall-U4moqXgd/lib/python3.8/site-packages (from tensorflow-cpu) (1.14.1)\n",
      "Requirement already satisfied: flatbuffers>=2.0 in /home/nelly/.local/share/virtualenvs/Fall-U4moqXgd/lib/python3.8/site-packages (from tensorflow-cpu) (22.11.23)\n",
      "Requirement already satisfied: typing-extensions>=3.6.6 in /home/nelly/.local/share/virtualenvs/Fall-U4moqXgd/lib/python3.8/site-packages (from tensorflow-cpu) (4.4.0)\n",
      "Requirement already satisfied: six>=1.12.0 in /home/nelly/.local/share/virtualenvs/Fall-U4moqXgd/lib/python3.8/site-packages (from tensorflow-cpu) (1.16.0)\n",
      "Requirement already satisfied: packaging in /home/nelly/.local/share/virtualenvs/Fall-U4moqXgd/lib/python3.8/site-packages (from tensorflow-cpu) (21.3)\n",
      "Requirement already satisfied: grpcio<2.0,>=1.24.3 in /home/nelly/.local/share/virtualenvs/Fall-U4moqXgd/lib/python3.8/site-packages (from tensorflow-cpu) (1.51.1)\n",
      "Requirement already satisfied: absl-py>=1.0.0 in /home/nelly/.local/share/virtualenvs/Fall-U4moqXgd/lib/python3.8/site-packages (from tensorflow-cpu) (1.3.0)\n",
      "Requirement already satisfied: keras<2.12,>=2.11.0 in /home/nelly/.local/share/virtualenvs/Fall-U4moqXgd/lib/python3.8/site-packages (from tensorflow-cpu) (2.11.0)\n",
      "Requirement already satisfied: google-pasta>=0.1.1 in /home/nelly/.local/share/virtualenvs/Fall-U4moqXgd/lib/python3.8/site-packages (from tensorflow-cpu) (0.2.0)\n",
      "Requirement already satisfied: protobuf<3.20,>=3.9.2 in /home/nelly/.local/share/virtualenvs/Fall-U4moqXgd/lib/python3.8/site-packages (from tensorflow-cpu) (3.19.6)\n",
      "Requirement already satisfied: gast<=0.4.0,>=0.2.1 in /home/nelly/.local/share/virtualenvs/Fall-U4moqXgd/lib/python3.8/site-packages (from tensorflow-cpu) (0.4.0)\n",
      "Requirement already satisfied: astunparse>=1.6.0 in /home/nelly/.local/share/virtualenvs/Fall-U4moqXgd/lib/python3.8/site-packages (from tensorflow-cpu) (1.6.3)\n",
      "Requirement already satisfied: pyparsing>=2.2.1 in /home/nelly/.local/share/virtualenvs/Fall-U4moqXgd/lib/python3.8/site-packages (from matplotlib) (3.0.9)\n",
      "Requirement already satisfied: kiwisolver>=1.0.1 in /home/nelly/.local/share/virtualenvs/Fall-U4moqXgd/lib/python3.8/site-packages (from matplotlib) (1.4.4)\n",
      "Requirement already satisfied: cycler>=0.10 in /home/nelly/.local/share/virtualenvs/Fall-U4moqXgd/lib/python3.8/site-packages (from matplotlib) (0.11.0)\n",
      "Requirement already satisfied: pillow>=6.2.0 in /home/nelly/.local/share/virtualenvs/Fall-U4moqXgd/lib/python3.8/site-packages (from matplotlib) (9.3.0)\n",
      "Requirement already satisfied: contourpy>=1.0.1 in /home/nelly/.local/share/virtualenvs/Fall-U4moqXgd/lib/python3.8/site-packages (from matplotlib) (1.0.6)\n",
      "Requirement already satisfied: fonttools>=4.22.0 in /home/nelly/.local/share/virtualenvs/Fall-U4moqXgd/lib/python3.8/site-packages (from matplotlib) (4.38.0)\n",
      "Requirement already satisfied: google-auth<3,>=1.6.3 in /home/nelly/.local/share/virtualenvs/Fall-U4moqXgd/lib/python3.8/site-packages (from tensorboard<2.12,>=2.11->tensorflow-cpu) (2.15.0)\n",
      "Requirement already satisfied: requests<3,>=2.21.0 in /home/nelly/.local/share/virtualenvs/Fall-U4moqXgd/lib/python3.8/site-packages (from tensorboard<2.12,>=2.11->tensorflow-cpu) (2.28.1)\n",
      "Requirement already satisfied: wheel>=0.26 in /home/nelly/.local/share/virtualenvs/Fall-U4moqXgd/lib/python3.8/site-packages (from tensorboard<2.12,>=2.11->tensorflow-cpu) (0.34.2)\n",
      "Requirement already satisfied: google-auth-oauthlib<0.5,>=0.4.1 in /home/nelly/.local/share/virtualenvs/Fall-U4moqXgd/lib/python3.8/site-packages (from tensorboard<2.12,>=2.11->tensorflow-cpu) (0.4.6)\n",
      "Requirement already satisfied: werkzeug>=1.0.1 in /home/nelly/.local/share/virtualenvs/Fall-U4moqXgd/lib/python3.8/site-packages (from tensorboard<2.12,>=2.11->tensorflow-cpu) (2.2.2)\n",
      "Requirement already satisfied: markdown>=2.6.8 in /home/nelly/.local/share/virtualenvs/Fall-U4moqXgd/lib/python3.8/site-packages (from tensorboard<2.12,>=2.11->tensorflow-cpu) (3.4.1)\n",
      "Requirement already satisfied: tensorboard-plugin-wit>=1.6.0 in /home/nelly/.local/share/virtualenvs/Fall-U4moqXgd/lib/python3.8/site-packages (from tensorboard<2.12,>=2.11->tensorflow-cpu) (1.8.1)\n",
      "Requirement already satisfied: tensorboard-data-server<0.7.0,>=0.6.0 in /home/nelly/.local/share/virtualenvs/Fall-U4moqXgd/lib/python3.8/site-packages (from tensorboard<2.12,>=2.11->tensorflow-cpu) (0.6.1)\n",
      "Requirement already satisfied: rsa<5,>=3.1.4; python_version >= \"3.6\" in /home/nelly/.local/share/virtualenvs/Fall-U4moqXgd/lib/python3.8/site-packages (from google-auth<3,>=1.6.3->tensorboard<2.12,>=2.11->tensorflow-cpu) (4.9)\n",
      "Requirement already satisfied: pyasn1-modules>=0.2.1 in /home/nelly/.local/share/virtualenvs/Fall-U4moqXgd/lib/python3.8/site-packages (from google-auth<3,>=1.6.3->tensorboard<2.12,>=2.11->tensorflow-cpu) (0.2.8)\n",
      "Requirement already satisfied: cachetools<6.0,>=2.0.0 in /home/nelly/.local/share/virtualenvs/Fall-U4moqXgd/lib/python3.8/site-packages (from google-auth<3,>=1.6.3->tensorboard<2.12,>=2.11->tensorflow-cpu) (5.2.0)\n",
      "Requirement already satisfied: urllib3<1.27,>=1.21.1 in /home/nelly/.local/share/virtualenvs/Fall-U4moqXgd/lib/python3.8/site-packages (from requests<3,>=2.21.0->tensorboard<2.12,>=2.11->tensorflow-cpu) (1.26.12)\n",
      "Requirement already satisfied: idna<4,>=2.5 in /home/nelly/.local/share/virtualenvs/Fall-U4moqXgd/lib/python3.8/site-packages (from requests<3,>=2.21.0->tensorboard<2.12,>=2.11->tensorflow-cpu) (3.4)\n",
      "Requirement already satisfied: charset-normalizer<3,>=2 in /home/nelly/.local/share/virtualenvs/Fall-U4moqXgd/lib/python3.8/site-packages (from requests<3,>=2.21.0->tensorboard<2.12,>=2.11->tensorflow-cpu) (2.1.1)\n",
      "Requirement already satisfied: certifi>=2017.4.17 in /home/nelly/.local/share/virtualenvs/Fall-U4moqXgd/lib/python3.8/site-packages (from requests<3,>=2.21.0->tensorboard<2.12,>=2.11->tensorflow-cpu) (2022.9.24)\n",
      "Requirement already satisfied: requests-oauthlib>=0.7.0 in /home/nelly/.local/share/virtualenvs/Fall-U4moqXgd/lib/python3.8/site-packages (from google-auth-oauthlib<0.5,>=0.4.1->tensorboard<2.12,>=2.11->tensorflow-cpu) (1.3.1)\n",
      "Requirement already satisfied: MarkupSafe>=2.1.1 in /home/nelly/.local/share/virtualenvs/Fall-U4moqXgd/lib/python3.8/site-packages (from werkzeug>=1.0.1->tensorboard<2.12,>=2.11->tensorflow-cpu) (2.1.1)\n",
      "Requirement already satisfied: importlib-metadata>=4.4; python_version < \"3.10\" in /home/nelly/.local/share/virtualenvs/Fall-U4moqXgd/lib/python3.8/site-packages (from markdown>=2.6.8->tensorboard<2.12,>=2.11->tensorflow-cpu) (5.0.0)\n",
      "Requirement already satisfied: pyasn1>=0.1.3 in /home/nelly/.local/share/virtualenvs/Fall-U4moqXgd/lib/python3.8/site-packages (from rsa<5,>=3.1.4; python_version >= \"3.6\"->google-auth<3,>=1.6.3->tensorboard<2.12,>=2.11->tensorflow-cpu) (0.4.8)\n",
      "Requirement already satisfied: oauthlib>=3.0.0 in /home/nelly/.local/share/virtualenvs/Fall-U4moqXgd/lib/python3.8/site-packages (from requests-oauthlib>=0.7.0->google-auth-oauthlib<0.5,>=0.4.1->tensorboard<2.12,>=2.11->tensorflow-cpu) (3.2.2)\n",
      "Requirement already satisfied: zipp>=0.5 in /home/nelly/.local/share/virtualenvs/Fall-U4moqXgd/lib/python3.8/site-packages (from importlib-metadata>=4.4; python_version < \"3.10\"->markdown>=2.6.8->tensorboard<2.12,>=2.11->tensorflow-cpu) (3.10.0)\n",
      "Installing collected packages: tensorflow-cpu\n",
      "Successfully installed tensorflow-cpu-2.11.0\n",
      "Note: you may need to restart the kernel to use updated packages.\n"
     ]
    }
   ],
   "source": [
    "pip install numpy pandas nltk tensorflow-cpu matplotlib  "
   ]
  },
  {
   "cell_type": "code",
   "execution_count": 2,
   "id": "ed79a4f6-4932-4e6e-881c-f4eb19bb99c7",
   "metadata": {},
   "outputs": [
    {
     "name": "stderr",
     "output_type": "stream",
     "text": [
      "2022-12-09 21:45:19.523203: I tensorflow/core/platform/cpu_feature_guard.cc:193] This TensorFlow binary is optimized with oneAPI Deep Neural Network Library (oneDNN) to use the following CPU instructions in performance-critical operations:  AVX2 FMA\n",
      "To enable them in other operations, rebuild TensorFlow with the appropriate compiler flags.\n"
     ]
    }
   ],
   "source": [
    "import os\n",
    "os.environ['CUDA_VISIBLE_DEVICES'] = '-1'\n",
    "import matplotlib.pyplot as plt\n",
    "import numpy as np\n",
    "import pandas as pd\n",
    "import tensorflow as tf\n",
    "import random"
   ]
  },
  {
   "cell_type": "markdown",
   "id": "8c9c850f-4f46-40bb-80d7-4721c87f1ef8",
   "metadata": {},
   "source": [
    "## BBC News Summary EDA\n",
    "TODO: add general description here\n",
    "\n",
    "### Data preperation\n",
    "To get started please paste the BBC news dataset into a folder titled data in the local directory. Then delete 199.txt in the articles and summaries directory respectively due to corruption with these files."
   ]
  },
  {
   "cell_type": "code",
   "execution_count": 3,
   "id": "1214aa85-66fa-4644-a97b-bdc7b17db24a",
   "metadata": {},
   "outputs": [
    {
     "name": "stdout",
     "output_type": "stream",
     "text": [
      "Total Items loaded: 2224\n",
      "Total Items loaded: 2224\n"
     ]
    },
    {
     "data": {
      "text/html": [
       "<div>\n",
       "<style scoped>\n",
       "    .dataframe tbody tr th:only-of-type {\n",
       "        vertical-align: middle;\n",
       "    }\n",
       "\n",
       "    .dataframe tbody tr th {\n",
       "        vertical-align: top;\n",
       "    }\n",
       "\n",
       "    .dataframe thead th {\n",
       "        text-align: right;\n",
       "    }\n",
       "</style>\n",
       "<table border=\"1\" class=\"dataframe\">\n",
       "  <thead>\n",
       "    <tr style=\"text-align: right;\">\n",
       "      <th></th>\n",
       "      <th>label</th>\n",
       "      <th>text</th>\n",
       "    </tr>\n",
       "  </thead>\n",
       "  <tbody>\n",
       "    <tr>\n",
       "      <th>0</th>\n",
       "      <td>business</td>\n",
       "      <td>Ad sales boost Time Warner profit\\n\\nQuarterly...</td>\n",
       "    </tr>\n",
       "    <tr>\n",
       "      <th>1</th>\n",
       "      <td>business</td>\n",
       "      <td>Dollar gains on Greenspan speech\\n\\nThe dollar...</td>\n",
       "    </tr>\n",
       "    <tr>\n",
       "      <th>2</th>\n",
       "      <td>business</td>\n",
       "      <td>Yukos unit buyer faces loan claim\\n\\nThe owner...</td>\n",
       "    </tr>\n",
       "    <tr>\n",
       "      <th>3</th>\n",
       "      <td>business</td>\n",
       "      <td>High fuel prices hit BA's profits\\n\\nBritish A...</td>\n",
       "    </tr>\n",
       "    <tr>\n",
       "      <th>4</th>\n",
       "      <td>business</td>\n",
       "      <td>Pernod takeover talk lifts Domecq\\n\\nShares in...</td>\n",
       "    </tr>\n",
       "  </tbody>\n",
       "</table>\n",
       "</div>"
      ],
      "text/plain": [
       "      label                                               text\n",
       "0  business  Ad sales boost Time Warner profit\\n\\nQuarterly...\n",
       "1  business  Dollar gains on Greenspan speech\\n\\nThe dollar...\n",
       "2  business  Yukos unit buyer faces loan claim\\n\\nThe owner...\n",
       "3  business  High fuel prices hit BA's profits\\n\\nBritish A...\n",
       "4  business  Pernod takeover talk lifts Domecq\\n\\nShares in..."
      ]
     },
     "execution_count": 3,
     "metadata": {},
     "output_type": "execute_result"
    }
   ],
   "source": [
    "def get_text_by_topic(directory_path):\n",
    "    data = []\n",
    "    count = 0\n",
    "    for topic in os.listdir(directory_path):\n",
    "        topic_path = os.path.join(directory_path, topic)\n",
    "        for file_path in os.listdir(topic_path):\n",
    "            try:\n",
    "                with open(f'{topic_path}/{file_path}', 'r', encoding=\"utf-8\") as f:\n",
    "                    data.append(( topic_path.split('/')[-1],f.read()))\n",
    "                count+=1\n",
    "            except UnicodeDecodeError:\n",
    "                print(f'file {file_path} in {topic_path} is not readable')\n",
    "                print(UnicodeDecodeError)\n",
    "    df = pd.DataFrame(data, columns=['label','text'])\n",
    "    print(f\"Total Items loaded: {count}\")\n",
    "    return df\n",
    "                      \n",
    "articles_path = r\"data/BBC News Summary/News Articles\"\n",
    "summaries_path = r\"data/BBC News Summary/Summaries\"\n",
    "\n",
    "articles_df = get_text_by_topic(articles_path)\n",
    "summaries_df = get_text_by_topic(summaries_path)\n",
    "articles_df.head()"
   ]
  },
  {
   "cell_type": "markdown",
   "id": "b0bf6beb-d02d-412c-b582-1f6dabbd1490",
   "metadata": {},
   "source": [
    "### Lets see an example from the dataset"
   ]
  },
  {
   "cell_type": "code",
   "execution_count": 4,
   "id": "5eab6275-fdab-40aa-a9ae-37a2563cc044",
   "metadata": {},
   "outputs": [
    {
     "name": "stdout",
     "output_type": "stream",
     "text": [
      "Articles Shape:  (2224, 2)\n",
      "Summaries Shape:  (2224, 2)\n",
      "\n",
      "Random Example Article in business:\n",
      "US firm pulls out of Iraq\n",
      "\n",
      "A US company has pulled out of a major contract to rebuild Iraq's transport system after attacks on reconstruction efforts, Pentagon officials have said.\n",
      "\n",
      "Contrack International, of Arlington, Virginia, heads a coalition of firms working on a series of schemes. Its withdrawal from the $325m (£170m) contract in November is thought to be the largest cancellation to date. Contrack said \"the original scope of work that was envisioned could not be executed in a cost-effective manner\". But the firm denied reports it was withdrawing completely from Iraq. \"Members of the joint venture including Contrack are committed to the ongoing reconstruction efforts, are actively working in Iraq and continue to look for new construction opportunities in the country,\" it said in a statement. The Pentagon's Project and Contract Office (PCO) in Baghdad said it had taken over Contrack's management of the subcontractors working on the transportation projects.\n",
      "\n",
      "US firms and their workers have been targets of attacks, and security concerns are said to be a major reason for the slow pace of reconstruction in Iraq. Of the $18.4bn in reconstruction funds approved by Congress, less than $2bn has been spent. Lt Col Eric Schnaible of the PCO told the Associated Press news agency Contrack's withdrawal from the transportation contract was a \"mutually agreed-to separation\" and did not indicate a movement by US companies to leave Iraq. \"Some parts of the country are a whole lot more permissive than others,\" he added. \"Where we can get the work done, good things are happening.\"\n",
      "\n",
      "Random Example Summary in business:\n",
      "\"Members of the joint venture including Contrack are committed to the ongoing reconstruction efforts, are actively working in Iraq and continue to look for new construction opportunities in the country,\" it said in a statement.US firms and their workers have been targets of attacks, and security concerns are said to be a major reason for the slow pace of reconstruction in Iraq.A US company has pulled out of a major contract to rebuild Iraq's transport system after attacks on reconstruction efforts, Pentagon officials have said.Lt Col Eric Schnaible of the PCO told the Associated Press news agency Contrack's withdrawal from the transportation contract was a \"mutually agreed-to separation\" and did not indicate a movement by US companies to leave Iraq.Contrack said \"the original scope of work that was envisioned could not be executed in a cost-effective manner\".\n"
     ]
    }
   ],
   "source": [
    "print(\"Articles Shape: \",articles_df.shape)\n",
    "print(\"Summaries Shape: \",summaries_df.shape)\n",
    "# If this fails the wrong number of aricles or summaries was loaded\n",
    "assert(articles_df.shape == summaries_df.shape)\n",
    "\n",
    "ex_idx = int(random.random()*articles_df.shape[0])\n",
    "ex_topic = articles_df[\"label\"][ex_idx]\n",
    "print(f\"\\nRandom Example Article in {ex_topic}:\")\n",
    "print(articles_df[\"text\"][ex_idx])\n",
    "print(f\"Random Example Summary in {ex_topic}:\")\n",
    "print(summaries_df[\"text\"][ex_idx])"
   ]
  },
  {
   "cell_type": "markdown",
   "id": "575fa654-a5c9-423a-a47a-1093a5122e5f",
   "metadata": {},
   "source": [
    "From this example we can see the dataset consists of BBC articles and co-responding summaries that are constructed in an extractive manner, that is, each summary is constructed by selecting a subset of the sentances in the original article."
   ]
  },
  {
   "cell_type": "code",
   "execution_count": 5,
   "id": "f54d1b00-34da-421c-bc2f-0fb5c553ad24",
   "metadata": {},
   "outputs": [
    {
     "data": {
      "text/plain": [
       "label    0\n",
       "text     0\n",
       "dtype: int64"
      ]
     },
     "execution_count": 5,
     "metadata": {},
     "output_type": "execute_result"
    }
   ],
   "source": [
    "# Null Checks\n",
    "articles_df.isna().sum()\n",
    "summaries_df.isna().sum()"
   ]
  },
  {
   "cell_type": "markdown",
   "id": "768ee0be-8316-45c4-bec5-77c5d6bfbed8",
   "metadata": {},
   "source": [
    "Next looking into the balance of each topic in the dataset"
   ]
  },
  {
   "cell_type": "code",
   "execution_count": 6,
   "id": "d6991cf3-9104-4289-b3b1-2e979c53ce23",
   "metadata": {},
   "outputs": [
    {
     "data": {
      "image/png": "[encoded data removed]",
      "text/plain": [
       "<Figure size 640x480 with 1 Axes>"
      ]
     },
     "metadata": {},
     "output_type": "display_data"
    }
   ],
   "source": [
    "# Percent articles in each topic\n",
    "label_vals = articles_df[\"label\"].value_counts()\n",
    "\n",
    "labels = list(label_vals.keys())\n",
    "sizes = list(label_vals)\n",
    "explode = [0]*len(sizes) \n",
    "explode[0] =0.1\n",
    "explode[1] =0.1\n",
    "fig1, ax1 = plt.subplots()\n",
    "ax1.pie(label_vals, explode=explode, labels=labels, autopct='%1.1f%%',shadow=True, startangle=90)\n",
    "ax1.axis('equal')  # Equal aspect ratio ensures that pie is drawn as a circle.\n",
    "plt.title(f\"Out of {articles_df.shape[0]} Articles\")\n",
    "plt.show()\n"
   ]
  },
  {
   "cell_type": "markdown",
   "id": "25b33d5d-137d-4078-af43-8e3ccdc6451b",
   "metadata": {},
   "source": [
    "The classes appear to be well balance so model performance should be equivelent across topics"
   ]
  },
  {
   "cell_type": "code",
   "execution_count": 7,
   "id": "e0a5961f-d8f9-4908-b622-d9d76245fd5e",
   "metadata": {},
   "outputs": [
    {
     "name": "stdout",
     "output_type": "stream",
     "text": [
      "99th percentile in sentance count:  63.0\n"
     ]
    },
    {
     "data": {
      "image/png": "[encoded data removed]",
      "text/plain": [
       "<Figure size 640x480 with 1 Axes>"
      ]
     },
     "metadata": {},
     "output_type": "display_data"
    },
    {
     "data": {
      "text/html": [
       "<div>\n",
       "<style scoped>\n",
       "    .dataframe tbody tr th:only-of-type {\n",
       "        vertical-align: middle;\n",
       "    }\n",
       "\n",
       "    .dataframe tbody tr th {\n",
       "        vertical-align: top;\n",
       "    }\n",
       "\n",
       "    .dataframe thead th {\n",
       "        text-align: right;\n",
       "    }\n",
       "</style>\n",
       "<table border=\"1\" class=\"dataframe\">\n",
       "  <thead>\n",
       "    <tr style=\"text-align: right;\">\n",
       "      <th></th>\n",
       "      <th>business</th>\n",
       "      <th>entertainment</th>\n",
       "      <th>politics</th>\n",
       "      <th>sport</th>\n",
       "      <th>tech</th>\n",
       "    </tr>\n",
       "  </thead>\n",
       "  <tbody>\n",
       "    <tr>\n",
       "      <th>count</th>\n",
       "      <td>510.000000</td>\n",
       "      <td>386.000000</td>\n",
       "      <td>417.000000</td>\n",
       "      <td>510.000000</td>\n",
       "      <td>401.000000</td>\n",
       "    </tr>\n",
       "    <tr>\n",
       "      <th>mean</th>\n",
       "      <td>19.680392</td>\n",
       "      <td>17.945596</td>\n",
       "      <td>22.227818</td>\n",
       "      <td>18.280392</td>\n",
       "      <td>25.842893</td>\n",
       "    </tr>\n",
       "    <tr>\n",
       "      <th>std</th>\n",
       "      <td>7.409560</td>\n",
       "      <td>14.270836</td>\n",
       "      <td>15.467658</td>\n",
       "      <td>9.876736</td>\n",
       "      <td>12.904370</td>\n",
       "    </tr>\n",
       "    <tr>\n",
       "      <th>min</th>\n",
       "      <td>7.000000</td>\n",
       "      <td>8.000000</td>\n",
       "      <td>5.000000</td>\n",
       "      <td>7.000000</td>\n",
       "      <td>7.000000</td>\n",
       "    </tr>\n",
       "    <tr>\n",
       "      <th>25%</th>\n",
       "      <td>14.000000</td>\n",
       "      <td>12.000000</td>\n",
       "      <td>16.000000</td>\n",
       "      <td>12.000000</td>\n",
       "      <td>18.000000</td>\n",
       "    </tr>\n",
       "    <tr>\n",
       "      <th>50%</th>\n",
       "      <td>18.000000</td>\n",
       "      <td>14.000000</td>\n",
       "      <td>21.000000</td>\n",
       "      <td>16.000000</td>\n",
       "      <td>22.000000</td>\n",
       "    </tr>\n",
       "    <tr>\n",
       "      <th>75%</th>\n",
       "      <td>23.000000</td>\n",
       "      <td>20.000000</td>\n",
       "      <td>25.000000</td>\n",
       "      <td>23.000000</td>\n",
       "      <td>31.000000</td>\n",
       "    </tr>\n",
       "    <tr>\n",
       "      <th>max</th>\n",
       "      <td>53.000000</td>\n",
       "      <td>205.000000</td>\n",
       "      <td>246.000000</td>\n",
       "      <td>82.000000</td>\n",
       "      <td>161.000000</td>\n",
       "    </tr>\n",
       "  </tbody>\n",
       "</table>\n",
       "</div>"
      ],
      "text/plain": [
       "         business  entertainment    politics       sport        tech\n",
       "count  510.000000     386.000000  417.000000  510.000000  401.000000\n",
       "mean    19.680392      17.945596   22.227818   18.280392   25.842893\n",
       "std      7.409560      14.270836   15.467658    9.876736   12.904370\n",
       "min      7.000000       8.000000    5.000000    7.000000    7.000000\n",
       "25%     14.000000      12.000000   16.000000   12.000000   18.000000\n",
       "50%     18.000000      14.000000   21.000000   16.000000   22.000000\n",
       "75%     23.000000      20.000000   25.000000   23.000000   31.000000\n",
       "max     53.000000     205.000000  246.000000   82.000000  161.000000"
      ]
     },
     "execution_count": 7,
     "metadata": {},
     "output_type": "execute_result"
    }
   ],
   "source": [
    "# Number of Sentances in articles per topic\n",
    "def get_text_length(daf, split):\n",
    "    text_lens = [[len(t.split(split)) for t in daf[\"text\"][daf['label'] == label]] for label in daf['label'].unique()]\n",
    "    return text_lens\n",
    "\n",
    "# Splitting on . for each sentance\n",
    "text_lens = get_text_length(articles_df, \".\")\n",
    "\n",
    "t_lengths = pd.DataFrame(text_lens).transpose()\n",
    "t_lengths.columns = articles_df['label'].unique()\n",
    "\n",
    "# Outliars\n",
    "print(\"99th percentile in sentance count: \",np.max(t_lengths.quantile(0.99)))\n",
    "\n",
    "plt.boxplot(text_lens)\n",
    "plt.title('Number of Sentances in each Article per topic')\n",
    "plt.ylim(np.min(t_lengths.quantile(0)), np.max(t_lengths.quantile(0.99)))\n",
    "plt.xticks([1,2,3,4,5],articles_df['label'].unique(),\n",
    "                    rotation=45, fontsize=8)\n",
    "plt.show()\n",
    "t_lengths.describe()"
   ]
  },
  {
   "cell_type": "markdown",
   "id": "3fe62179-5377-4e06-bd27-3723ab924a51",
   "metadata": {},
   "source": [
    "It appears that tech articles have the longest articles in terms of sentances however the categories seem to be balanced here aswell. Noteably there are some drastic outliars for article length with 200+ sentances that may have to be removed."
   ]
  },
  {
   "cell_type": "code",
   "execution_count": 8,
   "id": "f368e99e-6e8d-4edc-98fc-58da0235eb83",
   "metadata": {},
   "outputs": [
    {
     "name": "stdout",
     "output_type": "stream",
     "text": [
      "99th percentile in Word count:  475.0\n"
     ]
    },
    {
     "data": {
      "image/png": "[encoded data removed]",
      "text/plain": [
       "<Figure size 640x480 with 1 Axes>"
      ]
     },
     "metadata": {},
     "output_type": "display_data"
    },
    {
     "data": {
      "text/html": [
       "<div>\n",
       "<style scoped>\n",
       "    .dataframe tbody tr th:only-of-type {\n",
       "        vertical-align: middle;\n",
       "    }\n",
       "\n",
       "    .dataframe tbody tr th {\n",
       "        vertical-align: top;\n",
       "    }\n",
       "\n",
       "    .dataframe thead th {\n",
       "        text-align: right;\n",
       "    }\n",
       "</style>\n",
       "<table border=\"1\" class=\"dataframe\">\n",
       "  <thead>\n",
       "    <tr style=\"text-align: right;\">\n",
       "      <th></th>\n",
       "      <th>business</th>\n",
       "      <th>entertainment</th>\n",
       "      <th>politics</th>\n",
       "      <th>sport</th>\n",
       "      <th>tech</th>\n",
       "    </tr>\n",
       "  </thead>\n",
       "  <tbody>\n",
       "    <tr>\n",
       "      <th>count</th>\n",
       "      <td>510.00000</td>\n",
       "      <td>386.00000</td>\n",
       "      <td>417.000000</td>\n",
       "      <td>510.000000</td>\n",
       "      <td>401.000000</td>\n",
       "    </tr>\n",
       "    <tr>\n",
       "      <th>mean</th>\n",
       "      <td>139.94902</td>\n",
       "      <td>144.07772</td>\n",
       "      <td>195.738609</td>\n",
       "      <td>143.194118</td>\n",
       "      <td>213.880299</td>\n",
       "    </tr>\n",
       "    <tr>\n",
       "      <th>std</th>\n",
       "      <td>59.48480</td>\n",
       "      <td>124.31821</td>\n",
       "      <td>139.855957</td>\n",
       "      <td>80.966871</td>\n",
       "      <td>111.675336</td>\n",
       "    </tr>\n",
       "    <tr>\n",
       "      <th>min</th>\n",
       "      <td>40.00000</td>\n",
       "      <td>54.00000</td>\n",
       "      <td>38.000000</td>\n",
       "      <td>42.000000</td>\n",
       "      <td>65.000000</td>\n",
       "    </tr>\n",
       "    <tr>\n",
       "      <th>25%</th>\n",
       "      <td>99.00000</td>\n",
       "      <td>93.25000</td>\n",
       "      <td>132.000000</td>\n",
       "      <td>87.000000</td>\n",
       "      <td>144.000000</td>\n",
       "    </tr>\n",
       "    <tr>\n",
       "      <th>50%</th>\n",
       "      <td>127.00000</td>\n",
       "      <td>117.00000</td>\n",
       "      <td>186.000000</td>\n",
       "      <td>122.000000</td>\n",
       "      <td>189.000000</td>\n",
       "    </tr>\n",
       "    <tr>\n",
       "      <th>75%</th>\n",
       "      <td>164.75000</td>\n",
       "      <td>154.75000</td>\n",
       "      <td>230.000000</td>\n",
       "      <td>178.500000</td>\n",
       "      <td>264.000000</td>\n",
       "    </tr>\n",
       "    <tr>\n",
       "      <th>max</th>\n",
       "      <td>403.00000</td>\n",
       "      <td>1708.00000</td>\n",
       "      <td>2074.000000</td>\n",
       "      <td>659.000000</td>\n",
       "      <td>1433.000000</td>\n",
       "    </tr>\n",
       "  </tbody>\n",
       "</table>\n",
       "</div>"
      ],
      "text/plain": [
       "        business  entertainment     politics       sport         tech\n",
       "count  510.00000      386.00000   417.000000  510.000000   401.000000\n",
       "mean   139.94902      144.07772   195.738609  143.194118   213.880299\n",
       "std     59.48480      124.31821   139.855957   80.966871   111.675336\n",
       "min     40.00000       54.00000    38.000000   42.000000    65.000000\n",
       "25%     99.00000       93.25000   132.000000   87.000000   144.000000\n",
       "50%    127.00000      117.00000   186.000000  122.000000   189.000000\n",
       "75%    164.75000      154.75000   230.000000  178.500000   264.000000\n",
       "max    403.00000     1708.00000  2074.000000  659.000000  1433.000000"
      ]
     },
     "execution_count": 8,
     "metadata": {},
     "output_type": "execute_result"
    }
   ],
   "source": [
    "# Number of Words in articles per topic (splitting on \" \")\n",
    "text_lens = get_text_length(summaries_df, \" \")\n",
    "\n",
    "t_lengths = pd.DataFrame(text_lens).transpose()\n",
    "t_lengths.columns = articles_df['label'].unique()\n",
    "\n",
    "# Outliars\n",
    "print(\"99th percentile in Word count: \",np.max(t_lengths.quantile(0.99)))\n",
    "\n",
    "plt.boxplot(text_lens)\n",
    "plt.title('Number of Words in each Article per topic')\n",
    "plt.ylim(np.min(t_lengths.quantile(0)), np.max(t_lengths.quantile(0.99)))\n",
    "plt.xticks([1,2,3,4,5],articles_df['label'].unique(),\n",
    "                    rotation=45, fontsize=8)\n",
    "plt.show()\n",
    "t_lengths.describe()"
   ]
  },
  {
   "cell_type": "markdown",
   "id": "8ff8ce98-5fd0-4205-8ac5-68ef2303d74a",
   "metadata": {},
   "source": [
    "Comparing the word counts to the sentance counts we can see the same outliar issue exists as well as sports having less words despite having more sentances implying that sentance length will vary based on the topic."
   ]
  },
  {
   "cell_type": "markdown",
   "id": "1b193bc2-8c71-46a4-abba-734ac1b1e6e9",
   "metadata": {},
   "source": [
    "### Next looking at the ground truth reduction in word count"
   ]
  },
  {
   "cell_type": "code",
   "execution_count": 9,
   "id": "a8eae84c-aa92-4f3d-a614-58cd08701438",
   "metadata": {},
   "outputs": [
    {
     "name": "stdout",
     "output_type": "stream",
     "text": [
      "Average percent reduction in words for ...\n",
      "business summaries: 56.8027%\n",
      "entertainment summaries: 56.0781%\n",
      "politics summaries: 56.5632%\n",
      "sport summaries: 55.5133%\n",
      "tech summaries: 57.2868%\n"
     ]
    }
   ],
   "source": [
    "# Summary length reduction per topic by word count\n",
    "articles_len = get_text_length(articles_df, \" \")\n",
    "summaries_len = get_text_length(summaries_df, \" \")\n",
    "\n",
    "\n",
    "# For each Topic\n",
    "print(\"Average percent reduction in words for ...\")\n",
    "for i,topic in enumerate(articles_df['label'].unique()):\n",
    "    # 1  - ratio of summary to article length\n",
    "    avg_percent_reduction = np.mean(1-np.asarray(summaries_len[i])/np.asarray(articles_len[i]))\n",
    "    print(f\"{topic} summaries: {100*avg_percent_reduction:0.4f}%\")"
   ]
  },
  {
   "cell_type": "markdown",
   "id": "479bf668-3842-45d3-a9fb-3f1c39633b9e",
   "metadata": {},
   "source": [
    "From this we see across the board roughly half of the words are dropped in the ground truth summaries implying our model should have a similar dropout rate. This also may indicate classification may be a valid approach to determining whether a sentance should remain in the summary. Running this code over with sentance count reveals a similar trend implying no relationship between sentance length and likelyhood to be in the summmary."
   ]
  },
  {
   "cell_type": "markdown",
   "id": "f4cd6170-cba7-427c-a383-af33c7700032",
   "metadata": {},
   "source": [
    "### EDA with common heuristics in NLP"
   ]
  },
  {
   "cell_type": "markdown",
   "id": "f9be1a73-d7b9-4950-b6d8-39d26ae42a83",
   "metadata": {},
   "source": [
    "In extractive text summarization a common baseline model is to simply take the first few sentances (typically 3) of a peice of text as the summary as writers often introduce their main points in the beggining of articles. We will analyze the effectiveness of this heuristic for the BBC model for possible consideration for a baseline model"
   ]
  },
  {
   "cell_type": "code",
   "execution_count": 10,
   "id": "2c012abe-ab51-4fbd-8c1f-c6e6e13214c5",
   "metadata": {},
   "outputs": [
    {
     "name": "stderr",
     "output_type": "stream",
     "text": [
      "[nltk_data] Downloading package punkt to /home/nelly/nltk_data...\n",
      "[nltk_data]   Unzipping tokenizers/punkt.zip.\n"
     ]
    },
    {
     "name": "stdout",
     "output_type": "stream",
     "text": [
      "69.83% Article summaries include the first sentance of the article\n",
      "36.29% Article summaries include the first and second\n",
      "17.81% Article summaries include the first, second, and third\n",
      "7.33% Article summaries include the first, second, third and fourth\n"
     ]
    }
   ],
   "source": [
    "# For regular expression\n",
    "import re\n",
    "# for sentance parsing\n",
    "import nltk\n",
    "nltk.download('punkt')\n",
    "from nltk.tokenize import sent_tokenize\n",
    "\n",
    "# turn each article into a list of sentances\n",
    "def get_sentances(texts_list):\n",
    "    documents = []\n",
    "    for text in texts_list:\n",
    "        documents.append(sent_tokenize(text.replace(\"\\n\\n\",\". \").replace(\".. \",\". \").replace(\".\",\". \").replace(\".  \",\". \")))\n",
    "    return documents\n",
    "    #return [[a.strip() for a in t.replace(\"\\n\\n\",\".\").split(\".\") if a!=''] for t in texts_list]\n",
    "\n",
    "# First sentance inclusion in summary\n",
    "article_sentances = get_sentances(articles_df[\"text\"])\n",
    "summary_sentances = get_sentances(summaries_df[\"text\"])\n",
    "\n",
    "# Check how many sentances (up to the fourth) of the article are in the summary\n",
    "counts = [0]*4\n",
    "for a,s in zip(article_sentances,summary_sentances):\n",
    "    for i in range(len(counts)):\n",
    "        if a[i+1] in s:\n",
    "            counts[i]+=1\n",
    "        else:\n",
    "            break\n",
    "print(f\"{100*counts[0]/len(article_sentances):0.2f}% Article summaries include the first sentance of the article\")\n",
    "print(f\"{100*counts[1]/len(article_sentances):0.2f}% Article summaries include the first and second\")\n",
    "print(f\"{100*counts[2]/len(article_sentances):0.2f}% Article summaries include the first, second, and third\")\n",
    "print(f\"{100*counts[3]/len(article_sentances):0.2f}% Article summaries include the first, second, third and fourth\")"
   ]
  },
  {
   "cell_type": "markdown",
   "id": "37d622d7-f6c3-4ada-bce7-e10c34857f28",
   "metadata": {},
   "source": [
    "From this a good baseline model to compare text summarization would simply be to use the first few sentances of each article as the summary. The performance of this method is best with including one to two sentances"
   ]
  },
  {
   "cell_type": "code",
   "execution_count": 11,
   "id": "7c38957b-6429-493a-b31f-1ea048f0cba0",
   "metadata": {},
   "outputs": [],
   "source": [
    "# Rarity of words used\n"
   ]
  },
  {
   "cell_type": "code",
   "execution_count": 12,
   "id": "27d90977-ef21-475c-b14d-61ba3fc71d7c",
   "metadata": {},
   "outputs": [
    {
     "name": "stderr",
     "output_type": "stream",
     "text": [
      "[nltk_data] Downloading package stopwords to /home/nelly/nltk_data...\n",
      "[nltk_data]   Unzipping corpora/stopwords.zip.\n"
     ]
    }
   ],
   "source": [
    "# Overall use of stop words\n",
    "import nltk\n",
    "nltk.download('stopwords')\n",
    "from nltk.corpus import stopwords\n",
    "\n",
    "# Most common words after stop words"
   ]
  },
  {
   "cell_type": "code",
   "execution_count": 13,
   "id": "4c3aaa44-c47b-4893-9c5d-4dbd34e22ba6",
   "metadata": {},
   "outputs": [],
   "source": [
    "# Additional NLP statistics"
   ]
  },
  {
   "cell_type": "markdown",
   "id": "8014b038-9c79-4ad8-bbcb-b2316a42b480",
   "metadata": {},
   "source": [
    "## Base Line Model\n",
    "From the EDA we found that an effective baseline model would be taking the first two sentances of the article as the predicted summary"
   ]
  },
  {
   "cell_type": "code",
   "execution_count": 14,
   "id": "40f90877-6abc-4684-bfa9-ab66e7ae809f",
   "metadata": {},
   "outputs": [
    {
     "name": "stdout",
     "output_type": "stream",
     "text": [
      "Example baseline: ['Quarterly profits at US media giant TimeWarner jumped 76% to $1.', '13bn (£600m) for the three months to December, from $639m year-earlier.']\n",
      "\n",
      "Example summary: ['TimeWarner said fourth quarter sales rose 2% to $11.', '1bn from $10.', '9bn.', 'For the full-year, TimeWarner posted a profit of $3.', '36bn, up 27% from its 2003 performance, while revenues grew 6.', '4% to $42.', '09bn.', 'Quarterly profits at US media giant TimeWarner jumped 76% to $1.', '13bn (£600m) for the three months to December, from $639m year-earlier.', \"However, the company said AOL's underlying profit before exceptional items rose 8% on the back of stronger internet advertising revenues.\", 'Its profits were buoyed by one-off gains which offset a profit dip at Warner Bros, and less users for AOL.', 'For 2005, TimeWarner is projecting operating earnings growth of around 5%, and also expects higher revenue and wider profit margins.', 'It lost 464,000 subscribers in the fourth quarter profits were lower than in the preceding three quarters.', \"Time Warner's fourth quarter profits were slightly better than analysts' expectations.\"]\n"
     ]
    }
   ],
   "source": [
    "# Each base line prediction is the first two sentaces of the article\n",
    "def base_line_predict(articles_df):\n",
    "    predictions = []\n",
    "    article_sentances = get_sentances(articles_df[\"text\"])\n",
    "    for a in article_sentances:\n",
    "        predictions.append(a[1:3])\n",
    "    return predictions\n",
    "\n",
    "pred = base_line_predict(articles_df)\n",
    "print(f\"Example baseline: {pred[0]}\\n\")\n",
    "print(f\"Example summary: {summary_sentances[0]}\")"
   ]
  },
  {
   "cell_type": "markdown",
   "id": "f5308ace-90a9-4c4e-ad2d-964361b7752f",
   "metadata": {},
   "source": [
    "## Preprocessing For Extractive Text Summarization"
   ]
  },
  {
   "cell_type": "code",
   "execution_count": 15,
   "id": "656b44e7-d5b6-4520-966d-48d9726cefc8",
   "metadata": {},
   "outputs": [],
   "source": [
    "from nltk.tokenize import word_tokenize\n",
    "def compare_sentances(sentance_a, sentance_b):\n",
    "    tok_a = word_tokenize(sentance_a)\n",
    "    tok_b = word_tokenize(sentance_b)\n",
    "    matches = 0\n",
    "    for tok in tok_a:\n",
    "        if tok in tok_b:\n",
    "            matches+=1\n",
    "    return float(matches)/len(tok_a)\n",
    "    \n",
    "# Generate Label\n",
    "def generate_labels(articles_df, summaries_df):\n",
    "    article_sentances = get_sentances(articles_df[\"text\"])\n",
    "    summary_sentances = get_sentances(summaries_df[\"text\"])\n",
    "    labels = []\n",
    "    count=0\n",
    "    total_sentances = 0\n",
    "    same = 0\n",
    "    for article,summary in zip(article_sentances,summary_sentances):\n",
    "        sentance_inclusion = []\n",
    "        for sentance_a in article:\n",
    "            in_summary = False\n",
    "            for sentance_b in summary:\n",
    "                if len(sentance_b)<3:\n",
    "                    continue\n",
    "                percent_match = compare_sentances(sentance_a, sentance_b)\n",
    "                if percent_match > 0.95:\n",
    "                    in_summary=True\n",
    "                    break\n",
    "            total_sentances+=1\n",
    "            if in_summary and len(sentance_a)>3:\n",
    "                sentance_inclusion.append(1)\n",
    "            else:\n",
    "                sentance_inclusion.append(0)\n",
    "        same+=np.sum(sentance_inclusion) == len(summary)\n",
    "        count+=1\n",
    "        print(f\"Percent Complete: {100*count/len(article_sentances):0.2f}%\",end=\"\\r\")\n",
    "        labels.append(sentance_inclusion)\n",
    "        \n",
    "    print()\n",
    "    print(\"Matching  labels \",same)\n",
    "    print(\"Total \",len(article_sentances))\n",
    "    print(f\"Total Sentances processed {total_sentances}\")\n",
    "    return labels\n",
    "\n",
    "#y_labels = generate_labels(articles_df, summaries_df) \n",
    "\n",
    "# Expand contractions\n",
    "# lowercase\n",
    "# Remove digits and words containing digits\n",
    "# Remove punctuations\n",
    "# Remove stop words\n",
    "\n",
    "# Remove Contractions and other anomolies\n",
    "\n",
    "# Vectorize sentance"
   ]
  },
  {
   "cell_type": "markdown",
   "id": "e458c96e-e09e-40d0-8d6e-d08d62a25568",
   "metadata": {},
   "source": [
    "## Extractive model based on single sentance analysis"
   ]
  },
  {
   "cell_type": "code",
   "execution_count": 16,
   "id": "e923c207-7f42-428f-9c22-ba0560f016af",
   "metadata": {},
   "outputs": [
    {
     "name": "stdout",
     "output_type": "stream",
     "text": [
      "Percent Complete: 100.00%\n",
      "Matching  labels  1867\n",
      "Total  2224\n",
      "Total Sentances processed 46905\n"
     ]
    }
   ],
   "source": [
    "article_sentances = get_sentances(articles_df[\"text\"])\n",
    "y_labels = generate_labels(articles_df, summaries_df) "
   ]
  },
  {
   "cell_type": "code",
   "execution_count": 17,
   "id": "bfa64627-abcd-46d2-9b3e-fa1772ed3af1",
   "metadata": {},
   "outputs": [
    {
     "name": "stderr",
     "output_type": "stream",
     "text": [
      "2022-12-09 21:47:30.492699: I tensorflow/core/platform/cpu_feature_guard.cc:193] This TensorFlow binary is optimized with oneAPI Deep Neural Network Library (oneDNN) to use the following CPU instructions in performance-critical operations:  AVX2 FMA\n",
      "To enable them in other operations, rebuild TensorFlow with the appropriate compiler flags.\n"
     ]
    },
    {
     "name": "stdout",
     "output_type": "stream",
     "text": [
      "There are 46905 sentances in total\n",
      "Vecorized sentance sample: [  1 624  21  48 284 679   1   1   1   3]\n",
      "Corresponding label: 1\n"
     ]
    }
   ],
   "source": [
    "import tensorflow as tf\n",
    "#from tensorflow_models import nlp\n",
    "from tensorflow.keras import layers\n",
    "from tensorflow.keras import losses\n",
    "from keras.utils import pad_sequences\n",
    "import string \n",
    "\n",
    "def ex_standarize(input_txt):\n",
    "  lowercase_txt = tf.strings.lower(input_txt)\n",
    "  return tf.strings.regex_replace(lowercase_txt,'[%s]' % re.escape(string.punctuation),'')\n",
    "\n",
    "max_features = 1000\n",
    "sequence_length = 250\n",
    "\n",
    "vectorize_layer = layers.TextVectorization(\n",
    "    standardize=ex_standarize,\n",
    "    max_tokens=max_features,\n",
    "    output_mode='int',\n",
    "    output_sequence_length=sequence_length)\n",
    "\n",
    "\n",
    "vectorize_layer.adapt(articles_df[\"text\"])\n",
    "\n",
    "all_sentances = []\n",
    "all_labels = []\n",
    "\n",
    "for i in range(len(article_sentances)):\n",
    "    for j in range(len(article_sentances[i])):\n",
    "        all_sentances.append(article_sentances[i][j])\n",
    "        all_labels.append(y_labels[i][j])\n",
    "\n",
    "x_train = vectorize_layer(all_sentances)\n",
    "y_train = np.asarray(all_labels)\n",
    "print(f\"There are {len(x_train)} sentances in total\")\n",
    "print(f\"Vecorized sentance sample: {x_train[1][:10]}\")\n",
    "print(f\"Corresponding label: {y_train[1]}\")"
   ]
  },
  {
   "cell_type": "code",
   "execution_count": 18,
   "id": "3fa17cbe-e10f-4afb-854c-b2189bdfc3b7",
   "metadata": {},
   "outputs": [
    {
     "name": "stdout",
     "output_type": "stream",
     "text": [
      "Model: \"sequential\"\n",
      "_________________________________________________________________\n",
      " Layer (type)                Output Shape              Param #   \n",
      "=================================================================\n",
      " embedding (Embedding)       (None, None, 32)          32032     \n",
      "                                                                 \n",
      " dropout (Dropout)           (None, None, 32)          0         \n",
      "                                                                 \n",
      " conv1d (Conv1D)             (None, None, 128)         28800     \n",
      "                                                                 \n",
      " conv1d_1 (Conv1D)           (None, None, 128)         114816    \n",
      "                                                                 \n",
      " global_average_pooling1d (G  (None, 128)              0         \n",
      " lobalAveragePooling1D)                                          \n",
      "                                                                 \n",
      " dense (Dense)               (None, 128)               16512     \n",
      "                                                                 \n",
      " dropout_1 (Dropout)         (None, 128)               0         \n",
      "                                                                 \n",
      " dense_1 (Dense)             (None, 1)                 129       \n",
      "                                                                 \n",
      "=================================================================\n",
      "Total params: 192,289\n",
      "Trainable params: 192,289\n",
      "Non-trainable params: 0\n",
      "_________________________________________________________________\n"
     ]
    }
   ],
   "source": [
    "embedding_dim = 32\n",
    "model = tf.keras.Sequential([\n",
    "  layers.Embedding(max_features + 1, embedding_dim),\n",
    "  layers.Dropout(0.2),\n",
    "  layers.Conv1D(128, 7, padding=\"valid\", activation=\"relu\", strides=2),\n",
    "  layers.Conv1D(128, 7, padding=\"valid\", activation=\"relu\", strides=2),\n",
    "  layers.GlobalAveragePooling1D(),\n",
    "  layers.Dense(128, activation=\"relu\"),\n",
    "  layers.Dropout(0.2),\n",
    "  layers.Dense(1)])\n",
    "\n",
    "model.summary()"
   ]
  },
  {
   "cell_type": "code",
   "execution_count": 19,
   "id": "10cbf60e-f068-4152-9cf2-b4dde68e06ec",
   "metadata": {},
   "outputs": [],
   "source": [
    "model.compile(loss=losses.BinaryCrossentropy(from_logits=True),\n",
    "              optimizer='adam',\n",
    "              metrics=tf.metrics.BinaryAccuracy(threshold=0.0))"
   ]
  },
  {
   "cell_type": "code",
   "execution_count": 20,
   "id": "2a95166e-e66b-4e6d-9219-a3ea49a1b44b",
   "metadata": {},
   "outputs": [
    {
     "name": "stdout",
     "output_type": "stream",
     "text": [
      "(46905, 250)\n",
      "Epoch 1/20\n",
      "1466/1466 [==============================] - 25s 17ms/step - loss: 0.6200 - binary_accuracy: 0.6558 - val_loss: 0.5841 - val_binary_accuracy: 0.6925\n",
      "Epoch 2/20\n",
      "1466/1466 [==============================] - 24s 16ms/step - loss: 0.5925 - binary_accuracy: 0.6820 - val_loss: 0.5754 - val_binary_accuracy: 0.7109\n",
      "Epoch 3/20\n",
      "1466/1466 [==============================] - 24s 16ms/step - loss: 0.5798 - binary_accuracy: 0.6937 - val_loss: 0.5491 - val_binary_accuracy: 0.7175\n",
      "Epoch 4/20\n",
      "1466/1466 [==============================] - 32s 22ms/step - loss: 0.5644 - binary_accuracy: 0.7055 - val_loss: 0.5285 - val_binary_accuracy: 0.7401\n",
      "Epoch 5/20\n",
      "1466/1466 [==============================] - 37s 26ms/step - loss: 0.5472 - binary_accuracy: 0.7165 - val_loss: 0.5055 - val_binary_accuracy: 0.7586\n",
      "Epoch 6/20\n",
      "1466/1466 [==============================] - 31s 21ms/step - loss: 0.5303 - binary_accuracy: 0.7282 - val_loss: 0.4741 - val_binary_accuracy: 0.7725\n",
      "Epoch 7/20\n",
      "1466/1466 [==============================] - 34s 23ms/step - loss: 0.5126 - binary_accuracy: 0.7432 - val_loss: 0.4566 - val_binary_accuracy: 0.7853\n",
      "Epoch 8/20\n",
      "1466/1466 [==============================] - 29s 20ms/step - loss: 0.4954 - binary_accuracy: 0.7546 - val_loss: 0.4320 - val_binary_accuracy: 0.7930\n",
      "Epoch 9/20\n",
      "1466/1466 [==============================] - 35s 24ms/step - loss: 0.4800 - binary_accuracy: 0.7627 - val_loss: 0.4141 - val_binary_accuracy: 0.8034\n",
      "Epoch 10/20\n",
      "1466/1466 [==============================] - 38s 26ms/step - loss: 0.4639 - binary_accuracy: 0.7730 - val_loss: 0.4087 - val_binary_accuracy: 0.8190\n",
      "Epoch 11/20\n",
      "1466/1466 [==============================] - 29s 20ms/step - loss: 0.4491 - binary_accuracy: 0.7841 - val_loss: 0.3717 - val_binary_accuracy: 0.8365\n",
      "Epoch 12/20\n",
      "1466/1466 [==============================] - 29s 19ms/step - loss: 0.4364 - binary_accuracy: 0.7918 - val_loss: 0.3612 - val_binary_accuracy: 0.8510\n",
      "Epoch 13/20\n",
      "1466/1466 [==============================] - 28s 19ms/step - loss: 0.4184 - binary_accuracy: 0.8030 - val_loss: 0.3240 - val_binary_accuracy: 0.8642\n",
      "Epoch 14/20\n",
      "1466/1466 [==============================] - 34s 23ms/step - loss: 0.4052 - binary_accuracy: 0.8101 - val_loss: 0.3164 - val_binary_accuracy: 0.8716\n",
      "Epoch 15/20\n",
      "1466/1466 [==============================] - 29s 20ms/step - loss: 0.3926 - binary_accuracy: 0.8164 - val_loss: 0.3001 - val_binary_accuracy: 0.8812\n",
      "Epoch 16/20\n",
      "1466/1466 [==============================] - 30s 20ms/step - loss: 0.3752 - binary_accuracy: 0.8281 - val_loss: 0.2773 - val_binary_accuracy: 0.8942\n",
      "Epoch 17/20\n",
      "1466/1466 [==============================] - 30s 20ms/step - loss: 0.3643 - binary_accuracy: 0.8342 - val_loss: 0.2542 - val_binary_accuracy: 0.9019\n",
      "Epoch 18/20\n",
      "1466/1466 [==============================] - 30s 20ms/step - loss: 0.3535 - binary_accuracy: 0.8395 - val_loss: 0.2408 - val_binary_accuracy: 0.9070\n",
      "Epoch 19/20\n",
      "1466/1466 [==============================] - 28s 19ms/step - loss: 0.3407 - binary_accuracy: 0.8451 - val_loss: 0.2396 - val_binary_accuracy: 0.9083\n",
      "Epoch 20/20\n",
      "1466/1466 [==============================] - 29s 20ms/step - loss: 0.3266 - binary_accuracy: 0.8546 - val_loss: 0.2126 - val_binary_accuracy: 0.9198\n"
     ]
    }
   ],
   "source": [
    "from sklearn.model_selection import train_test_split\n",
    "# 80 10 10 split for training validation test\n",
    "X_train, X_test, Y_train, Y_test = train_test_split(x_train.numpy(), y_train, test_size=0.2,shuffle=True,random_state=41)\n",
    "X_valid, X_test, Y_valid, Y_test = train_test_split(X_test, Y_test, test_size=0.5, random_state=41)\n",
    "\n",
    "epochs = 20\n",
    "print(x_train.shape)\n",
    "history = model.fit(x_train,y_train, validation_data=(X_valid, Y_valid),epochs=epochs,batch_size =32)\n"
   ]
  },
  {
   "cell_type": "code",
   "execution_count": 21,
   "id": "538ca5bb-837f-4248-b9d7-1a475695723d",
   "metadata": {},
   "outputs": [
    {
     "name": "stdout",
     "output_type": "stream",
     "text": [
      "{'loss': [0.6200245022773743, 0.5925460457801819, 0.5798472762107849, 0.5644118189811707, 0.5471779108047485, 0.5302600264549255, 0.5125654339790344, 0.4954492747783661, 0.47995999455451965, 0.4639177918434143, 0.4491404592990875, 0.4363623857498169, 0.4184128940105438, 0.40516984462738037, 0.3926365077495575, 0.3751983344554901, 0.36433520913124084, 0.3535001277923584, 0.340719074010849, 0.3266104757785797], 'binary_accuracy': [0.655836284160614, 0.6819742321968079, 0.6937426924705505, 0.705468475818634, 0.7165334224700928, 0.728195309638977, 0.7432256937026978, 0.7545890808105469, 0.762690544128418, 0.7729666233062744, 0.784116804599762, 0.7917919158935547, 0.8029847741127014, 0.810105562210083, 0.8163948655128479, 0.8280566930770874, 0.8341968059539795, 0.8394840359687805, 0.8450911641120911, 0.8546210527420044], 'val_loss': [0.584070086479187, 0.5754242539405823, 0.5490711331367493, 0.5285032391548157, 0.5054962635040283, 0.47412508726119995, 0.4565580189228058, 0.43198615312576294, 0.41405418515205383, 0.4086942970752716, 0.37166479229927063, 0.36122897267341614, 0.3240146338939667, 0.31638652086257935, 0.3001243472099304, 0.2773481011390686, 0.25422996282577515, 0.2408456653356552, 0.23964351415634155, 0.2126106470823288], 'val_binary_accuracy': [0.6925373077392578, 0.7108741998672485, 0.7174839973449707, 0.7400853037834167, 0.758635401725769, 0.7724946737289429, 0.7852878570556641, 0.7929637432098389, 0.8034115433692932, 0.8189765214920044, 0.836460530757904, 0.8509594798088074, 0.8641790747642517, 0.8716418147087097, 0.8812366724014282, 0.894243061542511, 0.9019189476966858, 0.9070362448692322, 0.9083155393600464, 0.9198294281959534]}\n"
     ]
    }
   ],
   "source": [
    "print(history.history)"
   ]
  },
  {
   "cell_type": "code",
   "execution_count": 22,
   "id": "254ec531-963d-4510-9163-a5683fa44569",
   "metadata": {},
   "outputs": [
    {
     "data": {
      "image/png": "[encoded data removed]",
      "text/plain": [
       "<Figure size 640x480 with 1 Axes>"
      ]
     },
     "metadata": {},
     "output_type": "display_data"
    }
   ],
   "source": [
    "plt.plot(history.history['loss'])\n",
    "plt.plot(history.history['val_loss'])\n",
    "plt.title('model loss')\n",
    "plt.ylabel('loss')\n",
    "plt.xlabel('epoch')\n",
    "plt.legend(['val', 'train'], loc='upper left')\n",
    "plt.show()"
   ]
  },
  {
   "cell_type": "code",
   "execution_count": 23,
   "id": "a2fff698-611f-46b1-b4db-571360e7f975",
   "metadata": {},
   "outputs": [
    {
     "data": {
      "image/png": "[encoded data removed]",
      "text/plain": [
       "<Figure size 640x480 with 1 Axes>"
      ]
     },
     "metadata": {},
     "output_type": "display_data"
    }
   ],
   "source": [
    "plt.plot(history.history['binary_accuracy'])\n",
    "plt.plot(history.history['val_binary_accuracy'])\n",
    "plt.title('model accuracy')\n",
    "plt.ylabel('accuracy')\n",
    "plt.xlabel('epoch')\n",
    "plt.legend(['val','train',], loc='upper left')\n",
    "plt.show()"
   ]
  },
  {
   "cell_type": "code",
   "execution_count": 24,
   "id": "d0558e5e-0fb5-48fa-bbb9-bfbe05e27885",
   "metadata": {},
   "outputs": [
    {
     "name": "stdout",
     "output_type": "stream",
     "text": [
      "Percentage Complete: 99.96%\n"
     ]
    }
   ],
   "source": [
    "# reconstruct summaries\n",
    "# All predicted summaries is a list for each article where each entry is a list of summary sentances\n",
    "all_predicted_summaries = []\n",
    "for i in range(len(article_sentances)):\n",
    "    model_predictions = model.predict(vectorize_layer(article_sentances[i]),verbose = 0)\n",
    "    model_predictions = np.where(model_predictions>0.5,1,0)\n",
    "    summary = []\n",
    "    for j in range(len(article_sentances[i])):\n",
    "        if model_predictions[j]==1:\n",
    "            summary.append(article_sentances[i][j])\n",
    "    all_predicted_summaries.append(summary)\n",
    "    print(f\"Percentage Complete: {100*i/len(article_sentances):0.2f}%\",end=\"\\r\")\n",
    "print()"
   ]
  },
  {
   "cell_type": "code",
   "execution_count": 25,
   "id": "576d49be-0958-4199-a7fe-59bdf0b1a41d",
   "metadata": {},
   "outputs": [
    {
     "name": "stdout",
     "output_type": "stream",
     "text": [
      "['An executive at US insurance firm Marsh & McLennan has pleaded guilty to criminal charges in connection with an ongoing fraud and bid-rigging probe.', \"Mr Spitzer's office added Mr Stearns had also agreed to testify in future cases during the industry inquiry.\", \"According to a statement from Mr Spitzer's office, the Marsh executive admitted he instructed insurance companies to submit non-competitive bids for insurance business between 2002 and 2004.\", \"Through the practice, Marsh was allowed to determine which insurers won business from clients, and so control the insurance market, Mr Spitzer's office added.\", 'It also protected incumbent insurers when their business was up for renewal and helped Marsh to maximise its fees, a statement said.']\n",
      "An executive at US insurance firm Marsh & McLennan has pleaded guilty to criminal charges in connection with an ongoing fraud and bid-rigging probe.Mr Spitzer's office added Mr Stearns had also agreed to testify in future cases during the industry inquiry.According to a statement from Mr Spitzer's office, the Marsh executive admitted he instructed insurance companies to submit non-competitive bids for insurance business between 2002 and 2004.Through the practice, Marsh was allowed to determine which insurers won business from clients, and so control the insurance market, Mr Spitzer's office added.It also protected incumbent insurers when their business was up for renewal and helped Marsh to maximise its fees, a statement said.\n",
      "According to a statement from Mr Spitzer's office, the Marsh executive admitted he instructed insurance companies to submit non-competitive bids for insurance business between 2002 and 2004.Through the practice, Marsh was allowed to determine which insurers won business from clients, and so control the insurance market, Mr Spitzer's office added.It also protected incumbent insurers when their business was up for renewal and helped Marsh to maximise its fees, a statement said.Mr Spitzer's office added Mr Stearns had also agreed to testify in future cases during the industry inquiry.\"We are saddened by the development,\" Marsh said in a statement.An executive at US insurance firm Marsh & McLennan has pleaded guilty to criminal charges in connection with an ongoing fraud and bid-rigging probe.\n"
     ]
    }
   ],
   "source": [
    "print(all_predicted_summaries[400])\n",
    "out = \"\"\n",
    "for s in all_predicted_summaries[400]:\n",
    "    out+=s\n",
    "print(out)\n",
    "print(summaries_df[\"text\"][400])"
   ]
  },
  {
   "cell_type": "markdown",
   "id": "3893ece5-30c6-40c6-835c-64c607138cdb",
   "metadata": {},
   "source": [
    "## Preprocessing For Abstractive Text Summarization"
   ]
  },
  {
   "cell_type": "code",
   "execution_count": 26,
   "id": "f6ebf1cc-21a3-41d7-908c-4e064df638f2",
   "metadata": {},
   "outputs": [
    {
     "name": "stderr",
     "output_type": "stream",
     "text": [
      "/home/nelly/.local/share/virtualenvs/Fall-U4moqXgd/lib/python3.8/site-packages/tqdm/auto.py:22: TqdmWarning: IProgress not found. Please update jupyter and ipywidgets. See https://ipywidgets.readthedocs.io/en/stable/user_install.html\n",
      "  from .autonotebook import tqdm as notebook_tqdm\n",
      "Downloading: 100%|██████████████████████████████████████████████████████████████████| 1.20k/1.20k [00:00<00:00, 283kB/s]\n",
      "Downloading: 100%|███████████████████████████████████████████████████████████████████| 792k/792k [00:00<00:00, 5.17MB/s]\n",
      "Downloading: 100%|█████████████████████████████████████████████████████████████████| 1.39M/1.39M [00:00<00:00, 7.02MB/s]\n",
      "/home/nelly/.local/share/virtualenvs/Fall-U4moqXgd/lib/python3.8/site-packages/transformers/models/t5/tokenization_t5_fast.py:155: FutureWarning: This tokenizer was incorrectly instantiated with a model max length of 512 which will be corrected in Transformers v5.\n",
      "For now, this behavior is kept to avoid breaking backwards compatibility when padding/encoding with `truncation is True`.\n",
      "- Be aware that you SHOULD NOT rely on t5-small automatically truncating your input to 512 when padding/encoding.\n",
      "- If you want to encode/pad to sequences longer than 512 you can either instantiate this tokenizer with `model_max_length` or pass `max_length` when encoding/padding.\n",
      "- To avoid this warning, please instantiate this tokenizer with `model_max_length` set to your preferred value.\n",
      "  warnings.warn(\n"
     ]
    }
   ],
   "source": [
    "# Import tokenizer from pretrained model\n",
    "from transformers import AutoTokenizer, AutoModelForSeq2SeqLM\n",
    "\n",
    "model_name = \"t5-small\" # you can specify the model size here\n",
    "tokenizer = AutoTokenizer.from_pretrained(model_name)"
   ]
  },
  {
   "cell_type": "code",
   "execution_count": 27,
   "id": "9f99486a-c171-4e14-aa47-bb5d132b9b83",
   "metadata": {},
   "outputs": [],
   "source": [
    "MAX_INPUT_LENGTH = 512\n",
    "MAX_TARGET_LENGTH = 30\n",
    "\n",
    "def preprocess_function(article, summary):\n",
    "    model_inputs = tokenizer(\n",
    "        article,\n",
    "        max_length=MAX_INPUT_LENGTH,\n",
    "        truncation=True,\n",
    "    )\n",
    "    labels = tokenizer(\n",
    "        summary, max_length=MAX_TARGET_LENGTH, truncation=True\n",
    "    )\n",
    "    #model_inputs[\"labels\"] = articles[\"labels\"]\n",
    "    return model_inputs\n",
    "\n",
    "for i in range(articles_df.shape[0]):\n",
    "    result = preprocess_function(articles_df[\"text\"][0], summaries_df[\"text\"][0])"
   ]
  }
 ],
 "metadata": {
  "kernelspec": {
   "display_name": "Python 3 (ipykernel)",
   "language": "python",
   "name": "python3"
  },
  "language_info": {
   "codemirror_mode": {
    "name": "ipython",
    "version": 3
   },
   "file_extension": ".py",
   "mimetype": "text/x-python",
   "name": "python",
   "nbconvert_exporter": "python",
   "pygments_lexer": "ipython3",
   "version": "3.8.13"
  }
 },
 "nbformat": 4,
 "nbformat_minor": 5
}
