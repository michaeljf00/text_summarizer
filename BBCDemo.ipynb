{
 "cells": [
  {
   "cell_type": "code",
   "execution_count": 1,
   "id": "98d9b836-1ae5-4e73-bd8f-ce5ce1fccf1f",
   "metadata": {},
   "outputs": [
    {
     "name": "stdout",
     "output_type": "stream",
     "text": [
      "Note: you may need to restart the kernel to use updated packages.\n"
     ]
    }
   ],
   "source": [
    "pip -q install numpy seaborn pandas keras nltk tensorflow tf-models-official torch matplotlib transformers Iprogress sentencepiece"
   ]
  },
  {
   "cell_type": "code",
   "execution_count": 2,
   "id": "ed79a4f6-4932-4e6e-881c-f4eb19bb99c7",
   "metadata": {},
   "outputs": [
    {
     "name": "stderr",
     "output_type": "stream",
     "text": [
      "2022-12-07 22:35:11.762501: I tensorflow/core/platform/cpu_feature_guard.cc:193] This TensorFlow binary is optimized with oneAPI Deep Neural Network Library (oneDNN) to use the following CPU instructions in performance-critical operations:  AVX2 FMA\n",
      "To enable them in other operations, rebuild TensorFlow with the appropriate compiler flags.\n",
      "2022-12-07 22:35:12.450248: W tensorflow/compiler/xla/stream_executor/platform/default/dso_loader.cc:64] Could not load dynamic library 'libnvinfer.so.7'; dlerror: libnvinfer.so.7: cannot open shared object file: No such file or directory; LD_LIBRARY_PATH: /opt/cuda/lib64:/opt/cuda/lib64:\n",
      "2022-12-07 22:35:12.450324: W tensorflow/compiler/xla/stream_executor/platform/default/dso_loader.cc:64] Could not load dynamic library 'libnvinfer_plugin.so.7'; dlerror: libnvinfer_plugin.so.7: cannot open shared object file: No such file or directory; LD_LIBRARY_PATH: /opt/cuda/lib64:/opt/cuda/lib64:\n",
      "2022-12-07 22:35:12.450330: W tensorflow/compiler/tf2tensorrt/utils/py_utils.cc:38] TF-TRT Warning: Cannot dlopen some TensorRT libraries. If you would like to use Nvidia GPU with TensorRT, please make sure the missing libraries mentioned above are installed properly.\n"
     ]
    }
   ],
   "source": [
    "import matplotlib.pyplot as plt\n",
    "import numpy as np\n",
    "import pandas as pd\n",
    "import tensorflow as tf\n",
    "import os\n",
    "import random"
   ]
  },
  {
   "cell_type": "markdown",
   "id": "8c9c850f-4f46-40bb-80d7-4721c87f1ef8",
   "metadata": {},
   "source": [
    "## BBC News Summary EDA\n",
    "TODO: add general description here\n",
    "\n",
    "### Data preperation\n",
    "To get started please paste the BBC news dataset into a folder titled data in the local directory. Then delete 199.txt in the articles and summaries directory respectively due to corruption with these files."
   ]
  },
  {
   "cell_type": "code",
   "execution_count": 3,
   "id": "1214aa85-66fa-4644-a97b-bdc7b17db24a",
   "metadata": {},
   "outputs": [
    {
     "name": "stdout",
     "output_type": "stream",
     "text": [
      "Total Items loaded: 2224\n",
      "Total Items loaded: 2224\n"
     ]
    },
    {
     "data": {
      "text/html": [
       "<div>\n",
       "<style scoped>\n",
       "    .dataframe tbody tr th:only-of-type {\n",
       "        vertical-align: middle;\n",
       "    }\n",
       "\n",
       "    .dataframe tbody tr th {\n",
       "        vertical-align: top;\n",
       "    }\n",
       "\n",
       "    .dataframe thead th {\n",
       "        text-align: right;\n",
       "    }\n",
       "</style>\n",
       "<table border=\"1\" class=\"dataframe\">\n",
       "  <thead>\n",
       "    <tr style=\"text-align: right;\">\n",
       "      <th></th>\n",
       "      <th>label</th>\n",
       "      <th>text</th>\n",
       "    </tr>\n",
       "  </thead>\n",
       "  <tbody>\n",
       "    <tr>\n",
       "      <th>0</th>\n",
       "      <td>tech</td>\n",
       "      <td>British Library gets wireless net\\n\\nVisitors ...</td>\n",
       "    </tr>\n",
       "    <tr>\n",
       "      <th>1</th>\n",
       "      <td>tech</td>\n",
       "      <td>Solutions to net security fears\\n\\nFake bank e...</td>\n",
       "    </tr>\n",
       "    <tr>\n",
       "      <th>2</th>\n",
       "      <td>tech</td>\n",
       "      <td>Camera phones are 'must-haves'\\n\\nFour times m...</td>\n",
       "    </tr>\n",
       "    <tr>\n",
       "      <th>3</th>\n",
       "      <td>tech</td>\n",
       "      <td>Progress on new internet domains\\n\\nBy early 2...</td>\n",
       "    </tr>\n",
       "    <tr>\n",
       "      <th>4</th>\n",
       "      <td>tech</td>\n",
       "      <td>Supercomputer breaks speed record\\n\\nThe US is...</td>\n",
       "    </tr>\n",
       "  </tbody>\n",
       "</table>\n",
       "</div>"
      ],
      "text/plain": [
       "  label                                               text\n",
       "0  tech  British Library gets wireless net\\n\\nVisitors ...\n",
       "1  tech  Solutions to net security fears\\n\\nFake bank e...\n",
       "2  tech  Camera phones are 'must-haves'\\n\\nFour times m...\n",
       "3  tech  Progress on new internet domains\\n\\nBy early 2...\n",
       "4  tech  Supercomputer breaks speed record\\n\\nThe US is..."
      ]
     },
     "execution_count": 3,
     "metadata": {},
     "output_type": "execute_result"
    }
   ],
   "source": [
    "def get_text_by_topic(directory_path):\n",
    "    data = []\n",
    "    count = 0\n",
    "    for topic in os.listdir(directory_path):\n",
    "        topic_path = os.path.join(directory_path, topic)\n",
    "        for file_path in os.listdir(topic_path):\n",
    "            try:\n",
    "                with open(f'{topic_path}/{file_path}', 'r', encoding=\"utf-8\") as f:\n",
    "                    data.append(( topic_path.split('/')[-1],f.read()))\n",
    "                count+=1\n",
    "            except UnicodeDecodeError:\n",
    "                print(f'file {file_path} in {topic_path} is not readable')\n",
    "                print(UnicodeDecodeError)\n",
    "    df = pd.DataFrame(data, columns=['label','text'])\n",
    "    print(f\"Total Items loaded: {count}\")\n",
    "    return df\n",
    "                      \n",
    "articles_path = r\"data/BBC News Summary/News Articles\"\n",
    "summaries_path = r\"data/BBC News Summary/Summaries\"\n",
    "\n",
    "articles_df = get_text_by_topic(articles_path)\n",
    "summaries_df = get_text_by_topic(summaries_path)\n",
    "articles_df.head()"
   ]
  },
  {
   "cell_type": "markdown",
   "id": "b0bf6beb-d02d-412c-b582-1f6dabbd1490",
   "metadata": {},
   "source": [
    "### Lets see an example from the dataset"
   ]
  },
  {
   "cell_type": "code",
   "execution_count": 4,
   "id": "5eab6275-fdab-40aa-a9ae-37a2563cc044",
   "metadata": {},
   "outputs": [
    {
     "name": "stdout",
     "output_type": "stream",
     "text": [
      "Articles Shape:  (2224, 2)\n",
      "Summaries Shape:  (2224, 2)\n",
      "\n",
      "Random Example Article in politics:\n",
      "Councils prepare to set tax rises\n",
      "\n",
      "Council tax in Scotland is set to rise by an average of about 4% in the coming year, BBC Scotland has learned.\n",
      "\n",
      "Authorities will decide final figures on Thursday when projected increases will be more than twice the rate of inflation, which is currently 1.6%. The finance minister has urged councils to limit increases but they have warned that they will struggle to maintain services unless funding is increased. They say much additional government money is for new initiatives. Scottish Finance Minister, Tom McCabe MSP, said: \"Last week in parliament I announced an additional £419m for core expenditure to local government in Scotland. \"That's a 5.5% increase and sits against an inflation rate of 1.6%, so I think we have quite rightly said to councils this year that we would at the very least ask them to exercise restraint.\" Mr McCabe is also looking for local authorities to become more efficient and save money in coming years. He told BBC Radio Scotland's Sunday Live programme: \"Here in Scotland we have 32 councils who all have their own individual collection systems for council tax, they have their own payroll systems and their own human resource systems.\n",
      "\n",
      "\"We think there has to be opportunities there for rationalisation and using the money saved to reinvest in frontline services.\" The councils' umbrella organisation Cosla, which provided BBC Scotland with the indicative figures for next year, warned that councils would face a continuous struggle to maintain services. Mr McCabe has promised them about £8.1bn next year. \"However, most of the increase is targeted to new initiatives and councils will experience difficulties in maintaining core services,\" a Cosla spokesman said. Cosla says that it is willing to work with the executive on finding efficiency savings but that these will not be enough to maintain services. They say the funding plans for the next three years will see councils lose more of the share of public spending. The Conservatives accuse the Scottish Executive of using the council tax to raise funds because it is too afraid to raise income tax.\n",
      "\n",
      "The Tory finance spokesman, Brian Monteith MSP, said: \"Its a form of disguise... yet again we see that council tax is being used as a way of passing on costs. \"Scared of actually using its three pence income tax that it could put up, what we've seen over the years is more and more burdens being put onto local authorities and the council tax payer having to pick up the bill.\" There are also warnings that unless funding to councils is increased in the next few years then services may have to be reduced. Linda Knox, Director of the Scottish Local Authority Management Centre at Strathclyde University, said: \"With this current settlement the increase is slowing. At the same time, the burdens on councils are greater than they were. \"The settlement figures don't include pay increases and the executive is also requiring a substantial figure - in the area of £325m - in efficiency savings across the settlement period.\" Education will be protected from any cuts but Linda Knox says this will mean other services will suffer. She said: \"In practice, that will mean a 4-5% cut for other services. On the face of it the settlement looks like an increase of about 9.7% but by the time you take into account other factors its probably only about 1% in real terms.\"\n",
      "\n",
      "Random Example Summary in politics:\n",
      "The councils' umbrella organisation Cosla, which provided BBC Scotland with the indicative figures for next year, warned that councils would face a continuous struggle to maintain services.The finance minister has urged councils to limit increases but they have warned that they will struggle to maintain services unless funding is increased.\"However, most of the increase is targeted to new initiatives and councils will experience difficulties in maintaining core services,\" a Cosla spokesman said.Council tax in Scotland is set to rise by an average of about 4% in the coming year, BBC Scotland has learned.There are also warnings that unless funding to councils is increased in the next few years then services may have to be reduced.\"That's a 5.5% increase and sits against an inflation rate of 1.6%, so I think we have quite rightly said to councils this year that we would at the very least ask them to exercise restraint.\"They say the funding plans for the next three years will see councils lose more of the share of public spending.\"Scared of actually using its three pence income tax that it could put up, what we've seen over the years is more and more burdens being put onto local authorities and the council tax payer having to pick up the bill.\"He told BBC Radio Scotland's Sunday Live programme: \"Here in Scotland we have 32 councils who all have their own individual collection systems for council tax, they have their own payroll systems and their own human resource systems.The Tory finance spokesman, Brian Monteith MSP, said: \"Its a form of disguise... yet again we see that council tax is being used as a way of passing on costs.\n"
     ]
    }
   ],
   "source": [
    "print(\"Articles Shape: \",articles_df.shape)\n",
    "print(\"Summaries Shape: \",summaries_df.shape)\n",
    "# If this fails the wrong number of aricles or summaries was loaded\n",
    "assert(articles_df.shape == summaries_df.shape)\n",
    "\n",
    "ex_idx = int(random.random()*articles_df.shape[0])\n",
    "ex_topic = articles_df[\"label\"][ex_idx]\n",
    "print(f\"\\nRandom Example Article in {ex_topic}:\")\n",
    "print(articles_df[\"text\"][ex_idx])\n",
    "print(f\"Random Example Summary in {ex_topic}:\")\n",
    "print(summaries_df[\"text\"][ex_idx])"
   ]
  },
  {
   "cell_type": "markdown",
   "id": "575fa654-a5c9-423a-a47a-1093a5122e5f",
   "metadata": {},
   "source": [
    "From this example we can see the dataset consists of BBC articles and co-responding summaries that are constructed in an extractive manner, that is, each summary is constructed by selecting a subset of the sentances in the original article."
   ]
  },
  {
   "cell_type": "code",
   "execution_count": 5,
   "id": "f54d1b00-34da-421c-bc2f-0fb5c553ad24",
   "metadata": {},
   "outputs": [
    {
     "data": {
      "text/plain": [
       "label    0\n",
       "text     0\n",
       "dtype: int64"
      ]
     },
     "execution_count": 5,
     "metadata": {},
     "output_type": "execute_result"
    }
   ],
   "source": [
    "# Null Checks\n",
    "articles_df.isna().sum()\n",
    "summaries_df.isna().sum()"
   ]
  },
  {
   "cell_type": "markdown",
   "id": "768ee0be-8316-45c4-bec5-77c5d6bfbed8",
   "metadata": {},
   "source": [
    "Next looking into the balance of each topic in the dataset"
   ]
  },
  {
   "cell_type": "code",
   "execution_count": 6,
   "id": "d6991cf3-9104-4289-b3b1-2e979c53ce23",
   "metadata": {},
   "outputs": [
    {
     "data": {
      "image/png": "[encoded data removed]",
      "text/plain": [
       "<Figure size 640x480 with 1 Axes>"
      ]
     },
     "metadata": {},
     "output_type": "display_data"
    }
   ],
   "source": [
    "# Percent articles in each topic\n",
    "label_vals = articles_df[\"label\"].value_counts()\n",
    "\n",
    "labels = list(label_vals.keys())\n",
    "sizes = list(label_vals)\n",
    "explode = [0]*len(sizes) \n",
    "explode[0] =0.1\n",
    "explode[1] =0.1\n",
    "fig1, ax1 = plt.subplots()\n",
    "ax1.pie(label_vals, explode=explode, labels=labels, autopct='%1.1f%%',shadow=True, startangle=90)\n",
    "ax1.axis('equal')  # Equal aspect ratio ensures that pie is drawn as a circle.\n",
    "plt.title(f\"Out of {articles_df.shape[0]} Articles\")\n",
    "plt.show()\n"
   ]
  },
  {
   "cell_type": "markdown",
   "id": "25b33d5d-137d-4078-af43-8e3ccdc6451b",
   "metadata": {},
   "source": [
    "The classes appear to be well balance so model performance should be equivelent across topics"
   ]
  },
  {
   "cell_type": "code",
   "execution_count": 7,
   "id": "e0a5961f-d8f9-4908-b622-d9d76245fd5e",
   "metadata": {},
   "outputs": [
    {
     "name": "stdout",
     "output_type": "stream",
     "text": [
      "99th percentile in sentance count:  63.0\n"
     ]
    },
    {
     "data": {
      "image/png": "[encoded data removed]",
      "text/plain": [
       "<Figure size 640x480 with 1 Axes>"
      ]
     },
     "metadata": {},
     "output_type": "display_data"
    },
    {
     "data": {
      "text/html": [
       "<div>\n",
       "<style scoped>\n",
       "    .dataframe tbody tr th:only-of-type {\n",
       "        vertical-align: middle;\n",
       "    }\n",
       "\n",
       "    .dataframe tbody tr th {\n",
       "        vertical-align: top;\n",
       "    }\n",
       "\n",
       "    .dataframe thead th {\n",
       "        text-align: right;\n",
       "    }\n",
       "</style>\n",
       "<table border=\"1\" class=\"dataframe\">\n",
       "  <thead>\n",
       "    <tr style=\"text-align: right;\">\n",
       "      <th></th>\n",
       "      <th>tech</th>\n",
       "      <th>business</th>\n",
       "      <th>politics</th>\n",
       "      <th>entertainment</th>\n",
       "      <th>sport</th>\n",
       "    </tr>\n",
       "  </thead>\n",
       "  <tbody>\n",
       "    <tr>\n",
       "      <th>count</th>\n",
       "      <td>401.000000</td>\n",
       "      <td>510.000000</td>\n",
       "      <td>417.000000</td>\n",
       "      <td>386.000000</td>\n",
       "      <td>510.000000</td>\n",
       "    </tr>\n",
       "    <tr>\n",
       "      <th>mean</th>\n",
       "      <td>25.842893</td>\n",
       "      <td>19.680392</td>\n",
       "      <td>22.227818</td>\n",
       "      <td>17.945596</td>\n",
       "      <td>18.280392</td>\n",
       "    </tr>\n",
       "    <tr>\n",
       "      <th>std</th>\n",
       "      <td>12.904370</td>\n",
       "      <td>7.409560</td>\n",
       "      <td>15.467658</td>\n",
       "      <td>14.270836</td>\n",
       "      <td>9.876736</td>\n",
       "    </tr>\n",
       "    <tr>\n",
       "      <th>min</th>\n",
       "      <td>7.000000</td>\n",
       "      <td>7.000000</td>\n",
       "      <td>5.000000</td>\n",
       "      <td>8.000000</td>\n",
       "      <td>7.000000</td>\n",
       "    </tr>\n",
       "    <tr>\n",
       "      <th>25%</th>\n",
       "      <td>18.000000</td>\n",
       "      <td>14.000000</td>\n",
       "      <td>16.000000</td>\n",
       "      <td>12.000000</td>\n",
       "      <td>12.000000</td>\n",
       "    </tr>\n",
       "    <tr>\n",
       "      <th>50%</th>\n",
       "      <td>22.000000</td>\n",
       "      <td>18.000000</td>\n",
       "      <td>21.000000</td>\n",
       "      <td>14.000000</td>\n",
       "      <td>16.000000</td>\n",
       "    </tr>\n",
       "    <tr>\n",
       "      <th>75%</th>\n",
       "      <td>31.000000</td>\n",
       "      <td>23.000000</td>\n",
       "      <td>25.000000</td>\n",
       "      <td>20.000000</td>\n",
       "      <td>23.000000</td>\n",
       "    </tr>\n",
       "    <tr>\n",
       "      <th>max</th>\n",
       "      <td>161.000000</td>\n",
       "      <td>53.000000</td>\n",
       "      <td>246.000000</td>\n",
       "      <td>205.000000</td>\n",
       "      <td>82.000000</td>\n",
       "    </tr>\n",
       "  </tbody>\n",
       "</table>\n",
       "</div>"
      ],
      "text/plain": [
       "             tech    business    politics  entertainment       sport\n",
       "count  401.000000  510.000000  417.000000     386.000000  510.000000\n",
       "mean    25.842893   19.680392   22.227818      17.945596   18.280392\n",
       "std     12.904370    7.409560   15.467658      14.270836    9.876736\n",
       "min      7.000000    7.000000    5.000000       8.000000    7.000000\n",
       "25%     18.000000   14.000000   16.000000      12.000000   12.000000\n",
       "50%     22.000000   18.000000   21.000000      14.000000   16.000000\n",
       "75%     31.000000   23.000000   25.000000      20.000000   23.000000\n",
       "max    161.000000   53.000000  246.000000     205.000000   82.000000"
      ]
     },
     "execution_count": 7,
     "metadata": {},
     "output_type": "execute_result"
    }
   ],
   "source": [
    "# Number of Sentances in articles per topic\n",
    "def get_text_length(daf, split):\n",
    "    text_lens = [[len(t.split(split)) for t in daf[\"text\"][daf['label'] == label]] for label in daf['label'].unique()]\n",
    "    return text_lens\n",
    "\n",
    "# Splitting on . for each sentance\n",
    "text_lens = get_text_length(articles_df, \".\")\n",
    "\n",
    "t_lengths = pd.DataFrame(text_lens).transpose()\n",
    "t_lengths.columns = articles_df['label'].unique()\n",
    "\n",
    "# Outliars\n",
    "print(\"99th percentile in sentance count: \",np.max(t_lengths.quantile(0.99)))\n",
    "\n",
    "plt.boxplot(text_lens)\n",
    "plt.title('Number of Sentances in each Article per topic')\n",
    "plt.ylim(np.min(t_lengths.quantile(0)), np.max(t_lengths.quantile(0.99)))\n",
    "plt.xticks([1,2,3,4,5],articles_df['label'].unique(),\n",
    "                    rotation=45, fontsize=8)\n",
    "plt.show()\n",
    "t_lengths.describe()"
   ]
  },
  {
   "cell_type": "markdown",
   "id": "3fe62179-5377-4e06-bd27-3723ab924a51",
   "metadata": {},
   "source": [
    "It appears that tech articles have the longest articles in terms of sentances however the categories seem to be balanced here aswell. Noteably there are some drastic outliars for article length with 200+ sentances that may have to be removed."
   ]
  },
  {
   "cell_type": "code",
   "execution_count": 8,
   "id": "f368e99e-6e8d-4edc-98fc-58da0235eb83",
   "metadata": {},
   "outputs": [
    {
     "name": "stdout",
     "output_type": "stream",
     "text": [
      "99th percentile in Word count:  475.0\n"
     ]
    },
    {
     "data": {
      "image/png": "[encoded data removed]",
      "text/plain": [
       "<Figure size 640x480 with 1 Axes>"
      ]
     },
     "metadata": {},
     "output_type": "display_data"
    },
    {
     "data": {
      "text/html": [
       "<div>\n",
       "<style scoped>\n",
       "    .dataframe tbody tr th:only-of-type {\n",
       "        vertical-align: middle;\n",
       "    }\n",
       "\n",
       "    .dataframe tbody tr th {\n",
       "        vertical-align: top;\n",
       "    }\n",
       "\n",
       "    .dataframe thead th {\n",
       "        text-align: right;\n",
       "    }\n",
       "</style>\n",
       "<table border=\"1\" class=\"dataframe\">\n",
       "  <thead>\n",
       "    <tr style=\"text-align: right;\">\n",
       "      <th></th>\n",
       "      <th>tech</th>\n",
       "      <th>business</th>\n",
       "      <th>politics</th>\n",
       "      <th>entertainment</th>\n",
       "      <th>sport</th>\n",
       "    </tr>\n",
       "  </thead>\n",
       "  <tbody>\n",
       "    <tr>\n",
       "      <th>count</th>\n",
       "      <td>401.000000</td>\n",
       "      <td>510.00000</td>\n",
       "      <td>417.000000</td>\n",
       "      <td>386.00000</td>\n",
       "      <td>510.000000</td>\n",
       "    </tr>\n",
       "    <tr>\n",
       "      <th>mean</th>\n",
       "      <td>213.880299</td>\n",
       "      <td>139.94902</td>\n",
       "      <td>195.738609</td>\n",
       "      <td>144.07772</td>\n",
       "      <td>143.194118</td>\n",
       "    </tr>\n",
       "    <tr>\n",
       "      <th>std</th>\n",
       "      <td>111.675336</td>\n",
       "      <td>59.48480</td>\n",
       "      <td>139.855957</td>\n",
       "      <td>124.31821</td>\n",
       "      <td>80.966871</td>\n",
       "    </tr>\n",
       "    <tr>\n",
       "      <th>min</th>\n",
       "      <td>65.000000</td>\n",
       "      <td>40.00000</td>\n",
       "      <td>38.000000</td>\n",
       "      <td>54.00000</td>\n",
       "      <td>42.000000</td>\n",
       "    </tr>\n",
       "    <tr>\n",
       "      <th>25%</th>\n",
       "      <td>144.000000</td>\n",
       "      <td>99.00000</td>\n",
       "      <td>132.000000</td>\n",
       "      <td>93.25000</td>\n",
       "      <td>87.000000</td>\n",
       "    </tr>\n",
       "    <tr>\n",
       "      <th>50%</th>\n",
       "      <td>189.000000</td>\n",
       "      <td>127.00000</td>\n",
       "      <td>186.000000</td>\n",
       "      <td>117.00000</td>\n",
       "      <td>122.000000</td>\n",
       "    </tr>\n",
       "    <tr>\n",
       "      <th>75%</th>\n",
       "      <td>264.000000</td>\n",
       "      <td>164.75000</td>\n",
       "      <td>230.000000</td>\n",
       "      <td>154.75000</td>\n",
       "      <td>178.500000</td>\n",
       "    </tr>\n",
       "    <tr>\n",
       "      <th>max</th>\n",
       "      <td>1433.000000</td>\n",
       "      <td>403.00000</td>\n",
       "      <td>2074.000000</td>\n",
       "      <td>1708.00000</td>\n",
       "      <td>659.000000</td>\n",
       "    </tr>\n",
       "  </tbody>\n",
       "</table>\n",
       "</div>"
      ],
      "text/plain": [
       "              tech   business     politics  entertainment       sport\n",
       "count   401.000000  510.00000   417.000000      386.00000  510.000000\n",
       "mean    213.880299  139.94902   195.738609      144.07772  143.194118\n",
       "std     111.675336   59.48480   139.855957      124.31821   80.966871\n",
       "min      65.000000   40.00000    38.000000       54.00000   42.000000\n",
       "25%     144.000000   99.00000   132.000000       93.25000   87.000000\n",
       "50%     189.000000  127.00000   186.000000      117.00000  122.000000\n",
       "75%     264.000000  164.75000   230.000000      154.75000  178.500000\n",
       "max    1433.000000  403.00000  2074.000000     1708.00000  659.000000"
      ]
     },
     "execution_count": 8,
     "metadata": {},
     "output_type": "execute_result"
    }
   ],
   "source": [
    "# Number of Words in articles per topic (splitting on \" \")\n",
    "text_lens = get_text_length(summaries_df, \" \")\n",
    "\n",
    "t_lengths = pd.DataFrame(text_lens).transpose()\n",
    "t_lengths.columns = articles_df['label'].unique()\n",
    "\n",
    "# Outliars\n",
    "print(\"99th percentile in Word count: \",np.max(t_lengths.quantile(0.99)))\n",
    "\n",
    "plt.boxplot(text_lens)\n",
    "plt.title('Number of Words in each Article per topic')\n",
    "plt.ylim(np.min(t_lengths.quantile(0)), np.max(t_lengths.quantile(0.99)))\n",
    "plt.xticks([1,2,3,4,5],articles_df['label'].unique(),\n",
    "                    rotation=45, fontsize=8)\n",
    "plt.show()\n",
    "t_lengths.describe()"
   ]
  },
  {
   "cell_type": "markdown",
   "id": "8ff8ce98-5fd0-4205-8ac5-68ef2303d74a",
   "metadata": {},
   "source": [
    "Comparing the word counts to the sentance counts we can see the same outliar issue exists as well as sports having less words despite having more sentances implying that sentance length will vary based on the topic."
   ]
  },
  {
   "cell_type": "markdown",
   "id": "1b193bc2-8c71-46a4-abba-734ac1b1e6e9",
   "metadata": {},
   "source": [
    "### Next looking at the ground truth reduction in word count"
   ]
  },
  {
   "cell_type": "code",
   "execution_count": 9,
   "id": "a8eae84c-aa92-4f3d-a614-58cd08701438",
   "metadata": {},
   "outputs": [
    {
     "name": "stdout",
     "output_type": "stream",
     "text": [
      "Average percent reduction in words for ...\n",
      "tech summaries: 57.2868%\n",
      "business summaries: 56.8027%\n",
      "politics summaries: 56.5632%\n",
      "entertainment summaries: 56.0781%\n",
      "sport summaries: 55.5133%\n"
     ]
    }
   ],
   "source": [
    "# Summary length reduction per topic by word count\n",
    "articles_len = get_text_length(articles_df, \" \")\n",
    "summaries_len = get_text_length(summaries_df, \" \")\n",
    "\n",
    "\n",
    "# For each Topic\n",
    "print(\"Average percent reduction in words for ...\")\n",
    "for i,topic in enumerate(articles_df['label'].unique()):\n",
    "    # 1  - ratio of summary to article length\n",
    "    avg_percent_reduction = np.mean(1-np.asarray(summaries_len[i])/np.asarray(articles_len[i]))\n",
    "    print(f\"{topic} summaries: {100*avg_percent_reduction:0.4f}%\")"
   ]
  },
  {
   "cell_type": "markdown",
   "id": "479bf668-3842-45d3-a9fb-3f1c39633b9e",
   "metadata": {},
   "source": [
    "From this we see across the board roughly half of the words are dropped in the ground truth summaries implying our model should have a similar dropout rate. This also may indicate classification may be a valid approach to determining whether a sentance should remain in the summary. Running this code over with sentance count reveals a similar trend implying no relationship between sentance length and likelyhood to be in the summmary."
   ]
  },
  {
   "cell_type": "markdown",
   "id": "f4cd6170-cba7-427c-a383-af33c7700032",
   "metadata": {},
   "source": [
    "### EDA with common heuristics in NLP"
   ]
  },
  {
   "cell_type": "markdown",
   "id": "f9be1a73-d7b9-4950-b6d8-39d26ae42a83",
   "metadata": {},
   "source": [
    "In extractive text summarization a common baseline model is to simply take the first few sentances (typically 3) of a peice of text as the summary as writers often introduce their main points in the beggining of articles. We will analyze the effectiveness of this heuristic for the BBC model for possible consideration for a baseline model"
   ]
  },
  {
   "cell_type": "code",
   "execution_count": 10,
   "id": "2c012abe-ab51-4fbd-8c1f-c6e6e13214c5",
   "metadata": {},
   "outputs": [
    {
     "name": "stderr",
     "output_type": "stream",
     "text": [
      "[nltk_data] Downloading package punkt to /home/nelly/nltk_data...\n",
      "[nltk_data]   Package punkt is already up-to-date!\n"
     ]
    },
    {
     "name": "stdout",
     "output_type": "stream",
     "text": [
      "69.83% Article summaries include the first sentance of the article\n",
      "36.29% Article summaries include the first and second\n",
      "17.81% Article summaries include the first, second, and third\n",
      "7.33% Article summaries include the first, second, third and fourth\n"
     ]
    }
   ],
   "source": [
    "# For regular expression\n",
    "import re\n",
    "# for sentance parsing\n",
    "import nltk\n",
    "nltk.download('punkt')\n",
    "from nltk.tokenize import sent_tokenize\n",
    "\n",
    "# turn each article into a list of sentances\n",
    "def get_sentances(texts_list):\n",
    "    documents = []\n",
    "    for text in texts_list:\n",
    "        documents.append(sent_tokenize(text.replace(\"\\n\\n\",\". \").replace(\".. \",\". \").replace(\".\",\". \").replace(\".  \",\". \")))\n",
    "    return documents\n",
    "    #return [[a.strip() for a in t.replace(\"\\n\\n\",\".\").split(\".\") if a!=''] for t in texts_list]\n",
    "\n",
    "# First sentance inclusion in summary\n",
    "article_sentances = get_sentances(articles_df[\"text\"])\n",
    "summary_sentances = get_sentances(summaries_df[\"text\"])\n",
    "\n",
    "# Check how many sentances (up to the fourth) of the article are in the summary\n",
    "counts = [0]*4\n",
    "for a,s in zip(article_sentances,summary_sentances):\n",
    "    for i in range(len(counts)):\n",
    "        if a[i+1] in s:\n",
    "            counts[i]+=1\n",
    "        else:\n",
    "            break\n",
    "print(f\"{100*counts[0]/len(article_sentances):0.2f}% Article summaries include the first sentance of the article\")\n",
    "print(f\"{100*counts[1]/len(article_sentances):0.2f}% Article summaries include the first and second\")\n",
    "print(f\"{100*counts[2]/len(article_sentances):0.2f}% Article summaries include the first, second, and third\")\n",
    "print(f\"{100*counts[3]/len(article_sentances):0.2f}% Article summaries include the first, second, third and fourth\")"
   ]
  },
  {
   "cell_type": "markdown",
   "id": "37d622d7-f6c3-4ada-bce7-e10c34857f28",
   "metadata": {},
   "source": [
    "From this a good baseline model to compare text summarization would simply be to use the first few sentances of each article as the summary. The performance of this method is best with including one to two sentances"
   ]
  },
  {
   "cell_type": "code",
   "execution_count": 11,
   "id": "7c38957b-6429-493a-b31f-1ea048f0cba0",
   "metadata": {},
   "outputs": [],
   "source": [
    "# Rarity of words used"
   ]
  },
  {
   "cell_type": "code",
   "execution_count": 12,
   "id": "27d90977-ef21-475c-b14d-61ba3fc71d7c",
   "metadata": {},
   "outputs": [
    {
     "name": "stderr",
     "output_type": "stream",
     "text": [
      "[nltk_data] Downloading package stopwords to /home/nelly/nltk_data...\n",
      "[nltk_data]   Package stopwords is already up-to-date!\n"
     ]
    }
   ],
   "source": [
    "# Overall use of stop words\n",
    "import nltk\n",
    "nltk.download('stopwords')\n",
    "from nltk.corpus import stopwords\n",
    "\n",
    "# Most common words after stop words"
   ]
  },
  {
   "cell_type": "code",
   "execution_count": 13,
   "id": "4c3aaa44-c47b-4893-9c5d-4dbd34e22ba6",
   "metadata": {},
   "outputs": [],
   "source": [
    "# Additional NLP statistics"
   ]
  },
  {
   "cell_type": "markdown",
   "id": "8014b038-9c79-4ad8-bbcb-b2316a42b480",
   "metadata": {},
   "source": [
    "## Base Line Model\n",
    "From the EDA we found that an effective baseline model would be taking the first two sentances of the article as the predicted summary"
   ]
  },
  {
   "cell_type": "code",
   "execution_count": 14,
   "id": "40f90877-6abc-4684-bfa9-ab66e7ae809f",
   "metadata": {},
   "outputs": [
    {
     "name": "stdout",
     "output_type": "stream",
     "text": [
      "Example baseline: ['Visitors to the British Library will be able to get wireless internet access alongside the extensive information available in its famous reading rooms.', 'Broadband wireless connectivity will be made available in the eleven reading rooms, the auditorium, caf&#233;, restaurant, and outdoor Piazza area.']\n",
      "\n",
      "Example summary: ['\"At the British Library we are continually exploring ways in which technology can help us to improve services to our users,\" said Lynne Brindley, chief executive of the British Library.', 'The majority of visitors wanted to be able to access their e-mail as well as the British Library catalogue.', 'Visitors to the British Library will be able to get wireless internet access alongside the extensive information available in its famous reading rooms.', \"The technology has been on trial since May and usage levels make the Library London's most active public hotspot.\", 'The British Library receives around 3,000 visitors each day and serves around 500,000 readers each year.', 'A study revealed that 86% of visitors to the Library carried laptops.', 'The study, conducted by consultancy Building Zones, found that 16% of visitors came to the Library to sit down and use it as a business centre.']\n"
     ]
    }
   ],
   "source": [
    "# Each base line prediction is the first two sentaces of the article\n",
    "def base_line_predict(articles_df):\n",
    "    predictions = []\n",
    "    article_sentances = get_sentances(articles_df[\"text\"])\n",
    "    for a in article_sentances:\n",
    "        predictions.append(a[1:3])\n",
    "    return predictions\n",
    "\n",
    "pred = base_line_predict(articles_df)\n",
    "print(f\"Example baseline: {pred[0]}\\n\")\n",
    "print(f\"Example summary: {summary_sentances[0]}\")"
   ]
  },
  {
   "cell_type": "markdown",
   "id": "f5308ace-90a9-4c4e-ad2d-964361b7752f",
   "metadata": {},
   "source": [
    "## Preprocessing For Extractive Text Summarization"
   ]
  },
  {
   "cell_type": "code",
   "execution_count": 15,
   "id": "656b44e7-d5b6-4520-966d-48d9726cefc8",
   "metadata": {},
   "outputs": [],
   "source": [
    "from nltk.tokenize import word_tokenize\n",
    "def compare_sentances(sentance_a, sentance_b):\n",
    "    tok_a = word_tokenize(sentance_a)\n",
    "    tok_b = word_tokenize(sentance_b)\n",
    "    matches = 0\n",
    "    for tok in tok_a:\n",
    "        if tok in tok_b:\n",
    "            matches+=1\n",
    "    return float(matches)/len(tok_a)\n",
    "    \n",
    "# Generate Label\n",
    "def generate_labels(articles_df, summaries_df):\n",
    "    article_sentances = get_sentances(articles_df[\"text\"])\n",
    "    summary_sentances = get_sentances(summaries_df[\"text\"])\n",
    "    labels = []\n",
    "    count=0\n",
    "    total_sentances = 0\n",
    "    same = 0\n",
    "    for article,summary in zip(article_sentances,summary_sentances):\n",
    "        sentance_inclusion = []\n",
    "        for sentance_a in article:\n",
    "            in_summary = False\n",
    "            for sentance_b in summary:\n",
    "                if len(sentance_b)<3:\n",
    "                    continue\n",
    "                percent_match = compare_sentances(sentance_a, sentance_b)\n",
    "                if percent_match > 0.95:\n",
    "                    in_summary=True\n",
    "                    break\n",
    "            total_sentances+=1\n",
    "            if in_summary and len(sentance_a)>3:\n",
    "                sentance_inclusion.append(1)\n",
    "            else:\n",
    "                sentance_inclusion.append(0)\n",
    "        same+=np.sum(sentance_inclusion) == len(summary)\n",
    "        count+=1\n",
    "        print(f\"Percent Complete: {100*count/len(article_sentances):0.2f}%\",end=\"\\r\")\n",
    "        labels.append(sentance_inclusion)\n",
    "        \n",
    "    print()\n",
    "    print(\"Matching  labels \",same)\n",
    "    print(\"Total \",len(article_sentances))\n",
    "    print(f\"Total Sentances processed {total_sentances}\")\n",
    "    return labels\n",
    "\n",
    "#y_labels = generate_labels(articles_df, summaries_df) \n",
    "\n",
    "# Expand contractions\n",
    "# lowercase\n",
    "# Remove digits and words containing digits\n",
    "# Remove punctuations\n",
    "# Remove stop words\n",
    "\n",
    "# Remove Contractions and other anomolies\n",
    "\n",
    "# Vectorize sentance"
   ]
  },
  {
   "cell_type": "markdown",
   "id": "e458c96e-e09e-40d0-8d6e-d08d62a25568",
   "metadata": {},
   "source": [
    "## Naive extractive model based on single sentance analysis"
   ]
  },
  {
   "cell_type": "code",
   "execution_count": 16,
   "id": "e923c207-7f42-428f-9c22-ba0560f016af",
   "metadata": {},
   "outputs": [
    {
     "name": "stdout",
     "output_type": "stream",
     "text": [
      "Percent Complete: 100.00%\n",
      "Matching  labels  1867\n",
      "Total  2224\n",
      "Total Sentances processed 46905\n"
     ]
    }
   ],
   "source": [
    "article_sentances = get_sentances(articles_df[\"text\"])\n",
    "y_labels = generate_labels(articles_df, summaries_df) "
   ]
  },
  {
   "cell_type": "code",
   "execution_count": 17,
   "id": "bfa64627-abcd-46d2-9b3e-fa1772ed3af1",
   "metadata": {},
   "outputs": [
    {
     "name": "stderr",
     "output_type": "stream",
     "text": [
      "/home/nelly/.local/share/virtualenvs/Fall-akRgt48W/lib/python3.8/site-packages/tensorflow_addons/utils/ensure_tf_install.py:53: UserWarning: Tensorflow Addons supports using Python ops for all Tensorflow versions above or equal to 2.8.0 and strictly below 2.11.0 (nightly versions are not supported). \n",
      " The versions of TensorFlow you are currently using is 2.11.0 and is not supported. \n",
      "Some things might work, some things might not.\n",
      "If you were to encounter a bug, do not file an issue.\n",
      "If you want to make sure you're using a tested and supported configuration, either change the TensorFlow version or the TensorFlow Addons's version. \n",
      "You can find the compatibility matrix in TensorFlow Addon's readme:\n",
      "https://github.com/tensorflow/addons\n",
      "  warnings.warn(\n",
      "/home/nelly/.local/share/virtualenvs/Fall-akRgt48W/lib/python3.8/site-packages/tqdm/auto.py:22: TqdmWarning: IProgress not found. Please update jupyter and ipywidgets. See https://ipywidgets.readthedocs.io/en/stable/user_install.html\n",
      "  from .autonotebook import tqdm as notebook_tqdm\n",
      "2022-12-07 22:36:53.345603: I tensorflow/compiler/xla/stream_executor/cuda/cuda_gpu_executor.cc:981] successful NUMA node read from SysFS had negative value (-1), but there must be at least one NUMA node, so returning NUMA node zero\n",
      "2022-12-07 22:36:53.365716: I tensorflow/compiler/xla/stream_executor/cuda/cuda_gpu_executor.cc:981] successful NUMA node read from SysFS had negative value (-1), but there must be at least one NUMA node, so returning NUMA node zero\n",
      "2022-12-07 22:36:53.365925: I tensorflow/compiler/xla/stream_executor/cuda/cuda_gpu_executor.cc:981] successful NUMA node read from SysFS had negative value (-1), but there must be at least one NUMA node, so returning NUMA node zero\n",
      "2022-12-07 22:36:53.366406: I tensorflow/core/platform/cpu_feature_guard.cc:193] This TensorFlow binary is optimized with oneAPI Deep Neural Network Library (oneDNN) to use the following CPU instructions in performance-critical operations:  AVX2 FMA\n",
      "To enable them in other operations, rebuild TensorFlow with the appropriate compiler flags.\n",
      "2022-12-07 22:36:53.367302: I tensorflow/compiler/xla/stream_executor/cuda/cuda_gpu_executor.cc:981] successful NUMA node read from SysFS had negative value (-1), but there must be at least one NUMA node, so returning NUMA node zero\n",
      "2022-12-07 22:36:53.367640: I tensorflow/compiler/xla/stream_executor/cuda/cuda_gpu_executor.cc:981] successful NUMA node read from SysFS had negative value (-1), but there must be at least one NUMA node, so returning NUMA node zero\n",
      "2022-12-07 22:36:53.367821: I tensorflow/compiler/xla/stream_executor/cuda/cuda_gpu_executor.cc:981] successful NUMA node read from SysFS had negative value (-1), but there must be at least one NUMA node, so returning NUMA node zero\n",
      "2022-12-07 22:36:53.834116: I tensorflow/compiler/xla/stream_executor/cuda/cuda_gpu_executor.cc:981] successful NUMA node read from SysFS had negative value (-1), but there must be at least one NUMA node, so returning NUMA node zero\n",
      "2022-12-07 22:36:53.834333: I tensorflow/compiler/xla/stream_executor/cuda/cuda_gpu_executor.cc:981] successful NUMA node read from SysFS had negative value (-1), but there must be at least one NUMA node, so returning NUMA node zero\n",
      "2022-12-07 22:36:53.834467: I tensorflow/compiler/xla/stream_executor/cuda/cuda_gpu_executor.cc:981] successful NUMA node read from SysFS had negative value (-1), but there must be at least one NUMA node, so returning NUMA node zero\n",
      "2022-12-07 22:36:53.834566: I tensorflow/core/common_runtime/gpu/gpu_device.cc:1613] Created device /job:localhost/replica:0/task:0/device:GPU:0 with 6725 MB memory:  -> device: 0, name: NVIDIA GeForce GTX 1070, pci bus id: 0000:01:00.0, compute capability: 6.1\n"
     ]
    },
    {
     "name": "stdout",
     "output_type": "stream",
     "text": [
      "There are 46905 sentances in total\n",
      "Vecorized sentance sample: [1447    3    2  157 3925   23   15  297    3   89]\n",
      "Corresponding label: 1\n"
     ]
    }
   ],
   "source": [
    "import tensorflow as tf\n",
    "from tensorflow_models import nlp\n",
    "from tensorflow.keras import layers\n",
    "from tensorflow.keras import losses\n",
    "from keras.utils import pad_sequences\n",
    "import string \n",
    "\n",
    "def ex_standarize(input_txt):\n",
    "  lowercase_txt = tf.strings.lower(input_txt)\n",
    "  return tf.strings.regex_replace(lowercase_txt,'[%s]' % re.escape(string.punctuation),'')\n",
    "\n",
    "max_features = 10000\n",
    "sequence_length = 250\n",
    "\n",
    "vectorize_layer = layers.TextVectorization(\n",
    "    standardize=ex_standarize,\n",
    "    max_tokens=max_features,\n",
    "    output_mode='int',\n",
    "    output_sequence_length=sequence_length)\n",
    "\n",
    "\n",
    "vectorize_layer.adapt(articles_df[\"text\"])\n",
    "\n",
    "all_sentances = []\n",
    "all_labels = []\n",
    "\n",
    "for i in range(len(article_sentances)):\n",
    "    for j in range(len(article_sentances[i])):\n",
    "        all_sentances.append(article_sentances[i][j])\n",
    "        all_labels.append(y_labels[i][j])\n",
    "\n",
    "x_train = vectorize_layer(all_sentances)\n",
    "y_train = np.asarray(all_labels)\n",
    "print(f\"There are {len(x_train)} sentances in total\")\n",
    "print(f\"Vecorized sentance sample: {x_train[1][:10]}\")\n",
    "print(f\"Corresponding label: {y_train[1]}\")"
   ]
  },
  {
   "cell_type": "code",
   "execution_count": 18,
   "id": "3fa17cbe-e10f-4afb-854c-b2189bdfc3b7",
   "metadata": {},
   "outputs": [
    {
     "name": "stdout",
     "output_type": "stream",
     "text": [
      "Model: \"sequential\"\n",
      "_________________________________________________________________\n",
      " Layer (type)                Output Shape              Param #   \n",
      "=================================================================\n",
      " embedding (Embedding)       (None, None, 16)          160016    \n",
      "                                                                 \n",
      " dropout (Dropout)           (None, None, 16)          0         \n",
      "                                                                 \n",
      " global_average_pooling1d (G  (None, 16)               0         \n",
      " lobalAveragePooling1D)                                          \n",
      "                                                                 \n",
      " dropout_1 (Dropout)         (None, 16)                0         \n",
      "                                                                 \n",
      " dense (Dense)               (None, 1)                 17        \n",
      "                                                                 \n",
      "=================================================================\n",
      "Total params: 160,033\n",
      "Trainable params: 160,033\n",
      "Non-trainable params: 0\n",
      "_________________________________________________________________\n"
     ]
    }
   ],
   "source": [
    "embedding_dim = 16\n",
    "model = tf.keras.Sequential([\n",
    "  layers.Embedding(max_features + 1, embedding_dim),\n",
    "  layers.Dropout(0.2),\n",
    "  layers.GlobalAveragePooling1D(),\n",
    "  layers.Dropout(0.2),\n",
    "  layers.Dense(1)])\n",
    "\n",
    "model.summary()"
   ]
  },
  {
   "cell_type": "code",
   "execution_count": 19,
   "id": "10cbf60e-f068-4152-9cf2-b4dde68e06ec",
   "metadata": {},
   "outputs": [],
   "source": [
    "model.compile(loss=losses.BinaryCrossentropy(from_logits=True),\n",
    "              optimizer='adam',\n",
    "              metrics=tf.metrics.BinaryAccuracy(threshold=0.0))"
   ]
  },
  {
   "cell_type": "code",
   "execution_count": 20,
   "id": "2a95166e-e66b-4e6d-9219-a3ea49a1b44b",
   "metadata": {},
   "outputs": [
    {
     "name": "stdout",
     "output_type": "stream",
     "text": [
      "Epoch 1/10\n"
     ]
    },
    {
     "name": "stderr",
     "output_type": "stream",
     "text": [
      "2022-12-07 22:36:55.660167: I tensorflow/compiler/xla/service/service.cc:173] XLA service 0x5629cd2574e0 initialized for platform CUDA (this does not guarantee that XLA will be used). Devices:\n",
      "2022-12-07 22:36:55.660187: I tensorflow/compiler/xla/service/service.cc:181]   StreamExecutor device (0): NVIDIA GeForce GTX 1070, Compute Capability 6.1\n",
      "2022-12-07 22:36:55.665365: I tensorflow/compiler/mlir/tensorflow/utils/dump_mlir_util.cc:268] disabling MLIR crash reproducer, set env var `MLIR_CRASH_REPRODUCER_DIRECTORY` to enable.\n",
      "2022-12-07 22:36:55.681133: W tensorflow/compiler/xla/service/gpu/nvptx_helper.cc:56] Can't find libdevice directory ${CUDA_DIR}/nvvm/libdevice. This may result in compilation or runtime failures, if the program we try to run uses routines from libdevice.\n",
      "Searched for CUDA in the following directories:\n",
      "  ./cuda_sdk_lib\n",
      "  /usr/local/cuda-11.2\n",
      "  /usr/local/cuda\n",
      "  .\n",
      "You can choose the search directory by setting xla_gpu_cuda_data_dir in HloModule's DebugOptions.  For most apps, setting the environment variable XLA_FLAGS=--xla_gpu_cuda_data_dir=/path/to/cuda will work.\n",
      "2022-12-07 22:36:55.682004: W tensorflow/compiler/xla/service/gpu/llvm_gpu_backend/gpu_backend_lib.cc:326] libdevice is required by this HLO module but was not found at ./libdevice.10.bc\n",
      "2022-12-07 22:36:55.682159: I tensorflow/compiler/jit/xla_compilation_cache.cc:477] Compiled cluster using XLA!  This line is logged at most once for the lifetime of the process.\n",
      "2022-12-07 22:36:55.682256: W tensorflow/core/framework/op_kernel.cc:1830] OP_REQUIRES failed at xla_ops.cc:446 : INTERNAL: libdevice not found at ./libdevice.10.bc\n",
      "2022-12-07 22:36:55.697775: W tensorflow/compiler/xla/service/gpu/llvm_gpu_backend/gpu_backend_lib.cc:326] libdevice is required by this HLO module but was not found at ./libdevice.10.bc\n",
      "2022-12-07 22:36:55.698029: W tensorflow/core/framework/op_kernel.cc:1830] OP_REQUIRES failed at xla_ops.cc:446 : INTERNAL: libdevice not found at ./libdevice.10.bc\n",
      "2022-12-07 22:36:55.717849: W tensorflow/compiler/xla/service/gpu/llvm_gpu_backend/gpu_backend_lib.cc:326] libdevice is required by this HLO module but was not found at ./libdevice.10.bc\n",
      "2022-12-07 22:36:55.718174: W tensorflow/core/framework/op_kernel.cc:1830] OP_REQUIRES failed at xla_ops.cc:446 : INTERNAL: libdevice not found at ./libdevice.10.bc\n"
     ]
    },
    {
     "ename": "InternalError",
     "evalue": "Graph execution error:\n\nDetected at node 'StatefulPartitionedCall_1' defined at (most recent call last):\n    File \"/home/nelly/.pyenv/versions/3.8.13/lib/python3.8/runpy.py\", line 194, in _run_module_as_main\n      return _run_code(code, main_globals, None,\n    File \"/home/nelly/.pyenv/versions/3.8.13/lib/python3.8/runpy.py\", line 87, in _run_code\n      exec(code, run_globals)\n    File \"/home/nelly/.local/share/virtualenvs/Fall-akRgt48W/lib/python3.8/site-packages/ipykernel_launcher.py\", line 17, in <module>\n      app.launch_new_instance()\n    File \"/home/nelly/.local/share/virtualenvs/Fall-akRgt48W/lib/python3.8/site-packages/traitlets/config/application.py\", line 985, in launch_instance\n      app.start()\n    File \"/home/nelly/.local/share/virtualenvs/Fall-akRgt48W/lib/python3.8/site-packages/ipykernel/kernelapp.py\", line 712, in start\n      self.io_loop.start()\n    File \"/home/nelly/.local/share/virtualenvs/Fall-akRgt48W/lib/python3.8/site-packages/tornado/platform/asyncio.py\", line 215, in start\n      self.asyncio_loop.run_forever()\n    File \"/home/nelly/.pyenv/versions/3.8.13/lib/python3.8/asyncio/base_events.py\", line 570, in run_forever\n      self._run_once()\n    File \"/home/nelly/.pyenv/versions/3.8.13/lib/python3.8/asyncio/base_events.py\", line 1859, in _run_once\n      handle._run()\n    File \"/home/nelly/.pyenv/versions/3.8.13/lib/python3.8/asyncio/events.py\", line 81, in _run\n      self._context.run(self._callback, *self._args)\n    File \"/home/nelly/.local/share/virtualenvs/Fall-akRgt48W/lib/python3.8/site-packages/ipykernel/kernelbase.py\", line 510, in dispatch_queue\n      await self.process_one()\n    File \"/home/nelly/.local/share/virtualenvs/Fall-akRgt48W/lib/python3.8/site-packages/ipykernel/kernelbase.py\", line 499, in process_one\n      await dispatch(*args)\n    File \"/home/nelly/.local/share/virtualenvs/Fall-akRgt48W/lib/python3.8/site-packages/ipykernel/kernelbase.py\", line 406, in dispatch_shell\n      await result\n    File \"/home/nelly/.local/share/virtualenvs/Fall-akRgt48W/lib/python3.8/site-packages/ipykernel/kernelbase.py\", line 730, in execute_request\n      reply_content = await reply_content\n    File \"/home/nelly/.local/share/virtualenvs/Fall-akRgt48W/lib/python3.8/site-packages/ipykernel/ipkernel.py\", line 383, in do_execute\n      res = shell.run_cell(\n    File \"/home/nelly/.local/share/virtualenvs/Fall-akRgt48W/lib/python3.8/site-packages/ipykernel/zmqshell.py\", line 528, in run_cell\n      return super().run_cell(*args, **kwargs)\n    File \"/home/nelly/.local/share/virtualenvs/Fall-akRgt48W/lib/python3.8/site-packages/IPython/core/interactiveshell.py\", line 2940, in run_cell\n      result = self._run_cell(\n    File \"/home/nelly/.local/share/virtualenvs/Fall-akRgt48W/lib/python3.8/site-packages/IPython/core/interactiveshell.py\", line 2995, in _run_cell\n      return runner(coro)\n    File \"/home/nelly/.local/share/virtualenvs/Fall-akRgt48W/lib/python3.8/site-packages/IPython/core/async_helpers.py\", line 129, in _pseudo_sync_runner\n      coro.send(None)\n    File \"/home/nelly/.local/share/virtualenvs/Fall-akRgt48W/lib/python3.8/site-packages/IPython/core/interactiveshell.py\", line 3194, in run_cell_async\n      has_raised = await self.run_ast_nodes(code_ast.body, cell_name,\n    File \"/home/nelly/.local/share/virtualenvs/Fall-akRgt48W/lib/python3.8/site-packages/IPython/core/interactiveshell.py\", line 3373, in run_ast_nodes\n      if await self.run_code(code, result, async_=asy):\n    File \"/home/nelly/.local/share/virtualenvs/Fall-akRgt48W/lib/python3.8/site-packages/IPython/core/interactiveshell.py\", line 3433, in run_code\n      exec(code_obj, self.user_global_ns, self.user_ns)\n    File \"/tmp/ipykernel_3055/2508610431.py\", line 2, in <module>\n      history = model.fit(\n    File \"/home/nelly/.local/share/virtualenvs/Fall-akRgt48W/lib/python3.8/site-packages/keras/utils/traceback_utils.py\", line 65, in error_handler\n      return fn(*args, **kwargs)\n    File \"/home/nelly/.local/share/virtualenvs/Fall-akRgt48W/lib/python3.8/site-packages/keras/engine/training.py\", line 1650, in fit\n      tmp_logs = self.train_function(iterator)\n    File \"/home/nelly/.local/share/virtualenvs/Fall-akRgt48W/lib/python3.8/site-packages/keras/engine/training.py\", line 1249, in train_function\n      return step_function(self, iterator)\n    File \"/home/nelly/.local/share/virtualenvs/Fall-akRgt48W/lib/python3.8/site-packages/keras/engine/training.py\", line 1233, in step_function\n      outputs = model.distribute_strategy.run(run_step, args=(data,))\n    File \"/home/nelly/.local/share/virtualenvs/Fall-akRgt48W/lib/python3.8/site-packages/keras/engine/training.py\", line 1222, in run_step\n      outputs = model.train_step(data)\n    File \"/home/nelly/.local/share/virtualenvs/Fall-akRgt48W/lib/python3.8/site-packages/keras/engine/training.py\", line 1027, in train_step\n      self.optimizer.minimize(loss, self.trainable_variables, tape=tape)\n    File \"/home/nelly/.local/share/virtualenvs/Fall-akRgt48W/lib/python3.8/site-packages/keras/optimizers/optimizer_experimental/optimizer.py\", line 527, in minimize\n      self.apply_gradients(grads_and_vars)\n    File \"/home/nelly/.local/share/virtualenvs/Fall-akRgt48W/lib/python3.8/site-packages/keras/optimizers/optimizer_experimental/optimizer.py\", line 1140, in apply_gradients\n      return super().apply_gradients(grads_and_vars, name=name)\n    File \"/home/nelly/.local/share/virtualenvs/Fall-akRgt48W/lib/python3.8/site-packages/keras/optimizers/optimizer_experimental/optimizer.py\", line 634, in apply_gradients\n      iteration = self._internal_apply_gradients(grads_and_vars)\n    File \"/home/nelly/.local/share/virtualenvs/Fall-akRgt48W/lib/python3.8/site-packages/keras/optimizers/optimizer_experimental/optimizer.py\", line 1166, in _internal_apply_gradients\n      return tf.__internal__.distribute.interim.maybe_merge_call(\n    File \"/home/nelly/.local/share/virtualenvs/Fall-akRgt48W/lib/python3.8/site-packages/keras/optimizers/optimizer_experimental/optimizer.py\", line 1216, in _distributed_apply_gradients_fn\n      distribution.extended.update(\n    File \"/home/nelly/.local/share/virtualenvs/Fall-akRgt48W/lib/python3.8/site-packages/keras/optimizers/optimizer_experimental/optimizer.py\", line 1211, in apply_grad_to_update_var\n      return self._update_step_xla(grad, var, id(self._var_key(var)))\nNode: 'StatefulPartitionedCall_1'\nlibdevice not found at ./libdevice.10.bc\n\t [[{{node StatefulPartitionedCall_1}}]] [Op:__inference_train_function_1253]",
     "output_type": "error",
     "traceback": [
      "\u001b[0;31m---------------------------------------------------------------------------\u001b[0m",
      "\u001b[0;31mInternalError\u001b[0m                             Traceback (most recent call last)",
      "Cell \u001b[0;32mIn[20], line 2\u001b[0m\n\u001b[1;32m      1\u001b[0m epochs \u001b[38;5;241m=\u001b[39m \u001b[38;5;241m10\u001b[39m\n\u001b[0;32m----> 2\u001b[0m history \u001b[38;5;241m=\u001b[39m \u001b[43mmodel\u001b[49m\u001b[38;5;241;43m.\u001b[39;49m\u001b[43mfit\u001b[49m\u001b[43m(\u001b[49m\n\u001b[1;32m      3\u001b[0m \u001b[43m    \u001b[49m\u001b[43mx\u001b[49m\u001b[38;5;241;43m=\u001b[39;49m\u001b[43mx_train\u001b[49m\u001b[43m,\u001b[49m\u001b[43m \u001b[49m\u001b[43my\u001b[49m\u001b[38;5;241;43m=\u001b[39;49m\u001b[43my_train\u001b[49m\u001b[43m,\u001b[49m\n\u001b[1;32m      4\u001b[0m \u001b[43m    \u001b[49m\u001b[43mepochs\u001b[49m\u001b[38;5;241;43m=\u001b[39;49m\u001b[43mepochs\u001b[49m\u001b[43m)\u001b[49m\n",
      "File \u001b[0;32m~/.local/share/virtualenvs/Fall-akRgt48W/lib/python3.8/site-packages/keras/utils/traceback_utils.py:70\u001b[0m, in \u001b[0;36mfilter_traceback.<locals>.error_handler\u001b[0;34m(*args, **kwargs)\u001b[0m\n\u001b[1;32m     67\u001b[0m     filtered_tb \u001b[38;5;241m=\u001b[39m _process_traceback_frames(e\u001b[38;5;241m.\u001b[39m__traceback__)\n\u001b[1;32m     68\u001b[0m     \u001b[38;5;66;03m# To get the full stack trace, call:\u001b[39;00m\n\u001b[1;32m     69\u001b[0m     \u001b[38;5;66;03m# `tf.debugging.disable_traceback_filtering()`\u001b[39;00m\n\u001b[0;32m---> 70\u001b[0m     \u001b[38;5;28;01mraise\u001b[39;00m e\u001b[38;5;241m.\u001b[39mwith_traceback(filtered_tb) \u001b[38;5;28;01mfrom\u001b[39;00m \u001b[38;5;28mNone\u001b[39m\n\u001b[1;32m     71\u001b[0m \u001b[38;5;28;01mfinally\u001b[39;00m:\n\u001b[1;32m     72\u001b[0m     \u001b[38;5;28;01mdel\u001b[39;00m filtered_tb\n",
      "File \u001b[0;32m~/.local/share/virtualenvs/Fall-akRgt48W/lib/python3.8/site-packages/tensorflow/python/eager/execute.py:52\u001b[0m, in \u001b[0;36mquick_execute\u001b[0;34m(op_name, num_outputs, inputs, attrs, ctx, name)\u001b[0m\n\u001b[1;32m     50\u001b[0m \u001b[38;5;28;01mtry\u001b[39;00m:\n\u001b[1;32m     51\u001b[0m   ctx\u001b[38;5;241m.\u001b[39mensure_initialized()\n\u001b[0;32m---> 52\u001b[0m   tensors \u001b[38;5;241m=\u001b[39m pywrap_tfe\u001b[38;5;241m.\u001b[39mTFE_Py_Execute(ctx\u001b[38;5;241m.\u001b[39m_handle, device_name, op_name,\n\u001b[1;32m     53\u001b[0m                                       inputs, attrs, num_outputs)\n\u001b[1;32m     54\u001b[0m \u001b[38;5;28;01mexcept\u001b[39;00m core\u001b[38;5;241m.\u001b[39m_NotOkStatusException \u001b[38;5;28;01mas\u001b[39;00m e:\n\u001b[1;32m     55\u001b[0m   \u001b[38;5;28;01mif\u001b[39;00m name \u001b[38;5;129;01mis\u001b[39;00m \u001b[38;5;129;01mnot\u001b[39;00m \u001b[38;5;28;01mNone\u001b[39;00m:\n",
      "\u001b[0;31mInternalError\u001b[0m: Graph execution error:\n\nDetected at node 'StatefulPartitionedCall_1' defined at (most recent call last):\n    File \"/home/nelly/.pyenv/versions/3.8.13/lib/python3.8/runpy.py\", line 194, in _run_module_as_main\n      return _run_code(code, main_globals, None,\n    File \"/home/nelly/.pyenv/versions/3.8.13/lib/python3.8/runpy.py\", line 87, in _run_code\n      exec(code, run_globals)\n    File \"/home/nelly/.local/share/virtualenvs/Fall-akRgt48W/lib/python3.8/site-packages/ipykernel_launcher.py\", line 17, in <module>\n      app.launch_new_instance()\n    File \"/home/nelly/.local/share/virtualenvs/Fall-akRgt48W/lib/python3.8/site-packages/traitlets/config/application.py\", line 985, in launch_instance\n      app.start()\n    File \"/home/nelly/.local/share/virtualenvs/Fall-akRgt48W/lib/python3.8/site-packages/ipykernel/kernelapp.py\", line 712, in start\n      self.io_loop.start()\n    File \"/home/nelly/.local/share/virtualenvs/Fall-akRgt48W/lib/python3.8/site-packages/tornado/platform/asyncio.py\", line 215, in start\n      self.asyncio_loop.run_forever()\n    File \"/home/nelly/.pyenv/versions/3.8.13/lib/python3.8/asyncio/base_events.py\", line 570, in run_forever\n      self._run_once()\n    File \"/home/nelly/.pyenv/versions/3.8.13/lib/python3.8/asyncio/base_events.py\", line 1859, in _run_once\n      handle._run()\n    File \"/home/nelly/.pyenv/versions/3.8.13/lib/python3.8/asyncio/events.py\", line 81, in _run\n      self._context.run(self._callback, *self._args)\n    File \"/home/nelly/.local/share/virtualenvs/Fall-akRgt48W/lib/python3.8/site-packages/ipykernel/kernelbase.py\", line 510, in dispatch_queue\n      await self.process_one()\n    File \"/home/nelly/.local/share/virtualenvs/Fall-akRgt48W/lib/python3.8/site-packages/ipykernel/kernelbase.py\", line 499, in process_one\n      await dispatch(*args)\n    File \"/home/nelly/.local/share/virtualenvs/Fall-akRgt48W/lib/python3.8/site-packages/ipykernel/kernelbase.py\", line 406, in dispatch_shell\n      await result\n    File \"/home/nelly/.local/share/virtualenvs/Fall-akRgt48W/lib/python3.8/site-packages/ipykernel/kernelbase.py\", line 730, in execute_request\n      reply_content = await reply_content\n    File \"/home/nelly/.local/share/virtualenvs/Fall-akRgt48W/lib/python3.8/site-packages/ipykernel/ipkernel.py\", line 383, in do_execute\n      res = shell.run_cell(\n    File \"/home/nelly/.local/share/virtualenvs/Fall-akRgt48W/lib/python3.8/site-packages/ipykernel/zmqshell.py\", line 528, in run_cell\n      return super().run_cell(*args, **kwargs)\n    File \"/home/nelly/.local/share/virtualenvs/Fall-akRgt48W/lib/python3.8/site-packages/IPython/core/interactiveshell.py\", line 2940, in run_cell\n      result = self._run_cell(\n    File \"/home/nelly/.local/share/virtualenvs/Fall-akRgt48W/lib/python3.8/site-packages/IPython/core/interactiveshell.py\", line 2995, in _run_cell\n      return runner(coro)\n    File \"/home/nelly/.local/share/virtualenvs/Fall-akRgt48W/lib/python3.8/site-packages/IPython/core/async_helpers.py\", line 129, in _pseudo_sync_runner\n      coro.send(None)\n    File \"/home/nelly/.local/share/virtualenvs/Fall-akRgt48W/lib/python3.8/site-packages/IPython/core/interactiveshell.py\", line 3194, in run_cell_async\n      has_raised = await self.run_ast_nodes(code_ast.body, cell_name,\n    File \"/home/nelly/.local/share/virtualenvs/Fall-akRgt48W/lib/python3.8/site-packages/IPython/core/interactiveshell.py\", line 3373, in run_ast_nodes\n      if await self.run_code(code, result, async_=asy):\n    File \"/home/nelly/.local/share/virtualenvs/Fall-akRgt48W/lib/python3.8/site-packages/IPython/core/interactiveshell.py\", line 3433, in run_code\n      exec(code_obj, self.user_global_ns, self.user_ns)\n    File \"/tmp/ipykernel_3055/2508610431.py\", line 2, in <module>\n      history = model.fit(\n    File \"/home/nelly/.local/share/virtualenvs/Fall-akRgt48W/lib/python3.8/site-packages/keras/utils/traceback_utils.py\", line 65, in error_handler\n      return fn(*args, **kwargs)\n    File \"/home/nelly/.local/share/virtualenvs/Fall-akRgt48W/lib/python3.8/site-packages/keras/engine/training.py\", line 1650, in fit\n      tmp_logs = self.train_function(iterator)\n    File \"/home/nelly/.local/share/virtualenvs/Fall-akRgt48W/lib/python3.8/site-packages/keras/engine/training.py\", line 1249, in train_function\n      return step_function(self, iterator)\n    File \"/home/nelly/.local/share/virtualenvs/Fall-akRgt48W/lib/python3.8/site-packages/keras/engine/training.py\", line 1233, in step_function\n      outputs = model.distribute_strategy.run(run_step, args=(data,))\n    File \"/home/nelly/.local/share/virtualenvs/Fall-akRgt48W/lib/python3.8/site-packages/keras/engine/training.py\", line 1222, in run_step\n      outputs = model.train_step(data)\n    File \"/home/nelly/.local/share/virtualenvs/Fall-akRgt48W/lib/python3.8/site-packages/keras/engine/training.py\", line 1027, in train_step\n      self.optimizer.minimize(loss, self.trainable_variables, tape=tape)\n    File \"/home/nelly/.local/share/virtualenvs/Fall-akRgt48W/lib/python3.8/site-packages/keras/optimizers/optimizer_experimental/optimizer.py\", line 527, in minimize\n      self.apply_gradients(grads_and_vars)\n    File \"/home/nelly/.local/share/virtualenvs/Fall-akRgt48W/lib/python3.8/site-packages/keras/optimizers/optimizer_experimental/optimizer.py\", line 1140, in apply_gradients\n      return super().apply_gradients(grads_and_vars, name=name)\n    File \"/home/nelly/.local/share/virtualenvs/Fall-akRgt48W/lib/python3.8/site-packages/keras/optimizers/optimizer_experimental/optimizer.py\", line 634, in apply_gradients\n      iteration = self._internal_apply_gradients(grads_and_vars)\n    File \"/home/nelly/.local/share/virtualenvs/Fall-akRgt48W/lib/python3.8/site-packages/keras/optimizers/optimizer_experimental/optimizer.py\", line 1166, in _internal_apply_gradients\n      return tf.__internal__.distribute.interim.maybe_merge_call(\n    File \"/home/nelly/.local/share/virtualenvs/Fall-akRgt48W/lib/python3.8/site-packages/keras/optimizers/optimizer_experimental/optimizer.py\", line 1216, in _distributed_apply_gradients_fn\n      distribution.extended.update(\n    File \"/home/nelly/.local/share/virtualenvs/Fall-akRgt48W/lib/python3.8/site-packages/keras/optimizers/optimizer_experimental/optimizer.py\", line 1211, in apply_grad_to_update_var\n      return self._update_step_xla(grad, var, id(self._var_key(var)))\nNode: 'StatefulPartitionedCall_1'\nlibdevice not found at ./libdevice.10.bc\n\t [[{{node StatefulPartitionedCall_1}}]] [Op:__inference_train_function_1253]"
     ]
    }
   ],
   "source": [
    "\n",
    "epochs = 10\n",
    "history = model.fit(\n",
    "    x=x_train, y=y_train,\n",
    "    epochs=epochs)"
   ]
  },
  {
   "cell_type": "markdown",
   "id": "3893ece5-30c6-40c6-835c-64c607138cdb",
   "metadata": {},
   "source": [
    "## Preprocessing For Abstractive Text Summarization"
   ]
  },
  {
   "cell_type": "code",
   "execution_count": null,
   "id": "f6ebf1cc-21a3-41d7-908c-4e064df638f2",
   "metadata": {},
   "outputs": [],
   "source": [
    "# Import tokenizer from pretrained model\n",
    "from transformers import AutoTokenizer, AutoModelForSeq2SeqLM\n",
    "\n",
    "model_name = \"t5-small\" # you can specify the model size here\n",
    "tokenizer = AutoTokenizer.from_pretrained(model_name)"
   ]
  },
  {
   "cell_type": "code",
   "execution_count": null,
   "id": "9f99486a-c171-4e14-aa47-bb5d132b9b83",
   "metadata": {},
   "outputs": [],
   "source": [
    "MAX_INPUT_LENGTH = 512\n",
    "MAX_TARGET_LENGTH = 30\n",
    "\n",
    "def preprocess_function(article, summary):\n",
    "    model_inputs = tokenizer(\n",
    "        article,\n",
    "        max_length=MAX_INPUT_LENGTH,\n",
    "        truncation=True,\n",
    "    )\n",
    "    labels = tokenizer(\n",
    "        summary, max_length=MAX_TARGET_LENGTH, truncation=True\n",
    "    )\n",
    "    #model_inputs[\"labels\"] = articles[\"labels\"]\n",
    "    return model_inputs\n",
    "\n",
    "for i in range(articles_df.shape[0]):\n",
    "    result = preprocess_function(articles_df[\"text\"][0], summaries_df[\"text\"][0])"
   ]
  }
 ],
 "metadata": {
  "kernelspec": {
   "display_name": "Python 3 (ipykernel)",
   "language": "python",
   "name": "python3"
  },
  "language_info": {
   "codemirror_mode": {
    "name": "ipython",
    "version": 3
   },
   "file_extension": ".py",
   "mimetype": "text/x-python",
   "name": "python",
   "nbconvert_exporter": "python",
   "pygments_lexer": "ipython3",
   "version": "3.8.13"
  }
 },
 "nbformat": 4,
 "nbformat_minor": 5
}
