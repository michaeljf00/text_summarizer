{
  "cells": [
    {
      "cell_type": "markdown",
      "metadata": {
        "id": "view-in-github",
        "colab_type": "text"
      },
      "source": [
        "<a href=\"https://colab.research.google.com/github/michaeljf00/text_summarizer/blob/roham/BBCDemo.ipynb\" target=\"_parent\"><img src=\"https://colab.research.google.com/assets/colab-badge.svg\" alt=\"Open In Colab\"/></a>"
      ]
    },
    {
      "cell_type": "code",
      "source": [
        "# !unzip data.zip"
      ],
      "metadata": {
        "id": "pfLDIkaGhojG"
      },
      "id": "pfLDIkaGhojG",
      "execution_count": 2,
      "outputs": []
    },
    {
      "cell_type": "code",
      "execution_count": null,
      "metadata": {
        "id": "98d9b836-1ae5-4e73-bd8f-ce5ce1fccf1f"
      },
      "outputs": [],
      "source": [
        "pip install sumy numpy pandas nltk tensorflow matplotlib "
      ],
      "id": "98d9b836-1ae5-4e73-bd8f-ce5ce1fccf1f"
    },
    {
      "cell_type": "code",
      "execution_count": 4,
      "metadata": {
        "id": "ed79a4f6-4932-4e6e-881c-f4eb19bb99c7"
      },
      "outputs": [],
      "source": [
        "import os\n",
        "import matplotlib.pyplot as plt\n",
        "import numpy as np\n",
        "import pandas as pd\n",
        "import tensorflow as tf\n",
        "import random"
      ],
      "id": "ed79a4f6-4932-4e6e-881c-f4eb19bb99c7"
    },
    {
      "cell_type": "markdown",
      "metadata": {
        "id": "8c9c850f-4f46-40bb-80d7-4721c87f1ef8"
      },
      "source": [
        "## BBC News Summary EDA\n",
        "\n",
        "### Data preparation\n",
        "To get started please paste the BBC news dataset into a folder titled data in the local directory. Then delete 199.txt in the articles and summaries directory respectively due to corruption with these files."
      ],
      "id": "8c9c850f-4f46-40bb-80d7-4721c87f1ef8"
    },
    {
      "cell_type": "code",
      "execution_count": 8,
      "metadata": {
        "id": "1214aa85-66fa-4644-a97b-bdc7b17db24a",
        "outputId": "7ef00e42-b6ad-4e7f-f0d3-f96c44b539f7",
        "colab": {
          "base_uri": "https://localhost:8080/",
          "height": 313
        }
      },
      "outputs": [
        {
          "output_type": "stream",
          "name": "stdout",
          "text": [
            "file .DS_Store in data/BBC News Summary/News Articles/sport is not readable\n",
            "<class 'UnicodeDecodeError'>\n",
            "Total Items loaded: 2224\n",
            "file .DS_Store in data/BBC News Summary/Summaries/sport is not readable\n",
            "<class 'UnicodeDecodeError'>\n",
            "Total Items loaded: 2224\n"
          ]
        },
        {
          "output_type": "execute_result",
          "data": {
            "text/plain": [
              "  label                                               text\n",
              "0  tech  Finding new homes for old phones\\n\\nRe-using o...\n",
              "1  tech  Yahoo celebrates a decade online\\n\\nYahoo, one...\n",
              "2  tech  Web logs aid disaster recovery\\n\\nSome of the ...\n",
              "3  tech  More movies head to Sony's PSP\\n\\nMovies Open ...\n",
              "4  tech  Sony PSP tipped as a 'must-have'\\n\\nSony's Pla..."
            ],
            "text/html": [
              "\n",
              "  <div id=\"df-8ea8f404-8dea-43ee-94b6-240e2d560e11\">\n",
              "    <div class=\"colab-df-container\">\n",
              "      <div>\n",
              "<style scoped>\n",
              "    .dataframe tbody tr th:only-of-type {\n",
              "        vertical-align: middle;\n",
              "    }\n",
              "\n",
              "    .dataframe tbody tr th {\n",
              "        vertical-align: top;\n",
              "    }\n",
              "\n",
              "    .dataframe thead th {\n",
              "        text-align: right;\n",
              "    }\n",
              "</style>\n",
              "<table border=\"1\" class=\"dataframe\">\n",
              "  <thead>\n",
              "    <tr style=\"text-align: right;\">\n",
              "      <th></th>\n",
              "      <th>label</th>\n",
              "      <th>text</th>\n",
              "    </tr>\n",
              "  </thead>\n",
              "  <tbody>\n",
              "    <tr>\n",
              "      <th>0</th>\n",
              "      <td>tech</td>\n",
              "      <td>Finding new homes for old phones\\n\\nRe-using o...</td>\n",
              "    </tr>\n",
              "    <tr>\n",
              "      <th>1</th>\n",
              "      <td>tech</td>\n",
              "      <td>Yahoo celebrates a decade online\\n\\nYahoo, one...</td>\n",
              "    </tr>\n",
              "    <tr>\n",
              "      <th>2</th>\n",
              "      <td>tech</td>\n",
              "      <td>Web logs aid disaster recovery\\n\\nSome of the ...</td>\n",
              "    </tr>\n",
              "    <tr>\n",
              "      <th>3</th>\n",
              "      <td>tech</td>\n",
              "      <td>More movies head to Sony's PSP\\n\\nMovies Open ...</td>\n",
              "    </tr>\n",
              "    <tr>\n",
              "      <th>4</th>\n",
              "      <td>tech</td>\n",
              "      <td>Sony PSP tipped as a 'must-have'\\n\\nSony's Pla...</td>\n",
              "    </tr>\n",
              "  </tbody>\n",
              "</table>\n",
              "</div>\n",
              "      <button class=\"colab-df-convert\" onclick=\"convertToInteractive('df-8ea8f404-8dea-43ee-94b6-240e2d560e11')\"\n",
              "              title=\"Convert this dataframe to an interactive table.\"\n",
              "              style=\"display:none;\">\n",
              "        \n",
              "  <svg xmlns=\"http://www.w3.org/2000/svg\" height=\"24px\"viewBox=\"0 0 24 24\"\n",
              "       width=\"24px\">\n",
              "    <path d=\"M0 0h24v24H0V0z\" fill=\"none\"/>\n",
              "    <path d=\"M18.56 5.44l.94 2.06.94-2.06 2.06-.94-2.06-.94-.94-2.06-.94 2.06-2.06.94zm-11 1L8.5 8.5l.94-2.06 2.06-.94-2.06-.94L8.5 2.5l-.94 2.06-2.06.94zm10 10l.94 2.06.94-2.06 2.06-.94-2.06-.94-.94-2.06-.94 2.06-2.06.94z\"/><path d=\"M17.41 7.96l-1.37-1.37c-.4-.4-.92-.59-1.43-.59-.52 0-1.04.2-1.43.59L10.3 9.45l-7.72 7.72c-.78.78-.78 2.05 0 2.83L4 21.41c.39.39.9.59 1.41.59.51 0 1.02-.2 1.41-.59l7.78-7.78 2.81-2.81c.8-.78.8-2.07 0-2.86zM5.41 20L4 18.59l7.72-7.72 1.47 1.35L5.41 20z\"/>\n",
              "  </svg>\n",
              "      </button>\n",
              "      \n",
              "  <style>\n",
              "    .colab-df-container {\n",
              "      display:flex;\n",
              "      flex-wrap:wrap;\n",
              "      gap: 12px;\n",
              "    }\n",
              "\n",
              "    .colab-df-convert {\n",
              "      background-color: #E8F0FE;\n",
              "      border: none;\n",
              "      border-radius: 50%;\n",
              "      cursor: pointer;\n",
              "      display: none;\n",
              "      fill: #1967D2;\n",
              "      height: 32px;\n",
              "      padding: 0 0 0 0;\n",
              "      width: 32px;\n",
              "    }\n",
              "\n",
              "    .colab-df-convert:hover {\n",
              "      background-color: #E2EBFA;\n",
              "      box-shadow: 0px 1px 2px rgba(60, 64, 67, 0.3), 0px 1px 3px 1px rgba(60, 64, 67, 0.15);\n",
              "      fill: #174EA6;\n",
              "    }\n",
              "\n",
              "    [theme=dark] .colab-df-convert {\n",
              "      background-color: #3B4455;\n",
              "      fill: #D2E3FC;\n",
              "    }\n",
              "\n",
              "    [theme=dark] .colab-df-convert:hover {\n",
              "      background-color: #434B5C;\n",
              "      box-shadow: 0px 1px 3px 1px rgba(0, 0, 0, 0.15);\n",
              "      filter: drop-shadow(0px 1px 2px rgba(0, 0, 0, 0.3));\n",
              "      fill: #FFFFFF;\n",
              "    }\n",
              "  </style>\n",
              "\n",
              "      <script>\n",
              "        const buttonEl =\n",
              "          document.querySelector('#df-8ea8f404-8dea-43ee-94b6-240e2d560e11 button.colab-df-convert');\n",
              "        buttonEl.style.display =\n",
              "          google.colab.kernel.accessAllowed ? 'block' : 'none';\n",
              "\n",
              "        async function convertToInteractive(key) {\n",
              "          const element = document.querySelector('#df-8ea8f404-8dea-43ee-94b6-240e2d560e11');\n",
              "          const dataTable =\n",
              "            await google.colab.kernel.invokeFunction('convertToInteractive',\n",
              "                                                     [key], {});\n",
              "          if (!dataTable) return;\n",
              "\n",
              "          const docLinkHtml = 'Like what you see? Visit the ' +\n",
              "            '<a target=\"_blank\" href=https://colab.research.google.com/notebooks/data_table.ipynb>data table notebook</a>'\n",
              "            + ' to learn more about interactive tables.';\n",
              "          element.innerHTML = '';\n",
              "          dataTable['output_type'] = 'display_data';\n",
              "          await google.colab.output.renderOutput(dataTable, element);\n",
              "          const docLink = document.createElement('div');\n",
              "          docLink.innerHTML = docLinkHtml;\n",
              "          element.appendChild(docLink);\n",
              "        }\n",
              "      </script>\n",
              "    </div>\n",
              "  </div>\n",
              "  "
            ]
          },
          "metadata": {},
          "execution_count": 8
        }
      ],
      "source": [
        "def get_text_by_topic(directory_path):\n",
        "    data = []\n",
        "    count = 0\n",
        "    for topic in os.listdir(directory_path):\n",
        "        topic_path = os.path.join(directory_path, topic)\n",
        "        if not os.path.isdir(topic_path):\n",
        "          continue\n",
        "        for file_path in os.listdir(topic_path):\n",
        "            try:\n",
        "                with open(f'{topic_path}/{file_path}', 'r', encoding=\"utf-8\") as f:\n",
        "                    data.append(( topic_path.split('/')[-1],f.read()))\n",
        "                count+=1\n",
        "            except UnicodeDecodeError:\n",
        "                print(f'file {file_path} in {topic_path} is not readable')\n",
        "                print(UnicodeDecodeError)\n",
        "    df = pd.DataFrame(data, columns=['label','text'])\n",
        "    print(f\"Total Items loaded: {count}\")\n",
        "    return df\n",
        "                      \n",
        "articles_path = r\"data/BBC News Summary/News Articles\"\n",
        "summaries_path = r\"data/BBC News Summary/Summaries\"\n",
        "\n",
        "articles_df = get_text_by_topic(articles_path)\n",
        "summaries_df = get_text_by_topic(summaries_path)\n",
        "articles_df.head()"
      ],
      "id": "1214aa85-66fa-4644-a97b-bdc7b17db24a"
    },
    {
      "cell_type": "markdown",
      "metadata": {
        "id": "b0bf6beb-d02d-412c-b582-1f6dabbd1490"
      },
      "source": [
        "### Lets see an example from the dataset"
      ],
      "id": "b0bf6beb-d02d-412c-b582-1f6dabbd1490"
    },
    {
      "cell_type": "code",
      "execution_count": 9,
      "metadata": {
        "id": "5eab6275-fdab-40aa-a9ae-37a2563cc044",
        "outputId": "045856ee-cf8b-48d0-c2fc-47fe42f83982",
        "colab": {
          "base_uri": "https://localhost:8080/"
        }
      },
      "outputs": [
        {
          "output_type": "stream",
          "name": "stdout",
          "text": [
            "Articles Shape:  (2224, 2)\n",
            "Summaries Shape:  (2224, 2)\n",
            "\n",
            "Random Example Article in politics:\n",
            "Voters 'reject EU by two to one'\n",
            "\n",
            "British voters would reject the European constitution by two to one, according to a poll posing the question the government will put to the country.\n",
            "\n",
            "The Daily Telegraph poll suggests that 45% of people would vote against the constitution and 24% in favour. However the YouGov poll, which questioned 1,943 British adults online, found 25% did not know how they would vote if forced to decide tomorrow. Only 51% of those polled had made up their minds about the constitution. Another 7% said they would not vote at all. The poll is believed to be the first to pose the question which the government has chosen for the upcoming referendum, expected in 2006. The constitution will be incorporated into UK law if there is a yes vote.\n",
            "\n",
            "Ballot papers in the poll will ask: \"Should the United Kingdom approve the treaty establishing a constitution for the European Union?\" The government unveiled the question which will be asked earlier in the week.\n",
            "\n",
            "The treaty was signed by all 25 current EU members in Rome last October and is due to come into force in November 2006, providing it is ratified by all member states - several of which will hold a referendum. Critics say the constitution is a further step towards a federal Europe, but advocates say it ensures effective operation of the enlarged 25-state EU. \"If we reject this treaty, Britain will be isolated and weak in Europe,\" said Foreign Secretary Jack Straw, after the question was unveiled. Mr Straw, along with the rest of the Cabinet, will back a \"yes\" vote. Meanwhile, Conservative shadow foreign secretary Michael Ancram said the referendum question \"seems straightforward\". But he accused the government of trying to confuse the issue by putting the EU referendum question in the same bill as the ratification of the constitution, when they should be treated as \"two separate issues\".\n",
            "\n",
            "Random Example Summary in politics:\n",
            "British voters would reject the European constitution by two to one, according to a poll posing the question the government will put to the country.The Daily Telegraph poll suggests that 45% of people would vote against the constitution and 24% in favour.But he accused the government of trying to confuse the issue by putting the EU referendum question in the same bill as the ratification of the constitution, when they should be treated as \"two separate issues\".The constitution will be incorporated into UK law if there is a yes vote.Another 7% said they would not vote at all.\"If we reject this treaty, Britain will be isolated and weak in Europe,\" said Foreign Secretary Jack Straw, after the question was unveiled.\n"
          ]
        }
      ],
      "source": [
        "print(\"Articles Shape: \",articles_df.shape)\n",
        "print(\"Summaries Shape: \",summaries_df.shape)\n",
        "# If this fails the wrong number of aricles or summaries was loaded\n",
        "assert(articles_df.shape == summaries_df.shape)\n",
        "\n",
        "ex_idx = int(random.random()*articles_df.shape[0])\n",
        "ex_topic = articles_df[\"label\"][ex_idx]\n",
        "print(f\"\\nRandom Example Article in {ex_topic}:\")\n",
        "print(articles_df[\"text\"][ex_idx])\n",
        "print(f\"Random Example Summary in {ex_topic}:\")\n",
        "print(summaries_df[\"text\"][ex_idx])"
      ],
      "id": "5eab6275-fdab-40aa-a9ae-37a2563cc044"
    },
    {
      "cell_type": "markdown",
      "metadata": {
        "id": "575fa654-a5c9-423a-a47a-1093a5122e5f"
      },
      "source": [
        "From this example we can see the dataset consists of BBC articles and co-responding summaries that are constructed in an extractive manner, that is, each summary is constructed by selecting a subset of the sentances in the original article."
      ],
      "id": "575fa654-a5c9-423a-a47a-1093a5122e5f"
    },
    {
      "cell_type": "code",
      "execution_count": 10,
      "metadata": {
        "id": "f54d1b00-34da-421c-bc2f-0fb5c553ad24",
        "outputId": "9029d551-e054-4bb5-9875-236b58356494",
        "colab": {
          "base_uri": "https://localhost:8080/"
        }
      },
      "outputs": [
        {
          "output_type": "execute_result",
          "data": {
            "text/plain": [
              "label    0\n",
              "text     0\n",
              "dtype: int64"
            ]
          },
          "metadata": {},
          "execution_count": 10
        }
      ],
      "source": [
        "# Null Checks\n",
        "articles_df.isna().sum()\n",
        "summaries_df.isna().sum()"
      ],
      "id": "f54d1b00-34da-421c-bc2f-0fb5c553ad24"
    },
    {
      "cell_type": "markdown",
      "metadata": {
        "id": "768ee0be-8316-45c4-bec5-77c5d6bfbed8"
      },
      "source": [
        "Next looking into the balance of each topic in the dataset"
      ],
      "id": "768ee0be-8316-45c4-bec5-77c5d6bfbed8"
    },
    {
      "cell_type": "code",
      "execution_count": 11,
      "metadata": {
        "id": "d6991cf3-9104-4289-b3b1-2e979c53ce23",
        "outputId": "0f74c554-9772-466c-8029-767f80422ede",
        "colab": {
          "base_uri": "https://localhost:8080/",
          "height": 264
        }
      },
      "outputs": [
        {
          "output_type": "display_data",
          "data": {
            "text/plain": [
              "<Figure size 432x288 with 1 Axes>"
            ],
            "image/png": "[encoded data removed]"
          },
          "metadata": {}
        }
      ],
      "source": [
        "# Percent articles in each topic\n",
        "label_vals = articles_df[\"label\"].value_counts()\n",
        "\n",
        "labels = list(label_vals.keys())\n",
        "sizes = list(label_vals)\n",
        "explode = [0]*len(sizes) \n",
        "explode[0] =0.1\n",
        "explode[1] =0.1\n",
        "fig1, ax1 = plt.subplots()\n",
        "ax1.pie(label_vals, explode=explode, labels=labels, autopct='%1.1f%%',shadow=True, startangle=90)\n",
        "ax1.axis('equal')  # Equal aspect ratio ensures that pie is drawn as a circle.\n",
        "plt.title(f\"Out of {articles_df.shape[0]} Articles\")\n",
        "plt.show()\n"
      ],
      "id": "d6991cf3-9104-4289-b3b1-2e979c53ce23"
    },
    {
      "cell_type": "markdown",
      "metadata": {
        "id": "25b33d5d-137d-4078-af43-8e3ccdc6451b"
      },
      "source": [
        "The classes appear to be well balance so model performance should be equivelent across topics"
      ],
      "id": "25b33d5d-137d-4078-af43-8e3ccdc6451b"
    },
    {
      "cell_type": "code",
      "execution_count": 12,
      "metadata": {
        "id": "e0a5961f-d8f9-4908-b622-d9d76245fd5e",
        "outputId": "41235b9e-1f86-45ce-f73b-a527a434ec31",
        "colab": {
          "base_uri": "https://localhost:8080/",
          "height": 676
        }
      },
      "outputs": [
        {
          "output_type": "stream",
          "name": "stdout",
          "text": [
            "99th percentile in sentance count:  63.0\n"
          ]
        },
        {
          "output_type": "stream",
          "name": "stderr",
          "text": [
            "/usr/local/lib/python3.8/dist-packages/matplotlib/cbook/__init__.py:1376: VisibleDeprecationWarning: Creating an ndarray from ragged nested sequences (which is a list-or-tuple of lists-or-tuples-or ndarrays with different lengths or shapes) is deprecated. If you meant to do this, you must specify 'dtype=object' when creating the ndarray.\n",
            "  X = np.atleast_1d(X.T if isinstance(X, np.ndarray) else np.asarray(X))\n"
          ]
        },
        {
          "output_type": "display_data",
          "data": {
            "text/plain": [
              "<Figure size 432x288 with 1 Axes>"
            ],
            "image/png": "[encoded data removed]"
          },
          "metadata": {
            "needs_background": "light"
          }
        },
        {
          "output_type": "execute_result",
          "data": {
            "text/plain": [
              "             tech    politics       sport  entertainment    business\n",
              "count  401.000000  417.000000  510.000000     386.000000  510.000000\n",
              "mean    25.842893   22.227818   18.280392      17.945596   19.680392\n",
              "std     12.904370   15.467658    9.876736      14.270836    7.409560\n",
              "min      7.000000    5.000000    7.000000       8.000000    7.000000\n",
              "25%     18.000000   16.000000   12.000000      12.000000   14.000000\n",
              "50%     22.000000   21.000000   16.000000      14.000000   18.000000\n",
              "75%     31.000000   25.000000   23.000000      20.000000   23.000000\n",
              "max    161.000000  246.000000   82.000000     205.000000   53.000000"
            ],
            "text/html": [
              "\n",
              "  <div id=\"df-ae2785fc-aad3-4bf9-8332-3c63075ee46e\">\n",
              "    <div class=\"colab-df-container\">\n",
              "      <div>\n",
              "<style scoped>\n",
              "    .dataframe tbody tr th:only-of-type {\n",
              "        vertical-align: middle;\n",
              "    }\n",
              "\n",
              "    .dataframe tbody tr th {\n",
              "        vertical-align: top;\n",
              "    }\n",
              "\n",
              "    .dataframe thead th {\n",
              "        text-align: right;\n",
              "    }\n",
              "</style>\n",
              "<table border=\"1\" class=\"dataframe\">\n",
              "  <thead>\n",
              "    <tr style=\"text-align: right;\">\n",
              "      <th></th>\n",
              "      <th>tech</th>\n",
              "      <th>politics</th>\n",
              "      <th>sport</th>\n",
              "      <th>entertainment</th>\n",
              "      <th>business</th>\n",
              "    </tr>\n",
              "  </thead>\n",
              "  <tbody>\n",
              "    <tr>\n",
              "      <th>count</th>\n",
              "      <td>401.000000</td>\n",
              "      <td>417.000000</td>\n",
              "      <td>510.000000</td>\n",
              "      <td>386.000000</td>\n",
              "      <td>510.000000</td>\n",
              "    </tr>\n",
              "    <tr>\n",
              "      <th>mean</th>\n",
              "      <td>25.842893</td>\n",
              "      <td>22.227818</td>\n",
              "      <td>18.280392</td>\n",
              "      <td>17.945596</td>\n",
              "      <td>19.680392</td>\n",
              "    </tr>\n",
              "    <tr>\n",
              "      <th>std</th>\n",
              "      <td>12.904370</td>\n",
              "      <td>15.467658</td>\n",
              "      <td>9.876736</td>\n",
              "      <td>14.270836</td>\n",
              "      <td>7.409560</td>\n",
              "    </tr>\n",
              "    <tr>\n",
              "      <th>min</th>\n",
              "      <td>7.000000</td>\n",
              "      <td>5.000000</td>\n",
              "      <td>7.000000</td>\n",
              "      <td>8.000000</td>\n",
              "      <td>7.000000</td>\n",
              "    </tr>\n",
              "    <tr>\n",
              "      <th>25%</th>\n",
              "      <td>18.000000</td>\n",
              "      <td>16.000000</td>\n",
              "      <td>12.000000</td>\n",
              "      <td>12.000000</td>\n",
              "      <td>14.000000</td>\n",
              "    </tr>\n",
              "    <tr>\n",
              "      <th>50%</th>\n",
              "      <td>22.000000</td>\n",
              "      <td>21.000000</td>\n",
              "      <td>16.000000</td>\n",
              "      <td>14.000000</td>\n",
              "      <td>18.000000</td>\n",
              "    </tr>\n",
              "    <tr>\n",
              "      <th>75%</th>\n",
              "      <td>31.000000</td>\n",
              "      <td>25.000000</td>\n",
              "      <td>23.000000</td>\n",
              "      <td>20.000000</td>\n",
              "      <td>23.000000</td>\n",
              "    </tr>\n",
              "    <tr>\n",
              "      <th>max</th>\n",
              "      <td>161.000000</td>\n",
              "      <td>246.000000</td>\n",
              "      <td>82.000000</td>\n",
              "      <td>205.000000</td>\n",
              "      <td>53.000000</td>\n",
              "    </tr>\n",
              "  </tbody>\n",
              "</table>\n",
              "</div>\n",
              "      <button class=\"colab-df-convert\" onclick=\"convertToInteractive('df-ae2785fc-aad3-4bf9-8332-3c63075ee46e')\"\n",
              "              title=\"Convert this dataframe to an interactive table.\"\n",
              "              style=\"display:none;\">\n",
              "        \n",
              "  <svg xmlns=\"http://www.w3.org/2000/svg\" height=\"24px\"viewBox=\"0 0 24 24\"\n",
              "       width=\"24px\">\n",
              "    <path d=\"M0 0h24v24H0V0z\" fill=\"none\"/>\n",
              "    <path d=\"M18.56 5.44l.94 2.06.94-2.06 2.06-.94-2.06-.94-.94-2.06-.94 2.06-2.06.94zm-11 1L8.5 8.5l.94-2.06 2.06-.94-2.06-.94L8.5 2.5l-.94 2.06-2.06.94zm10 10l.94 2.06.94-2.06 2.06-.94-2.06-.94-.94-2.06-.94 2.06-2.06.94z\"/><path d=\"M17.41 7.96l-1.37-1.37c-.4-.4-.92-.59-1.43-.59-.52 0-1.04.2-1.43.59L10.3 9.45l-7.72 7.72c-.78.78-.78 2.05 0 2.83L4 21.41c.39.39.9.59 1.41.59.51 0 1.02-.2 1.41-.59l7.78-7.78 2.81-2.81c.8-.78.8-2.07 0-2.86zM5.41 20L4 18.59l7.72-7.72 1.47 1.35L5.41 20z\"/>\n",
              "  </svg>\n",
              "      </button>\n",
              "      \n",
              "  <style>\n",
              "    .colab-df-container {\n",
              "      display:flex;\n",
              "      flex-wrap:wrap;\n",
              "      gap: 12px;\n",
              "    }\n",
              "\n",
              "    .colab-df-convert {\n",
              "      background-color: #E8F0FE;\n",
              "      border: none;\n",
              "      border-radius: 50%;\n",
              "      cursor: pointer;\n",
              "      display: none;\n",
              "      fill: #1967D2;\n",
              "      height: 32px;\n",
              "      padding: 0 0 0 0;\n",
              "      width: 32px;\n",
              "    }\n",
              "\n",
              "    .colab-df-convert:hover {\n",
              "      background-color: #E2EBFA;\n",
              "      box-shadow: 0px 1px 2px rgba(60, 64, 67, 0.3), 0px 1px 3px 1px rgba(60, 64, 67, 0.15);\n",
              "      fill: #174EA6;\n",
              "    }\n",
              "\n",
              "    [theme=dark] .colab-df-convert {\n",
              "      background-color: #3B4455;\n",
              "      fill: #D2E3FC;\n",
              "    }\n",
              "\n",
              "    [theme=dark] .colab-df-convert:hover {\n",
              "      background-color: #434B5C;\n",
              "      box-shadow: 0px 1px 3px 1px rgba(0, 0, 0, 0.15);\n",
              "      filter: drop-shadow(0px 1px 2px rgba(0, 0, 0, 0.3));\n",
              "      fill: #FFFFFF;\n",
              "    }\n",
              "  </style>\n",
              "\n",
              "      <script>\n",
              "        const buttonEl =\n",
              "          document.querySelector('#df-ae2785fc-aad3-4bf9-8332-3c63075ee46e button.colab-df-convert');\n",
              "        buttonEl.style.display =\n",
              "          google.colab.kernel.accessAllowed ? 'block' : 'none';\n",
              "\n",
              "        async function convertToInteractive(key) {\n",
              "          const element = document.querySelector('#df-ae2785fc-aad3-4bf9-8332-3c63075ee46e');\n",
              "          const dataTable =\n",
              "            await google.colab.kernel.invokeFunction('convertToInteractive',\n",
              "                                                     [key], {});\n",
              "          if (!dataTable) return;\n",
              "\n",
              "          const docLinkHtml = 'Like what you see? Visit the ' +\n",
              "            '<a target=\"_blank\" href=https://colab.research.google.com/notebooks/data_table.ipynb>data table notebook</a>'\n",
              "            + ' to learn more about interactive tables.';\n",
              "          element.innerHTML = '';\n",
              "          dataTable['output_type'] = 'display_data';\n",
              "          await google.colab.output.renderOutput(dataTable, element);\n",
              "          const docLink = document.createElement('div');\n",
              "          docLink.innerHTML = docLinkHtml;\n",
              "          element.appendChild(docLink);\n",
              "        }\n",
              "      </script>\n",
              "    </div>\n",
              "  </div>\n",
              "  "
            ]
          },
          "metadata": {},
          "execution_count": 12
        }
      ],
      "source": [
        "# Number of Sentances in articles per topic\n",
        "def get_text_length(daf, split):\n",
        "    text_lens = [[len(t.split(split)) for t in daf[\"text\"][daf['label'] == label]] for label in daf['label'].unique()]\n",
        "    return text_lens\n",
        "\n",
        "# Splitting on . for each sentance\n",
        "text_lens = get_text_length(articles_df, \".\")\n",
        "\n",
        "t_lengths = pd.DataFrame(text_lens).transpose()\n",
        "t_lengths.columns = articles_df['label'].unique()\n",
        "\n",
        "# Outliars\n",
        "print(\"99th percentile in sentance count: \",np.max(t_lengths.quantile(0.99)))\n",
        "\n",
        "plt.boxplot(text_lens)\n",
        "plt.title('Number of Sentances in each Article per topic')\n",
        "plt.ylim(np.min(t_lengths.quantile(0)), np.max(t_lengths.quantile(0.99)))\n",
        "plt.xticks([1,2,3,4,5],articles_df['label'].unique(),\n",
        "                    rotation=45, fontsize=8)\n",
        "plt.show()\n",
        "t_lengths.describe()"
      ],
      "id": "e0a5961f-d8f9-4908-b622-d9d76245fd5e"
    },
    {
      "cell_type": "markdown",
      "metadata": {
        "id": "3fe62179-5377-4e06-bd27-3723ab924a51"
      },
      "source": [
        "It appears that tech articles have the longest articles in terms of sentances however the categories seem to be balanced here aswell. Noteably there are some drastic outliars for article length with 200+ sentances that may have to be removed."
      ],
      "id": "3fe62179-5377-4e06-bd27-3723ab924a51"
    },
    {
      "cell_type": "code",
      "execution_count": 13,
      "metadata": {
        "id": "f368e99e-6e8d-4edc-98fc-58da0235eb83",
        "outputId": "0f2a6d8c-7054-4869-de7e-271815755dca",
        "colab": {
          "base_uri": "https://localhost:8080/",
          "height": 676
        }
      },
      "outputs": [
        {
          "output_type": "stream",
          "name": "stdout",
          "text": [
            "99th percentile in Word count:  475.0\n"
          ]
        },
        {
          "output_type": "stream",
          "name": "stderr",
          "text": [
            "/usr/local/lib/python3.8/dist-packages/matplotlib/cbook/__init__.py:1376: VisibleDeprecationWarning: Creating an ndarray from ragged nested sequences (which is a list-or-tuple of lists-or-tuples-or ndarrays with different lengths or shapes) is deprecated. If you meant to do this, you must specify 'dtype=object' when creating the ndarray.\n",
            "  X = np.atleast_1d(X.T if isinstance(X, np.ndarray) else np.asarray(X))\n"
          ]
        },
        {
          "output_type": "display_data",
          "data": {
            "text/plain": [
              "<Figure size 432x288 with 1 Axes>"
            ],
            "image/png": "[encoded data removed]"
          },
          "metadata": {
            "needs_background": "light"
          }
        },
        {
          "output_type": "execute_result",
          "data": {
            "text/plain": [
              "              tech     politics       sport  entertainment   business\n",
              "count   401.000000   417.000000  510.000000      386.00000  510.00000\n",
              "mean    213.880299   195.738609  143.194118      144.07772  139.94902\n",
              "std     111.675336   139.855957   80.966871      124.31821   59.48480\n",
              "min      65.000000    38.000000   42.000000       54.00000   40.00000\n",
              "25%     144.000000   132.000000   87.000000       93.25000   99.00000\n",
              "50%     189.000000   186.000000  122.000000      117.00000  127.00000\n",
              "75%     264.000000   230.000000  178.500000      154.75000  164.75000\n",
              "max    1433.000000  2074.000000  659.000000     1708.00000  403.00000"
            ],
            "text/html": [
              "\n",
              "  <div id=\"df-e827d59b-850a-4ffc-b117-fdd69598158b\">\n",
              "    <div class=\"colab-df-container\">\n",
              "      <div>\n",
              "<style scoped>\n",
              "    .dataframe tbody tr th:only-of-type {\n",
              "        vertical-align: middle;\n",
              "    }\n",
              "\n",
              "    .dataframe tbody tr th {\n",
              "        vertical-align: top;\n",
              "    }\n",
              "\n",
              "    .dataframe thead th {\n",
              "        text-align: right;\n",
              "    }\n",
              "</style>\n",
              "<table border=\"1\" class=\"dataframe\">\n",
              "  <thead>\n",
              "    <tr style=\"text-align: right;\">\n",
              "      <th></th>\n",
              "      <th>tech</th>\n",
              "      <th>politics</th>\n",
              "      <th>sport</th>\n",
              "      <th>entertainment</th>\n",
              "      <th>business</th>\n",
              "    </tr>\n",
              "  </thead>\n",
              "  <tbody>\n",
              "    <tr>\n",
              "      <th>count</th>\n",
              "      <td>401.000000</td>\n",
              "      <td>417.000000</td>\n",
              "      <td>510.000000</td>\n",
              "      <td>386.00000</td>\n",
              "      <td>510.00000</td>\n",
              "    </tr>\n",
              "    <tr>\n",
              "      <th>mean</th>\n",
              "      <td>213.880299</td>\n",
              "      <td>195.738609</td>\n",
              "      <td>143.194118</td>\n",
              "      <td>144.07772</td>\n",
              "      <td>139.94902</td>\n",
              "    </tr>\n",
              "    <tr>\n",
              "      <th>std</th>\n",
              "      <td>111.675336</td>\n",
              "      <td>139.855957</td>\n",
              "      <td>80.966871</td>\n",
              "      <td>124.31821</td>\n",
              "      <td>59.48480</td>\n",
              "    </tr>\n",
              "    <tr>\n",
              "      <th>min</th>\n",
              "      <td>65.000000</td>\n",
              "      <td>38.000000</td>\n",
              "      <td>42.000000</td>\n",
              "      <td>54.00000</td>\n",
              "      <td>40.00000</td>\n",
              "    </tr>\n",
              "    <tr>\n",
              "      <th>25%</th>\n",
              "      <td>144.000000</td>\n",
              "      <td>132.000000</td>\n",
              "      <td>87.000000</td>\n",
              "      <td>93.25000</td>\n",
              "      <td>99.00000</td>\n",
              "    </tr>\n",
              "    <tr>\n",
              "      <th>50%</th>\n",
              "      <td>189.000000</td>\n",
              "      <td>186.000000</td>\n",
              "      <td>122.000000</td>\n",
              "      <td>117.00000</td>\n",
              "      <td>127.00000</td>\n",
              "    </tr>\n",
              "    <tr>\n",
              "      <th>75%</th>\n",
              "      <td>264.000000</td>\n",
              "      <td>230.000000</td>\n",
              "      <td>178.500000</td>\n",
              "      <td>154.75000</td>\n",
              "      <td>164.75000</td>\n",
              "    </tr>\n",
              "    <tr>\n",
              "      <th>max</th>\n",
              "      <td>1433.000000</td>\n",
              "      <td>2074.000000</td>\n",
              "      <td>659.000000</td>\n",
              "      <td>1708.00000</td>\n",
              "      <td>403.00000</td>\n",
              "    </tr>\n",
              "  </tbody>\n",
              "</table>\n",
              "</div>\n",
              "      <button class=\"colab-df-convert\" onclick=\"convertToInteractive('df-e827d59b-850a-4ffc-b117-fdd69598158b')\"\n",
              "              title=\"Convert this dataframe to an interactive table.\"\n",
              "              style=\"display:none;\">\n",
              "        \n",
              "  <svg xmlns=\"http://www.w3.org/2000/svg\" height=\"24px\"viewBox=\"0 0 24 24\"\n",
              "       width=\"24px\">\n",
              "    <path d=\"M0 0h24v24H0V0z\" fill=\"none\"/>\n",
              "    <path d=\"M18.56 5.44l.94 2.06.94-2.06 2.06-.94-2.06-.94-.94-2.06-.94 2.06-2.06.94zm-11 1L8.5 8.5l.94-2.06 2.06-.94-2.06-.94L8.5 2.5l-.94 2.06-2.06.94zm10 10l.94 2.06.94-2.06 2.06-.94-2.06-.94-.94-2.06-.94 2.06-2.06.94z\"/><path d=\"M17.41 7.96l-1.37-1.37c-.4-.4-.92-.59-1.43-.59-.52 0-1.04.2-1.43.59L10.3 9.45l-7.72 7.72c-.78.78-.78 2.05 0 2.83L4 21.41c.39.39.9.59 1.41.59.51 0 1.02-.2 1.41-.59l7.78-7.78 2.81-2.81c.8-.78.8-2.07 0-2.86zM5.41 20L4 18.59l7.72-7.72 1.47 1.35L5.41 20z\"/>\n",
              "  </svg>\n",
              "      </button>\n",
              "      \n",
              "  <style>\n",
              "    .colab-df-container {\n",
              "      display:flex;\n",
              "      flex-wrap:wrap;\n",
              "      gap: 12px;\n",
              "    }\n",
              "\n",
              "    .colab-df-convert {\n",
              "      background-color: #E8F0FE;\n",
              "      border: none;\n",
              "      border-radius: 50%;\n",
              "      cursor: pointer;\n",
              "      display: none;\n",
              "      fill: #1967D2;\n",
              "      height: 32px;\n",
              "      padding: 0 0 0 0;\n",
              "      width: 32px;\n",
              "    }\n",
              "\n",
              "    .colab-df-convert:hover {\n",
              "      background-color: #E2EBFA;\n",
              "      box-shadow: 0px 1px 2px rgba(60, 64, 67, 0.3), 0px 1px 3px 1px rgba(60, 64, 67, 0.15);\n",
              "      fill: #174EA6;\n",
              "    }\n",
              "\n",
              "    [theme=dark] .colab-df-convert {\n",
              "      background-color: #3B4455;\n",
              "      fill: #D2E3FC;\n",
              "    }\n",
              "\n",
              "    [theme=dark] .colab-df-convert:hover {\n",
              "      background-color: #434B5C;\n",
              "      box-shadow: 0px 1px 3px 1px rgba(0, 0, 0, 0.15);\n",
              "      filter: drop-shadow(0px 1px 2px rgba(0, 0, 0, 0.3));\n",
              "      fill: #FFFFFF;\n",
              "    }\n",
              "  </style>\n",
              "\n",
              "      <script>\n",
              "        const buttonEl =\n",
              "          document.querySelector('#df-e827d59b-850a-4ffc-b117-fdd69598158b button.colab-df-convert');\n",
              "        buttonEl.style.display =\n",
              "          google.colab.kernel.accessAllowed ? 'block' : 'none';\n",
              "\n",
              "        async function convertToInteractive(key) {\n",
              "          const element = document.querySelector('#df-e827d59b-850a-4ffc-b117-fdd69598158b');\n",
              "          const dataTable =\n",
              "            await google.colab.kernel.invokeFunction('convertToInteractive',\n",
              "                                                     [key], {});\n",
              "          if (!dataTable) return;\n",
              "\n",
              "          const docLinkHtml = 'Like what you see? Visit the ' +\n",
              "            '<a target=\"_blank\" href=https://colab.research.google.com/notebooks/data_table.ipynb>data table notebook</a>'\n",
              "            + ' to learn more about interactive tables.';\n",
              "          element.innerHTML = '';\n",
              "          dataTable['output_type'] = 'display_data';\n",
              "          await google.colab.output.renderOutput(dataTable, element);\n",
              "          const docLink = document.createElement('div');\n",
              "          docLink.innerHTML = docLinkHtml;\n",
              "          element.appendChild(docLink);\n",
              "        }\n",
              "      </script>\n",
              "    </div>\n",
              "  </div>\n",
              "  "
            ]
          },
          "metadata": {},
          "execution_count": 13
        }
      ],
      "source": [
        "# Number of Words in articles per topic (splitting on \" \")\n",
        "text_lens = get_text_length(summaries_df, \" \")\n",
        "\n",
        "t_lengths = pd.DataFrame(text_lens).transpose()\n",
        "t_lengths.columns = articles_df['label'].unique()\n",
        "\n",
        "# Outliars\n",
        "print(\"99th percentile in Word count: \",np.max(t_lengths.quantile(0.99)))\n",
        "\n",
        "plt.boxplot(text_lens)\n",
        "plt.title('Number of Words in each Article per topic')\n",
        "plt.ylim(np.min(t_lengths.quantile(0)), np.max(t_lengths.quantile(0.99)))\n",
        "plt.xticks([1,2,3,4,5],articles_df['label'].unique(),\n",
        "                    rotation=45, fontsize=8)\n",
        "plt.show()\n",
        "t_lengths.describe()"
      ],
      "id": "f368e99e-6e8d-4edc-98fc-58da0235eb83"
    },
    {
      "cell_type": "markdown",
      "metadata": {
        "id": "8ff8ce98-5fd0-4205-8ac5-68ef2303d74a"
      },
      "source": [
        "Comparing the word counts to the sentance counts we can see the same outliar issue exists as well as sports having less words despite having more sentances implying that sentance length will vary based on the topic."
      ],
      "id": "8ff8ce98-5fd0-4205-8ac5-68ef2303d74a"
    },
    {
      "cell_type": "markdown",
      "metadata": {
        "id": "1b193bc2-8c71-46a4-abba-734ac1b1e6e9"
      },
      "source": [
        "### Next looking at the ground truth reduction in word count"
      ],
      "id": "1b193bc2-8c71-46a4-abba-734ac1b1e6e9"
    },
    {
      "cell_type": "code",
      "execution_count": 14,
      "metadata": {
        "id": "a8eae84c-aa92-4f3d-a614-58cd08701438",
        "outputId": "ce50c98e-48b6-4f37-fea0-58304885ddae",
        "colab": {
          "base_uri": "https://localhost:8080/"
        }
      },
      "outputs": [
        {
          "output_type": "stream",
          "name": "stdout",
          "text": [
            "Average percent reduction in words for ...\n",
            "tech summaries: 57.2868%\n",
            "politics summaries: 56.5632%\n",
            "sport summaries: 55.5133%\n",
            "entertainment summaries: 56.0781%\n",
            "business summaries: 56.8027%\n"
          ]
        }
      ],
      "source": [
        "# Summary length reduction per topic by word count\n",
        "articles_len = get_text_length(articles_df, \" \")\n",
        "summaries_len = get_text_length(summaries_df, \" \")\n",
        "\n",
        "\n",
        "# For each Topic\n",
        "print(\"Average percent reduction in words for ...\")\n",
        "for i,topic in enumerate(articles_df['label'].unique()):\n",
        "    # 1  - ratio of summary to article length\n",
        "    avg_percent_reduction = np.mean(1-np.asarray(summaries_len[i])/np.asarray(articles_len[i]))\n",
        "    print(f\"{topic} summaries: {100*avg_percent_reduction:0.4f}%\")"
      ],
      "id": "a8eae84c-aa92-4f3d-a614-58cd08701438"
    },
    {
      "cell_type": "markdown",
      "metadata": {
        "id": "479bf668-3842-45d3-a9fb-3f1c39633b9e"
      },
      "source": [
        "From this we see across the board roughly half of the words are dropped in the ground truth summaries implying our model should have a similar dropout rate. This also may indicate classification may be a valid approach to determining whether a sentance should remain in the summary. Running this code over with sentance count reveals a similar trend implying no relationship between sentance length and likelyhood to be in the summmary."
      ],
      "id": "479bf668-3842-45d3-a9fb-3f1c39633b9e"
    },
    {
      "cell_type": "markdown",
      "metadata": {
        "id": "f4cd6170-cba7-427c-a383-af33c7700032"
      },
      "source": [
        "### EDA with common heuristics in NLP"
      ],
      "id": "f4cd6170-cba7-427c-a383-af33c7700032"
    },
    {
      "cell_type": "markdown",
      "metadata": {
        "id": "f9be1a73-d7b9-4950-b6d8-39d26ae42a83"
      },
      "source": [
        "In extractive text summarization a common baseline model is to simply take the first few sentances (typically 3) of a peice of text as the summary as writers often introduce their main points in the beggining of articles. We will analyze the effectiveness of this heuristic for the BBC model for possible consideration for a baseline model"
      ],
      "id": "f9be1a73-d7b9-4950-b6d8-39d26ae42a83"
    },
    {
      "cell_type": "code",
      "execution_count": 19,
      "metadata": {
        "id": "2c012abe-ab51-4fbd-8c1f-c6e6e13214c5",
        "outputId": "9487f1b5-0cde-4733-80de-b3799e8c417c",
        "colab": {
          "base_uri": "https://localhost:8080/"
        }
      },
      "outputs": [
        {
          "output_type": "stream",
          "name": "stderr",
          "text": [
            "[nltk_data] Downloading package punkt to /root/nltk_data...\n",
            "[nltk_data]   Package punkt is already up-to-date!\n"
          ]
        },
        {
          "output_type": "stream",
          "name": "stdout",
          "text": [
            "69.83% Article summaries include the first sentance of the article\n",
            "36.29% Article summaries include the first and second\n",
            "17.81% Article summaries include the first, second, and third\n",
            "7.33% Article summaries include the first, second, third and fourth\n"
          ]
        }
      ],
      "source": [
        "# For regular expression\n",
        "import re\n",
        "# for sentance parsing\n",
        "import nltk\n",
        "nltk.download('punkt')\n",
        "from nltk.tokenize import sent_tokenize\n",
        "\n",
        "# turn each article into a list of sentances\n",
        "def get_sentences(texts_list):\n",
        "    documents = []\n",
        "    for text in texts_list:\n",
        "        documents.append(sent_tokenize(text.replace(\"\\n\\n\",\". \").replace(\".. \",\". \").replace(\".\",\". \").replace(\".  \",\". \")))\n",
        "    return documents\n",
        "    #return [[a.strip() for a in t.replace(\"\\n\\n\",\".\").split(\".\") if a!=''] for t in texts_list]\n",
        "\n",
        "# First sentance inclusion in summary\n",
        "article_sentances = get_sentences(articles_df[\"text\"])\n",
        "summary_sentances = get_sentences(summaries_df[\"text\"])\n",
        "\n",
        "# Check how many sentances (up to the fourth) of the article are in the summary\n",
        "counts = [0]*4\n",
        "for a,s in zip(article_sentances,summary_sentances):\n",
        "    for i in range(len(counts)):\n",
        "        if a[i+1] in s:\n",
        "            counts[i]+=1\n",
        "        else:\n",
        "            break\n",
        "print(f\"{100*counts[0]/len(article_sentances):0.2f}% Article summaries include the first sentance of the article\")\n",
        "print(f\"{100*counts[1]/len(article_sentances):0.2f}% Article summaries include the first and second\")\n",
        "print(f\"{100*counts[2]/len(article_sentances):0.2f}% Article summaries include the first, second, and third\")\n",
        "print(f\"{100*counts[3]/len(article_sentances):0.2f}% Article summaries include the first, second, third and fourth\")"
      ],
      "id": "2c012abe-ab51-4fbd-8c1f-c6e6e13214c5"
    },
    {
      "cell_type": "markdown",
      "metadata": {
        "id": "37d622d7-f6c3-4ada-bce7-e10c34857f28"
      },
      "source": [
        "From this a good baseline model to compare text summarization would simply be to use the first few sentances of each article as the summary. The performance of this method is best with including one to two sentances"
      ],
      "id": "37d622d7-f6c3-4ada-bce7-e10c34857f28"
    },
    {
      "cell_type": "markdown",
      "source": [
        "## Metrics"
      ],
      "metadata": {
        "id": "mcnVrsGmE7AE"
      },
      "id": "mcnVrsGmE7AE"
    },
    {
      "cell_type": "code",
      "source": [
        "!pip install rouge\n",
        "from rouge import Rouge\n",
        "def rouge_metric_calculator (model_output_summary, correct_summary):\n",
        "  rouge = Rouge()\n",
        "  score = rouge.get_scores(model_output_summary, correct_summary)\n",
        "  return score\n",
        "\n",
        "def calculate_metric(model_output_summary, prediction_array):\n",
        "  i=0\n",
        "  running_one_r = 0\n",
        "  running_one_p = 0\n",
        "  running_one_f = 0\n",
        "  running_two_r = 0\n",
        "  running_two_p = 0\n",
        "  running_two_f = 0\n",
        "  for model_output in prediction_array:\n",
        "    #print(model_output[0])\n",
        "    correct_summary = summaries_df[\"text\"][i]\n",
        "    #print(correct_summary)\n",
        "    rouge_metric = rouge_metric_calculator (model_output[0], correct_summary)\n",
        "    #print(rouge_metric)\n",
        "    one = rouge_metric[0]['rouge-1']\n",
        "    one_r = one['r']\n",
        "    #print(\"one_r\", one_r)\n",
        "    running_one_r += one_r\n",
        "    one_p = one['p']\n",
        "    running_one_p += one_p\n",
        "    one_f = one['f']\n",
        "    running_one_f += one_f\n",
        "    i = 1+i\n",
        "  average_rouge_running_one_r = running_one_r/i\n",
        "  average_rouge_running_one_p = running_one_p/i\n",
        "  average_rouge_running_one_f = running_one_f/i\n",
        "  print(\"Average Rouge-1 Recall\", average_rouge_running_one_r)\n",
        "  print(\"Average Rouge-1 Precision\", average_rouge_running_one_p)\n",
        "  print(\"Average Rouge-1 F1\", average_rouge_running_one_f)\n"
      ],
      "metadata": {
        "colab": {
          "base_uri": "https://localhost:8080/"
        },
        "id": "sDbFB4vUV9TD",
        "outputId": "10091d1c-cc38-4327-d74b-4b52014a40f7"
      },
      "execution_count": 17,
      "outputs": [
        {
          "output_type": "stream",
          "name": "stdout",
          "text": [
            "Looking in indexes: https://pypi.org/simple, https://us-python.pkg.dev/colab-wheels/public/simple/\n",
            "Collecting rouge\n",
            "  Downloading rouge-1.0.1-py3-none-any.whl (13 kB)\n",
            "Requirement already satisfied: six in /usr/local/lib/python3.8/dist-packages (from rouge) (1.15.0)\n",
            "Installing collected packages: rouge\n",
            "Successfully installed rouge-1.0.1\n"
          ]
        }
      ],
      "id": "sDbFB4vUV9TD"
    },
    {
      "cell_type": "markdown",
      "id": "8014b038-9c79-4ad8-bbcb-b2316a42b480",
      "metadata": {
        "id": "8014b038-9c79-4ad8-bbcb-b2316a42b480"
      },
      "source": [
        "## Base Line Model\n",
        "From the EDA we found that an effective baseline model would be taking the first two sentances of the article as the predicted summary"
      ]
    },
    {
      "cell_type": "code",
      "execution_count": 20,
      "id": "40f90877-6abc-4684-bfa9-ab66e7ae809f",
      "metadata": {
        "colab": {
          "base_uri": "https://localhost:8080/"
        },
        "id": "40f90877-6abc-4684-bfa9-ab66e7ae809f",
        "outputId": "a4f05464-9589-493b-c522-09bf25be6b57"
      },
      "outputs": [
        {
          "output_type": "stream",
          "name": "stdout",
          "text": [
            "Example baseline: ['Re-using old mobile phones is not just good for the environment, it has social benefits too.', 'Research has found that in some developing nations old mobile phones can help close the digital divide.']\n",
            "\n",
            "Example summary: [\"Mr Goodman said phone operators and consumers needed to do more to ensure that more of Britain's mobile mountain made it overseas.\", '\"This is the only way I can afford to have a phone,\" she said.', 'Older mobile phones are proving particularly useful in poorer nations where people want to use a mobile and keep in touch with friends and family but do not have the income to buy the most up to date model.', 'Re-using old mobile phones is not just good for the environment, it has social benefits too.', 'Reconditioned handsets have boosted take-up of mobiles as the report revealed that almost one-third of Romanian pre-pay mobile phone users were using reconditioned handsets.', '\"It\\'s quite common for people to have two or three phones just lying around,\" said Mr Goodman.', 'Research has found that in some developing nations old mobile phones can help close the digital divide.', 'Georgeta Minciu, a Romanian part-time cleaner, said: \"Normally a mobile phone would not be possible on my wages.', 'The Forum for the Future report took an in-depth look at Romania where reconditioned mobile phones were proving very popular.', 'The report reveals that approximately 15 million mobile phones go out of use every year in the UK.']\n"
          ]
        }
      ],
      "source": [
        "# Each base line prediction is the first two sentaces of the article\n",
        "def base_line_predict(articles_df):\n",
        "    predictions = []\n",
        "    article_sentances = get_sentences(articles_df[\"text\"])\n",
        "    for a in article_sentances:\n",
        "        predictions.append(a[1:3])\n",
        "    return predictions\n",
        "\n",
        "pred = base_line_predict(articles_df)\n",
        "print(f\"Example baseline: {pred[0]}\\n\")\n",
        "print(f\"Example summary: {summary_sentances[0]}\")"
      ]
    },
    {
      "cell_type": "code",
      "source": [
        "prediction_array = pred\n",
        "model_output_summary = summary_sentances\n",
        "calculate_metric(model_output_summary, pred)"
      ],
      "metadata": {
        "id": "NLu5jhtRFAw0",
        "colab": {
          "base_uri": "https://localhost:8080/"
        },
        "outputId": "142fd276-a1db-4cbb-83a0-4f9caca9cbf3"
      },
      "id": "NLu5jhtRFAw0",
      "execution_count": 21,
      "outputs": [
        {
          "output_type": "stream",
          "name": "stdout",
          "text": [
            "Average Rouge-1 Recall 0.16760817559295432\n",
            "Average Rouge-1 Precision 0.8384134137026963\n",
            "Average Rouge-1 F1 0.2726681834613348\n"
          ]
        }
      ]
    },
    {
      "cell_type": "markdown",
      "metadata": {
        "id": "f5308ace-90a9-4c4e-ad2d-964361b7752f"
      },
      "source": [
        "## Preprocessing For Extractive Text Summarization"
      ],
      "id": "f5308ace-90a9-4c4e-ad2d-964361b7752f"
    },
    {
      "cell_type": "code",
      "execution_count": 22,
      "metadata": {
        "id": "656b44e7-d5b6-4520-966d-48d9726cefc8"
      },
      "outputs": [],
      "source": [
        "from nltk.tokenize import word_tokenize\n",
        "def compare_sentances(sentance_a, sentance_b):\n",
        "    tok_a = word_tokenize(sentance_a)\n",
        "    tok_b = word_tokenize(sentance_b)\n",
        "    matches = 0\n",
        "    for tok in tok_a:\n",
        "        if tok in tok_b:\n",
        "            matches+=1\n",
        "    return float(matches)/len(tok_a)\n",
        "    \n",
        "# Generate Label\n",
        "def generate_labels(articles_df, summaries_df):\n",
        "    article_sentances = get_sentances(articles_df[\"text\"])\n",
        "    summary_sentances = get_sentances(summaries_df[\"text\"])\n",
        "    labels = []\n",
        "    count=0\n",
        "    total_sentances = 0\n",
        "    same = 0\n",
        "    for article,summary in zip(article_sentances,summary_sentances):\n",
        "        sentance_inclusion = []\n",
        "        for sentance_a in article:\n",
        "            in_summary = False\n",
        "            for sentance_b in summary:\n",
        "                if len(sentance_b)<3:\n",
        "                    continue\n",
        "                percent_match = compare_sentances(sentance_a, sentance_b)\n",
        "                if percent_match > 0.95:\n",
        "                    in_summary=True\n",
        "                    break\n",
        "            total_sentances+=1\n",
        "            if in_summary and len(sentance_a)>3:\n",
        "                sentance_inclusion.append(1)\n",
        "            else:\n",
        "                sentance_inclusion.append(0)\n",
        "        same+=np.sum(sentance_inclusion) == len(summary)\n",
        "        count+=1\n",
        "        print(f\"Percent Complete: {100*count/len(article_sentances):0.2f}%\",end=\"\\r\")\n",
        "        labels.append(sentance_inclusion)\n",
        "        \n",
        "    print()\n",
        "    print(\"Matching  labels \",same)\n",
        "    print(\"Total \",len(article_sentances))\n",
        "    print(f\"Total Sentances processed {total_sentances}\")\n",
        "    return labels"
      ],
      "id": "656b44e7-d5b6-4520-966d-48d9726cefc8"
    },
    {
      "cell_type": "markdown",
      "source": [
        "## Extractive Text Summarization (Non-Deep Learning)"
      ],
      "metadata": {
        "id": "zlyU4b9_ImXz"
      },
      "id": "zlyU4b9_ImXz"
    },
    {
      "cell_type": "code",
      "source": [
        "!pip install networkx==2.6.3\n",
        "import networkx as nx"
      ],
      "metadata": {
        "colab": {
          "base_uri": "https://localhost:8080/"
        },
        "id": "Upwk2dD7QP3O",
        "outputId": "bec494f5-5d93-4f88-9fc8-7cf8f4aab68b"
      },
      "id": "Upwk2dD7QP3O",
      "execution_count": 23,
      "outputs": [
        {
          "output_type": "stream",
          "name": "stdout",
          "text": [
            "Looking in indexes: https://pypi.org/simple, https://us-python.pkg.dev/colab-wheels/public/simple/\n",
            "Collecting networkx==2.6.3\n",
            "  Downloading networkx-2.6.3-py3-none-any.whl (1.9 MB)\n",
            "\u001b[K     |████████████████████████████████| 1.9 MB 8.1 MB/s \n",
            "\u001b[?25hInstalling collected packages: networkx\n",
            "  Attempting uninstall: networkx\n",
            "    Found existing installation: networkx 2.8.8\n",
            "    Uninstalling networkx-2.8.8:\n",
            "      Successfully uninstalled networkx-2.8.8\n",
            "Successfully installed networkx-2.6.3\n"
          ]
        }
      ]
    },
    {
      "cell_type": "code",
      "source": [
        "import shutil\n",
        "import nltk \n",
        "nltk.download('stopwords')\n",
        "\n",
        "from math import sqrt\n",
        "\n",
        "from nltk.corpus import stopwords\n",
        "from xml.dom.minidom import parse\n",
        "    \n",
        "def readDocument(contents):\n",
        "    sentences = list()\n",
        "\n",
        "    contents = contents.split('.')\n",
        "   \n",
        "    for sentence in contents:\n",
        "        # Refine sentence and replace sentences that begin with non-alpha characters\n",
        "        refinedSentence = sentence.replace(\"[^a-zA-Z]\", \" \").split(\" \")\n",
        "        # Add refined sentence to list of sentences\n",
        "        sentences.append(refinedSentence)\n",
        "    sentences.pop()\n",
        "\n",
        "    # Filter out sentences that contain only two or less words\n",
        "    sentences = list(filter(lambda x: len(x) > 2, sentences))\n",
        "\n",
        "    return sentences                \n",
        "\n",
        "# Calculate the cosine distance between two lists\n",
        "def cosSimilarity(l1, l2):\n",
        "    # Follows the formula for cosine distance 1 - (u.v / |u||v|)\n",
        "    return 1 - (np.dot(l1, l2) / (sqrt(np.dot(l1, l1)) * sqrt(np.dot(l2, l2))))\n",
        "\n",
        "\n",
        "def sentenceSimilarity(s1, s2, stopwords=None):\n",
        "    if stopwords is None: stopwords = list()\n",
        "\n",
        "    s1 = [t.lower() for t in s1]\n",
        "    s2 = [t.lower() for t in s2]\n",
        "\n",
        "    # Combined set of words from both sentences\n",
        "    words = list(set(s1 + s2))\n",
        "\n",
        "    wordsLength = len(words)\n",
        "\n",
        "    # Initialize vectors for both setences\n",
        "    l1 = [0] * wordsLength\n",
        "    l2 = [0] * wordsLength\n",
        "\n",
        "    # Create vector for the first sentence\n",
        "    for w in s1:\n",
        "        if w in stopwords: continue\n",
        "        l1[words.index(w)] += 1\n",
        "\n",
        "    # Create the vector for the second sentence\n",
        "    for w in s2:\n",
        "        if w in stopwords: continue\n",
        "        l2[words.index(w)] += 1\n",
        "\n",
        "    return 1 - cosSimilarity(l1, l2)\n",
        "\n",
        "\n",
        "def createSimilarityMatrix(sentences, stop_words):\n",
        "    # Create an empty similarity matrix\n",
        "    sentenceLength = len(sentences)\n",
        "    similarityMatrix = np.zeros((sentenceLength, sentenceLength))\n",
        "\n",
        "    for i in range(len(sentences)):\n",
        "        for j in range(len(sentences)):\n",
        "            if i == j:  continue # ignore if both are same sentences \n",
        "            similarityMatrix[i][j] = sentenceSimilarity(sentences[i], sentences[j], stop_words)\n",
        "\n",
        "    return similarityMatrix\n",
        "\n",
        "\n",
        "# Summarize the given document\n",
        "def summarize(text, num_sentences):\n",
        "    stopWords = stopwords.words('english')\n",
        "    topSentences = list()\n",
        "\n",
        "    sentences = readDocument(text)\n",
        "\n",
        "    # Create a similarity matrix in regards to all of the sentences in the document\n",
        "    similarityMartix = createSimilarityMatrix(sentences, stopWords)\n",
        "\n",
        "    # Rank sentences in similarity martix\n",
        "    similarityGraph = nx.from_numpy_array(similarityMartix)\n",
        "    scores = nx.pagerank(similarityGraph, max_iter=100)\n",
        "    \n",
        "    # Sort by sentance rank\n",
        "    rankedSentences = sorted(((scores[i], s) for i, s in enumerate(sentences)), reverse=True)\n",
        "\n",
        "    for i in range(min(num_sentences, len(rankedSentences))): topSentences.append(\" \".join(rankedSentences[i][1]))\n",
        "\n",
        "    ret = \"Text Summmary: \\n\", \". \".join(topSentences) + '.\\n\\n'\n",
        "    return ret\n",
        "\n",
        "\n",
        "# Get summaries of the documents in the dataset\n",
        "prediction_array = list()\n",
        "def getSummaries(n):\n",
        "  i = 0\n",
        "  for text in articles_df[\"text\"]:\n",
        "    prediction_array.append(summarize(text, 30))\n",
        "    # i += 1\n",
        "    # if i == n: break\n",
        "  return prediction_array\n"
      ],
      "metadata": {
        "id": "txC3dFWgbTSJ",
        "colab": {
          "base_uri": "https://localhost:8080/"
        },
        "outputId": "16b85654-406f-422e-a095-d5c99ef055ab"
      },
      "execution_count": 24,
      "outputs": [
        {
          "output_type": "stream",
          "name": "stderr",
          "text": [
            "[nltk_data] Downloading package stopwords to /root/nltk_data...\n",
            "[nltk_data]   Unzipping corpora/stopwords.zip.\n"
          ]
        }
      ],
      "id": "txC3dFWgbTSJ"
    },
    {
      "cell_type": "code",
      "source": [
        "getSummaries(1)"
      ],
      "metadata": {
        "id": "M18LxpmRhzIk"
      },
      "id": "M18LxpmRhzIk",
      "execution_count": null,
      "outputs": []
    },
    {
      "cell_type": "code",
      "source": [
        "calculate_metric(model_output_summary, prediction_array)"
      ],
      "metadata": {
        "colab": {
          "base_uri": "https://localhost:8080/"
        },
        "id": "UPJ7olANvtG-",
        "outputId": "74a61c79-e370-46c1-d0b5-70f8a9bb5948"
      },
      "execution_count": 26,
      "outputs": [
        {
          "output_type": "stream",
          "name": "stdout",
          "text": [
            "Average Rouge-1 Recall 8.175277959450621e-06\n",
            "Average Rouge-1 Precision 0.0004496402877697842\n",
            "Average Rouge-1 F1 1.60585813906273e-05\n"
          ]
        }
      ],
      "id": "UPJ7olANvtG-"
    },
    {
      "cell_type": "markdown",
      "metadata": {
        "id": "e458c96e-e09e-40d0-8d6e-d08d62a25568"
      },
      "source": [
        "## Extractive model (based on single sentence analysis)"
      ],
      "id": "e458c96e-e09e-40d0-8d6e-d08d62a25568"
    },
    {
      "cell_type": "code",
      "execution_count": 27,
      "metadata": {
        "id": "e923c207-7f42-428f-9c22-ba0560f016af",
        "outputId": "9c633203-1d85-4b5f-fa8a-635a39a67571",
        "colab": {
          "base_uri": "https://localhost:8080/"
        }
      },
      "outputs": [
        {
          "output_type": "stream",
          "name": "stdout",
          "text": [
            "Percent Complete: 100.00%\n",
            "Matching  labels  1867\n",
            "Total  2224\n",
            "Total Sentances processed 46905\n"
          ]
        }
      ],
      "source": [
        "article_sentances = get_sentences(articles_df[\"text\"])\n",
        "y_labels = generate_labels(articles_df, summaries_df) "
      ],
      "id": "e923c207-7f42-428f-9c22-ba0560f016af"
    },
    {
      "cell_type": "code",
      "execution_count": 28,
      "metadata": {
        "id": "bfa64627-abcd-46d2-9b3e-fa1772ed3af1",
        "outputId": "dc91d599-340e-4c7d-f1dd-152674170c3c",
        "colab": {
          "base_uri": "https://localhost:8080/"
        }
      },
      "outputs": [
        {
          "output_type": "stream",
          "name": "stdout",
          "text": [
            "There are 46905 sentances in total\n",
            "Vecorized sentance sample: [  1 683 170 434   9  27  81 123   8   2]\n",
            "Corresponding label: 1\n"
          ]
        }
      ],
      "source": [
        "import tensorflow as tf\n",
        "#from tensorflow_models import nlp\n",
        "from tensorflow.keras import layers\n",
        "from tensorflow.keras import losses\n",
        "from keras.utils import pad_sequences\n",
        "import string \n",
        "\n",
        "def ex_standarize(input_txt):\n",
        "  lowercase_txt = tf.strings.lower(input_txt)\n",
        "  return tf.strings.regex_replace(lowercase_txt,'[%s]' % re.escape(string.punctuation),'')\n",
        "\n",
        "max_features = 1000\n",
        "sequence_length = 250\n",
        "\n",
        "vectorize_layer = layers.TextVectorization(\n",
        "    standardize=ex_standarize,\n",
        "    max_tokens=max_features,\n",
        "    output_mode='int',\n",
        "    output_sequence_length=sequence_length)\n",
        "\n",
        "\n",
        "vectorize_layer.adapt(articles_df[\"text\"])\n",
        "\n",
        "all_sentances = []\n",
        "all_labels = []\n",
        "\n",
        "for i in range(len(article_sentances)):\n",
        "    for j in range(len(article_sentances[i])):\n",
        "        all_sentances.append(article_sentances[i][j])\n",
        "        all_labels.append(y_labels[i][j])\n",
        "\n",
        "x_train = vectorize_layer(all_sentances)\n",
        "y_train = np.asarray(all_labels)\n",
        "print(f\"There are {len(x_train)} sentances in total\")\n",
        "print(f\"Vecorized sentance sample: {x_train[1][:10]}\")\n",
        "print(f\"Corresponding label: {y_train[1]}\")"
      ],
      "id": "bfa64627-abcd-46d2-9b3e-fa1772ed3af1"
    },
    {
      "cell_type": "code",
      "execution_count": 29,
      "metadata": {
        "id": "3fa17cbe-e10f-4afb-854c-b2189bdfc3b7",
        "outputId": "84cc7c1b-9315-4cdc-8eda-b6f59f82f7f8",
        "colab": {
          "base_uri": "https://localhost:8080/"
        }
      },
      "outputs": [
        {
          "output_type": "stream",
          "name": "stdout",
          "text": [
            "Model: \"sequential\"\n",
            "_________________________________________________________________\n",
            " Layer (type)                Output Shape              Param #   \n",
            "=================================================================\n",
            " embedding (Embedding)       (None, None, 32)          32032     \n",
            "                                                                 \n",
            " dropout (Dropout)           (None, None, 32)          0         \n",
            "                                                                 \n",
            " conv1d (Conv1D)             (None, None, 128)         28800     \n",
            "                                                                 \n",
            " conv1d_1 (Conv1D)           (None, None, 128)         114816    \n",
            "                                                                 \n",
            " global_average_pooling1d (G  (None, 128)              0         \n",
            " lobalAveragePooling1D)                                          \n",
            "                                                                 \n",
            " dense (Dense)               (None, 128)               16512     \n",
            "                                                                 \n",
            " dropout_1 (Dropout)         (None, 128)               0         \n",
            "                                                                 \n",
            " dense_1 (Dense)             (None, 1)                 129       \n",
            "                                                                 \n",
            "=================================================================\n",
            "Total params: 192,289\n",
            "Trainable params: 192,289\n",
            "Non-trainable params: 0\n",
            "_________________________________________________________________\n"
          ]
        }
      ],
      "source": [
        "embedding_dim = 32\n",
        "model = tf.keras.Sequential([\n",
        "  layers.Embedding(max_features + 1, embedding_dim),\n",
        "  layers.Dropout(0.2),\n",
        "  layers.Conv1D(128, 7, padding=\"valid\", activation=\"relu\", strides=2),\n",
        "  layers.Conv1D(128, 7, padding=\"valid\", activation=\"relu\", strides=2),\n",
        "  layers.GlobalAveragePooling1D(),\n",
        "  layers.Dense(128, activation=\"relu\"),\n",
        "  layers.Dropout(0.2),\n",
        "  layers.Dense(1)])\n",
        "\n",
        "model.summary()"
      ],
      "id": "3fa17cbe-e10f-4afb-854c-b2189bdfc3b7"
    },
    {
      "cell_type": "code",
      "execution_count": 30,
      "metadata": {
        "id": "10cbf60e-f068-4152-9cf2-b4dde68e06ec"
      },
      "outputs": [],
      "source": [
        "model.compile(loss=losses.BinaryCrossentropy(from_logits=True),\n",
        "              optimizer='adam',\n",
        "              metrics=tf.metrics.BinaryAccuracy(threshold=0.0))"
      ],
      "id": "10cbf60e-f068-4152-9cf2-b4dde68e06ec"
    },
    {
      "cell_type": "code",
      "execution_count": 31,
      "metadata": {
        "id": "2a95166e-e66b-4e6d-9219-a3ea49a1b44b",
        "outputId": "0ff6d317-5dfe-43ae-eecd-c65e6795fa97",
        "colab": {
          "base_uri": "https://localhost:8080/"
        }
      },
      "outputs": [
        {
          "output_type": "stream",
          "name": "stdout",
          "text": [
            "(46905, 250)\n",
            "Epoch 1/20\n",
            "1466/1466 [==============================] - 19s 7ms/step - loss: 0.6210 - binary_accuracy: 0.6556 - val_loss: 0.6087 - val_binary_accuracy: 0.6800\n",
            "Epoch 2/20\n",
            "1466/1466 [==============================] - 8s 5ms/step - loss: 0.5937 - binary_accuracy: 0.6828 - val_loss: 0.5764 - val_binary_accuracy: 0.6942\n",
            "Epoch 3/20\n",
            "1466/1466 [==============================] - 8s 6ms/step - loss: 0.5803 - binary_accuracy: 0.6906 - val_loss: 0.5569 - val_binary_accuracy: 0.7128\n",
            "Epoch 4/20\n",
            "1466/1466 [==============================] - 8s 5ms/step - loss: 0.5661 - binary_accuracy: 0.7023 - val_loss: 0.5388 - val_binary_accuracy: 0.7188\n",
            "Epoch 5/20\n",
            "1466/1466 [==============================] - 9s 6ms/step - loss: 0.5510 - binary_accuracy: 0.7125 - val_loss: 0.5205 - val_binary_accuracy: 0.7345\n",
            "Epoch 6/20\n",
            "1466/1466 [==============================] - 8s 6ms/step - loss: 0.5336 - binary_accuracy: 0.7260 - val_loss: 0.4998 - val_binary_accuracy: 0.7520\n",
            "Epoch 7/20\n",
            "1466/1466 [==============================] - 8s 6ms/step - loss: 0.5168 - binary_accuracy: 0.7366 - val_loss: 0.4745 - val_binary_accuracy: 0.7684\n",
            "Epoch 8/20\n",
            "1466/1466 [==============================] - 9s 6ms/step - loss: 0.4996 - binary_accuracy: 0.7482 - val_loss: 0.4539 - val_binary_accuracy: 0.7864\n",
            "Epoch 9/20\n",
            "1466/1466 [==============================] - 8s 6ms/step - loss: 0.4839 - binary_accuracy: 0.7597 - val_loss: 0.4410 - val_binary_accuracy: 0.7987\n",
            "Epoch 10/20\n",
            "1466/1466 [==============================] - 8s 5ms/step - loss: 0.4678 - binary_accuracy: 0.7683 - val_loss: 0.4059 - val_binary_accuracy: 0.8122\n",
            "Epoch 11/20\n",
            "1466/1466 [==============================] - 8s 5ms/step - loss: 0.4535 - binary_accuracy: 0.7785 - val_loss: 0.3848 - val_binary_accuracy: 0.8316\n",
            "Epoch 12/20\n",
            "1466/1466 [==============================] - 8s 5ms/step - loss: 0.4373 - binary_accuracy: 0.7885 - val_loss: 0.3702 - val_binary_accuracy: 0.8292\n",
            "Epoch 13/20\n",
            "1466/1466 [==============================] - 8s 5ms/step - loss: 0.4250 - binary_accuracy: 0.7961 - val_loss: 0.3525 - val_binary_accuracy: 0.8552\n",
            "Epoch 14/20\n",
            "1466/1466 [==============================] - 8s 6ms/step - loss: 0.4094 - binary_accuracy: 0.8047 - val_loss: 0.3284 - val_binary_accuracy: 0.8682\n",
            "Epoch 15/20\n",
            "1466/1466 [==============================] - 9s 6ms/step - loss: 0.3991 - binary_accuracy: 0.8135 - val_loss: 0.3135 - val_binary_accuracy: 0.8793\n",
            "Epoch 16/20\n",
            "1466/1466 [==============================] - 8s 5ms/step - loss: 0.3813 - binary_accuracy: 0.8233 - val_loss: 0.2784 - val_binary_accuracy: 0.8883\n",
            "Epoch 17/20\n",
            "1466/1466 [==============================] - 9s 6ms/step - loss: 0.3697 - binary_accuracy: 0.8280 - val_loss: 0.2688 - val_binary_accuracy: 0.8972\n",
            "Epoch 18/20\n",
            "1466/1466 [==============================] - 8s 6ms/step - loss: 0.3587 - binary_accuracy: 0.8359 - val_loss: 0.2543 - val_binary_accuracy: 0.9064\n",
            "Epoch 19/20\n",
            "1466/1466 [==============================] - 8s 5ms/step - loss: 0.3450 - binary_accuracy: 0.8432 - val_loss: 0.2388 - val_binary_accuracy: 0.9136\n",
            "Epoch 20/20\n",
            "1466/1466 [==============================] - 8s 6ms/step - loss: 0.3327 - binary_accuracy: 0.8510 - val_loss: 0.2408 - val_binary_accuracy: 0.9019\n"
          ]
        }
      ],
      "source": [
        "from sklearn.model_selection import train_test_split\n",
        "# 80 10 10 split for training validation test\n",
        "X_train, X_test, Y_train, Y_test = train_test_split(x_train.numpy(), y_train, test_size=0.2,shuffle=True,random_state=41)\n",
        "X_valid, X_test, Y_valid, Y_test = train_test_split(X_test, Y_test, test_size=0.5, random_state=41)\n",
        "\n",
        "epochs = 20\n",
        "print(x_train.shape)\n",
        "history = model.fit(x_train,y_train, validation_data=(X_valid, Y_valid),epochs=epochs,batch_size =32)\n"
      ],
      "id": "2a95166e-e66b-4e6d-9219-a3ea49a1b44b"
    },
    {
      "cell_type": "code",
      "execution_count": 32,
      "metadata": {
        "id": "538ca5bb-837f-4248-b9d7-1a475695723d",
        "outputId": "fe3a7073-1ad5-4c24-d018-e7861370934b",
        "colab": {
          "base_uri": "https://localhost:8080/"
        }
      },
      "outputs": [
        {
          "output_type": "stream",
          "name": "stdout",
          "text": [
            "{'loss': [0.620954692363739, 0.5936546921730042, 0.5802894234657288, 0.5660550594329834, 0.551008939743042, 0.5335965752601624, 0.5167625546455383, 0.49958401918411255, 0.48391246795654297, 0.467792809009552, 0.4534926414489746, 0.43729716539382935, 0.42501282691955566, 0.40941643714904785, 0.39914408326148987, 0.3812743127346039, 0.36967799067497253, 0.3587146997451782, 0.3449938893318176, 0.33265799283981323], 'binary_accuracy': [0.6556017398834229, 0.6827630400657654, 0.6906300187110901, 0.7023345232009888, 0.7125466465950012, 0.7260206937789917, 0.7366165518760681, 0.7482144832611084, 0.7596844434738159, 0.7682549953460693, 0.7784671187400818, 0.7884660363197327, 0.7961198091506958, 0.8046690225601196, 0.8135380148887634, 0.8232597708702087, 0.8279927372932434, 0.8359023332595825, 0.8432363271713257, 0.8509753942489624], 'val_loss': [0.608669102191925, 0.5763833522796631, 0.5569223761558533, 0.5388485789299011, 0.5204702019691467, 0.49977970123291016, 0.47453561425209045, 0.45393556356430054, 0.44104185700416565, 0.4059062898159027, 0.3848273754119873, 0.3701739013195038, 0.3525148034095764, 0.32837289571762085, 0.3135218620300293, 0.27844148874282837, 0.2688302993774414, 0.25432631373405457, 0.23880000412464142, 0.24082046747207642], 'val_binary_accuracy': [0.6799573302268982, 0.6942430734634399, 0.7127931714057922, 0.7187633514404297, 0.7345415949821472, 0.7520256042480469, 0.7684435248374939, 0.7863539457321167, 0.79872065782547, 0.8121535181999207, 0.831556499004364, 0.8292111158370972, 0.8552238941192627, 0.8682302832603455, 0.8793177008628845, 0.8882729411125183, 0.8972281217575073, 0.9063965678215027, 0.9136460423469543, 0.9019189476966858]}\n"
          ]
        }
      ],
      "source": [
        "print(history.history)"
      ],
      "id": "538ca5bb-837f-4248-b9d7-1a475695723d"
    },
    {
      "cell_type": "code",
      "execution_count": 33,
      "metadata": {
        "id": "254ec531-963d-4510-9163-a5683fa44569",
        "outputId": "d5a3c9a0-c2e8-4a51-9a51-b7092796ad28",
        "colab": {
          "base_uri": "https://localhost:8080/",
          "height": 295
        }
      },
      "outputs": [
        {
          "output_type": "display_data",
          "data": {
            "text/plain": [
              "<Figure size 432x288 with 1 Axes>"
            ],
            "image/png": "[encoded data removed]"
          },
          "metadata": {
            "needs_background": "light"
          }
        }
      ],
      "source": [
        "plt.plot(history.history['loss'])\n",
        "plt.plot(history.history['val_loss'])\n",
        "plt.title('model loss')\n",
        "plt.ylabel('loss')\n",
        "plt.xlabel('epoch')\n",
        "plt.legend(['val', 'train'], loc='upper left')\n",
        "plt.show()"
      ],
      "id": "254ec531-963d-4510-9163-a5683fa44569"
    },
    {
      "cell_type": "code",
      "execution_count": 34,
      "metadata": {
        "id": "a2fff698-611f-46b1-b4db-571360e7f975",
        "outputId": "15e559d7-a8c5-4c1f-caa9-3e64e33fedb0",
        "colab": {
          "base_uri": "https://localhost:8080/",
          "height": 295
        }
      },
      "outputs": [
        {
          "output_type": "display_data",
          "data": {
            "text/plain": [
              "<Figure size 432x288 with 1 Axes>"
            ],
            "image/png": "[encoded data removed]"
          },
          "metadata": {
            "needs_background": "light"
          }
        }
      ],
      "source": [
        "plt.plot(history.history['binary_accuracy'])\n",
        "plt.plot(history.history['val_binary_accuracy'])\n",
        "plt.title('model accuracy')\n",
        "plt.ylabel('accuracy')\n",
        "plt.xlabel('epoch')\n",
        "plt.legend(['val','train',], loc='upper left')\n",
        "plt.show()"
      ],
      "id": "a2fff698-611f-46b1-b4db-571360e7f975"
    },
    {
      "cell_type": "code",
      "execution_count": 35,
      "metadata": {
        "id": "d0558e5e-0fb5-48fa-bbb9-bfbe05e27885",
        "outputId": "a89c968b-f02a-4119-82fb-43ce18211160",
        "colab": {
          "base_uri": "https://localhost:8080/"
        }
      },
      "outputs": [
        {
          "output_type": "stream",
          "name": "stdout",
          "text": [
            "Percentage Complete: 99.96%\n"
          ]
        }
      ],
      "source": [
        "# reconstruct summaries\n",
        "# All predicted summaries is a list for each article where each entry is a list of summary sentances\n",
        "all_predicted_summaries = []\n",
        "for i in range(len(article_sentances)):\n",
        "    model_predictions = model.predict(vectorize_layer(article_sentances[i]),verbose = 0)\n",
        "    model_predictions = np.where(model_predictions>0.5,1,0)\n",
        "    summary = []\n",
        "    for j in range(len(article_sentances[i])):\n",
        "        if model_predictions[j]==1:\n",
        "            summary.append(article_sentances[i][j])\n",
        "    all_predicted_summaries.append(summary)\n",
        "    print(f\"Percentage Complete: {100*i/len(article_sentances):0.2f}%\",end=\"\\r\")\n",
        "print()"
      ],
      "id": "d0558e5e-0fb5-48fa-bbb9-bfbe05e27885"
    },
    {
      "cell_type": "code",
      "execution_count": 36,
      "metadata": {
        "id": "576d49be-0958-4199-a7fe-59bdf0b1a41d",
        "outputId": "5e995c31-3712-46c7-c65d-e4f504aeba20",
        "colab": {
          "base_uri": "https://localhost:8080/"
        }
      },
      "outputs": [
        {
          "output_type": "stream",
          "name": "stdout",
          "text": [
            "['The mobile gaming industry is set to explode in 2005 with a number of high-profile devices offering a range of gaming and other features such as movie and music playback.', 'Market leader Nintendo, however, is releasing a handheld console that it says will revolutionise the way games are played.', 'Nintendo has given developers free rein to utilise the dual screens and ability to control the action by simply touching the screen.', 'Nintendo first launched its GameBoy console in 1989 and has dominated the market ever since.', 'With its two screens, wireless connectivity and backwards compatibility with the GameBoy Advance, the DS certainly has a number of unique selling points.', 'With more than two million pre-orders for the device in Japan, Nintendo is confident it will keep its number one spot.', 'Super Mario 64 DS is a faithful re-creation of the Nintendo 64 classic with a host of new mini-games and new levels.', 'The game looks stunning on the portable machine and the sound too is impressive for such a small machine.', 'Hardened gamers will have to learn to adapt to a new way of playing while it could prove to be an accessible way in to gaming for novices, Ultimately the success or failure of the device lies in the hands of developers.', \"If they manage to create titles which use the Nintendo DS's key features then a whole new market of gamers could open up.\"]\n",
            "The mobile gaming industry is set to explode in 2005 with a number of high-profile devices offering a range of gaming and other features such as movie and music playback.Market leader Nintendo, however, is releasing a handheld console that it says will revolutionise the way games are played.Nintendo has given developers free rein to utilise the dual screens and ability to control the action by simply touching the screen.Nintendo first launched its GameBoy console in 1989 and has dominated the market ever since.With its two screens, wireless connectivity and backwards compatibility with the GameBoy Advance, the DS certainly has a number of unique selling points.With more than two million pre-orders for the device in Japan, Nintendo is confident it will keep its number one spot.Super Mario 64 DS is a faithful re-creation of the Nintendo 64 classic with a host of new mini-games and new levels.The game looks stunning on the portable machine and the sound too is impressive for such a small machine.Hardened gamers will have to learn to adapt to a new way of playing while it could prove to be an accessible way in to gaming for novices, Ultimately the success or failure of the device lies in the hands of developers.If they manage to create titles which use the Nintendo DS's key features then a whole new market of gamers could open up.\n",
            "With more than two million pre-orders for the device in Japan, Nintendo is confident it will keep its number one spot.Market leader Nintendo, however, is releasing a handheld console that it says will revolutionise the way games are played.Nintendo first launched its GameBoy console in 1989 and has dominated the market ever since.Nintendo has given developers free rein to utilise the dual screens and ability to control the action by simply touching the screen.If they manage to create titles which use the Nintendo DS's key features then a whole new market of gamers could open up.With its two screens, wireless connectivity and backwards compatibility with the GameBoy Advance, the DS certainly has a number of unique selling points.Hardened gamers will have to learn to adapt to a new way of playing while it could prove to be an accessible way in to gaming for novices, Ultimately the success or failure of the device lies in the hands of developers.Super Mario 64 DS is a faithful re-creation of the Nintendo 64 classic with a host of new mini-games and new levels.The mobile gaming industry is set to explode in 2005 with a number of high-profile devices offering a range of gaming and other features such as movie and music playback.Both screens are crisp and clear while the bottom of the two is touch sensitive.The Japanese gaming giant hopes the DS will maintain the firm's pre-eminence in an increasingly-competitive mobile gaming market.The game looks stunning on the portable machine and the sound too is impressive for such a small machine.\n"
          ]
        }
      ],
      "source": [
        "print(all_predicted_summaries[400])\n",
        "out = \"\"\n",
        "for s in all_predicted_summaries[400]:\n",
        "    out+=s\n",
        "print(out)\n",
        "print(summaries_df[\"text\"][400])"
      ],
      "id": "576d49be-0958-4199-a7fe-59bdf0b1a41d"
    },
    {
      "cell_type": "code",
      "source": [
        "prediction_array = [''.join(map(str, sub_list)) for sub_list in all_predicted_summaries]\n",
        "calculate_metric(model_output_summary, prediction_array)"
      ],
      "metadata": {
        "colab": {
          "base_uri": "https://localhost:8080/",
          "height": 312
        },
        "outputId": "2cabb0df-6d54-44d4-9665-7efe93712359",
        "id": "bPOZy3ITFk10"
      },
      "execution_count": 37,
      "outputs": [
        {
          "output_type": "error",
          "ename": "IndexError",
          "evalue": "ignored",
          "traceback": [
            "\u001b[0;31m---------------------------------------------------------------------------\u001b[0m",
            "\u001b[0;31mIndexError\u001b[0m                                Traceback (most recent call last)",
            "\u001b[0;32m<ipython-input-37-5b0e805dac4d>\u001b[0m in \u001b[0;36m<module>\u001b[0;34m\u001b[0m\n\u001b[1;32m      1\u001b[0m \u001b[0mprediction_array\u001b[0m \u001b[0;34m=\u001b[0m \u001b[0;34m[\u001b[0m\u001b[0;34m''\u001b[0m\u001b[0;34m.\u001b[0m\u001b[0mjoin\u001b[0m\u001b[0;34m(\u001b[0m\u001b[0mmap\u001b[0m\u001b[0;34m(\u001b[0m\u001b[0mstr\u001b[0m\u001b[0;34m,\u001b[0m \u001b[0msub_list\u001b[0m\u001b[0;34m)\u001b[0m\u001b[0;34m)\u001b[0m \u001b[0;32mfor\u001b[0m \u001b[0msub_list\u001b[0m \u001b[0;32min\u001b[0m \u001b[0mall_predicted_summaries\u001b[0m\u001b[0;34m]\u001b[0m\u001b[0;34m\u001b[0m\u001b[0;34m\u001b[0m\u001b[0m\n\u001b[0;32m----> 2\u001b[0;31m \u001b[0mcalculate_metric\u001b[0m\u001b[0;34m(\u001b[0m\u001b[0mmodel_output_summary\u001b[0m\u001b[0;34m,\u001b[0m \u001b[0mprediction_array\u001b[0m\u001b[0;34m)\u001b[0m\u001b[0;34m\u001b[0m\u001b[0;34m\u001b[0m\u001b[0m\n\u001b[0m",
            "\u001b[0;32m<ipython-input-17-7dbe5cddcdf8>\u001b[0m in \u001b[0;36mcalculate_metric\u001b[0;34m(model_output_summary, prediction_array)\u001b[0m\n\u001b[1;32m     18\u001b[0m     \u001b[0mcorrect_summary\u001b[0m \u001b[0;34m=\u001b[0m \u001b[0msummaries_df\u001b[0m\u001b[0;34m[\u001b[0m\u001b[0;34m\"text\"\u001b[0m\u001b[0;34m]\u001b[0m\u001b[0;34m[\u001b[0m\u001b[0mi\u001b[0m\u001b[0;34m]\u001b[0m\u001b[0;34m\u001b[0m\u001b[0;34m\u001b[0m\u001b[0m\n\u001b[1;32m     19\u001b[0m     \u001b[0;31m#print(correct_summary)\u001b[0m\u001b[0;34m\u001b[0m\u001b[0;34m\u001b[0m\u001b[0;34m\u001b[0m\u001b[0m\n\u001b[0;32m---> 20\u001b[0;31m     \u001b[0mrouge_metric\u001b[0m \u001b[0;34m=\u001b[0m \u001b[0mrouge_metric_calculator\u001b[0m \u001b[0;34m(\u001b[0m\u001b[0mmodel_output\u001b[0m\u001b[0;34m[\u001b[0m\u001b[0;36m0\u001b[0m\u001b[0;34m]\u001b[0m\u001b[0;34m,\u001b[0m \u001b[0mcorrect_summary\u001b[0m\u001b[0;34m)\u001b[0m\u001b[0;34m\u001b[0m\u001b[0;34m\u001b[0m\u001b[0m\n\u001b[0m\u001b[1;32m     21\u001b[0m     \u001b[0;31m#print(rouge_metric)\u001b[0m\u001b[0;34m\u001b[0m\u001b[0;34m\u001b[0m\u001b[0;34m\u001b[0m\u001b[0m\n\u001b[1;32m     22\u001b[0m     \u001b[0mone\u001b[0m \u001b[0;34m=\u001b[0m \u001b[0mrouge_metric\u001b[0m\u001b[0;34m[\u001b[0m\u001b[0;36m0\u001b[0m\u001b[0;34m]\u001b[0m\u001b[0;34m[\u001b[0m\u001b[0;34m'rouge-1'\u001b[0m\u001b[0;34m]\u001b[0m\u001b[0;34m\u001b[0m\u001b[0;34m\u001b[0m\u001b[0m\n",
            "\u001b[0;31mIndexError\u001b[0m: string index out of range"
          ]
        }
      ],
      "id": "bPOZy3ITFk10"
    },
    {
      "cell_type": "markdown",
      "id": "3893ece5-30c6-40c6-835c-64c607138cdb",
      "metadata": {
        "id": "3893ece5-30c6-40c6-835c-64c607138cdb"
      },
      "source": [
        "## Preprocessing For Abstractive Text Summarization"
      ]
    },
    {
      "cell_type": "code",
      "execution_count": null,
      "id": "f6ebf1cc-21a3-41d7-908c-4e064df638f2",
      "metadata": {
        "id": "f6ebf1cc-21a3-41d7-908c-4e064df638f2",
        "colab": {
          "base_uri": "https://localhost:8080/",
          "height": 711,
          "referenced_widgets": [
            "e88bee7e600d447990343ff7e00c8d08",
            "3f24cbd5021b4aa08b970c93d3e9f3c9",
            "dc9c169ad66d41f3ac0e197f01abac4e",
            "dbd5f0114b634f1fb9d420d600bf6846",
            "86cf7dba8589406886e73ee69a03734f",
            "3252bca7c5424c2e8f3eedbfae7fdccd",
            "8f0c5d1aa9294a1283fcbe56df7dced7",
            "230be5756acb4e71a6bcf235a9e6af1f",
            "067b377b94f5404d862cd8e857a1e2b0",
            "fc054d6a3c5746c7b797be21b70a6692",
            "414186569eae4d079935ce4143a243f9"
          ]
        },
        "outputId": "b00aa424-150f-45fa-f739-63004b131e89"
      },
      "outputs": [
        {
          "output_type": "stream",
          "name": "stderr",
          "text": [
            "/usr/local/lib/python3.8/dist-packages/transformers/models/auto/modeling_tf_auto.py:608: FutureWarning: The class `TFAutoModelWithLMHead` is deprecated and will be removed in a future version. Please use `TFAutoModelForCausalLM` for causal language models, `TFAutoModelForMaskedLM` for masked language models and `TFAutoModelForSeq2SeqLM` for encoder-decoder models.\n",
            "  warnings.warn(\n"
          ]
        },
        {
          "output_type": "display_data",
          "data": {
            "text/plain": [
              "Downloading:   0%|          | 0.00/1.20k [00:00<?, ?B/s]"
            ],
            "application/vnd.jupyter.widget-view+json": {
              "version_major": 2,
              "version_minor": 0,
              "model_id": "e88bee7e600d447990343ff7e00c8d08"
            }
          },
          "metadata": {}
        },
        {
          "output_type": "error",
          "ename": "RuntimeError",
          "evalue": "ignored",
          "traceback": [
            "\u001b[0;31m---------------------------------------------------------------------------\u001b[0m",
            "\u001b[0;31mRuntimeError\u001b[0m                              Traceback (most recent call last)",
            "\u001b[0;32m/usr/local/lib/python3.8/dist-packages/transformers/utils/import_utils.py\u001b[0m in \u001b[0;36m_get_module\u001b[0;34m(self, module_name)\u001b[0m\n\u001b[1;32m   1092\u001b[0m         \u001b[0;32mtry\u001b[0m\u001b[0;34m:\u001b[0m\u001b[0;34m\u001b[0m\u001b[0;34m\u001b[0m\u001b[0m\n\u001b[0;32m-> 1093\u001b[0;31m             \u001b[0;32mreturn\u001b[0m \u001b[0mimportlib\u001b[0m\u001b[0;34m.\u001b[0m\u001b[0mimport_module\u001b[0m\u001b[0;34m(\u001b[0m\u001b[0;34m\".\"\u001b[0m \u001b[0;34m+\u001b[0m \u001b[0mmodule_name\u001b[0m\u001b[0;34m,\u001b[0m \u001b[0mself\u001b[0m\u001b[0;34m.\u001b[0m\u001b[0m__name__\u001b[0m\u001b[0;34m)\u001b[0m\u001b[0;34m\u001b[0m\u001b[0;34m\u001b[0m\u001b[0m\n\u001b[0m\u001b[1;32m   1094\u001b[0m         \u001b[0;32mexcept\u001b[0m \u001b[0mException\u001b[0m \u001b[0;32mas\u001b[0m \u001b[0me\u001b[0m\u001b[0;34m:\u001b[0m\u001b[0;34m\u001b[0m\u001b[0;34m\u001b[0m\u001b[0m\n",
            "\u001b[0;32m/usr/lib/python3.8/importlib/__init__.py\u001b[0m in \u001b[0;36mimport_module\u001b[0;34m(name, package)\u001b[0m\n\u001b[1;32m    126\u001b[0m             \u001b[0mlevel\u001b[0m \u001b[0;34m+=\u001b[0m \u001b[0;36m1\u001b[0m\u001b[0;34m\u001b[0m\u001b[0;34m\u001b[0m\u001b[0m\n\u001b[0;32m--> 127\u001b[0;31m     \u001b[0;32mreturn\u001b[0m \u001b[0m_bootstrap\u001b[0m\u001b[0;34m.\u001b[0m\u001b[0m_gcd_import\u001b[0m\u001b[0;34m(\u001b[0m\u001b[0mname\u001b[0m\u001b[0;34m[\u001b[0m\u001b[0mlevel\u001b[0m\u001b[0;34m:\u001b[0m\u001b[0;34m]\u001b[0m\u001b[0;34m,\u001b[0m \u001b[0mpackage\u001b[0m\u001b[0;34m,\u001b[0m \u001b[0mlevel\u001b[0m\u001b[0;34m)\u001b[0m\u001b[0;34m\u001b[0m\u001b[0;34m\u001b[0m\u001b[0m\n\u001b[0m\u001b[1;32m    128\u001b[0m \u001b[0;34m\u001b[0m\u001b[0m\n",
            "\u001b[0;32m/usr/lib/python3.8/importlib/_bootstrap.py\u001b[0m in \u001b[0;36m_gcd_import\u001b[0;34m(name, package, level)\u001b[0m\n",
            "\u001b[0;32m/usr/lib/python3.8/importlib/_bootstrap.py\u001b[0m in \u001b[0;36m_find_and_load\u001b[0;34m(name, import_)\u001b[0m\n",
            "\u001b[0;32m/usr/lib/python3.8/importlib/_bootstrap.py\u001b[0m in \u001b[0;36m_find_and_load_unlocked\u001b[0;34m(name, import_)\u001b[0m\n",
            "\u001b[0;32m/usr/lib/python3.8/importlib/_bootstrap.py\u001b[0m in \u001b[0;36m_call_with_frames_removed\u001b[0;34m(f, *args, **kwds)\u001b[0m\n",
            "\u001b[0;32m/usr/lib/python3.8/importlib/_bootstrap.py\u001b[0m in \u001b[0;36m_gcd_import\u001b[0;34m(name, package, level)\u001b[0m\n",
            "\u001b[0;32m/usr/lib/python3.8/importlib/_bootstrap.py\u001b[0m in \u001b[0;36m_find_and_load\u001b[0;34m(name, import_)\u001b[0m\n",
            "\u001b[0;32m/usr/lib/python3.8/importlib/_bootstrap.py\u001b[0m in \u001b[0;36m_find_and_load_unlocked\u001b[0;34m(name, import_)\u001b[0m\n",
            "\u001b[0;32m/usr/lib/python3.8/importlib/_bootstrap.py\u001b[0m in \u001b[0;36m_load_unlocked\u001b[0;34m(spec)\u001b[0m\n",
            "\u001b[0;32m/usr/lib/python3.8/importlib/_bootstrap_external.py\u001b[0m in \u001b[0;36mexec_module\u001b[0;34m(self, module)\u001b[0m\n",
            "\u001b[0;32m/usr/lib/python3.8/importlib/_bootstrap.py\u001b[0m in \u001b[0;36m_call_with_frames_removed\u001b[0;34m(f, *args, **kwds)\u001b[0m\n",
            "\u001b[0;32m/usr/local/lib/python3.8/dist-packages/transformers/data/__init__.py\u001b[0m in \u001b[0;36m<module>\u001b[0;34m\u001b[0m\n\u001b[1;32m     30\u001b[0m \u001b[0;32mfrom\u001b[0m \u001b[0;34m.\u001b[0m\u001b[0mmetrics\u001b[0m \u001b[0;32mimport\u001b[0m \u001b[0mglue_compute_metrics\u001b[0m\u001b[0;34m,\u001b[0m \u001b[0mxnli_compute_metrics\u001b[0m\u001b[0;34m\u001b[0m\u001b[0;34m\u001b[0m\u001b[0m\n\u001b[0;32m---> 31\u001b[0;31m from .processors import (\n\u001b[0m\u001b[1;32m     32\u001b[0m     \u001b[0mDataProcessor\u001b[0m\u001b[0;34m,\u001b[0m\u001b[0;34m\u001b[0m\u001b[0;34m\u001b[0m\u001b[0m\n",
            "\u001b[0;32m/usr/local/lib/python3.8/dist-packages/transformers/data/processors/__init__.py\u001b[0m in \u001b[0;36m<module>\u001b[0;34m\u001b[0m\n\u001b[1;32m     19\u001b[0m \u001b[0;32mfrom\u001b[0m \u001b[0;34m.\u001b[0m\u001b[0mglue\u001b[0m \u001b[0;32mimport\u001b[0m \u001b[0mglue_convert_examples_to_features\u001b[0m\u001b[0;34m,\u001b[0m \u001b[0mglue_output_modes\u001b[0m\u001b[0;34m,\u001b[0m \u001b[0mglue_processors\u001b[0m\u001b[0;34m,\u001b[0m \u001b[0mglue_tasks_num_labels\u001b[0m\u001b[0;34m\u001b[0m\u001b[0;34m\u001b[0m\u001b[0m\n\u001b[0;32m---> 20\u001b[0;31m \u001b[0;32mfrom\u001b[0m \u001b[0;34m.\u001b[0m\u001b[0msquad\u001b[0m \u001b[0;32mimport\u001b[0m \u001b[0mSquadExample\u001b[0m\u001b[0;34m,\u001b[0m \u001b[0mSquadFeatures\u001b[0m\u001b[0;34m,\u001b[0m \u001b[0mSquadV1Processor\u001b[0m\u001b[0;34m,\u001b[0m \u001b[0mSquadV2Processor\u001b[0m\u001b[0;34m,\u001b[0m \u001b[0msquad_convert_examples_to_features\u001b[0m\u001b[0;34m\u001b[0m\u001b[0;34m\u001b[0m\u001b[0m\n\u001b[0m\u001b[1;32m     21\u001b[0m \u001b[0;32mfrom\u001b[0m \u001b[0;34m.\u001b[0m\u001b[0mutils\u001b[0m \u001b[0;32mimport\u001b[0m \u001b[0mDataProcessor\u001b[0m\u001b[0;34m,\u001b[0m \u001b[0mInputExample\u001b[0m\u001b[0;34m,\u001b[0m \u001b[0mInputFeatures\u001b[0m\u001b[0;34m,\u001b[0m \u001b[0mSingleSentenceClassificationProcessor\u001b[0m\u001b[0;34m\u001b[0m\u001b[0;34m\u001b[0m\u001b[0m\n",
            "\u001b[0;32m/usr/local/lib/python3.8/dist-packages/transformers/data/processors/squad.py\u001b[0m in \u001b[0;36m<module>\u001b[0;34m\u001b[0m\n\u001b[1;32m     33\u001b[0m \u001b[0;32mif\u001b[0m \u001b[0mis_torch_available\u001b[0m\u001b[0;34m(\u001b[0m\u001b[0;34m)\u001b[0m\u001b[0;34m:\u001b[0m\u001b[0;34m\u001b[0m\u001b[0;34m\u001b[0m\u001b[0m\n\u001b[0;32m---> 34\u001b[0;31m     \u001b[0;32mimport\u001b[0m \u001b[0mtorch\u001b[0m\u001b[0;34m\u001b[0m\u001b[0;34m\u001b[0m\u001b[0m\n\u001b[0m\u001b[1;32m     35\u001b[0m     \u001b[0;32mfrom\u001b[0m \u001b[0mtorch\u001b[0m\u001b[0;34m.\u001b[0m\u001b[0mutils\u001b[0m\u001b[0;34m.\u001b[0m\u001b[0mdata\u001b[0m \u001b[0;32mimport\u001b[0m \u001b[0mTensorDataset\u001b[0m\u001b[0;34m\u001b[0m\u001b[0;34m\u001b[0m\u001b[0m\n",
            "\u001b[0;32m/usr/local/lib/python3.8/dist-packages/torch/__init__.py\u001b[0m in \u001b[0;36m<module>\u001b[0;34m\u001b[0m\n\u001b[1;32m    191\u001b[0m         \u001b[0m_load_global_deps\u001b[0m\u001b[0;34m(\u001b[0m\u001b[0;34m)\u001b[0m\u001b[0;34m\u001b[0m\u001b[0;34m\u001b[0m\u001b[0m\n\u001b[0;32m--> 192\u001b[0;31m     \u001b[0;32mfrom\u001b[0m \u001b[0mtorch\u001b[0m\u001b[0;34m.\u001b[0m\u001b[0m_C\u001b[0m \u001b[0;32mimport\u001b[0m \u001b[0;34m*\u001b[0m  \u001b[0;31m# noqa: F403\u001b[0m\u001b[0;34m\u001b[0m\u001b[0;34m\u001b[0m\u001b[0m\n\u001b[0m\u001b[1;32m    193\u001b[0m \u001b[0;34m\u001b[0m\u001b[0m\n",
            "\u001b[0;31mRuntimeError\u001b[0m: KeyboardInterrupt: <EMPTY MESSAGE>",
            "\nThe above exception was the direct cause of the following exception:\n",
            "\u001b[0;31mRuntimeError\u001b[0m                              Traceback (most recent call last)",
            "\u001b[0;32m/usr/local/lib/python3.8/dist-packages/transformers/utils/import_utils.py\u001b[0m in \u001b[0;36m_get_module\u001b[0;34m(self, module_name)\u001b[0m\n\u001b[1;32m   1092\u001b[0m         \u001b[0;32mtry\u001b[0m\u001b[0;34m:\u001b[0m\u001b[0;34m\u001b[0m\u001b[0;34m\u001b[0m\u001b[0m\n\u001b[0;32m-> 1093\u001b[0;31m             \u001b[0;32mreturn\u001b[0m \u001b[0mimportlib\u001b[0m\u001b[0;34m.\u001b[0m\u001b[0mimport_module\u001b[0m\u001b[0;34m(\u001b[0m\u001b[0;34m\".\"\u001b[0m \u001b[0;34m+\u001b[0m \u001b[0mmodule_name\u001b[0m\u001b[0;34m,\u001b[0m \u001b[0mself\u001b[0m\u001b[0;34m.\u001b[0m\u001b[0m__name__\u001b[0m\u001b[0;34m)\u001b[0m\u001b[0;34m\u001b[0m\u001b[0;34m\u001b[0m\u001b[0m\n\u001b[0m\u001b[1;32m   1094\u001b[0m         \u001b[0;32mexcept\u001b[0m \u001b[0mException\u001b[0m \u001b[0;32mas\u001b[0m \u001b[0me\u001b[0m\u001b[0;34m:\u001b[0m\u001b[0;34m\u001b[0m\u001b[0;34m\u001b[0m\u001b[0m\n",
            "\u001b[0;32m/usr/lib/python3.8/importlib/__init__.py\u001b[0m in \u001b[0;36mimport_module\u001b[0;34m(name, package)\u001b[0m\n\u001b[1;32m    126\u001b[0m             \u001b[0mlevel\u001b[0m \u001b[0;34m+=\u001b[0m \u001b[0;36m1\u001b[0m\u001b[0;34m\u001b[0m\u001b[0;34m\u001b[0m\u001b[0m\n\u001b[0;32m--> 127\u001b[0;31m     \u001b[0;32mreturn\u001b[0m \u001b[0m_bootstrap\u001b[0m\u001b[0;34m.\u001b[0m\u001b[0m_gcd_import\u001b[0m\u001b[0;34m(\u001b[0m\u001b[0mname\u001b[0m\u001b[0;34m[\u001b[0m\u001b[0mlevel\u001b[0m\u001b[0;34m:\u001b[0m\u001b[0;34m]\u001b[0m\u001b[0;34m,\u001b[0m \u001b[0mpackage\u001b[0m\u001b[0;34m,\u001b[0m \u001b[0mlevel\u001b[0m\u001b[0;34m)\u001b[0m\u001b[0;34m\u001b[0m\u001b[0;34m\u001b[0m\u001b[0m\n\u001b[0m\u001b[1;32m    128\u001b[0m \u001b[0;34m\u001b[0m\u001b[0m\n",
            "\u001b[0;32m/usr/lib/python3.8/importlib/_bootstrap.py\u001b[0m in \u001b[0;36m_gcd_import\u001b[0;34m(name, package, level)\u001b[0m\n",
            "\u001b[0;32m/usr/lib/python3.8/importlib/_bootstrap.py\u001b[0m in \u001b[0;36m_find_and_load\u001b[0;34m(name, import_)\u001b[0m\n",
            "\u001b[0;32m/usr/lib/python3.8/importlib/_bootstrap.py\u001b[0m in \u001b[0;36m_find_and_load_unlocked\u001b[0;34m(name, import_)\u001b[0m\n",
            "\u001b[0;32m/usr/lib/python3.8/importlib/_bootstrap.py\u001b[0m in \u001b[0;36m_load_unlocked\u001b[0;34m(spec)\u001b[0m\n",
            "\u001b[0;32m/usr/lib/python3.8/importlib/_bootstrap_external.py\u001b[0m in \u001b[0;36mexec_module\u001b[0;34m(self, module)\u001b[0m\n",
            "\u001b[0;32m/usr/lib/python3.8/importlib/_bootstrap.py\u001b[0m in \u001b[0;36m_call_with_frames_removed\u001b[0;34m(f, *args, **kwds)\u001b[0m\n",
            "\u001b[0;32m/usr/local/lib/python3.8/dist-packages/transformers/models/t5/modeling_tf_t5.py\u001b[0m in \u001b[0;36m<module>\u001b[0;34m\u001b[0m\n\u001b[1;32m     34\u001b[0m )\n\u001b[0;32m---> 35\u001b[0;31m from ...modeling_tf_utils import (\n\u001b[0m\u001b[1;32m     36\u001b[0m     \u001b[0mTFCausalLanguageModelingLoss\u001b[0m\u001b[0;34m,\u001b[0m\u001b[0;34m\u001b[0m\u001b[0;34m\u001b[0m\u001b[0m\n",
            "\u001b[0;32m/usr/local/lib/python3.8/dist-packages/transformers/modeling_tf_utils.py\u001b[0m in \u001b[0;36m<module>\u001b[0;34m\u001b[0m\n\u001b[1;32m     37\u001b[0m \u001b[0;34m\u001b[0m\u001b[0m\n\u001b[0;32m---> 38\u001b[0;31m \u001b[0;32mfrom\u001b[0m \u001b[0;34m.\u001b[0m \u001b[0;32mimport\u001b[0m \u001b[0mDataCollatorWithPadding\u001b[0m\u001b[0;34m,\u001b[0m \u001b[0mDefaultDataCollator\u001b[0m\u001b[0;34m\u001b[0m\u001b[0;34m\u001b[0m\u001b[0m\n\u001b[0m\u001b[1;32m     39\u001b[0m \u001b[0;32mfrom\u001b[0m \u001b[0;34m.\u001b[0m\u001b[0mactivations_tf\u001b[0m \u001b[0;32mimport\u001b[0m \u001b[0mget_tf_activation\u001b[0m\u001b[0;34m\u001b[0m\u001b[0;34m\u001b[0m\u001b[0m\n",
            "\u001b[0;32m/usr/lib/python3.8/importlib/_bootstrap.py\u001b[0m in \u001b[0;36m_handle_fromlist\u001b[0;34m(module, fromlist, import_, recursive)\u001b[0m\n",
            "\u001b[0;32m/usr/local/lib/python3.8/dist-packages/transformers/utils/import_utils.py\u001b[0m in \u001b[0;36m__getattr__\u001b[0;34m(self, name)\u001b[0m\n\u001b[1;32m   1082\u001b[0m         \u001b[0;32melif\u001b[0m \u001b[0mname\u001b[0m \u001b[0;32min\u001b[0m \u001b[0mself\u001b[0m\u001b[0;34m.\u001b[0m\u001b[0m_class_to_module\u001b[0m\u001b[0;34m.\u001b[0m\u001b[0mkeys\u001b[0m\u001b[0;34m(\u001b[0m\u001b[0;34m)\u001b[0m\u001b[0;34m:\u001b[0m\u001b[0;34m\u001b[0m\u001b[0;34m\u001b[0m\u001b[0m\n\u001b[0;32m-> 1083\u001b[0;31m             \u001b[0mmodule\u001b[0m \u001b[0;34m=\u001b[0m \u001b[0mself\u001b[0m\u001b[0;34m.\u001b[0m\u001b[0m_get_module\u001b[0m\u001b[0;34m(\u001b[0m\u001b[0mself\u001b[0m\u001b[0;34m.\u001b[0m\u001b[0m_class_to_module\u001b[0m\u001b[0;34m[\u001b[0m\u001b[0mname\u001b[0m\u001b[0;34m]\u001b[0m\u001b[0;34m)\u001b[0m\u001b[0;34m\u001b[0m\u001b[0;34m\u001b[0m\u001b[0m\n\u001b[0m\u001b[1;32m   1084\u001b[0m             \u001b[0mvalue\u001b[0m \u001b[0;34m=\u001b[0m \u001b[0mgetattr\u001b[0m\u001b[0;34m(\u001b[0m\u001b[0mmodule\u001b[0m\u001b[0;34m,\u001b[0m \u001b[0mname\u001b[0m\u001b[0;34m)\u001b[0m\u001b[0;34m\u001b[0m\u001b[0;34m\u001b[0m\u001b[0m\n",
            "\u001b[0;32m/usr/local/lib/python3.8/dist-packages/transformers/utils/import_utils.py\u001b[0m in \u001b[0;36m_get_module\u001b[0;34m(self, module_name)\u001b[0m\n\u001b[1;32m   1094\u001b[0m         \u001b[0;32mexcept\u001b[0m \u001b[0mException\u001b[0m \u001b[0;32mas\u001b[0m \u001b[0me\u001b[0m\u001b[0;34m:\u001b[0m\u001b[0;34m\u001b[0m\u001b[0;34m\u001b[0m\u001b[0m\n\u001b[0;32m-> 1095\u001b[0;31m             raise RuntimeError(\n\u001b[0m\u001b[1;32m   1096\u001b[0m                 \u001b[0;34mf\"Failed to import {self.__name__}.{module_name} because of the following error (look up to see its\"\u001b[0m\u001b[0;34m\u001b[0m\u001b[0;34m\u001b[0m\u001b[0m\n",
            "\u001b[0;31mRuntimeError\u001b[0m: Failed to import transformers.data.data_collator because of the following error (look up to see its traceback):\nKeyboardInterrupt: <EMPTY MESSAGE>",
            "\nThe above exception was the direct cause of the following exception:\n",
            "\u001b[0;31mRuntimeError\u001b[0m                              Traceback (most recent call last)",
            "\u001b[0;32m<ipython-input-31-4cdff4743c2f>\u001b[0m in \u001b[0;36m<module>\u001b[0;34m\u001b[0m\n\u001b[1;32m      4\u001b[0m \u001b[0mmodel_name\u001b[0m \u001b[0;34m=\u001b[0m \u001b[0;34m\"t5-small\"\u001b[0m\u001b[0;34m\u001b[0m\u001b[0;34m\u001b[0m\u001b[0m\n\u001b[1;32m      5\u001b[0m \u001b[0;34m\u001b[0m\u001b[0m\n\u001b[0;32m----> 6\u001b[0;31m \u001b[0mmodel\u001b[0m \u001b[0;34m=\u001b[0m \u001b[0mTFAutoModelWithLMHead\u001b[0m\u001b[0;34m.\u001b[0m\u001b[0mfrom_pretrained\u001b[0m\u001b[0;34m(\u001b[0m\u001b[0mmodel_name\u001b[0m\u001b[0;34m)\u001b[0m\u001b[0;34m\u001b[0m\u001b[0;34m\u001b[0m\u001b[0m\n\u001b[0m\u001b[1;32m      7\u001b[0m \u001b[0mtokenizer\u001b[0m \u001b[0;34m=\u001b[0m \u001b[0mAutoTokenizer\u001b[0m\u001b[0;34m.\u001b[0m\u001b[0mfrom_pretrained\u001b[0m\u001b[0;34m(\u001b[0m\u001b[0mmodel_name\u001b[0m\u001b[0;34m)\u001b[0m\u001b[0;34m\u001b[0m\u001b[0;34m\u001b[0m\u001b[0m\n",
            "\u001b[0;32m/usr/local/lib/python3.8/dist-packages/transformers/models/auto/modeling_tf_auto.py\u001b[0m in \u001b[0;36mfrom_pretrained\u001b[0;34m(cls, pretrained_model_name_or_path, *model_args, **kwargs)\u001b[0m\n\u001b[1;32m    612\u001b[0m             \u001b[0mFutureWarning\u001b[0m\u001b[0;34m,\u001b[0m\u001b[0;34m\u001b[0m\u001b[0;34m\u001b[0m\u001b[0m\n\u001b[1;32m    613\u001b[0m         )\n\u001b[0;32m--> 614\u001b[0;31m         \u001b[0;32mreturn\u001b[0m \u001b[0msuper\u001b[0m\u001b[0;34m(\u001b[0m\u001b[0;34m)\u001b[0m\u001b[0;34m.\u001b[0m\u001b[0mfrom_pretrained\u001b[0m\u001b[0;34m(\u001b[0m\u001b[0mpretrained_model_name_or_path\u001b[0m\u001b[0;34m,\u001b[0m \u001b[0;34m*\u001b[0m\u001b[0mmodel_args\u001b[0m\u001b[0;34m,\u001b[0m \u001b[0;34m**\u001b[0m\u001b[0mkwargs\u001b[0m\u001b[0;34m)\u001b[0m\u001b[0;34m\u001b[0m\u001b[0;34m\u001b[0m\u001b[0m\n\u001b[0m",
            "\u001b[0;32m/usr/local/lib/python3.8/dist-packages/transformers/models/auto/auto_factory.py\u001b[0m in \u001b[0;36mfrom_pretrained\u001b[0;34m(cls, pretrained_model_name_or_path, *model_args, **kwargs)\u001b[0m\n\u001b[1;32m    460\u001b[0m             )\n\u001b[1;32m    461\u001b[0m         \u001b[0;32melif\u001b[0m \u001b[0mtype\u001b[0m\u001b[0;34m(\u001b[0m\u001b[0mconfig\u001b[0m\u001b[0;34m)\u001b[0m \u001b[0;32min\u001b[0m \u001b[0mcls\u001b[0m\u001b[0;34m.\u001b[0m\u001b[0m_model_mapping\u001b[0m\u001b[0;34m.\u001b[0m\u001b[0mkeys\u001b[0m\u001b[0;34m(\u001b[0m\u001b[0;34m)\u001b[0m\u001b[0;34m:\u001b[0m\u001b[0;34m\u001b[0m\u001b[0;34m\u001b[0m\u001b[0m\n\u001b[0;32m--> 462\u001b[0;31m             \u001b[0mmodel_class\u001b[0m \u001b[0;34m=\u001b[0m \u001b[0m_get_model_class\u001b[0m\u001b[0;34m(\u001b[0m\u001b[0mconfig\u001b[0m\u001b[0;34m,\u001b[0m \u001b[0mcls\u001b[0m\u001b[0;34m.\u001b[0m\u001b[0m_model_mapping\u001b[0m\u001b[0;34m)\u001b[0m\u001b[0;34m\u001b[0m\u001b[0;34m\u001b[0m\u001b[0m\n\u001b[0m\u001b[1;32m    463\u001b[0m             return model_class.from_pretrained(\n\u001b[1;32m    464\u001b[0m                 \u001b[0mpretrained_model_name_or_path\u001b[0m\u001b[0;34m,\u001b[0m \u001b[0;34m*\u001b[0m\u001b[0mmodel_args\u001b[0m\u001b[0;34m,\u001b[0m \u001b[0mconfig\u001b[0m\u001b[0;34m=\u001b[0m\u001b[0mconfig\u001b[0m\u001b[0;34m,\u001b[0m \u001b[0;34m**\u001b[0m\u001b[0mhub_kwargs\u001b[0m\u001b[0;34m,\u001b[0m \u001b[0;34m**\u001b[0m\u001b[0mkwargs\u001b[0m\u001b[0;34m\u001b[0m\u001b[0;34m\u001b[0m\u001b[0m\n",
            "\u001b[0;32m/usr/local/lib/python3.8/dist-packages/transformers/models/auto/auto_factory.py\u001b[0m in \u001b[0;36m_get_model_class\u001b[0;34m(config, model_mapping)\u001b[0m\n\u001b[1;32m    357\u001b[0m \u001b[0;34m\u001b[0m\u001b[0m\n\u001b[1;32m    358\u001b[0m \u001b[0;32mdef\u001b[0m \u001b[0m_get_model_class\u001b[0m\u001b[0;34m(\u001b[0m\u001b[0mconfig\u001b[0m\u001b[0;34m,\u001b[0m \u001b[0mmodel_mapping\u001b[0m\u001b[0;34m)\u001b[0m\u001b[0;34m:\u001b[0m\u001b[0;34m\u001b[0m\u001b[0;34m\u001b[0m\u001b[0m\n\u001b[0;32m--> 359\u001b[0;31m     \u001b[0msupported_models\u001b[0m \u001b[0;34m=\u001b[0m \u001b[0mmodel_mapping\u001b[0m\u001b[0;34m[\u001b[0m\u001b[0mtype\u001b[0m\u001b[0;34m(\u001b[0m\u001b[0mconfig\u001b[0m\u001b[0;34m)\u001b[0m\u001b[0;34m]\u001b[0m\u001b[0;34m\u001b[0m\u001b[0;34m\u001b[0m\u001b[0m\n\u001b[0m\u001b[1;32m    360\u001b[0m     \u001b[0;32mif\u001b[0m \u001b[0;32mnot\u001b[0m \u001b[0misinstance\u001b[0m\u001b[0;34m(\u001b[0m\u001b[0msupported_models\u001b[0m\u001b[0;34m,\u001b[0m \u001b[0;34m(\u001b[0m\u001b[0mlist\u001b[0m\u001b[0;34m,\u001b[0m \u001b[0mtuple\u001b[0m\u001b[0;34m)\u001b[0m\u001b[0;34m)\u001b[0m\u001b[0;34m:\u001b[0m\u001b[0;34m\u001b[0m\u001b[0;34m\u001b[0m\u001b[0m\n\u001b[1;32m    361\u001b[0m         \u001b[0;32mreturn\u001b[0m \u001b[0msupported_models\u001b[0m\u001b[0;34m\u001b[0m\u001b[0;34m\u001b[0m\u001b[0m\n",
            "\u001b[0;32m/usr/local/lib/python3.8/dist-packages/transformers/models/auto/auto_factory.py\u001b[0m in \u001b[0;36m__getitem__\u001b[0;34m(self, key)\u001b[0m\n\u001b[1;32m    588\u001b[0m         \u001b[0;32mif\u001b[0m \u001b[0mmodel_type\u001b[0m \u001b[0;32min\u001b[0m \u001b[0mself\u001b[0m\u001b[0;34m.\u001b[0m\u001b[0m_model_mapping\u001b[0m\u001b[0;34m:\u001b[0m\u001b[0;34m\u001b[0m\u001b[0;34m\u001b[0m\u001b[0m\n\u001b[1;32m    589\u001b[0m             \u001b[0mmodel_name\u001b[0m \u001b[0;34m=\u001b[0m \u001b[0mself\u001b[0m\u001b[0;34m.\u001b[0m\u001b[0m_model_mapping\u001b[0m\u001b[0;34m[\u001b[0m\u001b[0mmodel_type\u001b[0m\u001b[0;34m]\u001b[0m\u001b[0;34m\u001b[0m\u001b[0;34m\u001b[0m\u001b[0m\n\u001b[0;32m--> 590\u001b[0;31m             \u001b[0;32mreturn\u001b[0m \u001b[0mself\u001b[0m\u001b[0;34m.\u001b[0m\u001b[0m_load_attr_from_module\u001b[0m\u001b[0;34m(\u001b[0m\u001b[0mmodel_type\u001b[0m\u001b[0;34m,\u001b[0m \u001b[0mmodel_name\u001b[0m\u001b[0;34m)\u001b[0m\u001b[0;34m\u001b[0m\u001b[0;34m\u001b[0m\u001b[0m\n\u001b[0m\u001b[1;32m    591\u001b[0m \u001b[0;34m\u001b[0m\u001b[0m\n\u001b[1;32m    592\u001b[0m         \u001b[0;31m# Maybe there was several model types associated with this config.\u001b[0m\u001b[0;34m\u001b[0m\u001b[0;34m\u001b[0m\u001b[0;34m\u001b[0m\u001b[0m\n",
            "\u001b[0;32m/usr/local/lib/python3.8/dist-packages/transformers/models/auto/auto_factory.py\u001b[0m in \u001b[0;36m_load_attr_from_module\u001b[0;34m(self, model_type, attr)\u001b[0m\n\u001b[1;32m    602\u001b[0m         \u001b[0;32mif\u001b[0m \u001b[0mmodule_name\u001b[0m \u001b[0;32mnot\u001b[0m \u001b[0;32min\u001b[0m \u001b[0mself\u001b[0m\u001b[0;34m.\u001b[0m\u001b[0m_modules\u001b[0m\u001b[0;34m:\u001b[0m\u001b[0;34m\u001b[0m\u001b[0;34m\u001b[0m\u001b[0m\n\u001b[1;32m    603\u001b[0m             \u001b[0mself\u001b[0m\u001b[0;34m.\u001b[0m\u001b[0m_modules\u001b[0m\u001b[0;34m[\u001b[0m\u001b[0mmodule_name\u001b[0m\u001b[0;34m]\u001b[0m \u001b[0;34m=\u001b[0m \u001b[0mimportlib\u001b[0m\u001b[0;34m.\u001b[0m\u001b[0mimport_module\u001b[0m\u001b[0;34m(\u001b[0m\u001b[0;34mf\".{module_name}\"\u001b[0m\u001b[0;34m,\u001b[0m \u001b[0;34m\"transformers.models\"\u001b[0m\u001b[0;34m)\u001b[0m\u001b[0;34m\u001b[0m\u001b[0;34m\u001b[0m\u001b[0m\n\u001b[0;32m--> 604\u001b[0;31m         \u001b[0;32mreturn\u001b[0m \u001b[0mgetattribute_from_module\u001b[0m\u001b[0;34m(\u001b[0m\u001b[0mself\u001b[0m\u001b[0;34m.\u001b[0m\u001b[0m_modules\u001b[0m\u001b[0;34m[\u001b[0m\u001b[0mmodule_name\u001b[0m\u001b[0;34m]\u001b[0m\u001b[0;34m,\u001b[0m \u001b[0mattr\u001b[0m\u001b[0;34m)\u001b[0m\u001b[0;34m\u001b[0m\u001b[0;34m\u001b[0m\u001b[0m\n\u001b[0m\u001b[1;32m    605\u001b[0m \u001b[0;34m\u001b[0m\u001b[0m\n\u001b[1;32m    606\u001b[0m     \u001b[0;32mdef\u001b[0m \u001b[0mkeys\u001b[0m\u001b[0;34m(\u001b[0m\u001b[0mself\u001b[0m\u001b[0;34m)\u001b[0m\u001b[0;34m:\u001b[0m\u001b[0;34m\u001b[0m\u001b[0;34m\u001b[0m\u001b[0m\n",
            "\u001b[0;32m/usr/local/lib/python3.8/dist-packages/transformers/models/auto/auto_factory.py\u001b[0m in \u001b[0;36mgetattribute_from_module\u001b[0;34m(module, attr)\u001b[0m\n\u001b[1;32m    551\u001b[0m     \u001b[0;32mif\u001b[0m \u001b[0misinstance\u001b[0m\u001b[0;34m(\u001b[0m\u001b[0mattr\u001b[0m\u001b[0;34m,\u001b[0m \u001b[0mtuple\u001b[0m\u001b[0;34m)\u001b[0m\u001b[0;34m:\u001b[0m\u001b[0;34m\u001b[0m\u001b[0;34m\u001b[0m\u001b[0m\n\u001b[1;32m    552\u001b[0m         \u001b[0;32mreturn\u001b[0m \u001b[0mtuple\u001b[0m\u001b[0;34m(\u001b[0m\u001b[0mgetattribute_from_module\u001b[0m\u001b[0;34m(\u001b[0m\u001b[0mmodule\u001b[0m\u001b[0;34m,\u001b[0m \u001b[0ma\u001b[0m\u001b[0;34m)\u001b[0m \u001b[0;32mfor\u001b[0m \u001b[0ma\u001b[0m \u001b[0;32min\u001b[0m \u001b[0mattr\u001b[0m\u001b[0;34m)\u001b[0m\u001b[0;34m\u001b[0m\u001b[0;34m\u001b[0m\u001b[0m\n\u001b[0;32m--> 553\u001b[0;31m     \u001b[0;32mif\u001b[0m \u001b[0mhasattr\u001b[0m\u001b[0;34m(\u001b[0m\u001b[0mmodule\u001b[0m\u001b[0;34m,\u001b[0m \u001b[0mattr\u001b[0m\u001b[0;34m)\u001b[0m\u001b[0;34m:\u001b[0m\u001b[0;34m\u001b[0m\u001b[0;34m\u001b[0m\u001b[0m\n\u001b[0m\u001b[1;32m    554\u001b[0m         \u001b[0;32mreturn\u001b[0m \u001b[0mgetattr\u001b[0m\u001b[0;34m(\u001b[0m\u001b[0mmodule\u001b[0m\u001b[0;34m,\u001b[0m \u001b[0mattr\u001b[0m\u001b[0;34m)\u001b[0m\u001b[0;34m\u001b[0m\u001b[0;34m\u001b[0m\u001b[0m\n\u001b[1;32m    555\u001b[0m     \u001b[0;31m# Some of the mappings have entries model_type -> object of another model type. In that case we try to grab the\u001b[0m\u001b[0;34m\u001b[0m\u001b[0;34m\u001b[0m\u001b[0;34m\u001b[0m\u001b[0m\n",
            "\u001b[0;32m/usr/local/lib/python3.8/dist-packages/transformers/utils/import_utils.py\u001b[0m in \u001b[0;36m__getattr__\u001b[0;34m(self, name)\u001b[0m\n\u001b[1;32m   1081\u001b[0m             \u001b[0mvalue\u001b[0m \u001b[0;34m=\u001b[0m \u001b[0mself\u001b[0m\u001b[0;34m.\u001b[0m\u001b[0m_get_module\u001b[0m\u001b[0;34m(\u001b[0m\u001b[0mname\u001b[0m\u001b[0;34m)\u001b[0m\u001b[0;34m\u001b[0m\u001b[0;34m\u001b[0m\u001b[0m\n\u001b[1;32m   1082\u001b[0m         \u001b[0;32melif\u001b[0m \u001b[0mname\u001b[0m \u001b[0;32min\u001b[0m \u001b[0mself\u001b[0m\u001b[0;34m.\u001b[0m\u001b[0m_class_to_module\u001b[0m\u001b[0;34m.\u001b[0m\u001b[0mkeys\u001b[0m\u001b[0;34m(\u001b[0m\u001b[0;34m)\u001b[0m\u001b[0;34m:\u001b[0m\u001b[0;34m\u001b[0m\u001b[0;34m\u001b[0m\u001b[0m\n\u001b[0;32m-> 1083\u001b[0;31m             \u001b[0mmodule\u001b[0m \u001b[0;34m=\u001b[0m \u001b[0mself\u001b[0m\u001b[0;34m.\u001b[0m\u001b[0m_get_module\u001b[0m\u001b[0;34m(\u001b[0m\u001b[0mself\u001b[0m\u001b[0;34m.\u001b[0m\u001b[0m_class_to_module\u001b[0m\u001b[0;34m[\u001b[0m\u001b[0mname\u001b[0m\u001b[0;34m]\u001b[0m\u001b[0;34m)\u001b[0m\u001b[0;34m\u001b[0m\u001b[0;34m\u001b[0m\u001b[0m\n\u001b[0m\u001b[1;32m   1084\u001b[0m             \u001b[0mvalue\u001b[0m \u001b[0;34m=\u001b[0m \u001b[0mgetattr\u001b[0m\u001b[0;34m(\u001b[0m\u001b[0mmodule\u001b[0m\u001b[0;34m,\u001b[0m \u001b[0mname\u001b[0m\u001b[0;34m)\u001b[0m\u001b[0;34m\u001b[0m\u001b[0;34m\u001b[0m\u001b[0m\n\u001b[1;32m   1085\u001b[0m         \u001b[0;32melse\u001b[0m\u001b[0;34m:\u001b[0m\u001b[0;34m\u001b[0m\u001b[0;34m\u001b[0m\u001b[0m\n",
            "\u001b[0;32m/usr/local/lib/python3.8/dist-packages/transformers/utils/import_utils.py\u001b[0m in \u001b[0;36m_get_module\u001b[0;34m(self, module_name)\u001b[0m\n\u001b[1;32m   1093\u001b[0m             \u001b[0;32mreturn\u001b[0m \u001b[0mimportlib\u001b[0m\u001b[0;34m.\u001b[0m\u001b[0mimport_module\u001b[0m\u001b[0;34m(\u001b[0m\u001b[0;34m\".\"\u001b[0m \u001b[0;34m+\u001b[0m \u001b[0mmodule_name\u001b[0m\u001b[0;34m,\u001b[0m \u001b[0mself\u001b[0m\u001b[0;34m.\u001b[0m\u001b[0m__name__\u001b[0m\u001b[0;34m)\u001b[0m\u001b[0;34m\u001b[0m\u001b[0;34m\u001b[0m\u001b[0m\n\u001b[1;32m   1094\u001b[0m         \u001b[0;32mexcept\u001b[0m \u001b[0mException\u001b[0m \u001b[0;32mas\u001b[0m \u001b[0me\u001b[0m\u001b[0;34m:\u001b[0m\u001b[0;34m\u001b[0m\u001b[0;34m\u001b[0m\u001b[0m\n\u001b[0;32m-> 1095\u001b[0;31m             raise RuntimeError(\n\u001b[0m\u001b[1;32m   1096\u001b[0m                 \u001b[0;34mf\"Failed to import {self.__name__}.{module_name} because of the following error (look up to see its\"\u001b[0m\u001b[0;34m\u001b[0m\u001b[0;34m\u001b[0m\u001b[0m\n\u001b[1;32m   1097\u001b[0m                 \u001b[0;34mf\" traceback):\\n{e}\"\u001b[0m\u001b[0;34m\u001b[0m\u001b[0;34m\u001b[0m\u001b[0m\n",
            "\u001b[0;31mRuntimeError\u001b[0m: Failed to import transformers.models.t5.modeling_tf_t5 because of the following error (look up to see its traceback):\nFailed to import transformers.data.data_collator because of the following error (look up to see its traceback):\nKeyboardInterrupt: <EMPTY MESSAGE>"
          ]
        }
      ],
      "source": [
        "# Import tokenizer from pretrained model\n",
        "from transformers import AutoTokenizer, TFAutoModelWithLMHead, AutoModelForSeq2SeqLM\n",
        "\n",
        "model_name = \"t5-small\"\n",
        "\n",
        "model = TFAutoModelWithLMHead.from_pretrained(model_name)\n",
        "tokenizer = AutoTokenizer.from_pretrained(model_name)"
      ]
    },
    {
      "cell_type": "code",
      "source": [
        "def abstract_tokenize(tokenizer, input_data):\n",
        "  inputs = []\n",
        "\n",
        "  for i in range(input_data.shape[0]):\n",
        "    inputs.append(tokenizer.encode(\"summarize: \" + input_data[\"text\"][i], # required prefix\n",
        "                              return_tensors = \"tf\",\n",
        "                              max_length = 512, # required max_length\n",
        "                              truncation = True))\n",
        "\n",
        "  # readout\n",
        "  print(\"Tokenized\", len(inputs), \"entries\")\n",
        "  print()\n",
        "  print(\"Sample tokenized input:\")\n",
        "  print(inputs[0])\n",
        "\n",
        "  return inputs"
      ],
      "metadata": {
        "id": "DTG-NbrBnL1l"
      },
      "id": "DTG-NbrBnL1l",
      "execution_count": null,
      "outputs": []
    },
    {
      "cell_type": "code",
      "source": [
        "tokenized_array = abstract_tokenize(tokenizer, articles_df)"
      ],
      "metadata": {
        "id": "Z0W-3t3kuS4_"
      },
      "id": "Z0W-3t3kuS4_",
      "execution_count": null,
      "outputs": []
    },
    {
      "cell_type": "markdown",
      "source": [
        "## Abstractive Text Summarization (with T5-Small)"
      ],
      "metadata": {
        "id": "TA3ERLAirdtR"
      },
      "id": "TA3ERLAirdtR"
    },
    {
      "cell_type": "code",
      "source": [
        "def abstract_summarize(model, tokenized_input):\n",
        "  outputs = []\n",
        "\n",
        "  for i in range(len(tokenized_input)):\n",
        "    outputs.append(model.generate(tokenized_input[i],\n",
        "                            max_length=200,\n",
        "                            min_length=30,\n",
        "                            length_penalty=2.0,\n",
        "                            num_beams=2,\n",
        "                            early_stopping=True,\n",
        "                            no_repeat_ngram_size=3))\n",
        "\n",
        "  # readout\n",
        "  print(\"Summarized\", len(outputs), \"entries\")\n",
        "\n",
        "  return outputs"
      ],
      "metadata": {
        "id": "r6_1SqzGrUDF"
      },
      "id": "r6_1SqzGrUDF",
      "execution_count": null,
      "outputs": []
    },
    {
      "cell_type": "code",
      "source": [
        "def abstract_prediction(tokenizer, summarized_input):\n",
        "  prediction = []\n",
        "\n",
        "  for i in range(len(summarized_input)):\n",
        "    prediction.append([tokenizer.decode(token,\n",
        "                                  skip_special_tokens=True,\n",
        "                                  clean_up_tokenization_spaces=True)\n",
        "                                  for token in summarized_input[i]])\n",
        "\n",
        "  # readout\n",
        "  print(\"Decoded\", len(prediction), \"predicted summaries\")\n",
        "\n",
        "  print()\n",
        "  print(\"Sample article:\")\n",
        "  print(summaries_df[\"text\"][0])\n",
        "\n",
        "  print()\n",
        "  print(\"Sample prediction:\")\n",
        "  print(prediction[0][0])\n",
        "\n",
        "  return prediction"
      ],
      "metadata": {
        "id": "MiSZ48i7rTrc"
      },
      "id": "MiSZ48i7rTrc",
      "execution_count": null,
      "outputs": []
    },
    {
      "cell_type": "code",
      "source": [
        "summarized_array = abstract_summarize(model, tokenized_array[:5])"
      ],
      "metadata": {
        "id": "fjxbBT7DsenN"
      },
      "id": "fjxbBT7DsenN",
      "execution_count": null,
      "outputs": []
    },
    {
      "cell_type": "code",
      "source": [
        "prediction_array = abstract_prediction(tokenizer, summarized_array)"
      ],
      "metadata": {
        "id": "MAaHrnhP2TJ8"
      },
      "id": "MAaHrnhP2TJ8",
      "execution_count": null,
      "outputs": []
    },
    {
      "cell_type": "code",
      "source": [
        "calculate_metric(model_output_summary, prediction_array)"
      ],
      "metadata": {
        "id": "aTEnoCYxHI4j"
      },
      "id": "aTEnoCYxHI4j",
      "execution_count": null,
      "outputs": []
    }
  ],
  "metadata": {
    "kernelspec": {
      "display_name": "Python 3 (ipykernel)",
      "language": "python",
      "name": "python3"
    },
    "language_info": {
      "codemirror_mode": {
        "name": "ipython",
        "version": 3
      },
      "file_extension": ".py",
      "mimetype": "text/x-python",
      "name": "python",
      "nbconvert_exporter": "python",
      "pygments_lexer": "ipython3",
      "version": "3.8.13"
    },
    "colab": {
      "provenance": [],
      "collapsed_sections": [
        "1b193bc2-8c71-46a4-abba-734ac1b1e6e9",
        "f4cd6170-cba7-427c-a383-af33c7700032"
      ],
      "include_colab_link": true
    },
    "gpuClass": "standard",
    "widgets": {
      "application/vnd.jupyter.widget-state+json": {
        "e88bee7e600d447990343ff7e00c8d08": {
          "model_module": "@jupyter-widgets/controls",
          "model_name": "HBoxModel",
          "model_module_version": "1.5.0",
          "state": {
            "_dom_classes": [],
            "_model_module": "@jupyter-widgets/controls",
            "_model_module_version": "1.5.0",
            "_model_name": "HBoxModel",
            "_view_count": null,
            "_view_module": "@jupyter-widgets/controls",
            "_view_module_version": "1.5.0",
            "_view_name": "HBoxView",
            "box_style": "",
            "children": [
              "IPY_MODEL_3f24cbd5021b4aa08b970c93d3e9f3c9",
              "IPY_MODEL_dc9c169ad66d41f3ac0e197f01abac4e",
              "IPY_MODEL_dbd5f0114b634f1fb9d420d600bf6846"
            ],
            "layout": "IPY_MODEL_86cf7dba8589406886e73ee69a03734f"
          }
        },
        "3f24cbd5021b4aa08b970c93d3e9f3c9": {
          "model_module": "@jupyter-widgets/controls",
          "model_name": "HTMLModel",
          "model_module_version": "1.5.0",
          "state": {
            "_dom_classes": [],
            "_model_module": "@jupyter-widgets/controls",
            "_model_module_version": "1.5.0",
            "_model_name": "HTMLModel",
            "_view_count": null,
            "_view_module": "@jupyter-widgets/controls",
            "_view_module_version": "1.5.0",
            "_view_name": "HTMLView",
            "description": "",
            "description_tooltip": null,
            "layout": "IPY_MODEL_3252bca7c5424c2e8f3eedbfae7fdccd",
            "placeholder": "​",
            "style": "IPY_MODEL_8f0c5d1aa9294a1283fcbe56df7dced7",
            "value": "Downloading: 100%"
          }
        },
        "dc9c169ad66d41f3ac0e197f01abac4e": {
          "model_module": "@jupyter-widgets/controls",
          "model_name": "FloatProgressModel",
          "model_module_version": "1.5.0",
          "state": {
            "_dom_classes": [],
            "_model_module": "@jupyter-widgets/controls",
            "_model_module_version": "1.5.0",
            "_model_name": "FloatProgressModel",
            "_view_count": null,
            "_view_module": "@jupyter-widgets/controls",
            "_view_module_version": "1.5.0",
            "_view_name": "ProgressView",
            "bar_style": "success",
            "description": "",
            "description_tooltip": null,
            "layout": "IPY_MODEL_230be5756acb4e71a6bcf235a9e6af1f",
            "max": 1197,
            "min": 0,
            "orientation": "horizontal",
            "style": "IPY_MODEL_067b377b94f5404d862cd8e857a1e2b0",
            "value": 1197
          }
        },
        "dbd5f0114b634f1fb9d420d600bf6846": {
          "model_module": "@jupyter-widgets/controls",
          "model_name": "HTMLModel",
          "model_module_version": "1.5.0",
          "state": {
            "_dom_classes": [],
            "_model_module": "@jupyter-widgets/controls",
            "_model_module_version": "1.5.0",
            "_model_name": "HTMLModel",
            "_view_count": null,
            "_view_module": "@jupyter-widgets/controls",
            "_view_module_version": "1.5.0",
            "_view_name": "HTMLView",
            "description": "",
            "description_tooltip": null,
            "layout": "IPY_MODEL_fc054d6a3c5746c7b797be21b70a6692",
            "placeholder": "​",
            "style": "IPY_MODEL_414186569eae4d079935ce4143a243f9",
            "value": " 1.20k/1.20k [00:00&lt;00:00, 11.4kB/s]"
          }
        },
        "86cf7dba8589406886e73ee69a03734f": {
          "model_module": "@jupyter-widgets/base",
          "model_name": "LayoutModel",
          "model_module_version": "1.2.0",
          "state": {
            "_model_module": "@jupyter-widgets/base",
            "_model_module_version": "1.2.0",
            "_model_name": "LayoutModel",
            "_view_count": null,
            "_view_module": "@jupyter-widgets/base",
            "_view_module_version": "1.2.0",
            "_view_name": "LayoutView",
            "align_content": null,
            "align_items": null,
            "align_self": null,
            "border": null,
            "bottom": null,
            "display": null,
            "flex": null,
            "flex_flow": null,
            "grid_area": null,
            "grid_auto_columns": null,
            "grid_auto_flow": null,
            "grid_auto_rows": null,
            "grid_column": null,
            "grid_gap": null,
            "grid_row": null,
            "grid_template_areas": null,
            "grid_template_columns": null,
            "grid_template_rows": null,
            "height": null,
            "justify_content": null,
            "justify_items": null,
            "left": null,
            "margin": null,
            "max_height": null,
            "max_width": null,
            "min_height": null,
            "min_width": null,
            "object_fit": null,
            "object_position": null,
            "order": null,
            "overflow": null,
            "overflow_x": null,
            "overflow_y": null,
            "padding": null,
            "right": null,
            "top": null,
            "visibility": null,
            "width": null
          }
        },
        "3252bca7c5424c2e8f3eedbfae7fdccd": {
          "model_module": "@jupyter-widgets/base",
          "model_name": "LayoutModel",
          "model_module_version": "1.2.0",
          "state": {
            "_model_module": "@jupyter-widgets/base",
            "_model_module_version": "1.2.0",
            "_model_name": "LayoutModel",
            "_view_count": null,
            "_view_module": "@jupyter-widgets/base",
            "_view_module_version": "1.2.0",
            "_view_name": "LayoutView",
            "align_content": null,
            "align_items": null,
            "align_self": null,
            "border": null,
            "bottom": null,
            "display": null,
            "flex": null,
            "flex_flow": null,
            "grid_area": null,
            "grid_auto_columns": null,
            "grid_auto_flow": null,
            "grid_auto_rows": null,
            "grid_column": null,
            "grid_gap": null,
            "grid_row": null,
            "grid_template_areas": null,
            "grid_template_columns": null,
            "grid_template_rows": null,
            "height": null,
            "justify_content": null,
            "justify_items": null,
            "left": null,
            "margin": null,
            "max_height": null,
            "max_width": null,
            "min_height": null,
            "min_width": null,
            "object_fit": null,
            "object_position": null,
            "order": null,
            "overflow": null,
            "overflow_x": null,
            "overflow_y": null,
            "padding": null,
            "right": null,
            "top": null,
            "visibility": null,
            "width": null
          }
        },
        "8f0c5d1aa9294a1283fcbe56df7dced7": {
          "model_module": "@jupyter-widgets/controls",
          "model_name": "DescriptionStyleModel",
          "model_module_version": "1.5.0",
          "state": {
            "_model_module": "@jupyter-widgets/controls",
            "_model_module_version": "1.5.0",
            "_model_name": "DescriptionStyleModel",
            "_view_count": null,
            "_view_module": "@jupyter-widgets/base",
            "_view_module_version": "1.2.0",
            "_view_name": "StyleView",
            "description_width": ""
          }
        },
        "230be5756acb4e71a6bcf235a9e6af1f": {
          "model_module": "@jupyter-widgets/base",
          "model_name": "LayoutModel",
          "model_module_version": "1.2.0",
          "state": {
            "_model_module": "@jupyter-widgets/base",
            "_model_module_version": "1.2.0",
            "_model_name": "LayoutModel",
            "_view_count": null,
            "_view_module": "@jupyter-widgets/base",
            "_view_module_version": "1.2.0",
            "_view_name": "LayoutView",
            "align_content": null,
            "align_items": null,
            "align_self": null,
            "border": null,
            "bottom": null,
            "display": null,
            "flex": null,
            "flex_flow": null,
            "grid_area": null,
            "grid_auto_columns": null,
            "grid_auto_flow": null,
            "grid_auto_rows": null,
            "grid_column": null,
            "grid_gap": null,
            "grid_row": null,
            "grid_template_areas": null,
            "grid_template_columns": null,
            "grid_template_rows": null,
            "height": null,
            "justify_content": null,
            "justify_items": null,
            "left": null,
            "margin": null,
            "max_height": null,
            "max_width": null,
            "min_height": null,
            "min_width": null,
            "object_fit": null,
            "object_position": null,
            "order": null,
            "overflow": null,
            "overflow_x": null,
            "overflow_y": null,
            "padding": null,
            "right": null,
            "top": null,
            "visibility": null,
            "width": null
          }
        },
        "067b377b94f5404d862cd8e857a1e2b0": {
          "model_module": "@jupyter-widgets/controls",
          "model_name": "ProgressStyleModel",
          "model_module_version": "1.5.0",
          "state": {
            "_model_module": "@jupyter-widgets/controls",
            "_model_module_version": "1.5.0",
            "_model_name": "ProgressStyleModel",
            "_view_count": null,
            "_view_module": "@jupyter-widgets/base",
            "_view_module_version": "1.2.0",
            "_view_name": "StyleView",
            "bar_color": null,
            "description_width": ""
          }
        },
        "fc054d6a3c5746c7b797be21b70a6692": {
          "model_module": "@jupyter-widgets/base",
          "model_name": "LayoutModel",
          "model_module_version": "1.2.0",
          "state": {
            "_model_module": "@jupyter-widgets/base",
            "_model_module_version": "1.2.0",
            "_model_name": "LayoutModel",
            "_view_count": null,
            "_view_module": "@jupyter-widgets/base",
            "_view_module_version": "1.2.0",
            "_view_name": "LayoutView",
            "align_content": null,
            "align_items": null,
            "align_self": null,
            "border": null,
            "bottom": null,
            "display": null,
            "flex": null,
            "flex_flow": null,
            "grid_area": null,
            "grid_auto_columns": null,
            "grid_auto_flow": null,
            "grid_auto_rows": null,
            "grid_column": null,
            "grid_gap": null,
            "grid_row": null,
            "grid_template_areas": null,
            "grid_template_columns": null,
            "grid_template_rows": null,
            "height": null,
            "justify_content": null,
            "justify_items": null,
            "left": null,
            "margin": null,
            "max_height": null,
            "max_width": null,
            "min_height": null,
            "min_width": null,
            "object_fit": null,
            "object_position": null,
            "order": null,
            "overflow": null,
            "overflow_x": null,
            "overflow_y": null,
            "padding": null,
            "right": null,
            "top": null,
            "visibility": null,
            "width": null
          }
        },
        "414186569eae4d079935ce4143a243f9": {
          "model_module": "@jupyter-widgets/controls",
          "model_name": "DescriptionStyleModel",
          "model_module_version": "1.5.0",
          "state": {
            "_model_module": "@jupyter-widgets/controls",
            "_model_module_version": "1.5.0",
            "_model_name": "DescriptionStyleModel",
            "_view_count": null,
            "_view_module": "@jupyter-widgets/base",
            "_view_module_version": "1.2.0",
            "_view_name": "StyleView",
            "description_width": ""
          }
        }
      }
    },
    "accelerator": "GPU"
  },
  "nbformat": 4,
  "nbformat_minor": 5
}