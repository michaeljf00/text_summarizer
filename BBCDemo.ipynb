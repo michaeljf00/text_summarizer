{
  "cells": [
    {
      "cell_type": "markdown",
      "metadata": {
        "id": "view-in-github",
        "colab_type": "text"
      },
      "source": [
        "<a href=\"https://colab.research.google.com/github/michaeljf00/text_summarizer/blob/roham/BBCDemo.ipynb\" target=\"_parent\"><img src=\"https://colab.research.google.com/assets/colab-badge.svg\" alt=\"Open In Colab\"/></a>"
      ]
    },
    {
      "cell_type": "code",
      "source": [
        "# !unzip data.zip"
      ],
      "metadata": {
        "id": "pfLDIkaGhojG"
      },
      "id": "pfLDIkaGhojG",
      "execution_count": 2,
      "outputs": []
    },
    {
      "cell_type": "code",
      "execution_count": null,
      "metadata": {
        "id": "98d9b836-1ae5-4e73-bd8f-ce5ce1fccf1f"
      },
      "outputs": [],
      "source": [
        "pip install sumy numpy pandas nltk tensorflow matplotlib transformers"
      ],
      "id": "98d9b836-1ae5-4e73-bd8f-ce5ce1fccf1f"
    },
    {
      "cell_type": "code",
      "execution_count": 4,
      "metadata": {
        "id": "ed79a4f6-4932-4e6e-881c-f4eb19bb99c7"
      },
      "outputs": [],
      "source": [
        "import os\n",
        "import matplotlib.pyplot as plt\n",
        "import numpy as np\n",
        "import pandas as pd\n",
        "import tensorflow as tf\n",
        "import random"
      ],
      "id": "ed79a4f6-4932-4e6e-881c-f4eb19bb99c7"
    },
    {
      "cell_type": "markdown",
      "metadata": {
        "id": "8c9c850f-4f46-40bb-80d7-4721c87f1ef8"
      },
      "source": [
        "## BBC News Summary EDA\n",
        "\n",
        "### Data preparation\n",
        "To get started please paste the BBC news dataset into a folder titled data in the local directory. Then delete 199.txt in the articles and summaries directory respectively due to corruption with these files."
      ],
      "id": "8c9c850f-4f46-40bb-80d7-4721c87f1ef8"
    },
    {
      "cell_type": "code",
      "execution_count": 8,
      "metadata": {
        "id": "1214aa85-66fa-4644-a97b-bdc7b17db24a",
        "outputId": "7ef00e42-b6ad-4e7f-f0d3-f96c44b539f7",
        "colab": {
          "base_uri": "https://localhost:8080/",
          "height": 313
        }
      },
      "outputs": [
        {
          "output_type": "stream",
          "name": "stdout",
          "text": [
            "file .DS_Store in data/BBC News Summary/News Articles/sport is not readable\n",
            "<class 'UnicodeDecodeError'>\n",
            "Total Items loaded: 2224\n",
            "file .DS_Store in data/BBC News Summary/Summaries/sport is not readable\n",
            "<class 'UnicodeDecodeError'>\n",
            "Total Items loaded: 2224\n"
          ]
        },
        {
          "output_type": "execute_result",
          "data": {
            "text/plain": [
              "  label                                               text\n",
              "0  tech  Finding new homes for old phones\\n\\nRe-using o...\n",
              "1  tech  Yahoo celebrates a decade online\\n\\nYahoo, one...\n",
              "2  tech  Web logs aid disaster recovery\\n\\nSome of the ...\n",
              "3  tech  More movies head to Sony's PSP\\n\\nMovies Open ...\n",
              "4  tech  Sony PSP tipped as a 'must-have'\\n\\nSony's Pla..."
            ],
            "text/html": [
              "\n",
              "  <div id=\"df-8ea8f404-8dea-43ee-94b6-240e2d560e11\">\n",
              "    <div class=\"colab-df-container\">\n",
              "      <div>\n",
              "<style scoped>\n",
              "    .dataframe tbody tr th:only-of-type {\n",
              "        vertical-align: middle;\n",
              "    }\n",
              "\n",
              "    .dataframe tbody tr th {\n",
              "        vertical-align: top;\n",
              "    }\n",
              "\n",
              "    .dataframe thead th {\n",
              "        text-align: right;\n",
              "    }\n",
              "</style>\n",
              "<table border=\"1\" class=\"dataframe\">\n",
              "  <thead>\n",
              "    <tr style=\"text-align: right;\">\n",
              "      <th></th>\n",
              "      <th>label</th>\n",
              "      <th>text</th>\n",
              "    </tr>\n",
              "  </thead>\n",
              "  <tbody>\n",
              "    <tr>\n",
              "      <th>0</th>\n",
              "      <td>tech</td>\n",
              "      <td>Finding new homes for old phones\\n\\nRe-using o...</td>\n",
              "    </tr>\n",
              "    <tr>\n",
              "      <th>1</th>\n",
              "      <td>tech</td>\n",
              "      <td>Yahoo celebrates a decade online\\n\\nYahoo, one...</td>\n",
              "    </tr>\n",
              "    <tr>\n",
              "      <th>2</th>\n",
              "      <td>tech</td>\n",
              "      <td>Web logs aid disaster recovery\\n\\nSome of the ...</td>\n",
              "    </tr>\n",
              "    <tr>\n",
              "      <th>3</th>\n",
              "      <td>tech</td>\n",
              "      <td>More movies head to Sony's PSP\\n\\nMovies Open ...</td>\n",
              "    </tr>\n",
              "    <tr>\n",
              "      <th>4</th>\n",
              "      <td>tech</td>\n",
              "      <td>Sony PSP tipped as a 'must-have'\\n\\nSony's Pla...</td>\n",
              "    </tr>\n",
              "  </tbody>\n",
              "</table>\n",
              "</div>\n",
              "      <button class=\"colab-df-convert\" onclick=\"convertToInteractive('df-8ea8f404-8dea-43ee-94b6-240e2d560e11')\"\n",
              "              title=\"Convert this dataframe to an interactive table.\"\n",
              "              style=\"display:none;\">\n",
              "        \n",
              "  <svg xmlns=\"http://www.w3.org/2000/svg\" height=\"24px\"viewBox=\"0 0 24 24\"\n",
              "       width=\"24px\">\n",
              "    <path d=\"M0 0h24v24H0V0z\" fill=\"none\"/>\n",
              "    <path d=\"M18.56 5.44l.94 2.06.94-2.06 2.06-.94-2.06-.94-.94-2.06-.94 2.06-2.06.94zm-11 1L8.5 8.5l.94-2.06 2.06-.94-2.06-.94L8.5 2.5l-.94 2.06-2.06.94zm10 10l.94 2.06.94-2.06 2.06-.94-2.06-.94-.94-2.06-.94 2.06-2.06.94z\"/><path d=\"M17.41 7.96l-1.37-1.37c-.4-.4-.92-.59-1.43-.59-.52 0-1.04.2-1.43.59L10.3 9.45l-7.72 7.72c-.78.78-.78 2.05 0 2.83L4 21.41c.39.39.9.59 1.41.59.51 0 1.02-.2 1.41-.59l7.78-7.78 2.81-2.81c.8-.78.8-2.07 0-2.86zM5.41 20L4 18.59l7.72-7.72 1.47 1.35L5.41 20z\"/>\n",
              "  </svg>\n",
              "      </button>\n",
              "      \n",
              "  <style>\n",
              "    .colab-df-container {\n",
              "      display:flex;\n",
              "      flex-wrap:wrap;\n",
              "      gap: 12px;\n",
              "    }\n",
              "\n",
              "    .colab-df-convert {\n",
              "      background-color: #E8F0FE;\n",
              "      border: none;\n",
              "      border-radius: 50%;\n",
              "      cursor: pointer;\n",
              "      display: none;\n",
              "      fill: #1967D2;\n",
              "      height: 32px;\n",
              "      padding: 0 0 0 0;\n",
              "      width: 32px;\n",
              "    }\n",
              "\n",
              "    .colab-df-convert:hover {\n",
              "      background-color: #E2EBFA;\n",
              "      box-shadow: 0px 1px 2px rgba(60, 64, 67, 0.3), 0px 1px 3px 1px rgba(60, 64, 67, 0.15);\n",
              "      fill: #174EA6;\n",
              "    }\n",
              "\n",
              "    [theme=dark] .colab-df-convert {\n",
              "      background-color: #3B4455;\n",
              "      fill: #D2E3FC;\n",
              "    }\n",
              "\n",
              "    [theme=dark] .colab-df-convert:hover {\n",
              "      background-color: #434B5C;\n",
              "      box-shadow: 0px 1px 3px 1px rgba(0, 0, 0, 0.15);\n",
              "      filter: drop-shadow(0px 1px 2px rgba(0, 0, 0, 0.3));\n",
              "      fill: #FFFFFF;\n",
              "    }\n",
              "  </style>\n",
              "\n",
              "      <script>\n",
              "        const buttonEl =\n",
              "          document.querySelector('#df-8ea8f404-8dea-43ee-94b6-240e2d560e11 button.colab-df-convert');\n",
              "        buttonEl.style.display =\n",
              "          google.colab.kernel.accessAllowed ? 'block' : 'none';\n",
              "\n",
              "        async function convertToInteractive(key) {\n",
              "          const element = document.querySelector('#df-8ea8f404-8dea-43ee-94b6-240e2d560e11');\n",
              "          const dataTable =\n",
              "            await google.colab.kernel.invokeFunction('convertToInteractive',\n",
              "                                                     [key], {});\n",
              "          if (!dataTable) return;\n",
              "\n",
              "          const docLinkHtml = 'Like what you see? Visit the ' +\n",
              "            '<a target=\"_blank\" href=https://colab.research.google.com/notebooks/data_table.ipynb>data table notebook</a>'\n",
              "            + ' to learn more about interactive tables.';\n",
              "          element.innerHTML = '';\n",
              "          dataTable['output_type'] = 'display_data';\n",
              "          await google.colab.output.renderOutput(dataTable, element);\n",
              "          const docLink = document.createElement('div');\n",
              "          docLink.innerHTML = docLinkHtml;\n",
              "          element.appendChild(docLink);\n",
              "        }\n",
              "      </script>\n",
              "    </div>\n",
              "  </div>\n",
              "  "
            ]
          },
          "metadata": {},
          "execution_count": 8
        }
      ],
      "source": [
        "def get_text_by_topic(directory_path):\n",
        "    data = []\n",
        "    count = 0\n",
        "    for topic in os.listdir(directory_path):\n",
        "        topic_path = os.path.join(directory_path, topic)\n",
        "        if not os.path.isdir(topic_path):\n",
        "          continue\n",
        "        for file_path in os.listdir(topic_path):\n",
        "            try:\n",
        "                with open(f'{topic_path}/{file_path}', 'r', encoding=\"utf-8\") as f:\n",
        "                    data.append(( topic_path.split('/')[-1],f.read()))\n",
        "                count+=1\n",
        "            except UnicodeDecodeError:\n",
        "                print(f'file {file_path} in {topic_path} is not readable')\n",
        "                print(UnicodeDecodeError)\n",
        "    df = pd.DataFrame(data, columns=['label','text'])\n",
        "    print(f\"Total Items loaded: {count}\")\n",
        "    return df\n",
        "                      \n",
        "articles_path = r\"data/BBC News Summary/News Articles\"\n",
        "summaries_path = r\"data/BBC News Summary/Summaries\"\n",
        "\n",
        "articles_df = get_text_by_topic(articles_path)\n",
        "summaries_df = get_text_by_topic(summaries_path)\n",
        "articles_df.head()"
      ],
      "id": "1214aa85-66fa-4644-a97b-bdc7b17db24a"
    },
    {
      "cell_type": "markdown",
      "metadata": {
        "id": "b0bf6beb-d02d-412c-b582-1f6dabbd1490"
      },
      "source": [
        "### Lets see an example from the dataset"
      ],
      "id": "b0bf6beb-d02d-412c-b582-1f6dabbd1490"
    },
    {
      "cell_type": "code",
      "execution_count": 9,
      "metadata": {
        "id": "5eab6275-fdab-40aa-a9ae-37a2563cc044",
        "outputId": "045856ee-cf8b-48d0-c2fc-47fe42f83982",
        "colab": {
          "base_uri": "https://localhost:8080/"
        }
      },
      "outputs": [
        {
          "output_type": "stream",
          "name": "stdout",
          "text": [
            "Articles Shape:  (2224, 2)\n",
            "Summaries Shape:  (2224, 2)\n",
            "\n",
            "Random Example Article in politics:\n",
            "Voters 'reject EU by two to one'\n",
            "\n",
            "British voters would reject the European constitution by two to one, according to a poll posing the question the government will put to the country.\n",
            "\n",
            "The Daily Telegraph poll suggests that 45% of people would vote against the constitution and 24% in favour. However the YouGov poll, which questioned 1,943 British adults online, found 25% did not know how they would vote if forced to decide tomorrow. Only 51% of those polled had made up their minds about the constitution. Another 7% said they would not vote at all. The poll is believed to be the first to pose the question which the government has chosen for the upcoming referendum, expected in 2006. The constitution will be incorporated into UK law if there is a yes vote.\n",
            "\n",
            "Ballot papers in the poll will ask: \"Should the United Kingdom approve the treaty establishing a constitution for the European Union?\" The government unveiled the question which will be asked earlier in the week.\n",
            "\n",
            "The treaty was signed by all 25 current EU members in Rome last October and is due to come into force in November 2006, providing it is ratified by all member states - several of which will hold a referendum. Critics say the constitution is a further step towards a federal Europe, but advocates say it ensures effective operation of the enlarged 25-state EU. \"If we reject this treaty, Britain will be isolated and weak in Europe,\" said Foreign Secretary Jack Straw, after the question was unveiled. Mr Straw, along with the rest of the Cabinet, will back a \"yes\" vote. Meanwhile, Conservative shadow foreign secretary Michael Ancram said the referendum question \"seems straightforward\". But he accused the government of trying to confuse the issue by putting the EU referendum question in the same bill as the ratification of the constitution, when they should be treated as \"two separate issues\".\n",
            "\n",
            "Random Example Summary in politics:\n",
            "British voters would reject the European constitution by two to one, according to a poll posing the question the government will put to the country.The Daily Telegraph poll suggests that 45% of people would vote against the constitution and 24% in favour.But he accused the government of trying to confuse the issue by putting the EU referendum question in the same bill as the ratification of the constitution, when they should be treated as \"two separate issues\".The constitution will be incorporated into UK law if there is a yes vote.Another 7% said they would not vote at all.\"If we reject this treaty, Britain will be isolated and weak in Europe,\" said Foreign Secretary Jack Straw, after the question was unveiled.\n"
          ]
        }
      ],
      "source": [
        "print(\"Articles Shape: \",articles_df.shape)\n",
        "print(\"Summaries Shape: \",summaries_df.shape)\n",
        "# If this fails the wrong number of aricles or summaries was loaded\n",
        "assert(articles_df.shape == summaries_df.shape)\n",
        "\n",
        "ex_idx = int(random.random()*articles_df.shape[0])\n",
        "ex_topic = articles_df[\"label\"][ex_idx]\n",
        "print(f\"\\nRandom Example Article in {ex_topic}:\")\n",
        "print(articles_df[\"text\"][ex_idx])\n",
        "print(f\"Random Example Summary in {ex_topic}:\")\n",
        "print(summaries_df[\"text\"][ex_idx])"
      ],
      "id": "5eab6275-fdab-40aa-a9ae-37a2563cc044"
    },
    {
      "cell_type": "markdown",
      "metadata": {
        "id": "575fa654-a5c9-423a-a47a-1093a5122e5f"
      },
      "source": [
        "From this example we can see the dataset consists of BBC articles and co-responding summaries that are constructed in an extractive manner, that is, each summary is constructed by selecting a subset of the sentances in the original article."
      ],
      "id": "575fa654-a5c9-423a-a47a-1093a5122e5f"
    },
    {
      "cell_type": "code",
      "execution_count": 10,
      "metadata": {
        "id": "f54d1b00-34da-421c-bc2f-0fb5c553ad24",
        "outputId": "9029d551-e054-4bb5-9875-236b58356494",
        "colab": {
          "base_uri": "https://localhost:8080/"
        }
      },
      "outputs": [
        {
          "output_type": "execute_result",
          "data": {
            "text/plain": [
              "label    0\n",
              "text     0\n",
              "dtype: int64"
            ]
          },
          "metadata": {},
          "execution_count": 10
        }
      ],
      "source": [
        "# Null Checks\n",
        "articles_df.isna().sum()\n",
        "summaries_df.isna().sum()"
      ],
      "id": "f54d1b00-34da-421c-bc2f-0fb5c553ad24"
    },
    {
      "cell_type": "markdown",
      "metadata": {
        "id": "768ee0be-8316-45c4-bec5-77c5d6bfbed8"
      },
      "source": [
        "Next looking into the balance of each topic in the dataset"
      ],
      "id": "768ee0be-8316-45c4-bec5-77c5d6bfbed8"
    },
    {
      "cell_type": "code",
      "execution_count": 11,
      "metadata": {
        "id": "d6991cf3-9104-4289-b3b1-2e979c53ce23",
        "outputId": "0f74c554-9772-466c-8029-767f80422ede",
        "colab": {
          "base_uri": "https://localhost:8080/",
          "height": 264
        }
      },
      "outputs": [
        {
          "output_type": "display_data",
          "data": {
            "text/plain": [
              "<Figure size 432x288 with 1 Axes>"
            ],
            "image/png": "[encoded data removed]"
          },
          "metadata": {}
        }
      ],
      "source": [
        "# Percent articles in each topic\n",
        "label_vals = articles_df[\"label\"].value_counts()\n",
        "\n",
        "labels = list(label_vals.keys())\n",
        "sizes = list(label_vals)\n",
        "explode = [0]*len(sizes) \n",
        "explode[0] =0.1\n",
        "explode[1] =0.1\n",
        "fig1, ax1 = plt.subplots()\n",
        "ax1.pie(label_vals, explode=explode, labels=labels, autopct='%1.1f%%',shadow=True, startangle=90)\n",
        "ax1.axis('equal')  # Equal aspect ratio ensures that pie is drawn as a circle.\n",
        "plt.title(f\"Out of {articles_df.shape[0]} Articles\")\n",
        "plt.show()\n"
      ],
      "id": "d6991cf3-9104-4289-b3b1-2e979c53ce23"
    },
    {
      "cell_type": "markdown",
      "metadata": {
        "id": "25b33d5d-137d-4078-af43-8e3ccdc6451b"
      },
      "source": [
        "The classes appear to be well balance so model performance should be equivelent across topics"
      ],
      "id": "25b33d5d-137d-4078-af43-8e3ccdc6451b"
    },
    {
      "cell_type": "code",
      "execution_count": 12,
      "metadata": {
        "id": "e0a5961f-d8f9-4908-b622-d9d76245fd5e",
        "outputId": "41235b9e-1f86-45ce-f73b-a527a434ec31",
        "colab": {
          "base_uri": "https://localhost:8080/",
          "height": 676
        }
      },
      "outputs": [
        {
          "output_type": "stream",
          "name": "stdout",
          "text": [
            "99th percentile in sentance count:  63.0\n"
          ]
        },
        {
          "output_type": "stream",
          "name": "stderr",
          "text": [
            "/usr/local/lib/python3.8/dist-packages/matplotlib/cbook/__init__.py:1376: VisibleDeprecationWarning: Creating an ndarray from ragged nested sequences (which is a list-or-tuple of lists-or-tuples-or ndarrays with different lengths or shapes) is deprecated. If you meant to do this, you must specify 'dtype=object' when creating the ndarray.\n",
            "  X = np.atleast_1d(X.T if isinstance(X, np.ndarray) else np.asarray(X))\n"
          ]
        },
        {
          "output_type": "display_data",
          "data": {
            "text/plain": [
              "<Figure size 432x288 with 1 Axes>"
            ],
            "image/png": "[encoded data removed]"
          },
          "metadata": {
            "needs_background": "light"
          }
        },
        {
          "output_type": "execute_result",
          "data": {
            "text/plain": [
              "             tech    politics       sport  entertainment    business\n",
              "count  401.000000  417.000000  510.000000     386.000000  510.000000\n",
              "mean    25.842893   22.227818   18.280392      17.945596   19.680392\n",
              "std     12.904370   15.467658    9.876736      14.270836    7.409560\n",
              "min      7.000000    5.000000    7.000000       8.000000    7.000000\n",
              "25%     18.000000   16.000000   12.000000      12.000000   14.000000\n",
              "50%     22.000000   21.000000   16.000000      14.000000   18.000000\n",
              "75%     31.000000   25.000000   23.000000      20.000000   23.000000\n",
              "max    161.000000  246.000000   82.000000     205.000000   53.000000"
            ],
            "text/html": [
              "\n",
              "  <div id=\"df-ae2785fc-aad3-4bf9-8332-3c63075ee46e\">\n",
              "    <div class=\"colab-df-container\">\n",
              "      <div>\n",
              "<style scoped>\n",
              "    .dataframe tbody tr th:only-of-type {\n",
              "        vertical-align: middle;\n",
              "    }\n",
              "\n",
              "    .dataframe tbody tr th {\n",
              "        vertical-align: top;\n",
              "    }\n",
              "\n",
              "    .dataframe thead th {\n",
              "        text-align: right;\n",
              "    }\n",
              "</style>\n",
              "<table border=\"1\" class=\"dataframe\">\n",
              "  <thead>\n",
              "    <tr style=\"text-align: right;\">\n",
              "      <th></th>\n",
              "      <th>tech</th>\n",
              "      <th>politics</th>\n",
              "      <th>sport</th>\n",
              "      <th>entertainment</th>\n",
              "      <th>business</th>\n",
              "    </tr>\n",
              "  </thead>\n",
              "  <tbody>\n",
              "    <tr>\n",
              "      <th>count</th>\n",
              "      <td>401.000000</td>\n",
              "      <td>417.000000</td>\n",
              "      <td>510.000000</td>\n",
              "      <td>386.000000</td>\n",
              "      <td>510.000000</td>\n",
              "    </tr>\n",
              "    <tr>\n",
              "      <th>mean</th>\n",
              "      <td>25.842893</td>\n",
              "      <td>22.227818</td>\n",
              "      <td>18.280392</td>\n",
              "      <td>17.945596</td>\n",
              "      <td>19.680392</td>\n",
              "    </tr>\n",
              "    <tr>\n",
              "      <th>std</th>\n",
              "      <td>12.904370</td>\n",
              "      <td>15.467658</td>\n",
              "      <td>9.876736</td>\n",
              "      <td>14.270836</td>\n",
              "      <td>7.409560</td>\n",
              "    </tr>\n",
              "    <tr>\n",
              "      <th>min</th>\n",
              "      <td>7.000000</td>\n",
              "      <td>5.000000</td>\n",
              "      <td>7.000000</td>\n",
              "      <td>8.000000</td>\n",
              "      <td>7.000000</td>\n",
              "    </tr>\n",
              "    <tr>\n",
              "      <th>25%</th>\n",
              "      <td>18.000000</td>\n",
              "      <td>16.000000</td>\n",
              "      <td>12.000000</td>\n",
              "      <td>12.000000</td>\n",
              "      <td>14.000000</td>\n",
              "    </tr>\n",
              "    <tr>\n",
              "      <th>50%</th>\n",
              "      <td>22.000000</td>\n",
              "      <td>21.000000</td>\n",
              "      <td>16.000000</td>\n",
              "      <td>14.000000</td>\n",
              "      <td>18.000000</td>\n",
              "    </tr>\n",
              "    <tr>\n",
              "      <th>75%</th>\n",
              "      <td>31.000000</td>\n",
              "      <td>25.000000</td>\n",
              "      <td>23.000000</td>\n",
              "      <td>20.000000</td>\n",
              "      <td>23.000000</td>\n",
              "    </tr>\n",
              "    <tr>\n",
              "      <th>max</th>\n",
              "      <td>161.000000</td>\n",
              "      <td>246.000000</td>\n",
              "      <td>82.000000</td>\n",
              "      <td>205.000000</td>\n",
              "      <td>53.000000</td>\n",
              "    </tr>\n",
              "  </tbody>\n",
              "</table>\n",
              "</div>\n",
              "      <button class=\"colab-df-convert\" onclick=\"convertToInteractive('df-ae2785fc-aad3-4bf9-8332-3c63075ee46e')\"\n",
              "              title=\"Convert this dataframe to an interactive table.\"\n",
              "              style=\"display:none;\">\n",
              "        \n",
              "  <svg xmlns=\"http://www.w3.org/2000/svg\" height=\"24px\"viewBox=\"0 0 24 24\"\n",
              "       width=\"24px\">\n",
              "    <path d=\"M0 0h24v24H0V0z\" fill=\"none\"/>\n",
              "    <path d=\"M18.56 5.44l.94 2.06.94-2.06 2.06-.94-2.06-.94-.94-2.06-.94 2.06-2.06.94zm-11 1L8.5 8.5l.94-2.06 2.06-.94-2.06-.94L8.5 2.5l-.94 2.06-2.06.94zm10 10l.94 2.06.94-2.06 2.06-.94-2.06-.94-.94-2.06-.94 2.06-2.06.94z\"/><path d=\"M17.41 7.96l-1.37-1.37c-.4-.4-.92-.59-1.43-.59-.52 0-1.04.2-1.43.59L10.3 9.45l-7.72 7.72c-.78.78-.78 2.05 0 2.83L4 21.41c.39.39.9.59 1.41.59.51 0 1.02-.2 1.41-.59l7.78-7.78 2.81-2.81c.8-.78.8-2.07 0-2.86zM5.41 20L4 18.59l7.72-7.72 1.47 1.35L5.41 20z\"/>\n",
              "  </svg>\n",
              "      </button>\n",
              "      \n",
              "  <style>\n",
              "    .colab-df-container {\n",
              "      display:flex;\n",
              "      flex-wrap:wrap;\n",
              "      gap: 12px;\n",
              "    }\n",
              "\n",
              "    .colab-df-convert {\n",
              "      background-color: #E8F0FE;\n",
              "      border: none;\n",
              "      border-radius: 50%;\n",
              "      cursor: pointer;\n",
              "      display: none;\n",
              "      fill: #1967D2;\n",
              "      height: 32px;\n",
              "      padding: 0 0 0 0;\n",
              "      width: 32px;\n",
              "    }\n",
              "\n",
              "    .colab-df-convert:hover {\n",
              "      background-color: #E2EBFA;\n",
              "      box-shadow: 0px 1px 2px rgba(60, 64, 67, 0.3), 0px 1px 3px 1px rgba(60, 64, 67, 0.15);\n",
              "      fill: #174EA6;\n",
              "    }\n",
              "\n",
              "    [theme=dark] .colab-df-convert {\n",
              "      background-color: #3B4455;\n",
              "      fill: #D2E3FC;\n",
              "    }\n",
              "\n",
              "    [theme=dark] .colab-df-convert:hover {\n",
              "      background-color: #434B5C;\n",
              "      box-shadow: 0px 1px 3px 1px rgba(0, 0, 0, 0.15);\n",
              "      filter: drop-shadow(0px 1px 2px rgba(0, 0, 0, 0.3));\n",
              "      fill: #FFFFFF;\n",
              "    }\n",
              "  </style>\n",
              "\n",
              "      <script>\n",
              "        const buttonEl =\n",
              "          document.querySelector('#df-ae2785fc-aad3-4bf9-8332-3c63075ee46e button.colab-df-convert');\n",
              "        buttonEl.style.display =\n",
              "          google.colab.kernel.accessAllowed ? 'block' : 'none';\n",
              "\n",
              "        async function convertToInteractive(key) {\n",
              "          const element = document.querySelector('#df-ae2785fc-aad3-4bf9-8332-3c63075ee46e');\n",
              "          const dataTable =\n",
              "            await google.colab.kernel.invokeFunction('convertToInteractive',\n",
              "                                                     [key], {});\n",
              "          if (!dataTable) return;\n",
              "\n",
              "          const docLinkHtml = 'Like what you see? Visit the ' +\n",
              "            '<a target=\"_blank\" href=https://colab.research.google.com/notebooks/data_table.ipynb>data table notebook</a>'\n",
              "            + ' to learn more about interactive tables.';\n",
              "          element.innerHTML = '';\n",
              "          dataTable['output_type'] = 'display_data';\n",
              "          await google.colab.output.renderOutput(dataTable, element);\n",
              "          const docLink = document.createElement('div');\n",
              "          docLink.innerHTML = docLinkHtml;\n",
              "          element.appendChild(docLink);\n",
              "        }\n",
              "      </script>\n",
              "    </div>\n",
              "  </div>\n",
              "  "
            ]
          },
          "metadata": {},
          "execution_count": 12
        }
      ],
      "source": [
        "# Number of Sentances in articles per topic\n",
        "def get_text_length(daf, split):\n",
        "    text_lens = [[len(t.split(split)) for t in daf[\"text\"][daf['label'] == label]] for label in daf['label'].unique()]\n",
        "    return text_lens\n",
        "\n",
        "# Splitting on . for each sentance\n",
        "text_lens = get_text_length(articles_df, \".\")\n",
        "\n",
        "t_lengths = pd.DataFrame(text_lens).transpose()\n",
        "t_lengths.columns = articles_df['label'].unique()\n",
        "\n",
        "# Outliars\n",
        "print(\"99th percentile in sentance count: \",np.max(t_lengths.quantile(0.99)))\n",
        "\n",
        "plt.boxplot(text_lens)\n",
        "plt.title('Number of Sentances in each Article per topic')\n",
        "plt.ylim(np.min(t_lengths.quantile(0)), np.max(t_lengths.quantile(0.99)))\n",
        "plt.xticks([1,2,3,4,5],articles_df['label'].unique(),\n",
        "                    rotation=45, fontsize=8)\n",
        "plt.show()\n",
        "t_lengths.describe()"
      ],
      "id": "e0a5961f-d8f9-4908-b622-d9d76245fd5e"
    },
    {
      "cell_type": "markdown",
      "metadata": {
        "id": "3fe62179-5377-4e06-bd27-3723ab924a51"
      },
      "source": [
        "It appears that tech articles have the longest articles in terms of sentances however the categories seem to be balanced here aswell. Noteably there are some drastic outliars for article length with 200+ sentances that may have to be removed."
      ],
      "id": "3fe62179-5377-4e06-bd27-3723ab924a51"
    },
    {
      "cell_type": "code",
      "execution_count": 13,
      "metadata": {
        "id": "f368e99e-6e8d-4edc-98fc-58da0235eb83",
        "outputId": "0f2a6d8c-7054-4869-de7e-271815755dca",
        "colab": {
          "base_uri": "https://localhost:8080/",
          "height": 676
        }
      },
      "outputs": [
        {
          "output_type": "stream",
          "name": "stdout",
          "text": [
            "99th percentile in Word count:  475.0\n"
          ]
        },
        {
          "output_type": "stream",
          "name": "stderr",
          "text": [
            "/usr/local/lib/python3.8/dist-packages/matplotlib/cbook/__init__.py:1376: VisibleDeprecationWarning: Creating an ndarray from ragged nested sequences (which is a list-or-tuple of lists-or-tuples-or ndarrays with different lengths or shapes) is deprecated. If you meant to do this, you must specify 'dtype=object' when creating the ndarray.\n",
            "  X = np.atleast_1d(X.T if isinstance(X, np.ndarray) else np.asarray(X))\n"
          ]
        },
        {
          "output_type": "display_data",
          "data": {
            "text/plain": [
              "<Figure size 432x288 with 1 Axes>"
            ],
            "image/png": "[encoded data removed]"
          },
          "metadata": {
            "needs_background": "light"
          }
        },
        {
          "output_type": "execute_result",
          "data": {
            "text/plain": [
              "              tech     politics       sport  entertainment   business\n",
              "count   401.000000   417.000000  510.000000      386.00000  510.00000\n",
              "mean    213.880299   195.738609  143.194118      144.07772  139.94902\n",
              "std     111.675336   139.855957   80.966871      124.31821   59.48480\n",
              "min      65.000000    38.000000   42.000000       54.00000   40.00000\n",
              "25%     144.000000   132.000000   87.000000       93.25000   99.00000\n",
              "50%     189.000000   186.000000  122.000000      117.00000  127.00000\n",
              "75%     264.000000   230.000000  178.500000      154.75000  164.75000\n",
              "max    1433.000000  2074.000000  659.000000     1708.00000  403.00000"
            ],
            "text/html": [
              "\n",
              "  <div id=\"df-e827d59b-850a-4ffc-b117-fdd69598158b\">\n",
              "    <div class=\"colab-df-container\">\n",
              "      <div>\n",
              "<style scoped>\n",
              "    .dataframe tbody tr th:only-of-type {\n",
              "        vertical-align: middle;\n",
              "    }\n",
              "\n",
              "    .dataframe tbody tr th {\n",
              "        vertical-align: top;\n",
              "    }\n",
              "\n",
              "    .dataframe thead th {\n",
              "        text-align: right;\n",
              "    }\n",
              "</style>\n",
              "<table border=\"1\" class=\"dataframe\">\n",
              "  <thead>\n",
              "    <tr style=\"text-align: right;\">\n",
              "      <th></th>\n",
              "      <th>tech</th>\n",
              "      <th>politics</th>\n",
              "      <th>sport</th>\n",
              "      <th>entertainment</th>\n",
              "      <th>business</th>\n",
              "    </tr>\n",
              "  </thead>\n",
              "  <tbody>\n",
              "    <tr>\n",
              "      <th>count</th>\n",
              "      <td>401.000000</td>\n",
              "      <td>417.000000</td>\n",
              "      <td>510.000000</td>\n",
              "      <td>386.00000</td>\n",
              "      <td>510.00000</td>\n",
              "    </tr>\n",
              "    <tr>\n",
              "      <th>mean</th>\n",
              "      <td>213.880299</td>\n",
              "      <td>195.738609</td>\n",
              "      <td>143.194118</td>\n",
              "      <td>144.07772</td>\n",
              "      <td>139.94902</td>\n",
              "    </tr>\n",
              "    <tr>\n",
              "      <th>std</th>\n",
              "      <td>111.675336</td>\n",
              "      <td>139.855957</td>\n",
              "      <td>80.966871</td>\n",
              "      <td>124.31821</td>\n",
              "      <td>59.48480</td>\n",
              "    </tr>\n",
              "    <tr>\n",
              "      <th>min</th>\n",
              "      <td>65.000000</td>\n",
              "      <td>38.000000</td>\n",
              "      <td>42.000000</td>\n",
              "      <td>54.00000</td>\n",
              "      <td>40.00000</td>\n",
              "    </tr>\n",
              "    <tr>\n",
              "      <th>25%</th>\n",
              "      <td>144.000000</td>\n",
              "      <td>132.000000</td>\n",
              "      <td>87.000000</td>\n",
              "      <td>93.25000</td>\n",
              "      <td>99.00000</td>\n",
              "    </tr>\n",
              "    <tr>\n",
              "      <th>50%</th>\n",
              "      <td>189.000000</td>\n",
              "      <td>186.000000</td>\n",
              "      <td>122.000000</td>\n",
              "      <td>117.00000</td>\n",
              "      <td>127.00000</td>\n",
              "    </tr>\n",
              "    <tr>\n",
              "      <th>75%</th>\n",
              "      <td>264.000000</td>\n",
              "      <td>230.000000</td>\n",
              "      <td>178.500000</td>\n",
              "      <td>154.75000</td>\n",
              "      <td>164.75000</td>\n",
              "    </tr>\n",
              "    <tr>\n",
              "      <th>max</th>\n",
              "      <td>1433.000000</td>\n",
              "      <td>2074.000000</td>\n",
              "      <td>659.000000</td>\n",
              "      <td>1708.00000</td>\n",
              "      <td>403.00000</td>\n",
              "    </tr>\n",
              "  </tbody>\n",
              "</table>\n",
              "</div>\n",
              "      <button class=\"colab-df-convert\" onclick=\"convertToInteractive('df-e827d59b-850a-4ffc-b117-fdd69598158b')\"\n",
              "              title=\"Convert this dataframe to an interactive table.\"\n",
              "              style=\"display:none;\">\n",
              "        \n",
              "  <svg xmlns=\"http://www.w3.org/2000/svg\" height=\"24px\"viewBox=\"0 0 24 24\"\n",
              "       width=\"24px\">\n",
              "    <path d=\"M0 0h24v24H0V0z\" fill=\"none\"/>\n",
              "    <path d=\"M18.56 5.44l.94 2.06.94-2.06 2.06-.94-2.06-.94-.94-2.06-.94 2.06-2.06.94zm-11 1L8.5 8.5l.94-2.06 2.06-.94-2.06-.94L8.5 2.5l-.94 2.06-2.06.94zm10 10l.94 2.06.94-2.06 2.06-.94-2.06-.94-.94-2.06-.94 2.06-2.06.94z\"/><path d=\"M17.41 7.96l-1.37-1.37c-.4-.4-.92-.59-1.43-.59-.52 0-1.04.2-1.43.59L10.3 9.45l-7.72 7.72c-.78.78-.78 2.05 0 2.83L4 21.41c.39.39.9.59 1.41.59.51 0 1.02-.2 1.41-.59l7.78-7.78 2.81-2.81c.8-.78.8-2.07 0-2.86zM5.41 20L4 18.59l7.72-7.72 1.47 1.35L5.41 20z\"/>\n",
              "  </svg>\n",
              "      </button>\n",
              "      \n",
              "  <style>\n",
              "    .colab-df-container {\n",
              "      display:flex;\n",
              "      flex-wrap:wrap;\n",
              "      gap: 12px;\n",
              "    }\n",
              "\n",
              "    .colab-df-convert {\n",
              "      background-color: #E8F0FE;\n",
              "      border: none;\n",
              "      border-radius: 50%;\n",
              "      cursor: pointer;\n",
              "      display: none;\n",
              "      fill: #1967D2;\n",
              "      height: 32px;\n",
              "      padding: 0 0 0 0;\n",
              "      width: 32px;\n",
              "    }\n",
              "\n",
              "    .colab-df-convert:hover {\n",
              "      background-color: #E2EBFA;\n",
              "      box-shadow: 0px 1px 2px rgba(60, 64, 67, 0.3), 0px 1px 3px 1px rgba(60, 64, 67, 0.15);\n",
              "      fill: #174EA6;\n",
              "    }\n",
              "\n",
              "    [theme=dark] .colab-df-convert {\n",
              "      background-color: #3B4455;\n",
              "      fill: #D2E3FC;\n",
              "    }\n",
              "\n",
              "    [theme=dark] .colab-df-convert:hover {\n",
              "      background-color: #434B5C;\n",
              "      box-shadow: 0px 1px 3px 1px rgba(0, 0, 0, 0.15);\n",
              "      filter: drop-shadow(0px 1px 2px rgba(0, 0, 0, 0.3));\n",
              "      fill: #FFFFFF;\n",
              "    }\n",
              "  </style>\n",
              "\n",
              "      <script>\n",
              "        const buttonEl =\n",
              "          document.querySelector('#df-e827d59b-850a-4ffc-b117-fdd69598158b button.colab-df-convert');\n",
              "        buttonEl.style.display =\n",
              "          google.colab.kernel.accessAllowed ? 'block' : 'none';\n",
              "\n",
              "        async function convertToInteractive(key) {\n",
              "          const element = document.querySelector('#df-e827d59b-850a-4ffc-b117-fdd69598158b');\n",
              "          const dataTable =\n",
              "            await google.colab.kernel.invokeFunction('convertToInteractive',\n",
              "                                                     [key], {});\n",
              "          if (!dataTable) return;\n",
              "\n",
              "          const docLinkHtml = 'Like what you see? Visit the ' +\n",
              "            '<a target=\"_blank\" href=https://colab.research.google.com/notebooks/data_table.ipynb>data table notebook</a>'\n",
              "            + ' to learn more about interactive tables.';\n",
              "          element.innerHTML = '';\n",
              "          dataTable['output_type'] = 'display_data';\n",
              "          await google.colab.output.renderOutput(dataTable, element);\n",
              "          const docLink = document.createElement('div');\n",
              "          docLink.innerHTML = docLinkHtml;\n",
              "          element.appendChild(docLink);\n",
              "        }\n",
              "      </script>\n",
              "    </div>\n",
              "  </div>\n",
              "  "
            ]
          },
          "metadata": {},
          "execution_count": 13
        }
      ],
      "source": [
        "# Number of Words in articles per topic (splitting on \" \")\n",
        "text_lens = get_text_length(summaries_df, \" \")\n",
        "\n",
        "t_lengths = pd.DataFrame(text_lens).transpose()\n",
        "t_lengths.columns = articles_df['label'].unique()\n",
        "\n",
        "# Outliars\n",
        "print(\"99th percentile in Word count: \",np.max(t_lengths.quantile(0.99)))\n",
        "\n",
        "plt.boxplot(text_lens)\n",
        "plt.title('Number of Words in each Article per topic')\n",
        "plt.ylim(np.min(t_lengths.quantile(0)), np.max(t_lengths.quantile(0.99)))\n",
        "plt.xticks([1,2,3,4,5],articles_df['label'].unique(),\n",
        "                    rotation=45, fontsize=8)\n",
        "plt.show()\n",
        "t_lengths.describe()"
      ],
      "id": "f368e99e-6e8d-4edc-98fc-58da0235eb83"
    },
    {
      "cell_type": "markdown",
      "metadata": {
        "id": "8ff8ce98-5fd0-4205-8ac5-68ef2303d74a"
      },
      "source": [
        "Comparing the word counts to the sentance counts we can see the same outliar issue exists as well as sports having less words despite having more sentances implying that sentance length will vary based on the topic."
      ],
      "id": "8ff8ce98-5fd0-4205-8ac5-68ef2303d74a"
    },
    {
      "cell_type": "markdown",
      "metadata": {
        "id": "1b193bc2-8c71-46a4-abba-734ac1b1e6e9"
      },
      "source": [
        "### Next looking at the ground truth reduction in word count"
      ],
      "id": "1b193bc2-8c71-46a4-abba-734ac1b1e6e9"
    },
    {
      "cell_type": "code",
      "execution_count": 14,
      "metadata": {
        "id": "a8eae84c-aa92-4f3d-a614-58cd08701438",
        "outputId": "ce50c98e-48b6-4f37-fea0-58304885ddae",
        "colab": {
          "base_uri": "https://localhost:8080/"
        }
      },
      "outputs": [
        {
          "output_type": "stream",
          "name": "stdout",
          "text": [
            "Average percent reduction in words for ...\n",
            "tech summaries: 57.2868%\n",
            "politics summaries: 56.5632%\n",
            "sport summaries: 55.5133%\n",
            "entertainment summaries: 56.0781%\n",
            "business summaries: 56.8027%\n"
          ]
        }
      ],
      "source": [
        "# Summary length reduction per topic by word count\n",
        "articles_len = get_text_length(articles_df, \" \")\n",
        "summaries_len = get_text_length(summaries_df, \" \")\n",
        "\n",
        "\n",
        "# For each Topic\n",
        "print(\"Average percent reduction in words for ...\")\n",
        "for i,topic in enumerate(articles_df['label'].unique()):\n",
        "    # 1  - ratio of summary to article length\n",
        "    avg_percent_reduction = np.mean(1-np.asarray(summaries_len[i])/np.asarray(articles_len[i]))\n",
        "    print(f\"{topic} summaries: {100*avg_percent_reduction:0.4f}%\")"
      ],
      "id": "a8eae84c-aa92-4f3d-a614-58cd08701438"
    },
    {
      "cell_type": "markdown",
      "metadata": {
        "id": "479bf668-3842-45d3-a9fb-3f1c39633b9e"
      },
      "source": [
        "From this we see across the board roughly half of the words are dropped in the ground truth summaries implying our model should have a similar dropout rate. This also may indicate classification may be a valid approach to determining whether a sentance should remain in the summary. Running this code over with sentance count reveals a similar trend implying no relationship between sentance length and likelyhood to be in the summmary."
      ],
      "id": "479bf668-3842-45d3-a9fb-3f1c39633b9e"
    },
    {
      "cell_type": "markdown",
      "metadata": {
        "id": "f4cd6170-cba7-427c-a383-af33c7700032"
      },
      "source": [
        "### EDA with common heuristics in NLP"
      ],
      "id": "f4cd6170-cba7-427c-a383-af33c7700032"
    },
    {
      "cell_type": "markdown",
      "metadata": {
        "id": "f9be1a73-d7b9-4950-b6d8-39d26ae42a83"
      },
      "source": [
        "In extractive text summarization a common baseline model is to simply take the first few sentances (typically 3) of a peice of text as the summary as writers often introduce their main points in the beggining of articles. We will analyze the effectiveness of this heuristic for the BBC model for possible consideration for a baseline model"
      ],
      "id": "f9be1a73-d7b9-4950-b6d8-39d26ae42a83"
    },
    {
      "cell_type": "code",
      "execution_count": 19,
      "metadata": {
        "id": "2c012abe-ab51-4fbd-8c1f-c6e6e13214c5",
        "outputId": "9487f1b5-0cde-4733-80de-b3799e8c417c",
        "colab": {
          "base_uri": "https://localhost:8080/"
        }
      },
      "outputs": [
        {
          "output_type": "stream",
          "name": "stderr",
          "text": [
            "[nltk_data] Downloading package punkt to /root/nltk_data...\n",
            "[nltk_data]   Package punkt is already up-to-date!\n"
          ]
        },
        {
          "output_type": "stream",
          "name": "stdout",
          "text": [
            "69.83% Article summaries include the first sentance of the article\n",
            "36.29% Article summaries include the first and second\n",
            "17.81% Article summaries include the first, second, and third\n",
            "7.33% Article summaries include the first, second, third and fourth\n"
          ]
        }
      ],
      "source": [
        "# For regular expression\n",
        "import re\n",
        "# for sentance parsing\n",
        "import nltk\n",
        "nltk.download('punkt')\n",
        "from nltk.tokenize import sent_tokenize\n",
        "\n",
        "# turn each article into a list of sentances\n",
        "def get_sentences(texts_list):\n",
        "    documents = []\n",
        "    for text in texts_list:\n",
        "        documents.append(sent_tokenize(text.replace(\"\\n\\n\",\". \").replace(\".. \",\". \").replace(\".\",\". \").replace(\".  \",\". \")))\n",
        "    return documents\n",
        "    #return [[a.strip() for a in t.replace(\"\\n\\n\",\".\").split(\".\") if a!=''] for t in texts_list]\n",
        "\n",
        "# First sentance inclusion in summary\n",
        "article_sentances = get_sentences(articles_df[\"text\"])\n",
        "summary_sentances = get_sentences(summaries_df[\"text\"])\n",
        "\n",
        "# Check how many sentances (up to the fourth) of the article are in the summary\n",
        "counts = [0]*4\n",
        "for a,s in zip(article_sentances,summary_sentances):\n",
        "    for i in range(len(counts)):\n",
        "        if a[i+1] in s:\n",
        "            counts[i]+=1\n",
        "        else:\n",
        "            break\n",
        "print(f\"{100*counts[0]/len(article_sentances):0.2f}% Article summaries include the first sentance of the article\")\n",
        "print(f\"{100*counts[1]/len(article_sentances):0.2f}% Article summaries include the first and second\")\n",
        "print(f\"{100*counts[2]/len(article_sentances):0.2f}% Article summaries include the first, second, and third\")\n",
        "print(f\"{100*counts[3]/len(article_sentances):0.2f}% Article summaries include the first, second, third and fourth\")"
      ],
      "id": "2c012abe-ab51-4fbd-8c1f-c6e6e13214c5"
    },
    {
      "cell_type": "markdown",
      "metadata": {
        "id": "37d622d7-f6c3-4ada-bce7-e10c34857f28"
      },
      "source": [
        "From this a good baseline model to compare text summarization would simply be to use the first few sentances of each article as the summary. The performance of this method is best with including one to two sentances"
      ],
      "id": "37d622d7-f6c3-4ada-bce7-e10c34857f28"
    },
    {
      "cell_type": "markdown",
      "source": [
        "## Metrics"
      ],
      "metadata": {
        "id": "mcnVrsGmE7AE"
      },
      "id": "mcnVrsGmE7AE"
    },
    {
      "cell_type": "code",
      "source": [
        "!pip install rouge\n",
        "from rouge import Rouge\n",
        "def rouge_metric_calculator (model_output_summary, correct_summary):\n",
        "  rouge = Rouge()\n",
        "  score = rouge.get_scores(model_output_summary, correct_summary)\n",
        "  return score\n",
        "\n",
        "def calculate_metric(model_output_summary, prediction_array):\n",
        "  i=0\n",
        "  running_one_r = 0\n",
        "  running_one_p = 0\n",
        "  running_one_f = 0\n",
        "  running_two_r = 0\n",
        "  running_two_p = 0\n",
        "  running_two_f = 0\n",
        "  for model_output in prediction_array:\n",
        "    #print(model_output[0])\n",
        "    correct_summary = summaries_df[\"text\"][i]\n",
        "    #print(correct_summary)\n",
        "    rouge_metric = rouge_metric_calculator (model_output[0], correct_summary)\n",
        "    #print(rouge_metric)\n",
        "    one = rouge_metric[0]['rouge-1']\n",
        "    one_r = one['r']\n",
        "    #print(\"one_r\", one_r)\n",
        "    running_one_r += one_r\n",
        "    one_p = one['p']\n",
        "    running_one_p += one_p\n",
        "    one_f = one['f']\n",
        "    running_one_f += one_f\n",
        "    i = 1+i\n",
        "  average_rouge_running_one_r = running_one_r/i\n",
        "  average_rouge_running_one_p = running_one_p/i\n",
        "  average_rouge_running_one_f = running_one_f/i\n",
        "  print(\"Average Rouge-1 Recall\", average_rouge_running_one_r)\n",
        "  print(\"Average Rouge-1 Precision\", average_rouge_running_one_p)\n",
        "  print(\"Average Rouge-1 F1\", average_rouge_running_one_f)\n"
      ],
      "metadata": {
        "colab": {
          "base_uri": "https://localhost:8080/"
        },
        "id": "sDbFB4vUV9TD",
        "outputId": "10091d1c-cc38-4327-d74b-4b52014a40f7"
      },
      "execution_count": 17,
      "outputs": [
        {
          "output_type": "stream",
          "name": "stdout",
          "text": [
            "Looking in indexes: https://pypi.org/simple, https://us-python.pkg.dev/colab-wheels/public/simple/\n",
            "Collecting rouge\n",
            "  Downloading rouge-1.0.1-py3-none-any.whl (13 kB)\n",
            "Requirement already satisfied: six in /usr/local/lib/python3.8/dist-packages (from rouge) (1.15.0)\n",
            "Installing collected packages: rouge\n",
            "Successfully installed rouge-1.0.1\n"
          ]
        }
      ],
      "id": "sDbFB4vUV9TD"
    },
    {
      "cell_type": "markdown",
      "id": "8014b038-9c79-4ad8-bbcb-b2316a42b480",
      "metadata": {
        "id": "8014b038-9c79-4ad8-bbcb-b2316a42b480"
      },
      "source": [
        "## Base Line Model\n",
        "From the EDA we found that an effective baseline model would be taking the first two sentances of the article as the predicted summary"
      ]
    },
    {
      "cell_type": "code",
      "execution_count": 20,
      "id": "40f90877-6abc-4684-bfa9-ab66e7ae809f",
      "metadata": {
        "colab": {
          "base_uri": "https://localhost:8080/"
        },
        "id": "40f90877-6abc-4684-bfa9-ab66e7ae809f",
        "outputId": "a4f05464-9589-493b-c522-09bf25be6b57"
      },
      "outputs": [
        {
          "output_type": "stream",
          "name": "stdout",
          "text": [
            "Example baseline: ['Re-using old mobile phones is not just good for the environment, it has social benefits too.', 'Research has found that in some developing nations old mobile phones can help close the digital divide.']\n",
            "\n",
            "Example summary: [\"Mr Goodman said phone operators and consumers needed to do more to ensure that more of Britain's mobile mountain made it overseas.\", '\"This is the only way I can afford to have a phone,\" she said.', 'Older mobile phones are proving particularly useful in poorer nations where people want to use a mobile and keep in touch with friends and family but do not have the income to buy the most up to date model.', 'Re-using old mobile phones is not just good for the environment, it has social benefits too.', 'Reconditioned handsets have boosted take-up of mobiles as the report revealed that almost one-third of Romanian pre-pay mobile phone users were using reconditioned handsets.', '\"It\\'s quite common for people to have two or three phones just lying around,\" said Mr Goodman.', 'Research has found that in some developing nations old mobile phones can help close the digital divide.', 'Georgeta Minciu, a Romanian part-time cleaner, said: \"Normally a mobile phone would not be possible on my wages.', 'The Forum for the Future report took an in-depth look at Romania where reconditioned mobile phones were proving very popular.', 'The report reveals that approximately 15 million mobile phones go out of use every year in the UK.']\n"
          ]
        }
      ],
      "source": [
        "# Each base line prediction is the first two sentaces of the article\n",
        "def base_line_predict(articles_df):\n",
        "    predictions = []\n",
        "    article_sentances = get_sentences(articles_df[\"text\"])\n",
        "    for a in article_sentances:\n",
        "        predictions.append(a[1:3])\n",
        "    return predictions\n",
        "\n",
        "pred = base_line_predict(articles_df)\n",
        "print(f\"Example baseline: {pred[0]}\\n\")\n",
        "print(f\"Example summary: {summary_sentances[0]}\")"
      ]
    },
    {
      "cell_type": "code",
      "source": [
        "prediction_array = pred\n",
        "model_output_summary = summary_sentances\n",
        "calculate_metric(model_output_summary, pred)"
      ],
      "metadata": {
        "id": "NLu5jhtRFAw0",
        "colab": {
          "base_uri": "https://localhost:8080/"
        },
        "outputId": "142fd276-a1db-4cbb-83a0-4f9caca9cbf3"
      },
      "id": "NLu5jhtRFAw0",
      "execution_count": 21,
      "outputs": [
        {
          "output_type": "stream",
          "name": "stdout",
          "text": [
            "Average Rouge-1 Recall 0.16760817559295432\n",
            "Average Rouge-1 Precision 0.8384134137026963\n",
            "Average Rouge-1 F1 0.2726681834613348\n"
          ]
        }
      ]
    },
    {
      "cell_type": "markdown",
      "metadata": {
        "id": "f5308ace-90a9-4c4e-ad2d-964361b7752f"
      },
      "source": [
        "## Preprocessing For Extractive Text Summarization"
      ],
      "id": "f5308ace-90a9-4c4e-ad2d-964361b7752f"
    },
    {
      "cell_type": "code",
      "execution_count": 38,
      "metadata": {
        "id": "656b44e7-d5b6-4520-966d-48d9726cefc8"
      },
      "outputs": [],
      "source": [
        "from nltk.tokenize import word_tokenize\n",
        "def compare_sentances(sentance_a, sentance_b):\n",
        "    tok_a = word_tokenize(sentance_a)\n",
        "    tok_b = word_tokenize(sentance_b)\n",
        "    matches = 0\n",
        "    for tok in tok_a:\n",
        "        if tok in tok_b:\n",
        "            matches+=1\n",
        "    return float(matches)/len(tok_a)\n",
        "    \n",
        "# Generate Label\n",
        "def generate_labels(articles_df, summaries_df):\n",
        "    article_sentances = get_sentences(articles_df[\"text\"])\n",
        "    summary_sentances = get_sentences(summaries_df[\"text\"])\n",
        "    labels = []\n",
        "    count=0\n",
        "    total_sentances = 0\n",
        "    same = 0\n",
        "    for article,summary in zip(article_sentances,summary_sentances):\n",
        "        sentance_inclusion = []\n",
        "        for sentance_a in article:\n",
        "            in_summary = False\n",
        "            for sentance_b in summary:\n",
        "                if len(sentance_b)<3:\n",
        "                    continue\n",
        "                percent_match = compare_sentances(sentance_a, sentance_b)\n",
        "                if percent_match > 0.95:\n",
        "                    in_summary=True\n",
        "                    break\n",
        "            total_sentances+=1\n",
        "            if in_summary and len(sentance_a)>3:\n",
        "                sentance_inclusion.append(1)\n",
        "            else:\n",
        "                sentance_inclusion.append(0)\n",
        "        same+=np.sum(sentance_inclusion) == len(summary)\n",
        "        count+=1\n",
        "        print(f\"Percent Complete: {100*count/len(article_sentances):0.2f}%\",end=\"\\r\")\n",
        "        labels.append(sentance_inclusion)\n",
        "        \n",
        "    print()\n",
        "    print(\"Matching  labels \",same)\n",
        "    print(\"Total \",len(article_sentances))\n",
        "    print(f\"Total Sentances processed {total_sentances}\")\n",
        "    return labels"
      ],
      "id": "656b44e7-d5b6-4520-966d-48d9726cefc8"
    },
    {
      "cell_type": "markdown",
      "source": [
        "## Extractive Text Summarization (Non-Deep Learning)"
      ],
      "metadata": {
        "id": "zlyU4b9_ImXz"
      },
      "id": "zlyU4b9_ImXz"
    },
    {
      "cell_type": "code",
      "source": [
        "!pip install networkx==2.6.3\n",
        "import networkx as nx"
      ],
      "metadata": {
        "colab": {
          "base_uri": "https://localhost:8080/"
        },
        "id": "Upwk2dD7QP3O",
        "outputId": "bec494f5-5d93-4f88-9fc8-7cf8f4aab68b"
      },
      "id": "Upwk2dD7QP3O",
      "execution_count": 23,
      "outputs": [
        {
          "output_type": "stream",
          "name": "stdout",
          "text": [
            "Looking in indexes: https://pypi.org/simple, https://us-python.pkg.dev/colab-wheels/public/simple/\n",
            "Collecting networkx==2.6.3\n",
            "  Downloading networkx-2.6.3-py3-none-any.whl (1.9 MB)\n",
            "\u001b[K     |████████████████████████████████| 1.9 MB 8.1 MB/s \n",
            "\u001b[?25hInstalling collected packages: networkx\n",
            "  Attempting uninstall: networkx\n",
            "    Found existing installation: networkx 2.8.8\n",
            "    Uninstalling networkx-2.8.8:\n",
            "      Successfully uninstalled networkx-2.8.8\n",
            "Successfully installed networkx-2.6.3\n"
          ]
        }
      ]
    },
    {
      "cell_type": "code",
      "source": [
        "import shutil\n",
        "import nltk \n",
        "nltk.download('stopwords')\n",
        "\n",
        "from math import sqrt\n",
        "\n",
        "from nltk.corpus import stopwords\n",
        "from xml.dom.minidom import parse\n",
        "    \n",
        "def readDocument(contents):\n",
        "    sentences = list()\n",
        "\n",
        "    contents = contents.split('.')\n",
        "   \n",
        "    for sentence in contents:\n",
        "        # Refine sentence and replace sentences that begin with non-alpha characters\n",
        "        refinedSentence = sentence.replace(\"[^a-zA-Z]\", \" \").split(\" \")\n",
        "        # Add refined sentence to list of sentences\n",
        "        sentences.append(refinedSentence)\n",
        "    sentences.pop()\n",
        "\n",
        "    # Filter out sentences that contain only two or less words\n",
        "    sentences = list(filter(lambda x: len(x) > 2, sentences))\n",
        "\n",
        "    return sentences                \n",
        "\n",
        "# Calculate the cosine distance between two lists\n",
        "def cosSimilarity(l1, l2):\n",
        "    # Follows the formula for cosine distance 1 - (u.v / |u||v|)\n",
        "    return 1 - (np.dot(l1, l2) / (sqrt(np.dot(l1, l1)) * sqrt(np.dot(l2, l2))))\n",
        "\n",
        "\n",
        "def sentenceSimilarity(s1, s2, stopwords=None):\n",
        "    if stopwords is None: stopwords = list()\n",
        "\n",
        "    s1 = [t.lower() for t in s1]\n",
        "    s2 = [t.lower() for t in s2]\n",
        "\n",
        "    # Combined set of words from both sentences\n",
        "    words = list(set(s1 + s2))\n",
        "\n",
        "    wordsLength = len(words)\n",
        "\n",
        "    # Initialize vectors for both setences\n",
        "    l1 = [0] * wordsLength\n",
        "    l2 = [0] * wordsLength\n",
        "\n",
        "    # Create vector for the first sentence\n",
        "    for w in s1:\n",
        "        if w in stopwords: continue\n",
        "        l1[words.index(w)] += 1\n",
        "\n",
        "    # Create the vector for the second sentence\n",
        "    for w in s2:\n",
        "        if w in stopwords: continue\n",
        "        l2[words.index(w)] += 1\n",
        "\n",
        "    return 1 - cosSimilarity(l1, l2)\n",
        "\n",
        "\n",
        "def createSimilarityMatrix(sentences, stop_words):\n",
        "    # Create an empty similarity matrix\n",
        "    sentenceLength = len(sentences)\n",
        "    similarityMatrix = np.zeros((sentenceLength, sentenceLength))\n",
        "\n",
        "    for i in range(len(sentences)):\n",
        "        for j in range(len(sentences)):\n",
        "            if i == j:  continue # ignore if both are same sentences \n",
        "            similarityMatrix[i][j] = sentenceSimilarity(sentences[i], sentences[j], stop_words)\n",
        "\n",
        "    return similarityMatrix\n",
        "\n",
        "\n",
        "# Summarize the given document\n",
        "def summarize(text, num_sentences):\n",
        "    stopWords = stopwords.words('english')\n",
        "    topSentences = list()\n",
        "\n",
        "    sentences = readDocument(text)\n",
        "\n",
        "    # Create a similarity matrix in regards to all of the sentences in the document\n",
        "    similarityMartix = createSimilarityMatrix(sentences, stopWords)\n",
        "\n",
        "    # Rank sentences in similarity martix\n",
        "    similarityGraph = nx.from_numpy_array(similarityMartix)\n",
        "    scores = nx.pagerank(similarityGraph, max_iter=100)\n",
        "    \n",
        "    # Sort by sentance rank\n",
        "    rankedSentences = sorted(((scores[i], s) for i, s in enumerate(sentences)), reverse=True)\n",
        "\n",
        "    for i in range(min(num_sentences, len(rankedSentences))): topSentences.append(\" \".join(rankedSentences[i][1]))\n",
        "\n",
        "    ret = \"Text Summmary: \\n\", \". \".join(topSentences) + '.\\n\\n'\n",
        "    return ret\n",
        "\n",
        "\n",
        "# Get summaries of the documents in the dataset\n",
        "prediction_array = list()\n",
        "def getSummaries(n):\n",
        "  i = 0\n",
        "  for text in articles_df[\"text\"]:\n",
        "    prediction_array.append(summarize(text, 30))\n",
        "    # i += 1\n",
        "    # if i == n: break\n",
        "  return prediction_array\n"
      ],
      "metadata": {
        "id": "txC3dFWgbTSJ",
        "colab": {
          "base_uri": "https://localhost:8080/"
        },
        "outputId": "16b85654-406f-422e-a095-d5c99ef055ab"
      },
      "execution_count": 24,
      "outputs": [
        {
          "output_type": "stream",
          "name": "stderr",
          "text": [
            "[nltk_data] Downloading package stopwords to /root/nltk_data...\n",
            "[nltk_data]   Unzipping corpora/stopwords.zip.\n"
          ]
        }
      ],
      "id": "txC3dFWgbTSJ"
    },
    {
      "cell_type": "code",
      "source": [
        "getSummaries(1)"
      ],
      "metadata": {
        "id": "M18LxpmRhzIk"
      },
      "id": "M18LxpmRhzIk",
      "execution_count": null,
      "outputs": []
    },
    {
      "cell_type": "code",
      "source": [
        "calculate_metric(model_output_summary, prediction_array)"
      ],
      "metadata": {
        "colab": {
          "base_uri": "https://localhost:8080/"
        },
        "id": "UPJ7olANvtG-",
        "outputId": "74a61c79-e370-46c1-d0b5-70f8a9bb5948"
      },
      "execution_count": 26,
      "outputs": [
        {
          "output_type": "stream",
          "name": "stdout",
          "text": [
            "Average Rouge-1 Recall 8.175277959450621e-06\n",
            "Average Rouge-1 Precision 0.0004496402877697842\n",
            "Average Rouge-1 F1 1.60585813906273e-05\n"
          ]
        }
      ],
      "id": "UPJ7olANvtG-"
    },
    {
      "cell_type": "markdown",
      "metadata": {
        "id": "e458c96e-e09e-40d0-8d6e-d08d62a25568"
      },
      "source": [
        "## Extractive model (based on single sentence analysis)"
      ],
      "id": "e458c96e-e09e-40d0-8d6e-d08d62a25568"
    },
    {
      "cell_type": "code",
      "execution_count": 39,
      "metadata": {
        "id": "e923c207-7f42-428f-9c22-ba0560f016af",
        "outputId": "3fbc4766-cd83-436d-e177-9f13d02f19b2",
        "colab": {
          "base_uri": "https://localhost:8080/"
        }
      },
      "outputs": [
        {
          "output_type": "stream",
          "name": "stdout",
          "text": [
            "Percent Complete: 100.00%\n",
            "Matching  labels  1867\n",
            "Total  2224\n",
            "Total Sentances processed 46905\n"
          ]
        }
      ],
      "source": [
        "article_sentances = get_sentences(articles_df[\"text\"])\n",
        "y_labels = generate_labels(articles_df, summaries_df) "
      ],
      "id": "e923c207-7f42-428f-9c22-ba0560f016af"
    },
    {
      "cell_type": "code",
      "execution_count": 40,
      "metadata": {
        "id": "bfa64627-abcd-46d2-9b3e-fa1772ed3af1",
        "outputId": "3d085607-fca6-4170-91f8-62b97d6b9fea",
        "colab": {
          "base_uri": "https://localhost:8080/"
        }
      },
      "outputs": [
        {
          "output_type": "stream",
          "name": "stdout",
          "text": [
            "There are 46905 sentances in total\n",
            "Vecorized sentance sample: [  1 683 170 434   9  27  81 123   8   2]\n",
            "Corresponding label: 1\n"
          ]
        }
      ],
      "source": [
        "import tensorflow as tf\n",
        "#from tensorflow_models import nlp\n",
        "from tensorflow.keras import layers\n",
        "from tensorflow.keras import losses\n",
        "from keras.utils import pad_sequences\n",
        "import string \n",
        "\n",
        "def ex_standarize(input_txt):\n",
        "  lowercase_txt = tf.strings.lower(input_txt)\n",
        "  return tf.strings.regex_replace(lowercase_txt,'[%s]' % re.escape(string.punctuation),'')\n",
        "\n",
        "max_features = 1000\n",
        "sequence_length = 250\n",
        "\n",
        "vectorize_layer = layers.TextVectorization(\n",
        "    standardize=ex_standarize,\n",
        "    max_tokens=max_features,\n",
        "    output_mode='int',\n",
        "    output_sequence_length=sequence_length)\n",
        "\n",
        "\n",
        "vectorize_layer.adapt(articles_df[\"text\"])\n",
        "\n",
        "all_sentances = []\n",
        "all_labels = []\n",
        "\n",
        "for i in range(len(article_sentances)):\n",
        "    for j in range(len(article_sentances[i])):\n",
        "        all_sentances.append(article_sentances[i][j])\n",
        "        all_labels.append(y_labels[i][j])\n",
        "\n",
        "x_train = vectorize_layer(all_sentances)\n",
        "y_train = np.asarray(all_labels)\n",
        "print(f\"There are {len(x_train)} sentances in total\")\n",
        "print(f\"Vecorized sentance sample: {x_train[1][:10]}\")\n",
        "print(f\"Corresponding label: {y_train[1]}\")"
      ],
      "id": "bfa64627-abcd-46d2-9b3e-fa1772ed3af1"
    },
    {
      "cell_type": "code",
      "execution_count": 41,
      "metadata": {
        "id": "3fa17cbe-e10f-4afb-854c-b2189bdfc3b7",
        "outputId": "187405be-cb3d-429c-ee7a-e1560156f57f",
        "colab": {
          "base_uri": "https://localhost:8080/"
        }
      },
      "outputs": [
        {
          "output_type": "stream",
          "name": "stdout",
          "text": [
            "Model: \"sequential_1\"\n",
            "_________________________________________________________________\n",
            " Layer (type)                Output Shape              Param #   \n",
            "=================================================================\n",
            " embedding_1 (Embedding)     (None, None, 32)          32032     \n",
            "                                                                 \n",
            " dropout_2 (Dropout)         (None, None, 32)          0         \n",
            "                                                                 \n",
            " conv1d_2 (Conv1D)           (None, None, 128)         28800     \n",
            "                                                                 \n",
            " conv1d_3 (Conv1D)           (None, None, 128)         114816    \n",
            "                                                                 \n",
            " global_average_pooling1d_1   (None, 128)              0         \n",
            " (GlobalAveragePooling1D)                                        \n",
            "                                                                 \n",
            " dense_2 (Dense)             (None, 128)               16512     \n",
            "                                                                 \n",
            " dropout_3 (Dropout)         (None, 128)               0         \n",
            "                                                                 \n",
            " dense_3 (Dense)             (None, 1)                 129       \n",
            "                                                                 \n",
            "=================================================================\n",
            "Total params: 192,289\n",
            "Trainable params: 192,289\n",
            "Non-trainable params: 0\n",
            "_________________________________________________________________\n"
          ]
        }
      ],
      "source": [
        "embedding_dim = 32\n",
        "model = tf.keras.Sequential([\n",
        "  layers.Embedding(max_features + 1, embedding_dim),\n",
        "  layers.Dropout(0.2),\n",
        "  layers.Conv1D(128, 7, padding=\"valid\", activation=\"relu\", strides=2),\n",
        "  layers.Conv1D(128, 7, padding=\"valid\", activation=\"relu\", strides=2),\n",
        "  layers.GlobalAveragePooling1D(),\n",
        "  layers.Dense(128, activation=\"relu\"),\n",
        "  layers.Dropout(0.2),\n",
        "  layers.Dense(1)])\n",
        "\n",
        "model.summary()"
      ],
      "id": "3fa17cbe-e10f-4afb-854c-b2189bdfc3b7"
    },
    {
      "cell_type": "code",
      "execution_count": 42,
      "metadata": {
        "id": "10cbf60e-f068-4152-9cf2-b4dde68e06ec"
      },
      "outputs": [],
      "source": [
        "model.compile(loss=losses.BinaryCrossentropy(from_logits=True),\n",
        "              optimizer='adam',\n",
        "              metrics=tf.metrics.BinaryAccuracy(threshold=0.0))"
      ],
      "id": "10cbf60e-f068-4152-9cf2-b4dde68e06ec"
    },
    {
      "cell_type": "code",
      "execution_count": 44,
      "metadata": {
        "id": "2a95166e-e66b-4e6d-9219-a3ea49a1b44b",
        "outputId": "a54c08fd-fcb3-41f3-9338-4bda820b567c",
        "colab": {
          "base_uri": "https://localhost:8080/"
        }
      },
      "outputs": [
        {
          "output_type": "stream",
          "name": "stdout",
          "text": [
            "(46905, 250)\n",
            "Epoch 1/20\n",
            "1466/1466 [==============================] - 10s 7ms/step - loss: 0.6078 - binary_accuracy: 0.6690 - val_loss: 0.5906 - val_binary_accuracy: 0.6891\n",
            "Epoch 2/20\n",
            "1466/1466 [==============================] - 8s 6ms/step - loss: 0.5899 - binary_accuracy: 0.6840 - val_loss: 0.5724 - val_binary_accuracy: 0.6966\n",
            "Epoch 3/20\n",
            "1466/1466 [==============================] - 9s 6ms/step - loss: 0.5756 - binary_accuracy: 0.6954 - val_loss: 0.5560 - val_binary_accuracy: 0.7115\n",
            "Epoch 4/20\n",
            "1466/1466 [==============================] - 8s 6ms/step - loss: 0.5607 - binary_accuracy: 0.7087 - val_loss: 0.5343 - val_binary_accuracy: 0.7279\n",
            "Epoch 5/20\n",
            "1466/1466 [==============================] - 8s 6ms/step - loss: 0.5460 - binary_accuracy: 0.7174 - val_loss: 0.5183 - val_binary_accuracy: 0.7350\n",
            "Epoch 6/20\n",
            "1466/1466 [==============================] - 8s 6ms/step - loss: 0.5299 - binary_accuracy: 0.7281 - val_loss: 0.4901 - val_binary_accuracy: 0.7527\n",
            "Epoch 7/20\n",
            "1466/1466 [==============================] - 9s 6ms/step - loss: 0.5130 - binary_accuracy: 0.7407 - val_loss: 0.4742 - val_binary_accuracy: 0.7729\n",
            "Epoch 8/20\n",
            "1466/1466 [==============================] - 8s 6ms/step - loss: 0.4978 - binary_accuracy: 0.7502 - val_loss: 0.4517 - val_binary_accuracy: 0.7832\n",
            "Epoch 9/20\n",
            "1466/1466 [==============================] - 8s 6ms/step - loss: 0.4828 - binary_accuracy: 0.7606 - val_loss: 0.4345 - val_binary_accuracy: 0.8009\n",
            "Epoch 10/20\n",
            "1466/1466 [==============================] - 9s 6ms/step - loss: 0.4679 - binary_accuracy: 0.7703 - val_loss: 0.4102 - val_binary_accuracy: 0.8175\n",
            "Epoch 11/20\n",
            "1466/1466 [==============================] - 8s 6ms/step - loss: 0.4515 - binary_accuracy: 0.7813 - val_loss: 0.3867 - val_binary_accuracy: 0.8301\n",
            "Epoch 12/20\n",
            "1466/1466 [==============================] - 8s 5ms/step - loss: 0.4385 - binary_accuracy: 0.7902 - val_loss: 0.3611 - val_binary_accuracy: 0.8426\n",
            "Epoch 13/20\n",
            "1466/1466 [==============================] - 8s 6ms/step - loss: 0.4216 - binary_accuracy: 0.7996 - val_loss: 0.3504 - val_binary_accuracy: 0.8578\n",
            "Epoch 14/20\n",
            "1466/1466 [==============================] - 8s 6ms/step - loss: 0.4086 - binary_accuracy: 0.8073 - val_loss: 0.3174 - val_binary_accuracy: 0.8687\n",
            "Epoch 15/20\n",
            "1466/1466 [==============================] - 8s 6ms/step - loss: 0.3969 - binary_accuracy: 0.8159 - val_loss: 0.3105 - val_binary_accuracy: 0.8765\n",
            "Epoch 16/20\n",
            "1466/1466 [==============================] - 8s 6ms/step - loss: 0.3807 - binary_accuracy: 0.8249 - val_loss: 0.2978 - val_binary_accuracy: 0.8838\n",
            "Epoch 17/20\n",
            "1466/1466 [==============================] - 9s 6ms/step - loss: 0.3687 - binary_accuracy: 0.8322 - val_loss: 0.2716 - val_binary_accuracy: 0.8893\n",
            "Epoch 18/20\n",
            "1466/1466 [==============================] - 8s 6ms/step - loss: 0.3565 - binary_accuracy: 0.8383 - val_loss: 0.2578 - val_binary_accuracy: 0.9017\n",
            "Epoch 19/20\n",
            "1466/1466 [==============================] - 9s 6ms/step - loss: 0.3450 - binary_accuracy: 0.8452 - val_loss: 0.2414 - val_binary_accuracy: 0.9136\n",
            "Epoch 20/20\n",
            "1466/1466 [==============================] - 8s 6ms/step - loss: 0.3337 - binary_accuracy: 0.8504 - val_loss: 0.2312 - val_binary_accuracy: 0.9166\n"
          ]
        }
      ],
      "source": [
        "from sklearn.model_selection import train_test_split\n",
        "# 80 10 10 split for training validation test\n",
        "X_train, X_test, Y_train, Y_test = train_test_split(x_train.numpy(), y_train, test_size=0.2,shuffle=True,random_state=41)\n",
        "X_valid, X_test, Y_valid, Y_test = train_test_split(X_test, Y_test, test_size=0.5, random_state=41)\n",
        "\n",
        "epochs = 20\n",
        "print(x_train.shape)\n",
        "history = model.fit(x_train,y_train, validation_data=(X_valid, Y_valid),epochs=epochs,batch_size=32)"
      ],
      "id": "2a95166e-e66b-4e6d-9219-a3ea49a1b44b"
    },
    {
      "cell_type": "code",
      "execution_count": 45,
      "metadata": {
        "id": "538ca5bb-837f-4248-b9d7-1a475695723d",
        "outputId": "ce55b00f-e4eb-493e-e226-f1d20fe8444b",
        "colab": {
          "base_uri": "https://localhost:8080/"
        }
      },
      "outputs": [
        {
          "output_type": "stream",
          "name": "stdout",
          "text": [
            "{'loss': [0.6078131198883057, 0.5898534655570984, 0.5755581259727478, 0.5606561303138733, 0.5459871292114258, 0.5299230813980103, 0.5129600763320923, 0.4977688491344452, 0.4828023314476013, 0.4678848087787628, 0.45153361558914185, 0.4385465383529663, 0.42157918214797974, 0.4086171090602875, 0.39687371253967285, 0.38065117597579956, 0.36871689558029175, 0.3565117418766022, 0.3450379967689514, 0.33371561765670776], 'binary_accuracy': [0.6689904928207397, 0.6839569211006165, 0.6953842639923096, 0.7087303996086121, 0.7174075245857239, 0.7281313538551331, 0.7406672835350037, 0.7501972317695618, 0.7606225609779358, 0.7702803611755371, 0.7813026309013367, 0.7901502847671509, 0.7996162176132202, 0.8072913289070129, 0.8159044981002808, 0.8248587846755981, 0.8322140574455261, 0.8382901549339294, 0.8451977372169495, 0.8504424095153809], 'val_loss': [0.5906168222427368, 0.5724263787269592, 0.5560370087623596, 0.5343319773674011, 0.5183346271514893, 0.4900543689727783, 0.47419485449790955, 0.4516865909099579, 0.4344717562198639, 0.41016292572021484, 0.3867209851741791, 0.3610713481903076, 0.35037750005722046, 0.31744906306266785, 0.31050804257392883, 0.29779502749443054, 0.27160748839378357, 0.25783225893974304, 0.2414395958185196, 0.23117506504058838], 'val_binary_accuracy': [0.6891257762908936, 0.6965884566307068, 0.711513876914978, 0.727931797504425, 0.7349680066108704, 0.7526652216911316, 0.772921085357666, 0.7831556797027588, 0.80085289478302, 0.8174840211868286, 0.8300639390945435, 0.8426439166069031, 0.8577825427055359, 0.8686566948890686, 0.8765458464622498, 0.8837953209877014, 0.889339029788971, 0.9017057418823242, 0.9136460423469543, 0.9166311025619507]}\n"
          ]
        }
      ],
      "source": [
        "print(history.history)"
      ],
      "id": "538ca5bb-837f-4248-b9d7-1a475695723d"
    },
    {
      "cell_type": "code",
      "execution_count": 46,
      "metadata": {
        "id": "254ec531-963d-4510-9163-a5683fa44569",
        "outputId": "05cb4632-8529-4683-d19c-224e857fc8ad",
        "colab": {
          "base_uri": "https://localhost:8080/",
          "height": 295
        }
      },
      "outputs": [
        {
          "output_type": "display_data",
          "data": {
            "text/plain": [
              "<Figure size 432x288 with 1 Axes>"
            ],
            "image/png": "[encoded data removed]"
          },
          "metadata": {
            "needs_background": "light"
          }
        }
      ],
      "source": [
        "plt.plot(history.history['loss'])\n",
        "plt.plot(history.history['val_loss'])\n",
        "plt.title('model loss')\n",
        "plt.ylabel('loss')\n",
        "plt.xlabel('epoch')\n",
        "plt.legend(['val', 'train'], loc='upper left')\n",
        "plt.show()"
      ],
      "id": "254ec531-963d-4510-9163-a5683fa44569"
    },
    {
      "cell_type": "code",
      "execution_count": 47,
      "metadata": {
        "id": "a2fff698-611f-46b1-b4db-571360e7f975",
        "outputId": "4c402219-9abc-4227-88b9-e0203ed7f41c",
        "colab": {
          "base_uri": "https://localhost:8080/",
          "height": 295
        }
      },
      "outputs": [
        {
          "output_type": "display_data",
          "data": {
            "text/plain": [
              "<Figure size 432x288 with 1 Axes>"
            ],
            "image/png": "[encoded data removed]"
          },
          "metadata": {
            "needs_background": "light"
          }
        }
      ],
      "source": [
        "plt.plot(history.history['binary_accuracy'])\n",
        "plt.plot(history.history['val_binary_accuracy'])\n",
        "plt.title('model accuracy')\n",
        "plt.ylabel('accuracy')\n",
        "plt.xlabel('epoch')\n",
        "plt.legend(['val','train',], loc='upper left')\n",
        "plt.show()"
      ],
      "id": "a2fff698-611f-46b1-b4db-571360e7f975"
    },
    {
      "cell_type": "code",
      "execution_count": 48,
      "metadata": {
        "id": "d0558e5e-0fb5-48fa-bbb9-bfbe05e27885",
        "outputId": "0be64c65-97eb-496a-fb31-d2f73164a8be",
        "colab": {
          "base_uri": "https://localhost:8080/"
        }
      },
      "outputs": [
        {
          "output_type": "stream",
          "name": "stdout",
          "text": [
            "Percentage Complete: 99.96%\n"
          ]
        }
      ],
      "source": [
        "# reconstruct summaries\n",
        "# All predicted summaries is a list for each article where each entry is a list of summary sentances\n",
        "all_predicted_summaries = []\n",
        "for i in range(len(article_sentances)):\n",
        "    model_predictions = model.predict(vectorize_layer(article_sentances[i]),verbose = 0)\n",
        "    model_predictions = np.where(model_predictions>0.5,1,0)\n",
        "    summary = []\n",
        "    for j in range(len(article_sentances[i])):\n",
        "        if model_predictions[j]==1:\n",
        "            summary.append(article_sentances[i][j])\n",
        "    all_predicted_summaries.append(summary)\n",
        "    print(f\"Percentage Complete: {100*i/len(article_sentances):0.2f}%\",end=\"\\r\")\n",
        "print()"
      ],
      "id": "d0558e5e-0fb5-48fa-bbb9-bfbe05e27885"
    },
    {
      "cell_type": "code",
      "execution_count": 49,
      "metadata": {
        "id": "576d49be-0958-4199-a7fe-59bdf0b1a41d",
        "outputId": "574ec87a-f35d-4032-a5f7-be9a6ba4d83d",
        "colab": {
          "base_uri": "https://localhost:8080/"
        }
      },
      "outputs": [
        {
          "output_type": "stream",
          "name": "stdout",
          "text": [
            "['The mobile gaming industry is set to explode in 2005 with a number of high-profile devices offering a range of gaming and other features such as movie and music playback.', 'Market leader Nintendo, however, is releasing a handheld console that it says will revolutionise the way games are played.', 'Both screens are crisp and clear while the bottom of the two is touch sensitive.', 'Nintendo has given developers free rein to utilise the dual screens and ability to control the action by simply touching the screen.', \"The Japanese gaming giant hopes the DS will maintain the firm's pre-eminence in an increasingly-competitive mobile gaming market.\", 'Nintendo first launched its GameBoy console in 1989 and has dominated the market ever since.', 'With its two screens, wireless connectivity and backwards compatibility with the GameBoy Advance, the DS certainly has a number of unique selling points.', 'With more than two million pre-orders for the device in Japan, Nintendo is confident it will keep its number one spot.', 'Super Mario 64 DS is a faithful re-creation of the Nintendo 64 classic with a host of new mini-games and new levels.', 'The game looks stunning on the portable machine and the sound too is impressive for such a small machine.', 'Hardened gamers will have to learn to adapt to a new way of playing while it could prove to be an accessible way in to gaming for novices, Ultimately the success or failure of the device lies in the hands of developers.', \"If they manage to create titles which use the Nintendo DS's key features then a whole new market of gamers could open up.\"]\n",
            "The mobile gaming industry is set to explode in 2005 with a number of high-profile devices offering a range of gaming and other features such as movie and music playback.Market leader Nintendo, however, is releasing a handheld console that it says will revolutionise the way games are played.Both screens are crisp and clear while the bottom of the two is touch sensitive.Nintendo has given developers free rein to utilise the dual screens and ability to control the action by simply touching the screen.The Japanese gaming giant hopes the DS will maintain the firm's pre-eminence in an increasingly-competitive mobile gaming market.Nintendo first launched its GameBoy console in 1989 and has dominated the market ever since.With its two screens, wireless connectivity and backwards compatibility with the GameBoy Advance, the DS certainly has a number of unique selling points.With more than two million pre-orders for the device in Japan, Nintendo is confident it will keep its number one spot.Super Mario 64 DS is a faithful re-creation of the Nintendo 64 classic with a host of new mini-games and new levels.The game looks stunning on the portable machine and the sound too is impressive for such a small machine.Hardened gamers will have to learn to adapt to a new way of playing while it could prove to be an accessible way in to gaming for novices, Ultimately the success or failure of the device lies in the hands of developers.If they manage to create titles which use the Nintendo DS's key features then a whole new market of gamers could open up.\n",
            "With more than two million pre-orders for the device in Japan, Nintendo is confident it will keep its number one spot.Market leader Nintendo, however, is releasing a handheld console that it says will revolutionise the way games are played.Nintendo first launched its GameBoy console in 1989 and has dominated the market ever since.Nintendo has given developers free rein to utilise the dual screens and ability to control the action by simply touching the screen.If they manage to create titles which use the Nintendo DS's key features then a whole new market of gamers could open up.With its two screens, wireless connectivity and backwards compatibility with the GameBoy Advance, the DS certainly has a number of unique selling points.Hardened gamers will have to learn to adapt to a new way of playing while it could prove to be an accessible way in to gaming for novices, Ultimately the success or failure of the device lies in the hands of developers.Super Mario 64 DS is a faithful re-creation of the Nintendo 64 classic with a host of new mini-games and new levels.The mobile gaming industry is set to explode in 2005 with a number of high-profile devices offering a range of gaming and other features such as movie and music playback.Both screens are crisp and clear while the bottom of the two is touch sensitive.The Japanese gaming giant hopes the DS will maintain the firm's pre-eminence in an increasingly-competitive mobile gaming market.The game looks stunning on the portable machine and the sound too is impressive for such a small machine.\n"
          ]
        }
      ],
      "source": [
        "print(all_predicted_summaries[400])\n",
        "out = \"\"\n",
        "for s in all_predicted_summaries[400]:\n",
        "    out+=s\n",
        "print(out)\n",
        "print(summaries_df[\"text\"][400])"
      ],
      "id": "576d49be-0958-4199-a7fe-59bdf0b1a41d"
    },
    {
      "cell_type": "code",
      "source": [
        "prediction_array = [[''.join(map(str, sub_list)) for sub_list in all_predicted_summaries]]\n",
        "calculate_metric(model_output_summary, prediction_array)"
      ],
      "metadata": {
        "colab": {
          "base_uri": "https://localhost:8080/"
        },
        "outputId": "b7c7b674-3f4e-4616-a812-188a98604b37",
        "id": "bPOZy3ITFk10"
      },
      "execution_count": 65,
      "outputs": [
        {
          "output_type": "stream",
          "name": "stdout",
          "text": [
            "Average Rouge-1 Recall 0.9015151515151515\n",
            "Average Rouge-1 Precision 0.9153846153846154\n",
            "Average Rouge-1 F1 0.9083969415651768\n"
          ]
        }
      ],
      "id": "bPOZy3ITFk10"
    },
    {
      "cell_type": "markdown",
      "id": "3893ece5-30c6-40c6-835c-64c607138cdb",
      "metadata": {
        "id": "3893ece5-30c6-40c6-835c-64c607138cdb"
      },
      "source": [
        "## Preprocessing For Abstractive Text Summarization"
      ]
    },
    {
      "cell_type": "code",
      "execution_count": 67,
      "id": "f6ebf1cc-21a3-41d7-908c-4e064df638f2",
      "metadata": {
        "id": "f6ebf1cc-21a3-41d7-908c-4e064df638f2",
        "colab": {
          "base_uri": "https://localhost:8080/",
          "height": 379,
          "referenced_widgets": [
            "7ba062d4106d4a2da3634df4ca93a9f1",
            "9c01ca84a7954a89a298b6ed4731739a",
            "bcebfc979aa64b82ab0fecadef7c29fc",
            "17c085f067764d7b9089cda2ba411c1b",
            "55b1632dac534a008cc83b15f33b2672",
            "9b39c3d5a61d4e17a750b1231eec4745",
            "ed4d199a204246c28d9c845d12059f29",
            "00af9665b0f04834835d8f834a955120",
            "a275f3231c6946b086b5049431abdfc1",
            "0f8e7cb83c73441bbc57bc0eed2a313f",
            "f99dcd8d9556490ebb506a1d302054a5",
            "87e112c8fecd4a2f98fdbadc6e05f487",
            "1a7bea13457e46ca94cce22b7b3aaccf",
            "7efa992cc06b4fbbb6132c464c185b5a",
            "08bc7133488e4535a9d4f38d9c8a8be8",
            "f3beeea2c7ee4c22a5e6b89fe107f8f3",
            "76fbcb098e79485099dd7afee9594404",
            "c0dee288cdc74db9a46ad1a019f2cbe2",
            "926eb1232dc74d5facec3601a4283903",
            "a03898ecdb5c461dac6f24acb4451297",
            "5fde522f94b5455b9bdb597bfc2abb28",
            "24aa12e1b8eb4424af6757cd3fceb4fb",
            "28ad4e0ec2674079966a15593c5167ac",
            "df2bf736b9a04586a8249cf3bd28d35b",
            "9b6d858af95140069fb10de958c3cd4a",
            "053544a2b88c4b0681bdaea34958336d",
            "eff992e87fb442c4bef871203d726f31",
            "5d16bf13958a4df0bd0d2ff8298498d8",
            "29a38965f89a44299b3b3aba28e51366",
            "327efcd01ead4427b0b2d241c585b09e",
            "b881873dfe9f40adb550c0d3f1cb3ccf",
            "3939caf6586840eeb403c9d39d508e9b",
            "b7c7eff66ca84dfc8ab898b8ef71e9e4",
            "e8fe6577b4af4b3e8550c43e6b3ac1e6",
            "6a56c84dd9cb4ef88ba33680e73b1f16",
            "0abd01ce13b04a2fa8a7600e6042a556",
            "d9a6686659c845daa85de571def43e3d",
            "94689fc4a36542e198cf81bc99bf2cd6",
            "2b68e8a22155441b90cb2b3dbb895669",
            "80bcf8a042064a0492de3aec716fd14f",
            "70985e3142c74aeaab098a5b0d8522aa",
            "1b114b422f974d518d1a227834a73481",
            "6c654c06c0a141bc97eef15e368a4e07",
            "9ae4cfaa3c5a4721b9e619420734f1c2"
          ]
        },
        "outputId": "8a47d114-89c9-4983-9c98-bcc3bcc5c47d"
      },
      "outputs": [
        {
          "output_type": "stream",
          "name": "stderr",
          "text": [
            "/usr/local/lib/python3.8/dist-packages/transformers/models/auto/modeling_tf_auto.py:608: FutureWarning: The class `TFAutoModelWithLMHead` is deprecated and will be removed in a future version. Please use `TFAutoModelForCausalLM` for causal language models, `TFAutoModelForMaskedLM` for masked language models and `TFAutoModelForSeq2SeqLM` for encoder-decoder models.\n",
            "  warnings.warn(\n"
          ]
        },
        {
          "output_type": "display_data",
          "data": {
            "text/plain": [
              "Downloading:   0%|          | 0.00/1.20k [00:00<?, ?B/s]"
            ],
            "application/vnd.jupyter.widget-view+json": {
              "version_major": 2,
              "version_minor": 0,
              "model_id": "7ba062d4106d4a2da3634df4ca93a9f1"
            }
          },
          "metadata": {}
        },
        {
          "output_type": "display_data",
          "data": {
            "text/plain": [
              "Downloading:   0%|          | 0.00/242M [00:00<?, ?B/s]"
            ],
            "application/vnd.jupyter.widget-view+json": {
              "version_major": 2,
              "version_minor": 0,
              "model_id": "87e112c8fecd4a2f98fdbadc6e05f487"
            }
          },
          "metadata": {}
        },
        {
          "output_type": "stream",
          "name": "stderr",
          "text": [
            "All model checkpoint layers were used when initializing TFT5ForConditionalGeneration.\n",
            "\n",
            "All the layers of TFT5ForConditionalGeneration were initialized from the model checkpoint at t5-small.\n",
            "If your task is similar to the task the model of the checkpoint was trained on, you can already use TFT5ForConditionalGeneration for predictions without further training.\n"
          ]
        },
        {
          "output_type": "display_data",
          "data": {
            "text/plain": [
              "Downloading:   0%|          | 0.00/792k [00:00<?, ?B/s]"
            ],
            "application/vnd.jupyter.widget-view+json": {
              "version_major": 2,
              "version_minor": 0,
              "model_id": "28ad4e0ec2674079966a15593c5167ac"
            }
          },
          "metadata": {}
        },
        {
          "output_type": "display_data",
          "data": {
            "text/plain": [
              "Downloading:   0%|          | 0.00/1.39M [00:00<?, ?B/s]"
            ],
            "application/vnd.jupyter.widget-view+json": {
              "version_major": 2,
              "version_minor": 0,
              "model_id": "e8fe6577b4af4b3e8550c43e6b3ac1e6"
            }
          },
          "metadata": {}
        },
        {
          "output_type": "stream",
          "name": "stderr",
          "text": [
            "/usr/local/lib/python3.8/dist-packages/transformers/models/t5/tokenization_t5_fast.py:155: FutureWarning: This tokenizer was incorrectly instantiated with a model max length of 512 which will be corrected in Transformers v5.\n",
            "For now, this behavior is kept to avoid breaking backwards compatibility when padding/encoding with `truncation is True`.\n",
            "- Be aware that you SHOULD NOT rely on t5-small automatically truncating your input to 512 when padding/encoding.\n",
            "- If you want to encode/pad to sequences longer than 512 you can either instantiate this tokenizer with `model_max_length` or pass `max_length` when encoding/padding.\n",
            "- To avoid this warning, please instantiate this tokenizer with `model_max_length` set to your preferred value.\n",
            "  warnings.warn(\n"
          ]
        }
      ],
      "source": [
        "# Import tokenizer from pretrained model\n",
        "from transformers import AutoTokenizer, TFAutoModelWithLMHead, AutoModelForSeq2SeqLM\n",
        "\n",
        "model_name = \"t5-small\"\n",
        "\n",
        "model = TFAutoModelWithLMHead.from_pretrained(model_name)\n",
        "tokenizer = AutoTokenizer.from_pretrained(model_name)"
      ]
    },
    {
      "cell_type": "code",
      "source": [
        "def abstract_tokenize(tokenizer, input_data):\n",
        "  inputs = []\n",
        "\n",
        "  for i in range(input_data.shape[0]):\n",
        "    inputs.append(tokenizer.encode(\"summarize: \" + input_data[\"text\"][i], # required prefix\n",
        "                              return_tensors = \"tf\",\n",
        "                              max_length = 512, # required max_length\n",
        "                              truncation = True))\n",
        "\n",
        "  # readout\n",
        "  print(\"Tokenized\", len(inputs), \"entries\")\n",
        "  print()\n",
        "  print(\"Sample tokenized input:\")\n",
        "  print(inputs[0])\n",
        "\n",
        "  return inputs"
      ],
      "metadata": {
        "id": "DTG-NbrBnL1l"
      },
      "id": "DTG-NbrBnL1l",
      "execution_count": 68,
      "outputs": []
    },
    {
      "cell_type": "code",
      "source": [
        "tokenized_array = abstract_tokenize(tokenizer, articles_df)"
      ],
      "metadata": {
        "id": "Z0W-3t3kuS4_",
        "colab": {
          "base_uri": "https://localhost:8080/"
        },
        "outputId": "721a459e-1356-4152-c768-319214bda5f0"
      },
      "id": "Z0W-3t3kuS4_",
      "execution_count": 69,
      "outputs": [
        {
          "output_type": "stream",
          "name": "stdout",
          "text": [
            "Tokenized 2224 entries\n",
            "\n",
            "Sample tokenized input:\n",
            "tf.Tensor(\n",
            "[[21603    10 14490   126  2503    21   625  7219   419    18  9381   625\n",
            "   1156  7219    19    59   131   207    21     8  1164     6    34    65\n",
            "    569  1393   396     5  2200    65   435    24    16   128  2421  9352\n",
            "    625  1156  7219    54   199   885     8  1125 14514     5    37  5841\n",
            "     21     8  9130   585   435    24     8   731   583    13   175 16402\n",
            "  26331     7   598    79    54    43     3     9   182  1934   511   280\n",
            "     16  2714    49  9352     5   299     8  5841   435    24    72   906\n",
            "     12    36   612    12  2868   625  7219  1066   145   752   135     3\n",
            "   2719    16 24929  1471     5    37   934     3 15503    24  3241   627\n",
            "    770  1156  7219   281    91    13   169   334   215    16     8  1270\n",
            "      5  1129     8   627   770    24    33 15959  3138    21   126    49\n",
            "   2250   284   215     6   163 12238   129  3666    12  1156   951  5654\n",
            "     21 11667    42     3    60    18  1074     5    37  5665  1710  3294\n",
            "     13    73    60 10136    26     6     3 29611  7219    65   230  3495\n",
            "   2777   770 26331     7     6     8  7072    13     3 23938 19637    13\n",
            "   2670     6 10014  2549  1804   348     6   934  2291    11     3     9\n",
            "   2991 17013    44     8  5841    21     8  9130     5    96   196    17\n",
            "     31     7   882  1017    21   151    12    43   192    42   386  7219\n",
            "    131 12267   300   976   243  1363  1804   348     5  1404    13   175\n",
            "   2749  7219   228   414    95    16 24929  1471     3 26177     8  6149\n",
            "  12068  1397    79    33   263    13   139     8  6281   296     6   243\n",
            "   1363  1804   348     5  5186   394     6     3    88   243     6    12\n",
            "    609     8   951   223    12    46  7221   113    54  1299    34 10055\n",
            "    213    34    54   777     3     9   511  6841    13   280     5    96\n",
            "   1326    31   162  1943     8  3262  5464    21   609    53     3     9\n",
            "    951   223   976   243  1363  1804   348     6    96  2780   132    31\n",
            "      7     3     9  1101   569  5464   396   535  3525    49  1156  7219\n",
            "     33     3 18949  1989  1934    16  2714    49  9352   213   151   241\n",
            "     12   169     3     9  1156    11   453    16  1586    28   803    11\n",
            "    384    68   103    59    43     8  2055    12   805     8   167    95\n",
            "     12   833   825     5    37  5841    21     8  9130   934   808    46\n",
            "     16    18 10437   320    44  3871   213     3    60 19657  1156  7219\n",
            "    130     3 18949   182  1012     5    96   196    17    31     7    46\n",
            "   1477   684   250    34    65     3     9   310 17081  3599   689  1229\n",
            "    976   243  1363  1804   348     6    96   232   132    31     7     3\n",
            "      9   490  3667    21   151    12   129  1156  7219   535   299     8\n",
            "   4352   731 15488    16  3871     6    84    19    80    13     8  2714\n",
            "    222  1440    16  1740     6  1243   360   151    54  5293     3     9\n",
            "  18654   126   951     5    96   634 29870    13     8 26331     7    19\n",
            "      3     9   490 12515    12   652    80   976     3    88   243     5\n",
            "    419 19657 26331     7    43     3 30695   240    18   413    13  1156\n",
            "      7    38     8   934  5111    24   966    80    18 14965    13  3871\n",
            "     29   554    18  8832  1156   951  1105     1]], shape=(1, 512), dtype=int32)\n"
          ]
        }
      ]
    },
    {
      "cell_type": "markdown",
      "source": [
        "## Abstractive Text Summarization (with T5-Small)"
      ],
      "metadata": {
        "id": "TA3ERLAirdtR"
      },
      "id": "TA3ERLAirdtR"
    },
    {
      "cell_type": "code",
      "source": [
        "def abstract_summarize(model, tokenized_input):\n",
        "  outputs = []\n",
        "\n",
        "  for i in range(len(tokenized_input)):\n",
        "    outputs.append(model.generate(tokenized_input[i],\n",
        "                            max_length=200,\n",
        "                            min_length=30,\n",
        "                            length_penalty=2.0,\n",
        "                            num_beams=2,\n",
        "                            early_stopping=True,\n",
        "                            no_repeat_ngram_size=3))\n",
        "\n",
        "  # readout\n",
        "  print(\"Summarized\", len(outputs), \"entries\")\n",
        "\n",
        "  return outputs"
      ],
      "metadata": {
        "id": "r6_1SqzGrUDF"
      },
      "id": "r6_1SqzGrUDF",
      "execution_count": 70,
      "outputs": []
    },
    {
      "cell_type": "code",
      "source": [
        "def abstract_prediction(tokenizer, summarized_input):\n",
        "  prediction = []\n",
        "\n",
        "  for i in range(len(summarized_input)):\n",
        "    prediction.append([tokenizer.decode(token,\n",
        "                                  skip_special_tokens=True,\n",
        "                                  clean_up_tokenization_spaces=True)\n",
        "                                  for token in summarized_input[i]])\n",
        "\n",
        "  # readout\n",
        "  print(\"Decoded\", len(prediction), \"predicted summaries\")\n",
        "\n",
        "  print()\n",
        "  print(\"Sample article:\")\n",
        "  print(summaries_df[\"text\"][0])\n",
        "\n",
        "  print()\n",
        "  print(\"Sample prediction:\")\n",
        "  print(prediction[0][0])\n",
        "\n",
        "  return prediction"
      ],
      "metadata": {
        "id": "MiSZ48i7rTrc"
      },
      "id": "MiSZ48i7rTrc",
      "execution_count": 71,
      "outputs": []
    },
    {
      "cell_type": "code",
      "source": [
        "summarized_array = abstract_summarize(model, tokenized_array[:5])"
      ],
      "metadata": {
        "id": "fjxbBT7DsenN",
        "colab": {
          "base_uri": "https://localhost:8080/"
        },
        "outputId": "667df036-02d5-4201-cee5-352c09afea6c"
      },
      "id": "fjxbBT7DsenN",
      "execution_count": 72,
      "outputs": [
        {
          "output_type": "stream",
          "name": "stdout",
          "text": [
            "Summarized 5 entries\n"
          ]
        }
      ]
    },
    {
      "cell_type": "code",
      "source": [
        "prediction_array = abstract_prediction(tokenizer, summarized_array)"
      ],
      "metadata": {
        "id": "MAaHrnhP2TJ8",
        "colab": {
          "base_uri": "https://localhost:8080/"
        },
        "outputId": "0f99c203-d6bd-4a94-c56f-0be07807c7a5"
      },
      "id": "MAaHrnhP2TJ8",
      "execution_count": 73,
      "outputs": [
        {
          "output_type": "stream",
          "name": "stdout",
          "text": [
            "Decoded 5 predicted summaries\n",
            "\n",
            "Sample article:\n",
            "Mr Goodman said phone operators and consumers needed to do more to ensure that more of Britain's mobile mountain made it overseas.\"This is the only way I can afford to have a phone,\" she said.Older mobile phones are proving particularly useful in poorer nations where people want to use a mobile and keep in touch with friends and family but do not have the income to buy the most up to date model.Re-using old mobile phones is not just good for the environment, it has social benefits too.Reconditioned handsets have boosted take-up of mobiles as the report revealed that almost one-third of Romanian pre-pay mobile phone users were using reconditioned handsets.\"It's quite common for people to have two or three phones just lying around,\" said Mr Goodman.Research has found that in some developing nations old mobile phones can help close the digital divide.Georgeta Minciu, a Romanian part-time cleaner, said: \"Normally a mobile phone would not be possible on my wages.The Forum for the Future report took an in-depth look at Romania where reconditioned mobile phones were proving very popular.The report reveals that approximately 15 million mobile phones go out of use every year in the UK.\n",
            "\n",
            "Sample prediction:\n",
            "around 15 million mobile phones go out of use every year in the UK. only 25% get returned to mobile phone firms for recycling or re-use. many of these older phones could end up in landfill sites leaking toxic materials.\n"
          ]
        }
      ]
    },
    {
      "cell_type": "code",
      "source": [
        "calculate_metric(model_output_summary, prediction_array)"
      ],
      "metadata": {
        "id": "aTEnoCYxHI4j",
        "colab": {
          "base_uri": "https://localhost:8080/"
        },
        "outputId": "2dd24afc-118a-4351-fc32-5a0bf9fc2257"
      },
      "id": "aTEnoCYxHI4j",
      "execution_count": 74,
      "outputs": [
        {
          "output_type": "stream",
          "name": "stdout",
          "text": [
            "Average Rouge-1 Recall 0.21174976828708642\n",
            "Average Rouge-1 Precision 0.6506150793650793\n",
            "Average Rouge-1 F1 0.31474662699182715\n"
          ]
        }
      ]
    }
  ],
  "metadata": {
    "kernelspec": {
      "display_name": "Python 3 (ipykernel)",
      "language": "python",
      "name": "python3"
    },
    "language_info": {
      "codemirror_mode": {
        "name": "ipython",
        "version": 3
      },
      "file_extension": ".py",
      "mimetype": "text/x-python",
      "name": "python",
      "nbconvert_exporter": "python",
      "pygments_lexer": "ipython3",
      "version": "3.8.13"
    },
    "colab": {
      "provenance": [],
      "include_colab_link": true
    },
    "gpuClass": "standard",
    "widgets": {
      "application/vnd.jupyter.widget-state+json": {
        "7ba062d4106d4a2da3634df4ca93a9f1": {
          "model_module": "@jupyter-widgets/controls",
          "model_name": "HBoxModel",
          "model_module_version": "1.5.0",
          "state": {
            "_dom_classes": [],
            "_model_module": "@jupyter-widgets/controls",
            "_model_module_version": "1.5.0",
            "_model_name": "HBoxModel",
            "_view_count": null,
            "_view_module": "@jupyter-widgets/controls",
            "_view_module_version": "1.5.0",
            "_view_name": "HBoxView",
            "box_style": "",
            "children": [
              "IPY_MODEL_9c01ca84a7954a89a298b6ed4731739a",
              "IPY_MODEL_bcebfc979aa64b82ab0fecadef7c29fc",
              "IPY_MODEL_17c085f067764d7b9089cda2ba411c1b"
            ],
            "layout": "IPY_MODEL_55b1632dac534a008cc83b15f33b2672"
          }
        },
        "9c01ca84a7954a89a298b6ed4731739a": {
          "model_module": "@jupyter-widgets/controls",
          "model_name": "HTMLModel",
          "model_module_version": "1.5.0",
          "state": {
            "_dom_classes": [],
            "_model_module": "@jupyter-widgets/controls",
            "_model_module_version": "1.5.0",
            "_model_name": "HTMLModel",
            "_view_count": null,
            "_view_module": "@jupyter-widgets/controls",
            "_view_module_version": "1.5.0",
            "_view_name": "HTMLView",
            "description": "",
            "description_tooltip": null,
            "layout": "IPY_MODEL_9b39c3d5a61d4e17a750b1231eec4745",
            "placeholder": "​",
            "style": "IPY_MODEL_ed4d199a204246c28d9c845d12059f29",
            "value": "Downloading: 100%"
          }
        },
        "bcebfc979aa64b82ab0fecadef7c29fc": {
          "model_module": "@jupyter-widgets/controls",
          "model_name": "FloatProgressModel",
          "model_module_version": "1.5.0",
          "state": {
            "_dom_classes": [],
            "_model_module": "@jupyter-widgets/controls",
            "_model_module_version": "1.5.0",
            "_model_name": "FloatProgressModel",
            "_view_count": null,
            "_view_module": "@jupyter-widgets/controls",
            "_view_module_version": "1.5.0",
            "_view_name": "ProgressView",
            "bar_style": "success",
            "description": "",
            "description_tooltip": null,
            "layout": "IPY_MODEL_00af9665b0f04834835d8f834a955120",
            "max": 1197,
            "min": 0,
            "orientation": "horizontal",
            "style": "IPY_MODEL_a275f3231c6946b086b5049431abdfc1",
            "value": 1197
          }
        },
        "17c085f067764d7b9089cda2ba411c1b": {
          "model_module": "@jupyter-widgets/controls",
          "model_name": "HTMLModel",
          "model_module_version": "1.5.0",
          "state": {
            "_dom_classes": [],
            "_model_module": "@jupyter-widgets/controls",
            "_model_module_version": "1.5.0",
            "_model_name": "HTMLModel",
            "_view_count": null,
            "_view_module": "@jupyter-widgets/controls",
            "_view_module_version": "1.5.0",
            "_view_name": "HTMLView",
            "description": "",
            "description_tooltip": null,
            "layout": "IPY_MODEL_0f8e7cb83c73441bbc57bc0eed2a313f",
            "placeholder": "​",
            "style": "IPY_MODEL_f99dcd8d9556490ebb506a1d302054a5",
            "value": " 1.20k/1.20k [00:00&lt;00:00, 12.4kB/s]"
          }
        },
        "55b1632dac534a008cc83b15f33b2672": {
          "model_module": "@jupyter-widgets/base",
          "model_name": "LayoutModel",
          "model_module_version": "1.2.0",
          "state": {
            "_model_module": "@jupyter-widgets/base",
            "_model_module_version": "1.2.0",
            "_model_name": "LayoutModel",
            "_view_count": null,
            "_view_module": "@jupyter-widgets/base",
            "_view_module_version": "1.2.0",
            "_view_name": "LayoutView",
            "align_content": null,
            "align_items": null,
            "align_self": null,
            "border": null,
            "bottom": null,
            "display": null,
            "flex": null,
            "flex_flow": null,
            "grid_area": null,
            "grid_auto_columns": null,
            "grid_auto_flow": null,
            "grid_auto_rows": null,
            "grid_column": null,
            "grid_gap": null,
            "grid_row": null,
            "grid_template_areas": null,
            "grid_template_columns": null,
            "grid_template_rows": null,
            "height": null,
            "justify_content": null,
            "justify_items": null,
            "left": null,
            "margin": null,
            "max_height": null,
            "max_width": null,
            "min_height": null,
            "min_width": null,
            "object_fit": null,
            "object_position": null,
            "order": null,
            "overflow": null,
            "overflow_x": null,
            "overflow_y": null,
            "padding": null,
            "right": null,
            "top": null,
            "visibility": null,
            "width": null
          }
        },
        "9b39c3d5a61d4e17a750b1231eec4745": {
          "model_module": "@jupyter-widgets/base",
          "model_name": "LayoutModel",
          "model_module_version": "1.2.0",
          "state": {
            "_model_module": "@jupyter-widgets/base",
            "_model_module_version": "1.2.0",
            "_model_name": "LayoutModel",
            "_view_count": null,
            "_view_module": "@jupyter-widgets/base",
            "_view_module_version": "1.2.0",
            "_view_name": "LayoutView",
            "align_content": null,
            "align_items": null,
            "align_self": null,
            "border": null,
            "bottom": null,
            "display": null,
            "flex": null,
            "flex_flow": null,
            "grid_area": null,
            "grid_auto_columns": null,
            "grid_auto_flow": null,
            "grid_auto_rows": null,
            "grid_column": null,
            "grid_gap": null,
            "grid_row": null,
            "grid_template_areas": null,
            "grid_template_columns": null,
            "grid_template_rows": null,
            "height": null,
            "justify_content": null,
            "justify_items": null,
            "left": null,
            "margin": null,
            "max_height": null,
            "max_width": null,
            "min_height": null,
            "min_width": null,
            "object_fit": null,
            "object_position": null,
            "order": null,
            "overflow": null,
            "overflow_x": null,
            "overflow_y": null,
            "padding": null,
            "right": null,
            "top": null,
            "visibility": null,
            "width": null
          }
        },
        "ed4d199a204246c28d9c845d12059f29": {
          "model_module": "@jupyter-widgets/controls",
          "model_name": "DescriptionStyleModel",
          "model_module_version": "1.5.0",
          "state": {
            "_model_module": "@jupyter-widgets/controls",
            "_model_module_version": "1.5.0",
            "_model_name": "DescriptionStyleModel",
            "_view_count": null,
            "_view_module": "@jupyter-widgets/base",
            "_view_module_version": "1.2.0",
            "_view_name": "StyleView",
            "description_width": ""
          }
        },
        "00af9665b0f04834835d8f834a955120": {
          "model_module": "@jupyter-widgets/base",
          "model_name": "LayoutModel",
          "model_module_version": "1.2.0",
          "state": {
            "_model_module": "@jupyter-widgets/base",
            "_model_module_version": "1.2.0",
            "_model_name": "LayoutModel",
            "_view_count": null,
            "_view_module": "@jupyter-widgets/base",
            "_view_module_version": "1.2.0",
            "_view_name": "LayoutView",
            "align_content": null,
            "align_items": null,
            "align_self": null,
            "border": null,
            "bottom": null,
            "display": null,
            "flex": null,
            "flex_flow": null,
            "grid_area": null,
            "grid_auto_columns": null,
            "grid_auto_flow": null,
            "grid_auto_rows": null,
            "grid_column": null,
            "grid_gap": null,
            "grid_row": null,
            "grid_template_areas": null,
            "grid_template_columns": null,
            "grid_template_rows": null,
            "height": null,
            "justify_content": null,
            "justify_items": null,
            "left": null,
            "margin": null,
            "max_height": null,
            "max_width": null,
            "min_height": null,
            "min_width": null,
            "object_fit": null,
            "object_position": null,
            "order": null,
            "overflow": null,
            "overflow_x": null,
            "overflow_y": null,
            "padding": null,
            "right": null,
            "top": null,
            "visibility": null,
            "width": null
          }
        },
        "a275f3231c6946b086b5049431abdfc1": {
          "model_module": "@jupyter-widgets/controls",
          "model_name": "ProgressStyleModel",
          "model_module_version": "1.5.0",
          "state": {
            "_model_module": "@jupyter-widgets/controls",
            "_model_module_version": "1.5.0",
            "_model_name": "ProgressStyleModel",
            "_view_count": null,
            "_view_module": "@jupyter-widgets/base",
            "_view_module_version": "1.2.0",
            "_view_name": "StyleView",
            "bar_color": null,
            "description_width": ""
          }
        },
        "0f8e7cb83c73441bbc57bc0eed2a313f": {
          "model_module": "@jupyter-widgets/base",
          "model_name": "LayoutModel",
          "model_module_version": "1.2.0",
          "state": {
            "_model_module": "@jupyter-widgets/base",
            "_model_module_version": "1.2.0",
            "_model_name": "LayoutModel",
            "_view_count": null,
            "_view_module": "@jupyter-widgets/base",
            "_view_module_version": "1.2.0",
            "_view_name": "LayoutView",
            "align_content": null,
            "align_items": null,
            "align_self": null,
            "border": null,
            "bottom": null,
            "display": null,
            "flex": null,
            "flex_flow": null,
            "grid_area": null,
            "grid_auto_columns": null,
            "grid_auto_flow": null,
            "grid_auto_rows": null,
            "grid_column": null,
            "grid_gap": null,
            "grid_row": null,
            "grid_template_areas": null,
            "grid_template_columns": null,
            "grid_template_rows": null,
            "height": null,
            "justify_content": null,
            "justify_items": null,
            "left": null,
            "margin": null,
            "max_height": null,
            "max_width": null,
            "min_height": null,
            "min_width": null,
            "object_fit": null,
            "object_position": null,
            "order": null,
            "overflow": null,
            "overflow_x": null,
            "overflow_y": null,
            "padding": null,
            "right": null,
            "top": null,
            "visibility": null,
            "width": null
          }
        },
        "f99dcd8d9556490ebb506a1d302054a5": {
          "model_module": "@jupyter-widgets/controls",
          "model_name": "DescriptionStyleModel",
          "model_module_version": "1.5.0",
          "state": {
            "_model_module": "@jupyter-widgets/controls",
            "_model_module_version": "1.5.0",
            "_model_name": "DescriptionStyleModel",
            "_view_count": null,
            "_view_module": "@jupyter-widgets/base",
            "_view_module_version": "1.2.0",
            "_view_name": "StyleView",
            "description_width": ""
          }
        },
        "87e112c8fecd4a2f98fdbadc6e05f487": {
          "model_module": "@jupyter-widgets/controls",
          "model_name": "HBoxModel",
          "model_module_version": "1.5.0",
          "state": {
            "_dom_classes": [],
            "_model_module": "@jupyter-widgets/controls",
            "_model_module_version": "1.5.0",
            "_model_name": "HBoxModel",
            "_view_count": null,
            "_view_module": "@jupyter-widgets/controls",
            "_view_module_version": "1.5.0",
            "_view_name": "HBoxView",
            "box_style": "",
            "children": [
              "IPY_MODEL_1a7bea13457e46ca94cce22b7b3aaccf",
              "IPY_MODEL_7efa992cc06b4fbbb6132c464c185b5a",
              "IPY_MODEL_08bc7133488e4535a9d4f38d9c8a8be8"
            ],
            "layout": "IPY_MODEL_f3beeea2c7ee4c22a5e6b89fe107f8f3"
          }
        },
        "1a7bea13457e46ca94cce22b7b3aaccf": {
          "model_module": "@jupyter-widgets/controls",
          "model_name": "HTMLModel",
          "model_module_version": "1.5.0",
          "state": {
            "_dom_classes": [],
            "_model_module": "@jupyter-widgets/controls",
            "_model_module_version": "1.5.0",
            "_model_name": "HTMLModel",
            "_view_count": null,
            "_view_module": "@jupyter-widgets/controls",
            "_view_module_version": "1.5.0",
            "_view_name": "HTMLView",
            "description": "",
            "description_tooltip": null,
            "layout": "IPY_MODEL_76fbcb098e79485099dd7afee9594404",
            "placeholder": "​",
            "style": "IPY_MODEL_c0dee288cdc74db9a46ad1a019f2cbe2",
            "value": "Downloading: 100%"
          }
        },
        "7efa992cc06b4fbbb6132c464c185b5a": {
          "model_module": "@jupyter-widgets/controls",
          "model_name": "FloatProgressModel",
          "model_module_version": "1.5.0",
          "state": {
            "_dom_classes": [],
            "_model_module": "@jupyter-widgets/controls",
            "_model_module_version": "1.5.0",
            "_model_name": "FloatProgressModel",
            "_view_count": null,
            "_view_module": "@jupyter-widgets/controls",
            "_view_module_version": "1.5.0",
            "_view_name": "ProgressView",
            "bar_style": "success",
            "description": "",
            "description_tooltip": null,
            "layout": "IPY_MODEL_926eb1232dc74d5facec3601a4283903",
            "max": 242303832,
            "min": 0,
            "orientation": "horizontal",
            "style": "IPY_MODEL_a03898ecdb5c461dac6f24acb4451297",
            "value": 242303832
          }
        },
        "08bc7133488e4535a9d4f38d9c8a8be8": {
          "model_module": "@jupyter-widgets/controls",
          "model_name": "HTMLModel",
          "model_module_version": "1.5.0",
          "state": {
            "_dom_classes": [],
            "_model_module": "@jupyter-widgets/controls",
            "_model_module_version": "1.5.0",
            "_model_name": "HTMLModel",
            "_view_count": null,
            "_view_module": "@jupyter-widgets/controls",
            "_view_module_version": "1.5.0",
            "_view_name": "HTMLView",
            "description": "",
            "description_tooltip": null,
            "layout": "IPY_MODEL_5fde522f94b5455b9bdb597bfc2abb28",
            "placeholder": "​",
            "style": "IPY_MODEL_24aa12e1b8eb4424af6757cd3fceb4fb",
            "value": " 242M/242M [00:03&lt;00:00, 71.0MB/s]"
          }
        },
        "f3beeea2c7ee4c22a5e6b89fe107f8f3": {
          "model_module": "@jupyter-widgets/base",
          "model_name": "LayoutModel",
          "model_module_version": "1.2.0",
          "state": {
            "_model_module": "@jupyter-widgets/base",
            "_model_module_version": "1.2.0",
            "_model_name": "LayoutModel",
            "_view_count": null,
            "_view_module": "@jupyter-widgets/base",
            "_view_module_version": "1.2.0",
            "_view_name": "LayoutView",
            "align_content": null,
            "align_items": null,
            "align_self": null,
            "border": null,
            "bottom": null,
            "display": null,
            "flex": null,
            "flex_flow": null,
            "grid_area": null,
            "grid_auto_columns": null,
            "grid_auto_flow": null,
            "grid_auto_rows": null,
            "grid_column": null,
            "grid_gap": null,
            "grid_row": null,
            "grid_template_areas": null,
            "grid_template_columns": null,
            "grid_template_rows": null,
            "height": null,
            "justify_content": null,
            "justify_items": null,
            "left": null,
            "margin": null,
            "max_height": null,
            "max_width": null,
            "min_height": null,
            "min_width": null,
            "object_fit": null,
            "object_position": null,
            "order": null,
            "overflow": null,
            "overflow_x": null,
            "overflow_y": null,
            "padding": null,
            "right": null,
            "top": null,
            "visibility": null,
            "width": null
          }
        },
        "76fbcb098e79485099dd7afee9594404": {
          "model_module": "@jupyter-widgets/base",
          "model_name": "LayoutModel",
          "model_module_version": "1.2.0",
          "state": {
            "_model_module": "@jupyter-widgets/base",
            "_model_module_version": "1.2.0",
            "_model_name": "LayoutModel",
            "_view_count": null,
            "_view_module": "@jupyter-widgets/base",
            "_view_module_version": "1.2.0",
            "_view_name": "LayoutView",
            "align_content": null,
            "align_items": null,
            "align_self": null,
            "border": null,
            "bottom": null,
            "display": null,
            "flex": null,
            "flex_flow": null,
            "grid_area": null,
            "grid_auto_columns": null,
            "grid_auto_flow": null,
            "grid_auto_rows": null,
            "grid_column": null,
            "grid_gap": null,
            "grid_row": null,
            "grid_template_areas": null,
            "grid_template_columns": null,
            "grid_template_rows": null,
            "height": null,
            "justify_content": null,
            "justify_items": null,
            "left": null,
            "margin": null,
            "max_height": null,
            "max_width": null,
            "min_height": null,
            "min_width": null,
            "object_fit": null,
            "object_position": null,
            "order": null,
            "overflow": null,
            "overflow_x": null,
            "overflow_y": null,
            "padding": null,
            "right": null,
            "top": null,
            "visibility": null,
            "width": null
          }
        },
        "c0dee288cdc74db9a46ad1a019f2cbe2": {
          "model_module": "@jupyter-widgets/controls",
          "model_name": "DescriptionStyleModel",
          "model_module_version": "1.5.0",
          "state": {
            "_model_module": "@jupyter-widgets/controls",
            "_model_module_version": "1.5.0",
            "_model_name": "DescriptionStyleModel",
            "_view_count": null,
            "_view_module": "@jupyter-widgets/base",
            "_view_module_version": "1.2.0",
            "_view_name": "StyleView",
            "description_width": ""
          }
        },
        "926eb1232dc74d5facec3601a4283903": {
          "model_module": "@jupyter-widgets/base",
          "model_name": "LayoutModel",
          "model_module_version": "1.2.0",
          "state": {
            "_model_module": "@jupyter-widgets/base",
            "_model_module_version": "1.2.0",
            "_model_name": "LayoutModel",
            "_view_count": null,
            "_view_module": "@jupyter-widgets/base",
            "_view_module_version": "1.2.0",
            "_view_name": "LayoutView",
            "align_content": null,
            "align_items": null,
            "align_self": null,
            "border": null,
            "bottom": null,
            "display": null,
            "flex": null,
            "flex_flow": null,
            "grid_area": null,
            "grid_auto_columns": null,
            "grid_auto_flow": null,
            "grid_auto_rows": null,
            "grid_column": null,
            "grid_gap": null,
            "grid_row": null,
            "grid_template_areas": null,
            "grid_template_columns": null,
            "grid_template_rows": null,
            "height": null,
            "justify_content": null,
            "justify_items": null,
            "left": null,
            "margin": null,
            "max_height": null,
            "max_width": null,
            "min_height": null,
            "min_width": null,
            "object_fit": null,
            "object_position": null,
            "order": null,
            "overflow": null,
            "overflow_x": null,
            "overflow_y": null,
            "padding": null,
            "right": null,
            "top": null,
            "visibility": null,
            "width": null
          }
        },
        "a03898ecdb5c461dac6f24acb4451297": {
          "model_module": "@jupyter-widgets/controls",
          "model_name": "ProgressStyleModel",
          "model_module_version": "1.5.0",
          "state": {
            "_model_module": "@jupyter-widgets/controls",
            "_model_module_version": "1.5.0",
            "_model_name": "ProgressStyleModel",
            "_view_count": null,
            "_view_module": "@jupyter-widgets/base",
            "_view_module_version": "1.2.0",
            "_view_name": "StyleView",
            "bar_color": null,
            "description_width": ""
          }
        },
        "5fde522f94b5455b9bdb597bfc2abb28": {
          "model_module": "@jupyter-widgets/base",
          "model_name": "LayoutModel",
          "model_module_version": "1.2.0",
          "state": {
            "_model_module": "@jupyter-widgets/base",
            "_model_module_version": "1.2.0",
            "_model_name": "LayoutModel",
            "_view_count": null,
            "_view_module": "@jupyter-widgets/base",
            "_view_module_version": "1.2.0",
            "_view_name": "LayoutView",
            "align_content": null,
            "align_items": null,
            "align_self": null,
            "border": null,
            "bottom": null,
            "display": null,
            "flex": null,
            "flex_flow": null,
            "grid_area": null,
            "grid_auto_columns": null,
            "grid_auto_flow": null,
            "grid_auto_rows": null,
            "grid_column": null,
            "grid_gap": null,
            "grid_row": null,
            "grid_template_areas": null,
            "grid_template_columns": null,
            "grid_template_rows": null,
            "height": null,
            "justify_content": null,
            "justify_items": null,
            "left": null,
            "margin": null,
            "max_height": null,
            "max_width": null,
            "min_height": null,
            "min_width": null,
            "object_fit": null,
            "object_position": null,
            "order": null,
            "overflow": null,
            "overflow_x": null,
            "overflow_y": null,
            "padding": null,
            "right": null,
            "top": null,
            "visibility": null,
            "width": null
          }
        },
        "24aa12e1b8eb4424af6757cd3fceb4fb": {
          "model_module": "@jupyter-widgets/controls",
          "model_name": "DescriptionStyleModel",
          "model_module_version": "1.5.0",
          "state": {
            "_model_module": "@jupyter-widgets/controls",
            "_model_module_version": "1.5.0",
            "_model_name": "DescriptionStyleModel",
            "_view_count": null,
            "_view_module": "@jupyter-widgets/base",
            "_view_module_version": "1.2.0",
            "_view_name": "StyleView",
            "description_width": ""
          }
        },
        "28ad4e0ec2674079966a15593c5167ac": {
          "model_module": "@jupyter-widgets/controls",
          "model_name": "HBoxModel",
          "model_module_version": "1.5.0",
          "state": {
            "_dom_classes": [],
            "_model_module": "@jupyter-widgets/controls",
            "_model_module_version": "1.5.0",
            "_model_name": "HBoxModel",
            "_view_count": null,
            "_view_module": "@jupyter-widgets/controls",
            "_view_module_version": "1.5.0",
            "_view_name": "HBoxView",
            "box_style": "",
            "children": [
              "IPY_MODEL_df2bf736b9a04586a8249cf3bd28d35b",
              "IPY_MODEL_9b6d858af95140069fb10de958c3cd4a",
              "IPY_MODEL_053544a2b88c4b0681bdaea34958336d"
            ],
            "layout": "IPY_MODEL_eff992e87fb442c4bef871203d726f31"
          }
        },
        "df2bf736b9a04586a8249cf3bd28d35b": {
          "model_module": "@jupyter-widgets/controls",
          "model_name": "HTMLModel",
          "model_module_version": "1.5.0",
          "state": {
            "_dom_classes": [],
            "_model_module": "@jupyter-widgets/controls",
            "_model_module_version": "1.5.0",
            "_model_name": "HTMLModel",
            "_view_count": null,
            "_view_module": "@jupyter-widgets/controls",
            "_view_module_version": "1.5.0",
            "_view_name": "HTMLView",
            "description": "",
            "description_tooltip": null,
            "layout": "IPY_MODEL_5d16bf13958a4df0bd0d2ff8298498d8",
            "placeholder": "​",
            "style": "IPY_MODEL_29a38965f89a44299b3b3aba28e51366",
            "value": "Downloading: 100%"
          }
        },
        "9b6d858af95140069fb10de958c3cd4a": {
          "model_module": "@jupyter-widgets/controls",
          "model_name": "FloatProgressModel",
          "model_module_version": "1.5.0",
          "state": {
            "_dom_classes": [],
            "_model_module": "@jupyter-widgets/controls",
            "_model_module_version": "1.5.0",
            "_model_name": "FloatProgressModel",
            "_view_count": null,
            "_view_module": "@jupyter-widgets/controls",
            "_view_module_version": "1.5.0",
            "_view_name": "ProgressView",
            "bar_style": "success",
            "description": "",
            "description_tooltip": null,
            "layout": "IPY_MODEL_327efcd01ead4427b0b2d241c585b09e",
            "max": 791656,
            "min": 0,
            "orientation": "horizontal",
            "style": "IPY_MODEL_b881873dfe9f40adb550c0d3f1cb3ccf",
            "value": 791656
          }
        },
        "053544a2b88c4b0681bdaea34958336d": {
          "model_module": "@jupyter-widgets/controls",
          "model_name": "HTMLModel",
          "model_module_version": "1.5.0",
          "state": {
            "_dom_classes": [],
            "_model_module": "@jupyter-widgets/controls",
            "_model_module_version": "1.5.0",
            "_model_name": "HTMLModel",
            "_view_count": null,
            "_view_module": "@jupyter-widgets/controls",
            "_view_module_version": "1.5.0",
            "_view_name": "HTMLView",
            "description": "",
            "description_tooltip": null,
            "layout": "IPY_MODEL_3939caf6586840eeb403c9d39d508e9b",
            "placeholder": "​",
            "style": "IPY_MODEL_b7c7eff66ca84dfc8ab898b8ef71e9e4",
            "value": " 792k/792k [00:00&lt;00:00, 1.80MB/s]"
          }
        },
        "eff992e87fb442c4bef871203d726f31": {
          "model_module": "@jupyter-widgets/base",
          "model_name": "LayoutModel",
          "model_module_version": "1.2.0",
          "state": {
            "_model_module": "@jupyter-widgets/base",
            "_model_module_version": "1.2.0",
            "_model_name": "LayoutModel",
            "_view_count": null,
            "_view_module": "@jupyter-widgets/base",
            "_view_module_version": "1.2.0",
            "_view_name": "LayoutView",
            "align_content": null,
            "align_items": null,
            "align_self": null,
            "border": null,
            "bottom": null,
            "display": null,
            "flex": null,
            "flex_flow": null,
            "grid_area": null,
            "grid_auto_columns": null,
            "grid_auto_flow": null,
            "grid_auto_rows": null,
            "grid_column": null,
            "grid_gap": null,
            "grid_row": null,
            "grid_template_areas": null,
            "grid_template_columns": null,
            "grid_template_rows": null,
            "height": null,
            "justify_content": null,
            "justify_items": null,
            "left": null,
            "margin": null,
            "max_height": null,
            "max_width": null,
            "min_height": null,
            "min_width": null,
            "object_fit": null,
            "object_position": null,
            "order": null,
            "overflow": null,
            "overflow_x": null,
            "overflow_y": null,
            "padding": null,
            "right": null,
            "top": null,
            "visibility": null,
            "width": null
          }
        },
        "5d16bf13958a4df0bd0d2ff8298498d8": {
          "model_module": "@jupyter-widgets/base",
          "model_name": "LayoutModel",
          "model_module_version": "1.2.0",
          "state": {
            "_model_module": "@jupyter-widgets/base",
            "_model_module_version": "1.2.0",
            "_model_name": "LayoutModel",
            "_view_count": null,
            "_view_module": "@jupyter-widgets/base",
            "_view_module_version": "1.2.0",
            "_view_name": "LayoutView",
            "align_content": null,
            "align_items": null,
            "align_self": null,
            "border": null,
            "bottom": null,
            "display": null,
            "flex": null,
            "flex_flow": null,
            "grid_area": null,
            "grid_auto_columns": null,
            "grid_auto_flow": null,
            "grid_auto_rows": null,
            "grid_column": null,
            "grid_gap": null,
            "grid_row": null,
            "grid_template_areas": null,
            "grid_template_columns": null,
            "grid_template_rows": null,
            "height": null,
            "justify_content": null,
            "justify_items": null,
            "left": null,
            "margin": null,
            "max_height": null,
            "max_width": null,
            "min_height": null,
            "min_width": null,
            "object_fit": null,
            "object_position": null,
            "order": null,
            "overflow": null,
            "overflow_x": null,
            "overflow_y": null,
            "padding": null,
            "right": null,
            "top": null,
            "visibility": null,
            "width": null
          }
        },
        "29a38965f89a44299b3b3aba28e51366": {
          "model_module": "@jupyter-widgets/controls",
          "model_name": "DescriptionStyleModel",
          "model_module_version": "1.5.0",
          "state": {
            "_model_module": "@jupyter-widgets/controls",
            "_model_module_version": "1.5.0",
            "_model_name": "DescriptionStyleModel",
            "_view_count": null,
            "_view_module": "@jupyter-widgets/base",
            "_view_module_version": "1.2.0",
            "_view_name": "StyleView",
            "description_width": ""
          }
        },
        "327efcd01ead4427b0b2d241c585b09e": {
          "model_module": "@jupyter-widgets/base",
          "model_name": "LayoutModel",
          "model_module_version": "1.2.0",
          "state": {
            "_model_module": "@jupyter-widgets/base",
            "_model_module_version": "1.2.0",
            "_model_name": "LayoutModel",
            "_view_count": null,
            "_view_module": "@jupyter-widgets/base",
            "_view_module_version": "1.2.0",
            "_view_name": "LayoutView",
            "align_content": null,
            "align_items": null,
            "align_self": null,
            "border": null,
            "bottom": null,
            "display": null,
            "flex": null,
            "flex_flow": null,
            "grid_area": null,
            "grid_auto_columns": null,
            "grid_auto_flow": null,
            "grid_auto_rows": null,
            "grid_column": null,
            "grid_gap": null,
            "grid_row": null,
            "grid_template_areas": null,
            "grid_template_columns": null,
            "grid_template_rows": null,
            "height": null,
            "justify_content": null,
            "justify_items": null,
            "left": null,
            "margin": null,
            "max_height": null,
            "max_width": null,
            "min_height": null,
            "min_width": null,
            "object_fit": null,
            "object_position": null,
            "order": null,
            "overflow": null,
            "overflow_x": null,
            "overflow_y": null,
            "padding": null,
            "right": null,
            "top": null,
            "visibility": null,
            "width": null
          }
        },
        "b881873dfe9f40adb550c0d3f1cb3ccf": {
          "model_module": "@jupyter-widgets/controls",
          "model_name": "ProgressStyleModel",
          "model_module_version": "1.5.0",
          "state": {
            "_model_module": "@jupyter-widgets/controls",
            "_model_module_version": "1.5.0",
            "_model_name": "ProgressStyleModel",
            "_view_count": null,
            "_view_module": "@jupyter-widgets/base",
            "_view_module_version": "1.2.0",
            "_view_name": "StyleView",
            "bar_color": null,
            "description_width": ""
          }
        },
        "3939caf6586840eeb403c9d39d508e9b": {
          "model_module": "@jupyter-widgets/base",
          "model_name": "LayoutModel",
          "model_module_version": "1.2.0",
          "state": {
            "_model_module": "@jupyter-widgets/base",
            "_model_module_version": "1.2.0",
            "_model_name": "LayoutModel",
            "_view_count": null,
            "_view_module": "@jupyter-widgets/base",
            "_view_module_version": "1.2.0",
            "_view_name": "LayoutView",
            "align_content": null,
            "align_items": null,
            "align_self": null,
            "border": null,
            "bottom": null,
            "display": null,
            "flex": null,
            "flex_flow": null,
            "grid_area": null,
            "grid_auto_columns": null,
            "grid_auto_flow": null,
            "grid_auto_rows": null,
            "grid_column": null,
            "grid_gap": null,
            "grid_row": null,
            "grid_template_areas": null,
            "grid_template_columns": null,
            "grid_template_rows": null,
            "height": null,
            "justify_content": null,
            "justify_items": null,
            "left": null,
            "margin": null,
            "max_height": null,
            "max_width": null,
            "min_height": null,
            "min_width": null,
            "object_fit": null,
            "object_position": null,
            "order": null,
            "overflow": null,
            "overflow_x": null,
            "overflow_y": null,
            "padding": null,
            "right": null,
            "top": null,
            "visibility": null,
            "width": null
          }
        },
        "b7c7eff66ca84dfc8ab898b8ef71e9e4": {
          "model_module": "@jupyter-widgets/controls",
          "model_name": "DescriptionStyleModel",
          "model_module_version": "1.5.0",
          "state": {
            "_model_module": "@jupyter-widgets/controls",
            "_model_module_version": "1.5.0",
            "_model_name": "DescriptionStyleModel",
            "_view_count": null,
            "_view_module": "@jupyter-widgets/base",
            "_view_module_version": "1.2.0",
            "_view_name": "StyleView",
            "description_width": ""
          }
        },
        "e8fe6577b4af4b3e8550c43e6b3ac1e6": {
          "model_module": "@jupyter-widgets/controls",
          "model_name": "HBoxModel",
          "model_module_version": "1.5.0",
          "state": {
            "_dom_classes": [],
            "_model_module": "@jupyter-widgets/controls",
            "_model_module_version": "1.5.0",
            "_model_name": "HBoxModel",
            "_view_count": null,
            "_view_module": "@jupyter-widgets/controls",
            "_view_module_version": "1.5.0",
            "_view_name": "HBoxView",
            "box_style": "",
            "children": [
              "IPY_MODEL_6a56c84dd9cb4ef88ba33680e73b1f16",
              "IPY_MODEL_0abd01ce13b04a2fa8a7600e6042a556",
              "IPY_MODEL_d9a6686659c845daa85de571def43e3d"
            ],
            "layout": "IPY_MODEL_94689fc4a36542e198cf81bc99bf2cd6"
          }
        },
        "6a56c84dd9cb4ef88ba33680e73b1f16": {
          "model_module": "@jupyter-widgets/controls",
          "model_name": "HTMLModel",
          "model_module_version": "1.5.0",
          "state": {
            "_dom_classes": [],
            "_model_module": "@jupyter-widgets/controls",
            "_model_module_version": "1.5.0",
            "_model_name": "HTMLModel",
            "_view_count": null,
            "_view_module": "@jupyter-widgets/controls",
            "_view_module_version": "1.5.0",
            "_view_name": "HTMLView",
            "description": "",
            "description_tooltip": null,
            "layout": "IPY_MODEL_2b68e8a22155441b90cb2b3dbb895669",
            "placeholder": "​",
            "style": "IPY_MODEL_80bcf8a042064a0492de3aec716fd14f",
            "value": "Downloading: 100%"
          }
        },
        "0abd01ce13b04a2fa8a7600e6042a556": {
          "model_module": "@jupyter-widgets/controls",
          "model_name": "FloatProgressModel",
          "model_module_version": "1.5.0",
          "state": {
            "_dom_classes": [],
            "_model_module": "@jupyter-widgets/controls",
            "_model_module_version": "1.5.0",
            "_model_name": "FloatProgressModel",
            "_view_count": null,
            "_view_module": "@jupyter-widgets/controls",
            "_view_module_version": "1.5.0",
            "_view_name": "ProgressView",
            "bar_style": "success",
            "description": "",
            "description_tooltip": null,
            "layout": "IPY_MODEL_70985e3142c74aeaab098a5b0d8522aa",
            "max": 1389353,
            "min": 0,
            "orientation": "horizontal",
            "style": "IPY_MODEL_1b114b422f974d518d1a227834a73481",
            "value": 1389353
          }
        },
        "d9a6686659c845daa85de571def43e3d": {
          "model_module": "@jupyter-widgets/controls",
          "model_name": "HTMLModel",
          "model_module_version": "1.5.0",
          "state": {
            "_dom_classes": [],
            "_model_module": "@jupyter-widgets/controls",
            "_model_module_version": "1.5.0",
            "_model_name": "HTMLModel",
            "_view_count": null,
            "_view_module": "@jupyter-widgets/controls",
            "_view_module_version": "1.5.0",
            "_view_name": "HTMLView",
            "description": "",
            "description_tooltip": null,
            "layout": "IPY_MODEL_6c654c06c0a141bc97eef15e368a4e07",
            "placeholder": "​",
            "style": "IPY_MODEL_9ae4cfaa3c5a4721b9e619420734f1c2",
            "value": " 1.39M/1.39M [00:00&lt;00:00, 3.92MB/s]"
          }
        },
        "94689fc4a36542e198cf81bc99bf2cd6": {
          "model_module": "@jupyter-widgets/base",
          "model_name": "LayoutModel",
          "model_module_version": "1.2.0",
          "state": {
            "_model_module": "@jupyter-widgets/base",
            "_model_module_version": "1.2.0",
            "_model_name": "LayoutModel",
            "_view_count": null,
            "_view_module": "@jupyter-widgets/base",
            "_view_module_version": "1.2.0",
            "_view_name": "LayoutView",
            "align_content": null,
            "align_items": null,
            "align_self": null,
            "border": null,
            "bottom": null,
            "display": null,
            "flex": null,
            "flex_flow": null,
            "grid_area": null,
            "grid_auto_columns": null,
            "grid_auto_flow": null,
            "grid_auto_rows": null,
            "grid_column": null,
            "grid_gap": null,
            "grid_row": null,
            "grid_template_areas": null,
            "grid_template_columns": null,
            "grid_template_rows": null,
            "height": null,
            "justify_content": null,
            "justify_items": null,
            "left": null,
            "margin": null,
            "max_height": null,
            "max_width": null,
            "min_height": null,
            "min_width": null,
            "object_fit": null,
            "object_position": null,
            "order": null,
            "overflow": null,
            "overflow_x": null,
            "overflow_y": null,
            "padding": null,
            "right": null,
            "top": null,
            "visibility": null,
            "width": null
          }
        },
        "2b68e8a22155441b90cb2b3dbb895669": {
          "model_module": "@jupyter-widgets/base",
          "model_name": "LayoutModel",
          "model_module_version": "1.2.0",
          "state": {
            "_model_module": "@jupyter-widgets/base",
            "_model_module_version": "1.2.0",
            "_model_name": "LayoutModel",
            "_view_count": null,
            "_view_module": "@jupyter-widgets/base",
            "_view_module_version": "1.2.0",
            "_view_name": "LayoutView",
            "align_content": null,
            "align_items": null,
            "align_self": null,
            "border": null,
            "bottom": null,
            "display": null,
            "flex": null,
            "flex_flow": null,
            "grid_area": null,
            "grid_auto_columns": null,
            "grid_auto_flow": null,
            "grid_auto_rows": null,
            "grid_column": null,
            "grid_gap": null,
            "grid_row": null,
            "grid_template_areas": null,
            "grid_template_columns": null,
            "grid_template_rows": null,
            "height": null,
            "justify_content": null,
            "justify_items": null,
            "left": null,
            "margin": null,
            "max_height": null,
            "max_width": null,
            "min_height": null,
            "min_width": null,
            "object_fit": null,
            "object_position": null,
            "order": null,
            "overflow": null,
            "overflow_x": null,
            "overflow_y": null,
            "padding": null,
            "right": null,
            "top": null,
            "visibility": null,
            "width": null
          }
        },
        "80bcf8a042064a0492de3aec716fd14f": {
          "model_module": "@jupyter-widgets/controls",
          "model_name": "DescriptionStyleModel",
          "model_module_version": "1.5.0",
          "state": {
            "_model_module": "@jupyter-widgets/controls",
            "_model_module_version": "1.5.0",
            "_model_name": "DescriptionStyleModel",
            "_view_count": null,
            "_view_module": "@jupyter-widgets/base",
            "_view_module_version": "1.2.0",
            "_view_name": "StyleView",
            "description_width": ""
          }
        },
        "70985e3142c74aeaab098a5b0d8522aa": {
          "model_module": "@jupyter-widgets/base",
          "model_name": "LayoutModel",
          "model_module_version": "1.2.0",
          "state": {
            "_model_module": "@jupyter-widgets/base",
            "_model_module_version": "1.2.0",
            "_model_name": "LayoutModel",
            "_view_count": null,
            "_view_module": "@jupyter-widgets/base",
            "_view_module_version": "1.2.0",
            "_view_name": "LayoutView",
            "align_content": null,
            "align_items": null,
            "align_self": null,
            "border": null,
            "bottom": null,
            "display": null,
            "flex": null,
            "flex_flow": null,
            "grid_area": null,
            "grid_auto_columns": null,
            "grid_auto_flow": null,
            "grid_auto_rows": null,
            "grid_column": null,
            "grid_gap": null,
            "grid_row": null,
            "grid_template_areas": null,
            "grid_template_columns": null,
            "grid_template_rows": null,
            "height": null,
            "justify_content": null,
            "justify_items": null,
            "left": null,
            "margin": null,
            "max_height": null,
            "max_width": null,
            "min_height": null,
            "min_width": null,
            "object_fit": null,
            "object_position": null,
            "order": null,
            "overflow": null,
            "overflow_x": null,
            "overflow_y": null,
            "padding": null,
            "right": null,
            "top": null,
            "visibility": null,
            "width": null
          }
        },
        "1b114b422f974d518d1a227834a73481": {
          "model_module": "@jupyter-widgets/controls",
          "model_name": "ProgressStyleModel",
          "model_module_version": "1.5.0",
          "state": {
            "_model_module": "@jupyter-widgets/controls",
            "_model_module_version": "1.5.0",
            "_model_name": "ProgressStyleModel",
            "_view_count": null,
            "_view_module": "@jupyter-widgets/base",
            "_view_module_version": "1.2.0",
            "_view_name": "StyleView",
            "bar_color": null,
            "description_width": ""
          }
        },
        "6c654c06c0a141bc97eef15e368a4e07": {
          "model_module": "@jupyter-widgets/base",
          "model_name": "LayoutModel",
          "model_module_version": "1.2.0",
          "state": {
            "_model_module": "@jupyter-widgets/base",
            "_model_module_version": "1.2.0",
            "_model_name": "LayoutModel",
            "_view_count": null,
            "_view_module": "@jupyter-widgets/base",
            "_view_module_version": "1.2.0",
            "_view_name": "LayoutView",
            "align_content": null,
            "align_items": null,
            "align_self": null,
            "border": null,
            "bottom": null,
            "display": null,
            "flex": null,
            "flex_flow": null,
            "grid_area": null,
            "grid_auto_columns": null,
            "grid_auto_flow": null,
            "grid_auto_rows": null,
            "grid_column": null,
            "grid_gap": null,
            "grid_row": null,
            "grid_template_areas": null,
            "grid_template_columns": null,
            "grid_template_rows": null,
            "height": null,
            "justify_content": null,
            "justify_items": null,
            "left": null,
            "margin": null,
            "max_height": null,
            "max_width": null,
            "min_height": null,
            "min_width": null,
            "object_fit": null,
            "object_position": null,
            "order": null,
            "overflow": null,
            "overflow_x": null,
            "overflow_y": null,
            "padding": null,
            "right": null,
            "top": null,
            "visibility": null,
            "width": null
          }
        },
        "9ae4cfaa3c5a4721b9e619420734f1c2": {
          "model_module": "@jupyter-widgets/controls",
          "model_name": "DescriptionStyleModel",
          "model_module_version": "1.5.0",
          "state": {
            "_model_module": "@jupyter-widgets/controls",
            "_model_module_version": "1.5.0",
            "_model_name": "DescriptionStyleModel",
            "_view_count": null,
            "_view_module": "@jupyter-widgets/base",
            "_view_module_version": "1.2.0",
            "_view_name": "StyleView",
            "description_width": ""
          }
        }
      }
    },
    "accelerator": "GPU"
  },
  "nbformat": 4,
  "nbformat_minor": 5
}