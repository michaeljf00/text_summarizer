{
 "cells": [
  {
   "cell_type": "code",
   "execution_count": 24,
   "id": "98d9b836-1ae5-4e73-bd8f-ce5ce1fccf1f",
   "metadata": {},
   "outputs": [
    {
     "name": "stdout",
     "output_type": "stream",
     "text": [
      "Note: you may need to restart the kernel to use updated packages.\n"
     ]
    }
   ],
   "source": [
    "pip -q install numpy seaborn pandas nltk tensorflow-gpu torch matplotlib transformers Iprogress sentencepiece"
   ]
  },
  {
   "cell_type": "code",
   "execution_count": 2,
   "id": "ed79a4f6-4932-4e6e-881c-f4eb19bb99c7",
   "metadata": {},
   "outputs": [
    {
     "name": "stderr",
     "output_type": "stream",
     "text": [
      "2022-12-06 17:44:14.479603: I tensorflow/core/platform/cpu_feature_guard.cc:193] This TensorFlow binary is optimized with oneAPI Deep Neural Network Library (oneDNN) to use the following CPU instructions in performance-critical operations:  AVX2 FMA\n",
      "To enable them in other operations, rebuild TensorFlow with the appropriate compiler flags.\n",
      "2022-12-06 17:44:15.241229: W tensorflow/compiler/xla/stream_executor/platform/default/dso_loader.cc:64] Could not load dynamic library 'libnvinfer.so.7'; dlerror: libnvinfer.so.7: cannot open shared object file: No such file or directory; LD_LIBRARY_PATH: /opt/cuda/lib64:/opt/cuda/lib64:\n",
      "2022-12-06 17:44:15.241316: W tensorflow/compiler/xla/stream_executor/platform/default/dso_loader.cc:64] Could not load dynamic library 'libnvinfer_plugin.so.7'; dlerror: libnvinfer_plugin.so.7: cannot open shared object file: No such file or directory; LD_LIBRARY_PATH: /opt/cuda/lib64:/opt/cuda/lib64:\n",
      "2022-12-06 17:44:15.241323: W tensorflow/compiler/tf2tensorrt/utils/py_utils.cc:38] TF-TRT Warning: Cannot dlopen some TensorRT libraries. If you would like to use Nvidia GPU with TensorRT, please make sure the missing libraries mentioned above are installed properly.\n"
     ]
    }
   ],
   "source": [
    "import matplotlib.pyplot as plt\n",
    "import numpy as np\n",
    "import pandas as pd\n",
    "import tensorflow as tf\n",
    "import os\n",
    "import random"
   ]
  },
  {
   "cell_type": "markdown",
   "id": "8c9c850f-4f46-40bb-80d7-4721c87f1ef8",
   "metadata": {},
   "source": [
    "## BBC News Summary EDA\n",
    "\n",
    "Note: 199.txt in sports of the summaries and articles is disregarded due to corruption please remove these files to avoid mismatch in summaries and aricles count"
   ]
  },
  {
   "cell_type": "code",
   "execution_count": 3,
   "id": "1214aa85-66fa-4644-a97b-bdc7b17db24a",
   "metadata": {},
   "outputs": [
    {
     "name": "stdout",
     "output_type": "stream",
     "text": [
      "Total Items loaded: 2224\n",
      "Total Items loaded: 2224\n"
     ]
    },
    {
     "data": {
      "text/html": [
       "<div>\n",
       "<style scoped>\n",
       "    .dataframe tbody tr th:only-of-type {\n",
       "        vertical-align: middle;\n",
       "    }\n",
       "\n",
       "    .dataframe tbody tr th {\n",
       "        vertical-align: top;\n",
       "    }\n",
       "\n",
       "    .dataframe thead th {\n",
       "        text-align: right;\n",
       "    }\n",
       "</style>\n",
       "<table border=\"1\" class=\"dataframe\">\n",
       "  <thead>\n",
       "    <tr style=\"text-align: right;\">\n",
       "      <th></th>\n",
       "      <th>label</th>\n",
       "      <th>text</th>\n",
       "    </tr>\n",
       "  </thead>\n",
       "  <tbody>\n",
       "    <tr>\n",
       "      <th>0</th>\n",
       "      <td>tech</td>\n",
       "      <td>British Library gets wireless net\\n\\nVisitors ...</td>\n",
       "    </tr>\n",
       "    <tr>\n",
       "      <th>1</th>\n",
       "      <td>tech</td>\n",
       "      <td>Solutions to net security fears\\n\\nFake bank e...</td>\n",
       "    </tr>\n",
       "    <tr>\n",
       "      <th>2</th>\n",
       "      <td>tech</td>\n",
       "      <td>Camera phones are 'must-haves'\\n\\nFour times m...</td>\n",
       "    </tr>\n",
       "    <tr>\n",
       "      <th>3</th>\n",
       "      <td>tech</td>\n",
       "      <td>Progress on new internet domains\\n\\nBy early 2...</td>\n",
       "    </tr>\n",
       "    <tr>\n",
       "      <th>4</th>\n",
       "      <td>tech</td>\n",
       "      <td>Supercomputer breaks speed record\\n\\nThe US is...</td>\n",
       "    </tr>\n",
       "  </tbody>\n",
       "</table>\n",
       "</div>"
      ],
      "text/plain": [
       "  label                                               text\n",
       "0  tech  British Library gets wireless net\\n\\nVisitors ...\n",
       "1  tech  Solutions to net security fears\\n\\nFake bank e...\n",
       "2  tech  Camera phones are 'must-haves'\\n\\nFour times m...\n",
       "3  tech  Progress on new internet domains\\n\\nBy early 2...\n",
       "4  tech  Supercomputer breaks speed record\\n\\nThe US is..."
      ]
     },
     "execution_count": 3,
     "metadata": {},
     "output_type": "execute_result"
    }
   ],
   "source": [
    "def get_text_by_topic(directory_path):\n",
    "    data = []\n",
    "    count = 0\n",
    "    for topic in os.listdir(directory_path):\n",
    "        topic_path = os.path.join(directory_path, topic)\n",
    "        for file_path in os.listdir(topic_path):\n",
    "            try:\n",
    "                with open(f'{topic_path}/{file_path}', 'r', encoding=\"utf-8\") as f:\n",
    "                    data.append(( topic_path.split('/')[-1],f.read()))\n",
    "                count+=1\n",
    "            except UnicodeDecodeError:\n",
    "                print(f'file {file_path} in {topic_path} is not readable')\n",
    "                print(UnicodeDecodeError)\n",
    "    df = pd.DataFrame(data, columns=['label','text'])\n",
    "    print(f\"Total Items loaded: {count}\")\n",
    "    return df\n",
    "                      \n",
    "articles_path = r\"data/BBC News Summary/News Articles\"\n",
    "summaries_path = r\"data/BBC News Summary/Summaries\"\n",
    "\n",
    "articles_df = get_text_by_topic(articles_path)\n",
    "summaries_df = get_text_by_topic(summaries_path)\n",
    "articles_df.head()"
   ]
  },
  {
   "cell_type": "code",
   "execution_count": 4,
   "id": "5eab6275-fdab-40aa-a9ae-37a2563cc044",
   "metadata": {},
   "outputs": [
    {
     "name": "stdout",
     "output_type": "stream",
     "text": [
      "Articles Shape:  (2224, 2)\n",
      "Summaries Shape:  (2224, 2)\n",
      "\n",
      "Random Example Article in business:\n",
      "Man Utd to open books to Glazer\n",
      "\n",
      "Manchester United's board has agreed to give US tycoon Malcolm Glazer access to its books.\n",
      "\n",
      "Earlier this month, Mr Glazer presented the board with detailed proposals on an offer to buy the football club. In a statement, the club said it would allow Mr Glazer \"limited due diligence\" to give him the opportunity to take the proposal on to a formal bid. But it said it continued to oppose Mr Glazer's plans, calling his assumptions \"aggressive\" and his plan \"damaging\". Many of Manchester United's supporters own shares in the club, and the fan-based group Shareholders United is strongly opposed to any takeover by Mr Glazer. About 300 fans protested outside the Old Trafford ground two days ago.\n",
      "\n",
      "Rival local club Manchester City has pleaded with visiting fans not to protest inside its ground when the two teams play a televised match on Sunday.\n",
      "\n",
      "Manchester United's response comes as little surprise, as the board made clear. \"Any board has a responsibility to consider a bona fide offer proposal,\" the club said in its statement. Should it become a firm offer, it should be at a price that \"the board is likely to regard as fair\" and on terms which \"may be deliverable\". But it also stressed that it stayed opposed to Mr Glazer's proposal. \"The board continues to believe that Mr Glazer's business plan assumptions are aggressive,\" the statement said, \"and the direct and indirect financial strain on the business could be damaging.\" Whether or not the bid is attractive in monetary terms, in the case of Manchester United many investors hold the stock for sentimental rather than financial reasons. At present, Mr Glazer and his family hold a 28.1% stake, making them Manchester United's second biggest shareholders. They own the successful Tampa Bay Buccaneers American football team based in Florida. If the family makes a formal offer, they will need the support of the club's biggest shareholders.\n",
      "\n",
      "Irish horse racing millionaires JP McManus and John Magnier own 29% of United through their investment vehicle Cubic Expression, and have yet to express a view on the bid approach.\n",
      "\n",
      "A group of five MPs are calling on the Department of Trade and Industry to block any takeover of the club by the US football magnate on public interest grounds. They have signed a House of Commons motion, and Tony Lloyd, the Manchester Central MP, whose constituency includes the club's Old Trafford ground, has pledged to take the matter \"to Tony Blair if necessary\". The Commons motion says \"any takeover designed to transform the club into a private company would be against the interests of those supporters and football\". However, the DTI has dismissed the proposal. A spokesman said the department did not believe there was a case for changing the Enterprise Act so that takeovers of football clubs could be looked at on non-competition grounds. Mr Glazer's offer values the club at £800m ($1.5bn). Pitched at 300p per share, it also relies less on debt to finance it than an earlier approach from the US tycoon, which was rejected out of hand. Manchester United shares closed at 270.25p on Friday, down 3.75p on the day.\n",
      "\n",
      "Random Example Summary in business:\n",
      "Many of Manchester United's supporters own shares in the club, and the fan-based group Shareholders United is strongly opposed to any takeover by Mr Glazer.Earlier this month, Mr Glazer presented the board with detailed proposals on an offer to buy the football club.\"Any board has a responsibility to consider a bona fide offer proposal,\" the club said in its statement.In a statement, the club said it would allow Mr Glazer \"limited due diligence\" to give him the opportunity to take the proposal on to a formal bid.Mr Glazer's offer values the club at £800m ($1.5bn).Manchester United's board has agreed to give US tycoon Malcolm Glazer access to its books.At present, Mr Glazer and his family hold a 28.1% stake, making them Manchester United's second biggest shareholders.\"The board continues to believe that Mr Glazer's business plan assumptions are aggressive,\" the statement said, \"and the direct and indirect financial strain on the business could be damaging.\"Rival local club Manchester City has pleaded with visiting fans not to protest inside its ground when the two teams play a televised match on Sunday.But it also stressed that it stayed opposed to Mr Glazer's proposal.\n"
     ]
    }
   ],
   "source": [
    "print(\"Articles Shape: \",articles_df.shape)\n",
    "print(\"Summaries Shape: \",summaries_df.shape)\n",
    "# If this fails the wrong number of aricles or summaries was loaded\n",
    "assert(articles_df.shape == summaries_df.shape)\n",
    "\n",
    "ex_idx = int(random.random()*articles_df.shape[0])\n",
    "ex_topic = articles_df[\"label\"][ex_idx]\n",
    "print(f\"\\nRandom Example Article in {ex_topic}:\")\n",
    "print(articles_df[\"text\"][ex_idx])\n",
    "print(f\"Random Example Summary in {ex_topic}:\")\n",
    "print(summaries_df[\"text\"][ex_idx])"
   ]
  },
  {
   "cell_type": "markdown",
   "id": "575fa654-a5c9-423a-a47a-1093a5122e5f",
   "metadata": {},
   "source": [
    "From this example we can see the dataset consists of BBC articles and co-responding summaries that are constructed in an extractive manner, that is, each summary is constructed by selecting a subset of the sentances in the original article."
   ]
  },
  {
   "cell_type": "code",
   "execution_count": 5,
   "id": "f54d1b00-34da-421c-bc2f-0fb5c553ad24",
   "metadata": {},
   "outputs": [
    {
     "data": {
      "text/plain": [
       "label    0\n",
       "text     0\n",
       "dtype: int64"
      ]
     },
     "execution_count": 5,
     "metadata": {},
     "output_type": "execute_result"
    }
   ],
   "source": [
    "# Null Checks\n",
    "articles_df.isna().sum()\n",
    "summaries_df.isna().sum()"
   ]
  },
  {
   "cell_type": "code",
   "execution_count": 6,
   "id": "d6991cf3-9104-4289-b3b1-2e979c53ce23",
   "metadata": {},
   "outputs": [
    {
     "data": {
      "image/png": "[encoded data removed]",
      "text/plain": [
       "<Figure size 640x480 with 1 Axes>"
      ]
     },
     "metadata": {},
     "output_type": "display_data"
    }
   ],
   "source": [
    "# Percent articles in each topic\n",
    "label_vals = articles_df[\"label\"].value_counts()\n",
    "\n",
    "labels = list(label_vals.keys())\n",
    "sizes = list(label_vals)\n",
    "explode = [0]*len(sizes) \n",
    "explode[0] =0.1\n",
    "explode[1] =0.1\n",
    "fig1, ax1 = plt.subplots()\n",
    "ax1.pie(label_vals, explode=explode, labels=labels, autopct='%1.1f%%',shadow=True, startangle=90)\n",
    "ax1.axis('equal')  # Equal aspect ratio ensures that pie is drawn as a circle.\n",
    "plt.title(f\"Out of {articles_df.shape[0]} Articles\")\n",
    "plt.show()\n"
   ]
  },
  {
   "cell_type": "code",
   "execution_count": 43,
   "id": "e0a5961f-d8f9-4908-b622-d9d76245fd5e",
   "metadata": {},
   "outputs": [
    {
     "data": {
      "text/html": [
       "<div>\n",
       "<style scoped>\n",
       "    .dataframe tbody tr th:only-of-type {\n",
       "        vertical-align: middle;\n",
       "    }\n",
       "\n",
       "    .dataframe tbody tr th {\n",
       "        vertical-align: top;\n",
       "    }\n",
       "\n",
       "    .dataframe thead th {\n",
       "        text-align: right;\n",
       "    }\n",
       "</style>\n",
       "<table border=\"1\" class=\"dataframe\">\n",
       "  <thead>\n",
       "    <tr style=\"text-align: right;\">\n",
       "      <th></th>\n",
       "      <th>tech</th>\n",
       "      <th>business</th>\n",
       "      <th>politics</th>\n",
       "      <th>entertainment</th>\n",
       "      <th>sport</th>\n",
       "    </tr>\n",
       "  </thead>\n",
       "  <tbody>\n",
       "    <tr>\n",
       "      <th>count</th>\n",
       "      <td>401.000000</td>\n",
       "      <td>510.000000</td>\n",
       "      <td>417.000000</td>\n",
       "      <td>386.000000</td>\n",
       "      <td>510.000000</td>\n",
       "    </tr>\n",
       "    <tr>\n",
       "      <th>mean</th>\n",
       "      <td>25.842893</td>\n",
       "      <td>19.680392</td>\n",
       "      <td>22.227818</td>\n",
       "      <td>17.945596</td>\n",
       "      <td>18.280392</td>\n",
       "    </tr>\n",
       "    <tr>\n",
       "      <th>std</th>\n",
       "      <td>12.904370</td>\n",
       "      <td>7.409560</td>\n",
       "      <td>15.467658</td>\n",
       "      <td>14.270836</td>\n",
       "      <td>9.876736</td>\n",
       "    </tr>\n",
       "    <tr>\n",
       "      <th>min</th>\n",
       "      <td>7.000000</td>\n",
       "      <td>7.000000</td>\n",
       "      <td>5.000000</td>\n",
       "      <td>8.000000</td>\n",
       "      <td>7.000000</td>\n",
       "    </tr>\n",
       "    <tr>\n",
       "      <th>25%</th>\n",
       "      <td>18.000000</td>\n",
       "      <td>14.000000</td>\n",
       "      <td>16.000000</td>\n",
       "      <td>12.000000</td>\n",
       "      <td>12.000000</td>\n",
       "    </tr>\n",
       "    <tr>\n",
       "      <th>50%</th>\n",
       "      <td>22.000000</td>\n",
       "      <td>18.000000</td>\n",
       "      <td>21.000000</td>\n",
       "      <td>14.000000</td>\n",
       "      <td>16.000000</td>\n",
       "    </tr>\n",
       "    <tr>\n",
       "      <th>75%</th>\n",
       "      <td>31.000000</td>\n",
       "      <td>23.000000</td>\n",
       "      <td>25.000000</td>\n",
       "      <td>20.000000</td>\n",
       "      <td>23.000000</td>\n",
       "    </tr>\n",
       "    <tr>\n",
       "      <th>max</th>\n",
       "      <td>161.000000</td>\n",
       "      <td>53.000000</td>\n",
       "      <td>246.000000</td>\n",
       "      <td>205.000000</td>\n",
       "      <td>82.000000</td>\n",
       "    </tr>\n",
       "  </tbody>\n",
       "</table>\n",
       "</div>"
      ],
      "text/plain": [
       "             tech    business    politics  entertainment       sport\n",
       "count  401.000000  510.000000  417.000000     386.000000  510.000000\n",
       "mean    25.842893   19.680392   22.227818      17.945596   18.280392\n",
       "std     12.904370    7.409560   15.467658      14.270836    9.876736\n",
       "min      7.000000    7.000000    5.000000       8.000000    7.000000\n",
       "25%     18.000000   14.000000   16.000000      12.000000   12.000000\n",
       "50%     22.000000   18.000000   21.000000      14.000000   16.000000\n",
       "75%     31.000000   23.000000   25.000000      20.000000   23.000000\n",
       "max    161.000000   53.000000  246.000000     205.000000   82.000000"
      ]
     },
     "execution_count": 43,
     "metadata": {},
     "output_type": "execute_result"
    }
   ],
   "source": [
    "# Number of Sentances in articles per topic\n",
    "text_lens = [[len(t.split(\".\")) for t in articles_df[\"text\"][articles_df['label'] == label]] for label in articles_df['label'].unique()]\n",
    "\n",
    "t_lengths = pd.DataFrame(text_lens).transpose()\n",
    "t_lengths.columns = articles_df['label'].unique()\n",
    "t_lengths.describe()\n",
    "\n",
    "#plt.show()"
   ]
  },
  {
   "cell_type": "code",
   "execution_count": 44,
   "id": "f368e99e-6e8d-4edc-98fc-58da0235eb83",
   "metadata": {},
   "outputs": [
    {
     "data": {
      "text/html": [
       "<div>\n",
       "<style scoped>\n",
       "    .dataframe tbody tr th:only-of-type {\n",
       "        vertical-align: middle;\n",
       "    }\n",
       "\n",
       "    .dataframe tbody tr th {\n",
       "        vertical-align: top;\n",
       "    }\n",
       "\n",
       "    .dataframe thead th {\n",
       "        text-align: right;\n",
       "    }\n",
       "</style>\n",
       "<table border=\"1\" class=\"dataframe\">\n",
       "  <thead>\n",
       "    <tr style=\"text-align: right;\">\n",
       "      <th></th>\n",
       "      <th>tech</th>\n",
       "      <th>business</th>\n",
       "      <th>politics</th>\n",
       "      <th>entertainment</th>\n",
       "      <th>sport</th>\n",
       "    </tr>\n",
       "  </thead>\n",
       "  <tbody>\n",
       "    <tr>\n",
       "      <th>count</th>\n",
       "      <td>401.000000</td>\n",
       "      <td>510.000000</td>\n",
       "      <td>417.000000</td>\n",
       "      <td>386.000000</td>\n",
       "      <td>510.000000</td>\n",
       "    </tr>\n",
       "    <tr>\n",
       "      <th>mean</th>\n",
       "      <td>497.431421</td>\n",
       "      <td>324.670588</td>\n",
       "      <td>448.762590</td>\n",
       "      <td>326.326425</td>\n",
       "      <td>324.635294</td>\n",
       "    </tr>\n",
       "    <tr>\n",
       "      <th>std</th>\n",
       "      <td>236.977902</td>\n",
       "      <td>134.594878</td>\n",
       "      <td>296.311806</td>\n",
       "      <td>257.214463</td>\n",
       "      <td>185.461937</td>\n",
       "    </tr>\n",
       "    <tr>\n",
       "      <th>min</th>\n",
       "      <td>160.000000</td>\n",
       "      <td>138.000000</td>\n",
       "      <td>87.000000</td>\n",
       "      <td>141.000000</td>\n",
       "      <td>107.000000</td>\n",
       "    </tr>\n",
       "    <tr>\n",
       "      <th>25%</th>\n",
       "      <td>334.000000</td>\n",
       "      <td>230.000000</td>\n",
       "      <td>313.000000</td>\n",
       "      <td>221.250000</td>\n",
       "      <td>202.000000</td>\n",
       "    </tr>\n",
       "    <tr>\n",
       "      <th>50%</th>\n",
       "      <td>442.000000</td>\n",
       "      <td>294.000000</td>\n",
       "      <td>434.000000</td>\n",
       "      <td>259.000000</td>\n",
       "      <td>284.000000</td>\n",
       "    </tr>\n",
       "    <tr>\n",
       "      <th>75%</th>\n",
       "      <td>623.000000</td>\n",
       "      <td>383.000000</td>\n",
       "      <td>523.000000</td>\n",
       "      <td>356.000000</td>\n",
       "      <td>405.250000</td>\n",
       "    </tr>\n",
       "    <tr>\n",
       "      <th>max</th>\n",
       "      <td>2926.000000</td>\n",
       "      <td>881.000000</td>\n",
       "      <td>4377.000000</td>\n",
       "      <td>3408.000000</td>\n",
       "      <td>1646.000000</td>\n",
       "    </tr>\n",
       "  </tbody>\n",
       "</table>\n",
       "</div>"
      ],
      "text/plain": [
       "              tech    business     politics  entertainment        sport\n",
       "count   401.000000  510.000000   417.000000     386.000000   510.000000\n",
       "mean    497.431421  324.670588   448.762590     326.326425   324.635294\n",
       "std     236.977902  134.594878   296.311806     257.214463   185.461937\n",
       "min     160.000000  138.000000    87.000000     141.000000   107.000000\n",
       "25%     334.000000  230.000000   313.000000     221.250000   202.000000\n",
       "50%     442.000000  294.000000   434.000000     259.000000   284.000000\n",
       "75%     623.000000  383.000000   523.000000     356.000000   405.250000\n",
       "max    2926.000000  881.000000  4377.000000    3408.000000  1646.000000"
      ]
     },
     "execution_count": 44,
     "metadata": {},
     "output_type": "execute_result"
    }
   ],
   "source": [
    "# Number of Words in articles per topic\n",
    "text_lens = [[len(t.split(\" \")) for t in articles_df[\"text\"][articles_df['label'] == label]] for label in articles_df['label'].unique()]\n",
    "\n",
    "t_lengths = pd.DataFrame(text_lens).transpose()\n",
    "t_lengths.columns = articles_df['label'].unique()\n",
    "t_lengths.describe()"
   ]
  },
  {
   "cell_type": "code",
   "execution_count": 45,
   "id": "450d2f3b-7e33-42c5-8cb1-21e45ceefd12",
   "metadata": {},
   "outputs": [
    {
     "data": {
      "text/html": [
       "<div>\n",
       "<style scoped>\n",
       "    .dataframe tbody tr th:only-of-type {\n",
       "        vertical-align: middle;\n",
       "    }\n",
       "\n",
       "    .dataframe tbody tr th {\n",
       "        vertical-align: top;\n",
       "    }\n",
       "\n",
       "    .dataframe thead th {\n",
       "        text-align: right;\n",
       "    }\n",
       "</style>\n",
       "<table border=\"1\" class=\"dataframe\">\n",
       "  <thead>\n",
       "    <tr style=\"text-align: right;\">\n",
       "      <th></th>\n",
       "      <th>tech</th>\n",
       "      <th>business</th>\n",
       "      <th>politics</th>\n",
       "      <th>entertainment</th>\n",
       "      <th>sport</th>\n",
       "    </tr>\n",
       "  </thead>\n",
       "  <tbody>\n",
       "    <tr>\n",
       "      <th>count</th>\n",
       "      <td>401.000000</td>\n",
       "      <td>510.000000</td>\n",
       "      <td>417.000000</td>\n",
       "      <td>386.000000</td>\n",
       "      <td>510.000000</td>\n",
       "    </tr>\n",
       "    <tr>\n",
       "      <th>mean</th>\n",
       "      <td>2976.359102</td>\n",
       "      <td>1986.727451</td>\n",
       "      <td>2684.088729</td>\n",
       "      <td>1928.593264</td>\n",
       "      <td>1895.835294</td>\n",
       "    </tr>\n",
       "    <tr>\n",
       "      <th>std</th>\n",
       "      <td>1362.780889</td>\n",
       "      <td>816.435526</td>\n",
       "      <td>1714.424493</td>\n",
       "      <td>1462.113142</td>\n",
       "      <td>1068.761680</td>\n",
       "    </tr>\n",
       "    <tr>\n",
       "      <th>min</th>\n",
       "      <td>975.000000</td>\n",
       "      <td>848.000000</td>\n",
       "      <td>503.000000</td>\n",
       "      <td>825.000000</td>\n",
       "      <td>721.000000</td>\n",
       "    </tr>\n",
       "    <tr>\n",
       "      <th>25%</th>\n",
       "      <td>2047.000000</td>\n",
       "      <td>1412.250000</td>\n",
       "      <td>1879.000000</td>\n",
       "      <td>1314.750000</td>\n",
       "      <td>1189.000000</td>\n",
       "    </tr>\n",
       "    <tr>\n",
       "      <th>50%</th>\n",
       "      <td>2638.000000</td>\n",
       "      <td>1819.500000</td>\n",
       "      <td>2629.000000</td>\n",
       "      <td>1559.000000</td>\n",
       "      <td>1643.000000</td>\n",
       "    </tr>\n",
       "    <tr>\n",
       "      <th>75%</th>\n",
       "      <td>3752.000000</td>\n",
       "      <td>2373.750000</td>\n",
       "      <td>3149.000000</td>\n",
       "      <td>2103.750000</td>\n",
       "      <td>2332.500000</td>\n",
       "    </tr>\n",
       "    <tr>\n",
       "      <th>max</th>\n",
       "      <td>16160.000000</td>\n",
       "      <td>5408.000000</td>\n",
       "      <td>25485.000000</td>\n",
       "      <td>19138.000000</td>\n",
       "      <td>9473.000000</td>\n",
       "    </tr>\n",
       "  </tbody>\n",
       "</table>\n",
       "</div>"
      ],
      "text/plain": [
       "               tech     business      politics  entertainment        sport\n",
       "count    401.000000   510.000000    417.000000     386.000000   510.000000\n",
       "mean    2976.359102  1986.727451   2684.088729    1928.593264  1895.835294\n",
       "std     1362.780889   816.435526   1714.424493    1462.113142  1068.761680\n",
       "min      975.000000   848.000000    503.000000     825.000000   721.000000\n",
       "25%     2047.000000  1412.250000   1879.000000    1314.750000  1189.000000\n",
       "50%     2638.000000  1819.500000   2629.000000    1559.000000  1643.000000\n",
       "75%     3752.000000  2373.750000   3149.000000    2103.750000  2332.500000\n",
       "max    16160.000000  5408.000000  25485.000000   19138.000000  9473.000000"
      ]
     },
     "execution_count": 45,
     "metadata": {},
     "output_type": "execute_result"
    }
   ],
   "source": [
    "# Number of Characters in articles per topic\n",
    "text_lens = [[len(t) for t in articles_df[\"text\"][articles_df['label'] == label]] for label in articles_df['label'].unique()]\n",
    "\n",
    "t_lengths = pd.DataFrame(text_lens).transpose()\n",
    "t_lengths.columns = articles_df['label'].unique()\n",
    "t_lengths.describe()"
   ]
  },
  {
   "cell_type": "code",
   "execution_count": 8,
   "id": "a8eae84c-aa92-4f3d-a614-58cd08701438",
   "metadata": {},
   "outputs": [],
   "source": [
    "# Summary length reduction per topic"
   ]
  },
  {
   "cell_type": "code",
   "execution_count": 9,
   "id": "7c38957b-6429-493a-b31f-1ea048f0cba0",
   "metadata": {},
   "outputs": [],
   "source": [
    "# Rarity of words used"
   ]
  },
  {
   "cell_type": "code",
   "execution_count": 10,
   "id": "27d90977-ef21-475c-b14d-61ba3fc71d7c",
   "metadata": {},
   "outputs": [],
   "source": [
    "# Overall use of stop words\n",
    "import nltk\n",
    "nltk.download('stopwords')\n",
    "from nltk.corpus import stopwords\n"
   ]
  },
  {
   "cell_type": "code",
   "execution_count": 11,
   "id": "4c3aaa44-c47b-4893-9c5d-4dbd34e22ba6",
   "metadata": {},
   "outputs": [],
   "source": [
    "# Additional NLP statistics"
   ]
  },
  {
   "cell_type": "markdown",
   "id": "8014b038-9c79-4ad8-bbcb-b2316a42b480",
   "metadata": {},
   "source": [
    "## EDA on modified text"
   ]
  },
  {
   "cell_type": "code",
   "execution_count": null,
   "id": "40f90877-6abc-4684-bfa9-ab66e7ae809f",
   "metadata": {},
   "outputs": [],
   "source": []
  },
  {
   "cell_type": "code",
   "execution_count": null,
   "id": "a823eeeb-15a7-4cfa-991e-0198448d7e63",
   "metadata": {},
   "outputs": [],
   "source": []
  },
  {
   "cell_type": "code",
   "execution_count": null,
   "id": "8b8bc8b7-c9b8-4a0b-9d00-989cfb7931b3",
   "metadata": {},
   "outputs": [],
   "source": []
  },
  {
   "cell_type": "markdown",
   "id": "f5308ace-90a9-4c4e-ad2d-964361b7752f",
   "metadata": {},
   "source": [
    "## Preprocessing For Extractive Text Summarization"
   ]
  },
  {
   "cell_type": "code",
   "execution_count": 12,
   "id": "656b44e7-d5b6-4520-966d-48d9726cefc8",
   "metadata": {},
   "outputs": [],
   "source": [
    "# Remove stop words\n",
    "\n",
    "# Remove Contractions and other anomolies\n",
    "\n",
    "# Vectorize sentance"
   ]
  },
  {
   "cell_type": "markdown",
   "id": "3893ece5-30c6-40c6-835c-64c607138cdb",
   "metadata": {},
   "source": [
    "## Preprocessing For Abstractive Text Summarization"
   ]
  },
  {
   "cell_type": "code",
   "execution_count": 13,
   "id": "f6ebf1cc-21a3-41d7-908c-4e064df638f2",
   "metadata": {},
   "outputs": [
    {
     "name": "stderr",
     "output_type": "stream",
     "text": [
      "/home/nelly/.local/share/virtualenvs/Fall-akRgt48W/lib/python3.8/site-packages/tqdm/auto.py:22: TqdmWarning: IProgress not found. Please update jupyter and ipywidgets. See https://ipywidgets.readthedocs.io/en/stable/user_install.html\n",
      "  from .autonotebook import tqdm as notebook_tqdm\n",
      "/home/nelly/.local/share/virtualenvs/Fall-akRgt48W/lib/python3.8/site-packages/transformers/models/t5/tokenization_t5_fast.py:155: FutureWarning: This tokenizer was incorrectly instantiated with a model max length of 512 which will be corrected in Transformers v5.\n",
      "For now, this behavior is kept to avoid breaking backwards compatibility when padding/encoding with `truncation is True`.\n",
      "- Be aware that you SHOULD NOT rely on t5-small automatically truncating your input to 512 when padding/encoding.\n",
      "- If you want to encode/pad to sequences longer than 512 you can either instantiate this tokenizer with `model_max_length` or pass `max_length` when encoding/padding.\n",
      "- To avoid this warning, please instantiate this tokenizer with `model_max_length` set to your preferred value.\n",
      "  warnings.warn(\n"
     ]
    }
   ],
   "source": [
    "# Import tokenizer from pretrained model\n",
    "from transformers import AutoTokenizer, AutoModelForSeq2SeqLM\n",
    "\n",
    "model_name = \"t5-small\" # you can specify the model size here\n",
    "tokenizer = AutoTokenizer.from_pretrained(model_name)"
   ]
  },
  {
   "cell_type": "code",
   "execution_count": 14,
   "id": "9f99486a-c171-4e14-aa47-bb5d132b9b83",
   "metadata": {},
   "outputs": [],
   "source": [
    "MAX_INPUT_LENGTH = 512\n",
    "MAX_TARGET_LENGTH = 30\n",
    "\n",
    "def preprocess_function(articles, summaries):\n",
    "    model_inputs = tokenizer(\n",
    "        articles[\"text\"],\n",
    "        max_length=max_input_length,\n",
    "        truncation=True,\n",
    "    )\n",
    "    labels = tokenizer(\n",
    "        summaries[\"text\"], max_length=max_target_length, truncation=True\n",
    "    )\n",
    "    model_inputs[\"labels\"] = articles[\"labels\"]\n",
    "    return model_inputs\n",
    "\n"
   ]
  }
 ],
 "metadata": {
  "kernelspec": {
   "display_name": "Python 3 (ipykernel)",
   "language": "python",
   "name": "python3"
  },
  "language_info": {
   "codemirror_mode": {
    "name": "ipython",
    "version": 3
   },
   "file_extension": ".py",
   "mimetype": "text/x-python",
   "name": "python",
   "nbconvert_exporter": "python",
   "pygments_lexer": "ipython3",
   "version": "3.8.13"
  }
 },
 "nbformat": 4,
 "nbformat_minor": 5
}
